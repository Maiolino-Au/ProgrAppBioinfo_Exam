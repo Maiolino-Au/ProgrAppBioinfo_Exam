{
 "cells": [
  {
   "cell_type": "markdown",
   "id": "4e8f557a-1382-487d-922e-8a4e972aed41",
   "metadata": {
    "jp-MarkdownHeadingCollapsed": true
   },
   "source": [
    "# Load libraries"
   ]
  },
  {
   "cell_type": "code",
   "execution_count": 49,
   "id": "2cc0855d-2260-4c41-bd38-afbab7e49128",
   "metadata": {},
   "outputs": [],
   "source": [
    "library(Seurat)\n",
    "library(Signac)\n",
    "library(Matrix)\n",
    "library(readr)\n",
    "library(ggplot2)\n",
    "library(data.table)\n",
    "library(GenomicRanges)\n",
    "library(dplyr)\n",
    "library(rtracklayer)"
   ]
  },
  {
   "cell_type": "markdown",
   "id": "2d36fa3d-0b1d-4f54-9f5d-7c2fe3574276",
   "metadata": {
    "jp-MarkdownHeadingCollapsed": true
   },
   "source": [
    "# Step 1: Load sparse matrix and convert to full matrix"
   ]
  },
  {
   "cell_type": "markdown",
   "id": "b6758090-d67e-461e-82af-a840bf93911d",
   "metadata": {},
   "source": [
    "Use the dataset: \"PBMCs 3k cells from a healthy donor\"\n",
    "* Use the material provided as part of the exam.\n",
    "\n",
    "Matrix conversion\n",
    "* Use the Matrix R package to convert the sparse matrix into a full matrix.\n",
    "* Save the result as a data.table object.\n"
   ]
  },
  {
   "cell_type": "code",
   "execution_count": 3,
   "id": "80c8569b-fc5f-4f07-9151-e8a8e2c571ac",
   "metadata": {},
   "outputs": [],
   "source": [
    "data_path <- \"Data/matrix/\""
   ]
  },
  {
   "cell_type": "code",
   "execution_count": 4,
   "id": "5c121dc1-8808-4e0c-b685-e3ad1112ffc3",
   "metadata": {},
   "outputs": [],
   "source": [
    "matrix <- readMM(file = paste0(data_path, \"matrix.mtx.gz\"))\n",
    "features <- read_tsv(file = paste0(data_path, \"features.tsv.gz\"), col_names = F, show_col_types = F)\n",
    "barcodes <- read_tsv(file = paste0(data_path, \"barcodes.tsv.gz\"), col_names = F, show_col_types = F) "
   ]
  },
  {
   "cell_type": "code",
   "execution_count": 5,
   "id": "b6cc95b7-cf1d-471e-97fa-145f251eedc8",
   "metadata": {},
   "outputs": [
    {
     "data": {
      "text/html": [
       "<table class=\"dataframe\">\n",
       "<caption>A tibble: 6 × 6</caption>\n",
       "<thead>\n",
       "\t<tr><th scope=col>id</th><th scope=col>name</th><th scope=col>type</th><th scope=col>chr</th><th scope=col>start</th><th scope=col>end</th></tr>\n",
       "\t<tr><th scope=col>&lt;chr&gt;</th><th scope=col>&lt;chr&gt;</th><th scope=col>&lt;chr&gt;</th><th scope=col>&lt;chr&gt;</th><th scope=col>&lt;dbl&gt;</th><th scope=col>&lt;dbl&gt;</th></tr>\n",
       "</thead>\n",
       "<tbody>\n",
       "\t<tr><td>ENSG00000243485</td><td>MIR1302-2HG</td><td>Gene Expression</td><td>chr1</td><td> 29553</td><td> 30267</td></tr>\n",
       "\t<tr><td>ENSG00000237613</td><td>FAM138A    </td><td>Gene Expression</td><td>chr1</td><td> 36080</td><td> 36081</td></tr>\n",
       "\t<tr><td>ENSG00000186092</td><td>OR4F5      </td><td>Gene Expression</td><td>chr1</td><td> 65418</td><td> 69055</td></tr>\n",
       "\t<tr><td>ENSG00000238009</td><td>AL627309.1 </td><td>Gene Expression</td><td>chr1</td><td>120931</td><td>133723</td></tr>\n",
       "\t<tr><td>ENSG00000239945</td><td>AL627309.3 </td><td>Gene Expression</td><td>chr1</td><td> 91104</td><td> 91105</td></tr>\n",
       "\t<tr><td>ENSG00000239906</td><td>AL627309.2 </td><td>Gene Expression</td><td>chr1</td><td>140338</td><td>140339</td></tr>\n",
       "</tbody>\n",
       "</table>\n"
      ],
      "text/latex": [
       "A tibble: 6 × 6\n",
       "\\begin{tabular}{llllll}\n",
       " id & name & type & chr & start & end\\\\\n",
       " <chr> & <chr> & <chr> & <chr> & <dbl> & <dbl>\\\\\n",
       "\\hline\n",
       "\t ENSG00000243485 & MIR1302-2HG & Gene Expression & chr1 &  29553 &  30267\\\\\n",
       "\t ENSG00000237613 & FAM138A     & Gene Expression & chr1 &  36080 &  36081\\\\\n",
       "\t ENSG00000186092 & OR4F5       & Gene Expression & chr1 &  65418 &  69055\\\\\n",
       "\t ENSG00000238009 & AL627309.1  & Gene Expression & chr1 & 120931 & 133723\\\\\n",
       "\t ENSG00000239945 & AL627309.3  & Gene Expression & chr1 &  91104 &  91105\\\\\n",
       "\t ENSG00000239906 & AL627309.2  & Gene Expression & chr1 & 140338 & 140339\\\\\n",
       "\\end{tabular}\n"
      ],
      "text/markdown": [
       "\n",
       "A tibble: 6 × 6\n",
       "\n",
       "| id &lt;chr&gt; | name &lt;chr&gt; | type &lt;chr&gt; | chr &lt;chr&gt; | start &lt;dbl&gt; | end &lt;dbl&gt; |\n",
       "|---|---|---|---|---|---|\n",
       "| ENSG00000243485 | MIR1302-2HG | Gene Expression | chr1 |  29553 |  30267 |\n",
       "| ENSG00000237613 | FAM138A     | Gene Expression | chr1 |  36080 |  36081 |\n",
       "| ENSG00000186092 | OR4F5       | Gene Expression | chr1 |  65418 |  69055 |\n",
       "| ENSG00000238009 | AL627309.1  | Gene Expression | chr1 | 120931 | 133723 |\n",
       "| ENSG00000239945 | AL627309.3  | Gene Expression | chr1 |  91104 |  91105 |\n",
       "| ENSG00000239906 | AL627309.2  | Gene Expression | chr1 | 140338 | 140339 |\n",
       "\n"
      ],
      "text/plain": [
       "  id              name        type            chr  start  end   \n",
       "1 ENSG00000243485 MIR1302-2HG Gene Expression chr1  29553  30267\n",
       "2 ENSG00000237613 FAM138A     Gene Expression chr1  36080  36081\n",
       "3 ENSG00000186092 OR4F5       Gene Expression chr1  65418  69055\n",
       "4 ENSG00000238009 AL627309.1  Gene Expression chr1 120931 133723\n",
       "5 ENSG00000239945 AL627309.3  Gene Expression chr1  91104  91105\n",
       "6 ENSG00000239906 AL627309.2  Gene Expression chr1 140338 140339"
      ]
     },
     "metadata": {},
     "output_type": "display_data"
    }
   ],
   "source": [
    "colnames(features) <- c(\"id\", \"name\", \"type\", \"chr\", \"start\", \"end\")\n",
    "head(features)"
   ]
  },
  {
   "cell_type": "code",
   "execution_count": null,
   "id": "88c57434-776d-434a-b70f-eaa26ab3ca92",
   "metadata": {},
   "outputs": [],
   "source": []
  },
  {
   "cell_type": "code",
   "execution_count": 6,
   "id": "83b01bfd-b51f-42e9-8aca-e4b3d9381429",
   "metadata": {},
   "outputs": [
    {
     "data": {
      "text/html": [
       "36601"
      ],
      "text/latex": [
       "36601"
      ],
      "text/markdown": [
       "36601"
      ],
      "text/plain": [
       "[1] 36601"
      ]
     },
     "metadata": {},
     "output_type": "display_data"
    }
   ],
   "source": [
    "sum(features$type == \"Gene Expression\")"
   ]
  },
  {
   "cell_type": "code",
   "execution_count": 56,
   "id": "5d672c79-2298-43a8-84aa-21ddf2b8a8f3",
   "metadata": {},
   "outputs": [
    {
     "data": {
      "text/plain": [
       "\n",
       "Gene Expression           Peaks \n",
       "          36601           81156 "
      ]
     },
     "metadata": {},
     "output_type": "display_data"
    },
    {
     "data": {
      "text/plain": [
       "\n",
       "GL000009.2 GL000194.1 GL000195.1 GL000205.2 GL000213.1 GL000218.1 GL000219.1 \n",
       "         2          9          5          8          1          2         12 \n",
       "KI270711.1 KI270713.1 KI270721.1 KI270726.1 KI270727.1 KI270728.1 KI270731.1 \n",
       "         4          6          2          4          5          9          1 \n",
       "KI270734.1       chr1      chr10      chr11      chr12      chr13      chr14 \n",
       "         4      11430       5158       6098       6124       2598       4241 \n",
       "     chr15      chr16      chr17      chr18      chr19       chr2      chr20 \n",
       "      3970       4539       6425       2277       5959       8828       3315 \n",
       "     chr21      chr22       chr3       chr4       chr5       chr6       chr7 \n",
       "      1579       2784       6741       4674       5729       6802       5557 \n",
       "      chr8       chr9       chrX       chrY \n",
       "      4730       4594       3393        125 "
      ]
     },
     "metadata": {},
     "output_type": "display_data"
    }
   ],
   "source": [
    "table(features$type)\n",
    "table(features$chr)"
   ]
  },
  {
   "cell_type": "code",
   "execution_count": 8,
   "id": "de0ce00e-6218-48d9-bf13-d476a31ab572",
   "metadata": {},
   "outputs": [
    {
     "data": {
      "text/html": [
       "117757"
      ],
      "text/latex": [
       "117757"
      ],
      "text/markdown": [
       "117757"
      ],
      "text/plain": [
       "[1] 117757"
      ]
     },
     "metadata": {},
     "output_type": "display_data"
    },
    {
     "data": {
      "text/html": [
       "117757"
      ],
      "text/latex": [
       "117757"
      ],
      "text/markdown": [
       "117757"
      ],
      "text/plain": [
       "[1] 117757"
      ]
     },
     "metadata": {},
     "output_type": "display_data"
    },
    {
     "data": {
      "text/html": [
       "3009"
      ],
      "text/latex": [
       "3009"
      ],
      "text/markdown": [
       "3009"
      ],
      "text/plain": [
       "[1] 3009"
      ]
     },
     "metadata": {},
     "output_type": "display_data"
    },
    {
     "data": {
      "text/html": [
       "3009"
      ],
      "text/latex": [
       "3009"
      ],
      "text/markdown": [
       "3009"
      ],
      "text/plain": [
       "[1] 3009"
      ]
     },
     "metadata": {},
     "output_type": "display_data"
    }
   ],
   "source": [
    "nrow(matrix)\n",
    "nrow(features)\n",
    "ncol(matrix)\n",
    "nrow(barcodes)"
   ]
  },
  {
   "cell_type": "code",
   "execution_count": 9,
   "id": "0b2a9734-e401-4a10-b711-4e5ca02d63d9",
   "metadata": {},
   "outputs": [
    {
     "name": "stderr",
     "output_type": "stream",
     "text": [
      "Warning message in asMethod(object):\n",
      "“sparse->dense coercion: allocating vector of size 2.6 GiB”\n"
     ]
    }
   ],
   "source": [
    "colnames(matrix) <- barcodes$X1\n",
    "rownames(matrix) <- features$id\n",
    "matrix <- as.matrix(matrix)"
   ]
  },
  {
   "cell_type": "code",
   "execution_count": 10,
   "id": "c23f21fb-5cbb-4901-ac38-626f0f7b1ba4",
   "metadata": {},
   "outputs": [
    {
     "data": {
      "text/html": [
       "<style>\n",
       ".list-inline {list-style: none; margin:0; padding: 0}\n",
       ".list-inline>li {display: inline-block}\n",
       ".list-inline>li:not(:last-child)::after {content: \"\\00b7\"; padding: 0 .5ex}\n",
       "</style>\n",
       "<ol class=list-inline><li>'data.table'</li><li>'data.frame'</li></ol>\n"
      ],
      "text/latex": [
       "\\begin{enumerate*}\n",
       "\\item 'data.table'\n",
       "\\item 'data.frame'\n",
       "\\end{enumerate*}\n"
      ],
      "text/markdown": [
       "1. 'data.table'\n",
       "2. 'data.frame'\n",
       "\n",
       "\n"
      ],
      "text/plain": [
       "[1] \"data.table\" \"data.frame\""
      ]
     },
     "metadata": {},
     "output_type": "display_data"
    },
    {
     "data": {
      "text/html": [
       "117757"
      ],
      "text/latex": [
       "117757"
      ],
      "text/markdown": [
       "117757"
      ],
      "text/plain": [
       "[1] 117757"
      ]
     },
     "metadata": {},
     "output_type": "display_data"
    },
    {
     "data": {
      "text/html": [
       "3010"
      ],
      "text/latex": [
       "3010"
      ],
      "text/markdown": [
       "3010"
      ],
      "text/plain": [
       "[1] 3010"
      ]
     },
     "metadata": {},
     "output_type": "display_data"
    },
    {
     "data": {
      "text/html": [
       "<table class=\"dataframe\">\n",
       "<caption>A data.table: 10 × 10</caption>\n",
       "<thead>\n",
       "\t<tr><th scope=col>id</th><th scope=col>AAACAGCCAACAGGTG-1</th><th scope=col>AAACATGCAACAACAA-1</th><th scope=col>AAACATGCACCTGGTG-1</th><th scope=col>AAACCAACACAGCCTG-1</th><th scope=col>AAACCAACAGCAAGAT-1</th><th scope=col>AAACCAACATTGCGAC-1</th><th scope=col>AAACCGAAGCACAGCC-1</th><th scope=col>AAACCGCGTAATTAGC-1</th><th scope=col>AAACCGCGTCACGAAC-1</th></tr>\n",
       "\t<tr><th scope=col>&lt;chr&gt;</th><th scope=col>&lt;dbl&gt;</th><th scope=col>&lt;dbl&gt;</th><th scope=col>&lt;dbl&gt;</th><th scope=col>&lt;dbl&gt;</th><th scope=col>&lt;dbl&gt;</th><th scope=col>&lt;dbl&gt;</th><th scope=col>&lt;dbl&gt;</th><th scope=col>&lt;dbl&gt;</th><th scope=col>&lt;dbl&gt;</th></tr>\n",
       "</thead>\n",
       "<tbody>\n",
       "\t<tr><td>ENSG00000243485</td><td>0</td><td>0</td><td>0</td><td>0</td><td>0</td><td>0</td><td>0</td><td>0</td><td>0</td></tr>\n",
       "\t<tr><td>ENSG00000237613</td><td>0</td><td>0</td><td>0</td><td>0</td><td>0</td><td>0</td><td>0</td><td>0</td><td>0</td></tr>\n",
       "\t<tr><td>ENSG00000186092</td><td>0</td><td>0</td><td>0</td><td>0</td><td>0</td><td>0</td><td>0</td><td>0</td><td>0</td></tr>\n",
       "\t<tr><td>ENSG00000238009</td><td>0</td><td>0</td><td>0</td><td>0</td><td>0</td><td>0</td><td>0</td><td>0</td><td>0</td></tr>\n",
       "\t<tr><td>ENSG00000239945</td><td>0</td><td>0</td><td>0</td><td>0</td><td>0</td><td>0</td><td>0</td><td>0</td><td>0</td></tr>\n",
       "\t<tr><td>ENSG00000239906</td><td>0</td><td>0</td><td>0</td><td>0</td><td>0</td><td>0</td><td>0</td><td>0</td><td>0</td></tr>\n",
       "\t<tr><td>ENSG00000241860</td><td>0</td><td>0</td><td>0</td><td>0</td><td>0</td><td>0</td><td>0</td><td>0</td><td>0</td></tr>\n",
       "\t<tr><td>ENSG00000241599</td><td>0</td><td>0</td><td>0</td><td>0</td><td>0</td><td>0</td><td>0</td><td>0</td><td>0</td></tr>\n",
       "\t<tr><td>ENSG00000286448</td><td>0</td><td>0</td><td>0</td><td>0</td><td>0</td><td>0</td><td>0</td><td>0</td><td>0</td></tr>\n",
       "\t<tr><td>ENSG00000236601</td><td>0</td><td>0</td><td>0</td><td>0</td><td>0</td><td>0</td><td>0</td><td>0</td><td>0</td></tr>\n",
       "</tbody>\n",
       "</table>\n"
      ],
      "text/latex": [
       "A data.table: 10 × 10\n",
       "\\begin{tabular}{llllllllll}\n",
       " id & AAACAGCCAACAGGTG-1 & AAACATGCAACAACAA-1 & AAACATGCACCTGGTG-1 & AAACCAACACAGCCTG-1 & AAACCAACAGCAAGAT-1 & AAACCAACATTGCGAC-1 & AAACCGAAGCACAGCC-1 & AAACCGCGTAATTAGC-1 & AAACCGCGTCACGAAC-1\\\\\n",
       " <chr> & <dbl> & <dbl> & <dbl> & <dbl> & <dbl> & <dbl> & <dbl> & <dbl> & <dbl>\\\\\n",
       "\\hline\n",
       "\t ENSG00000243485 & 0 & 0 & 0 & 0 & 0 & 0 & 0 & 0 & 0\\\\\n",
       "\t ENSG00000237613 & 0 & 0 & 0 & 0 & 0 & 0 & 0 & 0 & 0\\\\\n",
       "\t ENSG00000186092 & 0 & 0 & 0 & 0 & 0 & 0 & 0 & 0 & 0\\\\\n",
       "\t ENSG00000238009 & 0 & 0 & 0 & 0 & 0 & 0 & 0 & 0 & 0\\\\\n",
       "\t ENSG00000239945 & 0 & 0 & 0 & 0 & 0 & 0 & 0 & 0 & 0\\\\\n",
       "\t ENSG00000239906 & 0 & 0 & 0 & 0 & 0 & 0 & 0 & 0 & 0\\\\\n",
       "\t ENSG00000241860 & 0 & 0 & 0 & 0 & 0 & 0 & 0 & 0 & 0\\\\\n",
       "\t ENSG00000241599 & 0 & 0 & 0 & 0 & 0 & 0 & 0 & 0 & 0\\\\\n",
       "\t ENSG00000286448 & 0 & 0 & 0 & 0 & 0 & 0 & 0 & 0 & 0\\\\\n",
       "\t ENSG00000236601 & 0 & 0 & 0 & 0 & 0 & 0 & 0 & 0 & 0\\\\\n",
       "\\end{tabular}\n"
      ],
      "text/markdown": [
       "\n",
       "A data.table: 10 × 10\n",
       "\n",
       "| id &lt;chr&gt; | AAACAGCCAACAGGTG-1 &lt;dbl&gt; | AAACATGCAACAACAA-1 &lt;dbl&gt; | AAACATGCACCTGGTG-1 &lt;dbl&gt; | AAACCAACACAGCCTG-1 &lt;dbl&gt; | AAACCAACAGCAAGAT-1 &lt;dbl&gt; | AAACCAACATTGCGAC-1 &lt;dbl&gt; | AAACCGAAGCACAGCC-1 &lt;dbl&gt; | AAACCGCGTAATTAGC-1 &lt;dbl&gt; | AAACCGCGTCACGAAC-1 &lt;dbl&gt; |\n",
       "|---|---|---|---|---|---|---|---|---|---|\n",
       "| ENSG00000243485 | 0 | 0 | 0 | 0 | 0 | 0 | 0 | 0 | 0 |\n",
       "| ENSG00000237613 | 0 | 0 | 0 | 0 | 0 | 0 | 0 | 0 | 0 |\n",
       "| ENSG00000186092 | 0 | 0 | 0 | 0 | 0 | 0 | 0 | 0 | 0 |\n",
       "| ENSG00000238009 | 0 | 0 | 0 | 0 | 0 | 0 | 0 | 0 | 0 |\n",
       "| ENSG00000239945 | 0 | 0 | 0 | 0 | 0 | 0 | 0 | 0 | 0 |\n",
       "| ENSG00000239906 | 0 | 0 | 0 | 0 | 0 | 0 | 0 | 0 | 0 |\n",
       "| ENSG00000241860 | 0 | 0 | 0 | 0 | 0 | 0 | 0 | 0 | 0 |\n",
       "| ENSG00000241599 | 0 | 0 | 0 | 0 | 0 | 0 | 0 | 0 | 0 |\n",
       "| ENSG00000286448 | 0 | 0 | 0 | 0 | 0 | 0 | 0 | 0 | 0 |\n",
       "| ENSG00000236601 | 0 | 0 | 0 | 0 | 0 | 0 | 0 | 0 | 0 |\n",
       "\n"
      ],
      "text/plain": [
       "   id              AAACAGCCAACAGGTG-1 AAACATGCAACAACAA-1 AAACATGCACCTGGTG-1\n",
       "1  ENSG00000243485 0                  0                  0                 \n",
       "2  ENSG00000237613 0                  0                  0                 \n",
       "3  ENSG00000186092 0                  0                  0                 \n",
       "4  ENSG00000238009 0                  0                  0                 \n",
       "5  ENSG00000239945 0                  0                  0                 \n",
       "6  ENSG00000239906 0                  0                  0                 \n",
       "7  ENSG00000241860 0                  0                  0                 \n",
       "8  ENSG00000241599 0                  0                  0                 \n",
       "9  ENSG00000286448 0                  0                  0                 \n",
       "10 ENSG00000236601 0                  0                  0                 \n",
       "   AAACCAACACAGCCTG-1 AAACCAACAGCAAGAT-1 AAACCAACATTGCGAC-1 AAACCGAAGCACAGCC-1\n",
       "1  0                  0                  0                  0                 \n",
       "2  0                  0                  0                  0                 \n",
       "3  0                  0                  0                  0                 \n",
       "4  0                  0                  0                  0                 \n",
       "5  0                  0                  0                  0                 \n",
       "6  0                  0                  0                  0                 \n",
       "7  0                  0                  0                  0                 \n",
       "8  0                  0                  0                  0                 \n",
       "9  0                  0                  0                  0                 \n",
       "10 0                  0                  0                  0                 \n",
       "   AAACCGCGTAATTAGC-1 AAACCGCGTCACGAAC-1\n",
       "1  0                  0                 \n",
       "2  0                  0                 \n",
       "3  0                  0                 \n",
       "4  0                  0                 \n",
       "5  0                  0                 \n",
       "6  0                  0                 \n",
       "7  0                  0                 \n",
       "8  0                  0                 \n",
       "9  0                  0                 \n",
       "10 0                  0                 "
      ]
     },
     "metadata": {},
     "output_type": "display_data"
    }
   ],
   "source": [
    "dt <- as.data.table(matrix, row.names = rownames(matrix))\n",
    "dt[, id := rownames(matrix)]\n",
    "setcolorder(dt, c(\"id\", setdiff(names(dt), \"id\")))\n",
    "class(dt)\n",
    "nrow(dt)\n",
    "ncol(dt)\n",
    "dt[1:10,1:10]"
   ]
  },
  {
   "cell_type": "code",
   "execution_count": null,
   "id": "7e093615-ba61-4a4a-a20f-0f76123e85df",
   "metadata": {},
   "outputs": [],
   "source": []
  },
  {
   "cell_type": "markdown",
   "id": "f7f7cf30-c15a-4a47-ab54-b044979601fd",
   "metadata": {
    "jp-MarkdownHeadingCollapsed": true
   },
   "source": [
    "# Step 2: Split gene expression and ATAC-seq data"
   ]
  },
  {
   "cell_type": "markdown",
   "id": "06b3718b-13a7-47e3-b06d-d3391855db0b",
   "metadata": {},
   "source": [
    "From the data.table object, separate:\n",
    "* Gene expression data (rows labelled with Ensembl gene IDs, e.g., ENSG00000243485)\n",
    "* ATAC-seq peak data (rows labelled with genomic coordinates, e.g., chrN:NNNN-NNNN)\n"
   ]
  },
  {
   "cell_type": "code",
   "execution_count": 12,
   "id": "769e5c8b-d44b-4b13-ae5e-18ff46102564",
   "metadata": {},
   "outputs": [],
   "source": [
    "dt_genes <- dt[grepl(\"ENSG\", dt$id)]\n",
    "dt_atac <- rbind(dt[grepl(\"chr\", dt$id)],dt[!grepl(\"ENSG|chr\", dt$id)])"
   ]
  },
  {
   "cell_type": "code",
   "execution_count": 13,
   "id": "d67f4562-cced-4940-aae9-dfa644ceb828",
   "metadata": {},
   "outputs": [
    {
     "data": {
      "text/html": [
       "117757"
      ],
      "text/latex": [
       "117757"
      ],
      "text/markdown": [
       "117757"
      ],
      "text/plain": [
       "[1] 117757"
      ]
     },
     "metadata": {},
     "output_type": "display_data"
    }
   ],
   "source": [
    "nrow(dt)"
   ]
  },
  {
   "cell_type": "code",
   "execution_count": 14,
   "id": "3203d54d-332d-4de7-8ab4-9b2ec5c3d165",
   "metadata": {},
   "outputs": [
    {
     "data": {
      "text/html": [
       "36601"
      ],
      "text/latex": [
       "36601"
      ],
      "text/markdown": [
       "36601"
      ],
      "text/plain": [
       "[1] 36601"
      ]
     },
     "metadata": {},
     "output_type": "display_data"
    }
   ],
   "source": [
    "nrow(dt_genes)"
   ]
  },
  {
   "cell_type": "code",
   "execution_count": 15,
   "id": "d444659e-7b59-4b72-b5a8-fa735987c8fa",
   "metadata": {},
   "outputs": [
    {
     "data": {
      "text/html": [
       "81156"
      ],
      "text/latex": [
       "81156"
      ],
      "text/markdown": [
       "81156"
      ],
      "text/plain": [
       "[1] 81156"
      ]
     },
     "metadata": {},
     "output_type": "display_data"
    }
   ],
   "source": [
    "nrow(dt_atac)"
   ]
  },
  {
   "cell_type": "code",
   "execution_count": 16,
   "id": "7b9715ae-d8f4-4320-827d-5857cc92bd21",
   "metadata": {},
   "outputs": [
    {
     "data": {
      "text/html": [
       "117757"
      ],
      "text/latex": [
       "117757"
      ],
      "text/markdown": [
       "117757"
      ],
      "text/plain": [
       "[1] 117757"
      ]
     },
     "metadata": {},
     "output_type": "display_data"
    }
   ],
   "source": [
    "nrow(dt_genes) + nrow(dt_atac)"
   ]
  },
  {
   "cell_type": "code",
   "execution_count": 17,
   "id": "6fd13006-d3a1-4fe3-8b2c-4c81576e6086",
   "metadata": {},
   "outputs": [
    {
     "ename": "ERROR",
     "evalue": "Error in grepl(\"ENSG|chr\", dt$id, value = TRUE, invert = TRUE): unused arguments (value = TRUE, invert = TRUE)\n",
     "output_type": "error",
     "traceback": [
      "Error in grepl(\"ENSG|chr\", dt$id, value = TRUE, invert = TRUE): unused arguments (value = TRUE, invert = TRUE)\nTraceback:\n"
     ]
    }
   ],
   "source": [
    "a <- grepl(\"ENSG|chr\", dt$id, value = TRUE, invert = TRUE)"
   ]
  },
  {
   "cell_type": "code",
   "execution_count": 18,
   "id": "1f2ce7e3-263c-47cc-98f7-2ae7bc0508f5",
   "metadata": {
    "scrolled": true
   },
   "outputs": [
    {
     "ename": "ERROR",
     "evalue": "Error: object 'features_dt' not found\n",
     "output_type": "error",
     "traceback": [
      "Error: object 'features_dt' not found\nTraceback:\n"
     ]
    }
   ],
   "source": [
    "(features_dt[!grepl(\"ENSG|chr\", features_dt$id)])"
   ]
  },
  {
   "cell_type": "code",
   "execution_count": 19,
   "id": "6eb28ff9-9a3a-4726-b9c5-2072697f8368",
   "metadata": {
    "scrolled": true
   },
   "outputs": [
    {
     "data": {
      "text/html": [
       "<table class=\"dataframe\">\n",
       "<caption>A data.table: 45 × 3010</caption>\n",
       "<thead>\n",
       "\t<tr><th scope=col>id</th><th scope=col>AAACAGCCAACAGGTG-1</th><th scope=col>AAACATGCAACAACAA-1</th><th scope=col>AAACATGCACCTGGTG-1</th><th scope=col>AAACCAACACAGCCTG-1</th><th scope=col>AAACCAACAGCAAGAT-1</th><th scope=col>AAACCAACATTGCGAC-1</th><th scope=col>AAACCGAAGCACAGCC-1</th><th scope=col>AAACCGCGTAATTAGC-1</th><th scope=col>AAACCGCGTCACGAAC-1</th><th scope=col>⋯</th><th scope=col>TTTGGTGCATGAGCAG-1</th><th scope=col>TTTGTCCCAGCTTAGC-1</th><th scope=col>TTTGTCCCATAATCGT-1</th><th scope=col>TTTGTCTAGCATGTTA-1</th><th scope=col>TTTGTCTAGGAGGACT-1</th><th scope=col>TTTGTCTAGTCTATGA-1</th><th scope=col>TTTGTGGCAGCACGAA-1</th><th scope=col>TTTGTGGCATCGCTCC-1</th><th scope=col>TTTGTGTTCACTTCAT-1</th><th scope=col>TTTGTGTTCATGCGTG-1</th></tr>\n",
       "\t<tr><th scope=col>&lt;chr&gt;</th><th scope=col>&lt;dbl&gt;</th><th scope=col>&lt;dbl&gt;</th><th scope=col>&lt;dbl&gt;</th><th scope=col>&lt;dbl&gt;</th><th scope=col>&lt;dbl&gt;</th><th scope=col>&lt;dbl&gt;</th><th scope=col>&lt;dbl&gt;</th><th scope=col>&lt;dbl&gt;</th><th scope=col>&lt;dbl&gt;</th><th scope=col>⋯</th><th scope=col>&lt;dbl&gt;</th><th scope=col>&lt;dbl&gt;</th><th scope=col>&lt;dbl&gt;</th><th scope=col>&lt;dbl&gt;</th><th scope=col>&lt;dbl&gt;</th><th scope=col>&lt;dbl&gt;</th><th scope=col>&lt;dbl&gt;</th><th scope=col>&lt;dbl&gt;</th><th scope=col>&lt;dbl&gt;</th><th scope=col>&lt;dbl&gt;</th></tr>\n",
       "</thead>\n",
       "<tbody>\n",
       "\t<tr><td>KI270728.1:232228-233172  </td><td>0</td><td>0</td><td>0</td><td>0</td><td>0</td><td>0</td><td>0</td><td>0</td><td>0</td><td>⋯</td><td>0</td><td>0</td><td>0</td><td>0</td><td>0</td><td>0</td><td>0</td><td>0</td><td>0</td><td>0</td></tr>\n",
       "\t<tr><td>KI270728.1:1791270-1791983</td><td>0</td><td>0</td><td>0</td><td>0</td><td>0</td><td>0</td><td>0</td><td>0</td><td>0</td><td>⋯</td><td>0</td><td>0</td><td>0</td><td>0</td><td>0</td><td>0</td><td>0</td><td>0</td><td>0</td><td>0</td></tr>\n",
       "\t<tr><td>KI270728.1:1792102-1792511</td><td>0</td><td>0</td><td>0</td><td>0</td><td>0</td><td>0</td><td>0</td><td>0</td><td>0</td><td>⋯</td><td>0</td><td>0</td><td>0</td><td>0</td><td>0</td><td>0</td><td>0</td><td>0</td><td>0</td><td>0</td></tr>\n",
       "\t<tr><td>KI270727.1:52087-52965    </td><td>0</td><td>0</td><td>0</td><td>0</td><td>0</td><td>0</td><td>0</td><td>0</td><td>0</td><td>⋯</td><td>0</td><td>0</td><td>0</td><td>0</td><td>0</td><td>0</td><td>0</td><td>0</td><td>2</td><td>0</td></tr>\n",
       "\t<tr><td>GL000009.2:113930-114840  </td><td>0</td><td>0</td><td>0</td><td>0</td><td>0</td><td>0</td><td>0</td><td>0</td><td>0</td><td>⋯</td><td>0</td><td>0</td><td>0</td><td>0</td><td>0</td><td>0</td><td>0</td><td>0</td><td>0</td><td>0</td></tr>\n",
       "\t<tr><td>GL000194.1:27950-28827    </td><td>0</td><td>0</td><td>0</td><td>0</td><td>0</td><td>0</td><td>0</td><td>0</td><td>0</td><td>⋯</td><td>0</td><td>0</td><td>0</td><td>0</td><td>0</td><td>0</td><td>0</td><td>0</td><td>0</td><td>0</td></tr>\n",
       "\t<tr><td>GL000194.1:55758-56625    </td><td>0</td><td>0</td><td>0</td><td>0</td><td>0</td><td>0</td><td>0</td><td>0</td><td>0</td><td>⋯</td><td>0</td><td>0</td><td>0</td><td>0</td><td>0</td><td>0</td><td>0</td><td>0</td><td>0</td><td>0</td></tr>\n",
       "\t<tr><td>GL000194.1:59549-60358    </td><td>0</td><td>0</td><td>0</td><td>0</td><td>0</td><td>0</td><td>0</td><td>0</td><td>0</td><td>⋯</td><td>0</td><td>0</td><td>0</td><td>0</td><td>0</td><td>0</td><td>0</td><td>0</td><td>0</td><td>0</td></tr>\n",
       "\t<tr><td>GL000194.1:71564-72412    </td><td>0</td><td>0</td><td>0</td><td>0</td><td>0</td><td>0</td><td>0</td><td>0</td><td>0</td><td>⋯</td><td>0</td><td>0</td><td>0</td><td>0</td><td>0</td><td>0</td><td>0</td><td>0</td><td>0</td><td>0</td></tr>\n",
       "\t<tr><td>GL000194.1:72884-73754    </td><td>0</td><td>0</td><td>0</td><td>0</td><td>0</td><td>0</td><td>0</td><td>0</td><td>0</td><td>⋯</td><td>0</td><td>0</td><td>0</td><td>0</td><td>0</td><td>0</td><td>0</td><td>0</td><td>0</td><td>0</td></tr>\n",
       "\t<tr><td>GL000194.1:101051-101904  </td><td>0</td><td>0</td><td>0</td><td>0</td><td>0</td><td>0</td><td>0</td><td>0</td><td>0</td><td>⋯</td><td>0</td><td>0</td><td>0</td><td>0</td><td>0</td><td>0</td><td>0</td><td>0</td><td>0</td><td>0</td></tr>\n",
       "\t<tr><td>GL000194.1:114535-115388  </td><td>0</td><td>0</td><td>0</td><td>0</td><td>0</td><td>0</td><td>0</td><td>0</td><td>0</td><td>⋯</td><td>0</td><td>0</td><td>0</td><td>0</td><td>0</td><td>0</td><td>0</td><td>0</td><td>0</td><td>0</td></tr>\n",
       "\t<tr><td>GL000205.2:62968-63834    </td><td>0</td><td>0</td><td>0</td><td>0</td><td>0</td><td>1</td><td>0</td><td>0</td><td>0</td><td>⋯</td><td>0</td><td>0</td><td>0</td><td>0</td><td>0</td><td>0</td><td>0</td><td>0</td><td>0</td><td>0</td></tr>\n",
       "\t<tr><td>GL000205.2:67706-68579    </td><td>0</td><td>0</td><td>0</td><td>0</td><td>0</td><td>0</td><td>0</td><td>0</td><td>0</td><td>⋯</td><td>0</td><td>0</td><td>0</td><td>0</td><td>2</td><td>0</td><td>0</td><td>0</td><td>0</td><td>0</td></tr>\n",
       "\t<tr><td>GL000205.2:69004-69899    </td><td>0</td><td>0</td><td>0</td><td>0</td><td>0</td><td>0</td><td>0</td><td>0</td><td>0</td><td>⋯</td><td>0</td><td>0</td><td>0</td><td>0</td><td>0</td><td>0</td><td>0</td><td>0</td><td>0</td><td>0</td></tr>\n",
       "\t<tr><td>GL000205.2:78245-78981    </td><td>0</td><td>0</td><td>0</td><td>0</td><td>0</td><td>0</td><td>0</td><td>0</td><td>0</td><td>⋯</td><td>0</td><td>0</td><td>0</td><td>0</td><td>0</td><td>0</td><td>0</td><td>0</td><td>0</td><td>0</td></tr>\n",
       "\t<tr><td>GL000205.2:80805-81701    </td><td>0</td><td>0</td><td>0</td><td>0</td><td>0</td><td>0</td><td>0</td><td>0</td><td>0</td><td>⋯</td><td>0</td><td>0</td><td>0</td><td>0</td><td>0</td><td>0</td><td>0</td><td>0</td><td>0</td><td>0</td></tr>\n",
       "\t<tr><td>GL000205.2:88677-89482    </td><td>0</td><td>0</td><td>0</td><td>0</td><td>0</td><td>0</td><td>0</td><td>0</td><td>0</td><td>⋯</td><td>0</td><td>0</td><td>0</td><td>0</td><td>0</td><td>0</td><td>0</td><td>0</td><td>0</td><td>0</td></tr>\n",
       "\t<tr><td>GL000205.2:140328-141200  </td><td>0</td><td>0</td><td>0</td><td>0</td><td>0</td><td>0</td><td>0</td><td>0</td><td>0</td><td>⋯</td><td>0</td><td>0</td><td>0</td><td>0</td><td>0</td><td>0</td><td>0</td><td>0</td><td>0</td><td>0</td></tr>\n",
       "\t<tr><td>GL000195.1:30407-31258    </td><td>2</td><td>0</td><td>0</td><td>0</td><td>2</td><td>0</td><td>2</td><td>0</td><td>0</td><td>⋯</td><td>0</td><td>0</td><td>0</td><td>0</td><td>0</td><td>0</td><td>0</td><td>0</td><td>0</td><td>0</td></tr>\n",
       "\t<tr><td>GL000195.1:32188-33024    </td><td>0</td><td>0</td><td>0</td><td>2</td><td>0</td><td>0</td><td>0</td><td>0</td><td>2</td><td>⋯</td><td>0</td><td>0</td><td>4</td><td>0</td><td>0</td><td>0</td><td>0</td><td>0</td><td>0</td><td>0</td></tr>\n",
       "\t<tr><td>GL000195.1:120728-121613  </td><td>0</td><td>0</td><td>0</td><td>0</td><td>0</td><td>0</td><td>0</td><td>0</td><td>0</td><td>⋯</td><td>0</td><td>0</td><td>0</td><td>0</td><td>0</td><td>0</td><td>0</td><td>0</td><td>0</td><td>0</td></tr>\n",
       "\t<tr><td>GL000219.1:39945-40841    </td><td>0</td><td>0</td><td>0</td><td>0</td><td>0</td><td>0</td><td>0</td><td>0</td><td>4</td><td>⋯</td><td>0</td><td>0</td><td>2</td><td>0</td><td>0</td><td>0</td><td>0</td><td>0</td><td>0</td><td>0</td></tr>\n",
       "\t<tr><td>GL000219.1:42162-43054    </td><td>0</td><td>0</td><td>0</td><td>0</td><td>0</td><td>0</td><td>2</td><td>0</td><td>4</td><td>⋯</td><td>0</td><td>0</td><td>0</td><td>0</td><td>0</td><td>0</td><td>4</td><td>0</td><td>0</td><td>0</td></tr>\n",
       "\t<tr><td>GL000219.1:44807-45592    </td><td>0</td><td>0</td><td>0</td><td>0</td><td>0</td><td>0</td><td>0</td><td>0</td><td>0</td><td>⋯</td><td>0</td><td>0</td><td>0</td><td>0</td><td>0</td><td>0</td><td>0</td><td>0</td><td>0</td><td>0</td></tr>\n",
       "\t<tr><td>GL000219.1:45722-46375    </td><td>0</td><td>0</td><td>0</td><td>2</td><td>0</td><td>0</td><td>0</td><td>0</td><td>0</td><td>⋯</td><td>0</td><td>0</td><td>0</td><td>0</td><td>0</td><td>0</td><td>0</td><td>0</td><td>0</td><td>0</td></tr>\n",
       "\t<tr><td>GL000219.1:50731-51770    </td><td>0</td><td>0</td><td>0</td><td>0</td><td>0</td><td>0</td><td>0</td><td>0</td><td>0</td><td>⋯</td><td>0</td><td>0</td><td>0</td><td>0</td><td>0</td><td>0</td><td>0</td><td>0</td><td>0</td><td>0</td></tr>\n",
       "\t<tr><td>GL000219.1:90023-90936    </td><td>0</td><td>0</td><td>0</td><td>0</td><td>2</td><td>0</td><td>0</td><td>0</td><td>0</td><td>⋯</td><td>0</td><td>0</td><td>0</td><td>0</td><td>0</td><td>0</td><td>0</td><td>0</td><td>0</td><td>0</td></tr>\n",
       "\t<tr><td>GL000219.1:92318-93143    </td><td>0</td><td>0</td><td>0</td><td>0</td><td>0</td><td>0</td><td>0</td><td>0</td><td>0</td><td>⋯</td><td>0</td><td>0</td><td>0</td><td>0</td><td>0</td><td>0</td><td>0</td><td>0</td><td>0</td><td>0</td></tr>\n",
       "\t<tr><td>GL000219.1:99260-100166   </td><td>0</td><td>0</td><td>2</td><td>4</td><td>0</td><td>0</td><td>3</td><td>0</td><td>0</td><td>⋯</td><td>0</td><td>4</td><td>8</td><td>2</td><td>2</td><td>0</td><td>0</td><td>0</td><td>3</td><td>0</td></tr>\n",
       "\t<tr><td>GL000219.1:120205-121037  </td><td>0</td><td>0</td><td>0</td><td>0</td><td>0</td><td>0</td><td>0</td><td>0</td><td>0</td><td>⋯</td><td>0</td><td>0</td><td>0</td><td>0</td><td>0</td><td>0</td><td>0</td><td>0</td><td>0</td><td>0</td></tr>\n",
       "\t<tr><td>GL000219.1:125033-125879  </td><td>0</td><td>0</td><td>0</td><td>2</td><td>0</td><td>0</td><td>0</td><td>0</td><td>0</td><td>⋯</td><td>0</td><td>0</td><td>0</td><td>0</td><td>0</td><td>0</td><td>0</td><td>0</td><td>0</td><td>0</td></tr>\n",
       "\t<tr><td>GL000219.1:132781-133690  </td><td>0</td><td>0</td><td>0</td><td>0</td><td>0</td><td>0</td><td>0</td><td>0</td><td>0</td><td>⋯</td><td>0</td><td>0</td><td>0</td><td>0</td><td>0</td><td>0</td><td>0</td><td>0</td><td>0</td><td>0</td></tr>\n",
       "\t<tr><td>KI270734.1:133560-134405  </td><td>0</td><td>2</td><td>0</td><td>0</td><td>0</td><td>0</td><td>0</td><td>0</td><td>0</td><td>⋯</td><td>0</td><td>2</td><td>0</td><td>0</td><td>0</td><td>0</td><td>0</td><td>0</td><td>0</td><td>0</td></tr>\n",
       "\t<tr><td>GL000218.1:155567-156493  </td><td>0</td><td>0</td><td>0</td><td>0</td><td>0</td><td>0</td><td>0</td><td>0</td><td>0</td><td>⋯</td><td>0</td><td>0</td><td>0</td><td>0</td><td>0</td><td>0</td><td>0</td><td>0</td><td>0</td><td>0</td></tr>\n",
       "\t<tr><td>KI270721.1:2090-2985      </td><td>0</td><td>0</td><td>0</td><td>0</td><td>0</td><td>0</td><td>0</td><td>0</td><td>0</td><td>⋯</td><td>0</td><td>0</td><td>0</td><td>0</td><td>0</td><td>0</td><td>0</td><td>0</td><td>0</td><td>0</td></tr>\n",
       "\t<tr><td>KI270726.1:27107-28055    </td><td>0</td><td>0</td><td>0</td><td>0</td><td>0</td><td>0</td><td>0</td><td>0</td><td>0</td><td>⋯</td><td>0</td><td>0</td><td>0</td><td>0</td><td>0</td><td>0</td><td>0</td><td>0</td><td>0</td><td>0</td></tr>\n",
       "\t<tr><td>KI270726.1:41499-42323    </td><td>0</td><td>0</td><td>0</td><td>0</td><td>0</td><td>0</td><td>0</td><td>0</td><td>0</td><td>⋯</td><td>0</td><td>0</td><td>0</td><td>0</td><td>0</td><td>0</td><td>0</td><td>0</td><td>0</td><td>0</td></tr>\n",
       "\t<tr><td>KI270711.1:7879-8702      </td><td>0</td><td>0</td><td>0</td><td>0</td><td>0</td><td>0</td><td>0</td><td>0</td><td>0</td><td>⋯</td><td>0</td><td>0</td><td>0</td><td>0</td><td>0</td><td>0</td><td>0</td><td>0</td><td>0</td><td>0</td></tr>\n",
       "\t<tr><td>KI270711.1:8919-9656      </td><td>0</td><td>0</td><td>0</td><td>0</td><td>0</td><td>0</td><td>0</td><td>0</td><td>0</td><td>⋯</td><td>0</td><td>0</td><td>0</td><td>0</td><td>0</td><td>0</td><td>0</td><td>0</td><td>0</td><td>0</td></tr>\n",
       "\t<tr><td>KI270711.1:22605-23472    </td><td>0</td><td>0</td><td>0</td><td>0</td><td>0</td><td>0</td><td>0</td><td>0</td><td>0</td><td>⋯</td><td>0</td><td>0</td><td>0</td><td>0</td><td>0</td><td>0</td><td>0</td><td>0</td><td>0</td><td>0</td></tr>\n",
       "\t<tr><td>KI270713.1:3924-4839      </td><td>0</td><td>0</td><td>0</td><td>0</td><td>0</td><td>0</td><td>0</td><td>0</td><td>0</td><td>⋯</td><td>0</td><td>0</td><td>0</td><td>0</td><td>0</td><td>0</td><td>0</td><td>0</td><td>0</td><td>0</td></tr>\n",
       "\t<tr><td>KI270713.1:21448-22354    </td><td>0</td><td>2</td><td>0</td><td>6</td><td>0</td><td>0</td><td>0</td><td>0</td><td>2</td><td>⋯</td><td>0</td><td>2</td><td>0</td><td>0</td><td>4</td><td>0</td><td>2</td><td>0</td><td>2</td><td>0</td></tr>\n",
       "\t<tr><td>KI270713.1:26202-26986    </td><td>0</td><td>0</td><td>0</td><td>0</td><td>0</td><td>0</td><td>0</td><td>0</td><td>0</td><td>⋯</td><td>0</td><td>0</td><td>0</td><td>0</td><td>0</td><td>0</td><td>0</td><td>0</td><td>0</td><td>0</td></tr>\n",
       "\t<tr><td>KI270713.1:36937-37838    </td><td>0</td><td>0</td><td>0</td><td>0</td><td>0</td><td>0</td><td>0</td><td>0</td><td>0</td><td>⋯</td><td>0</td><td>0</td><td>0</td><td>0</td><td>2</td><td>0</td><td>0</td><td>0</td><td>0</td><td>0</td></tr>\n",
       "</tbody>\n",
       "</table>\n"
      ],
      "text/latex": [
       "A data.table: 45 × 3010\n",
       "\\begin{tabular}{lllllllllllllllllllll}\n",
       " id & AAACAGCCAACAGGTG-1 & AAACATGCAACAACAA-1 & AAACATGCACCTGGTG-1 & AAACCAACACAGCCTG-1 & AAACCAACAGCAAGAT-1 & AAACCAACATTGCGAC-1 & AAACCGAAGCACAGCC-1 & AAACCGCGTAATTAGC-1 & AAACCGCGTCACGAAC-1 & ⋯ & TTTGGTGCATGAGCAG-1 & TTTGTCCCAGCTTAGC-1 & TTTGTCCCATAATCGT-1 & TTTGTCTAGCATGTTA-1 & TTTGTCTAGGAGGACT-1 & TTTGTCTAGTCTATGA-1 & TTTGTGGCAGCACGAA-1 & TTTGTGGCATCGCTCC-1 & TTTGTGTTCACTTCAT-1 & TTTGTGTTCATGCGTG-1\\\\\n",
       " <chr> & <dbl> & <dbl> & <dbl> & <dbl> & <dbl> & <dbl> & <dbl> & <dbl> & <dbl> & ⋯ & <dbl> & <dbl> & <dbl> & <dbl> & <dbl> & <dbl> & <dbl> & <dbl> & <dbl> & <dbl>\\\\\n",
       "\\hline\n",
       "\t KI270728.1:232228-233172   & 0 & 0 & 0 & 0 & 0 & 0 & 0 & 0 & 0 & ⋯ & 0 & 0 & 0 & 0 & 0 & 0 & 0 & 0 & 0 & 0\\\\\n",
       "\t KI270728.1:1791270-1791983 & 0 & 0 & 0 & 0 & 0 & 0 & 0 & 0 & 0 & ⋯ & 0 & 0 & 0 & 0 & 0 & 0 & 0 & 0 & 0 & 0\\\\\n",
       "\t KI270728.1:1792102-1792511 & 0 & 0 & 0 & 0 & 0 & 0 & 0 & 0 & 0 & ⋯ & 0 & 0 & 0 & 0 & 0 & 0 & 0 & 0 & 0 & 0\\\\\n",
       "\t KI270727.1:52087-52965     & 0 & 0 & 0 & 0 & 0 & 0 & 0 & 0 & 0 & ⋯ & 0 & 0 & 0 & 0 & 0 & 0 & 0 & 0 & 2 & 0\\\\\n",
       "\t GL000009.2:113930-114840   & 0 & 0 & 0 & 0 & 0 & 0 & 0 & 0 & 0 & ⋯ & 0 & 0 & 0 & 0 & 0 & 0 & 0 & 0 & 0 & 0\\\\\n",
       "\t GL000194.1:27950-28827     & 0 & 0 & 0 & 0 & 0 & 0 & 0 & 0 & 0 & ⋯ & 0 & 0 & 0 & 0 & 0 & 0 & 0 & 0 & 0 & 0\\\\\n",
       "\t GL000194.1:55758-56625     & 0 & 0 & 0 & 0 & 0 & 0 & 0 & 0 & 0 & ⋯ & 0 & 0 & 0 & 0 & 0 & 0 & 0 & 0 & 0 & 0\\\\\n",
       "\t GL000194.1:59549-60358     & 0 & 0 & 0 & 0 & 0 & 0 & 0 & 0 & 0 & ⋯ & 0 & 0 & 0 & 0 & 0 & 0 & 0 & 0 & 0 & 0\\\\\n",
       "\t GL000194.1:71564-72412     & 0 & 0 & 0 & 0 & 0 & 0 & 0 & 0 & 0 & ⋯ & 0 & 0 & 0 & 0 & 0 & 0 & 0 & 0 & 0 & 0\\\\\n",
       "\t GL000194.1:72884-73754     & 0 & 0 & 0 & 0 & 0 & 0 & 0 & 0 & 0 & ⋯ & 0 & 0 & 0 & 0 & 0 & 0 & 0 & 0 & 0 & 0\\\\\n",
       "\t GL000194.1:101051-101904   & 0 & 0 & 0 & 0 & 0 & 0 & 0 & 0 & 0 & ⋯ & 0 & 0 & 0 & 0 & 0 & 0 & 0 & 0 & 0 & 0\\\\\n",
       "\t GL000194.1:114535-115388   & 0 & 0 & 0 & 0 & 0 & 0 & 0 & 0 & 0 & ⋯ & 0 & 0 & 0 & 0 & 0 & 0 & 0 & 0 & 0 & 0\\\\\n",
       "\t GL000205.2:62968-63834     & 0 & 0 & 0 & 0 & 0 & 1 & 0 & 0 & 0 & ⋯ & 0 & 0 & 0 & 0 & 0 & 0 & 0 & 0 & 0 & 0\\\\\n",
       "\t GL000205.2:67706-68579     & 0 & 0 & 0 & 0 & 0 & 0 & 0 & 0 & 0 & ⋯ & 0 & 0 & 0 & 0 & 2 & 0 & 0 & 0 & 0 & 0\\\\\n",
       "\t GL000205.2:69004-69899     & 0 & 0 & 0 & 0 & 0 & 0 & 0 & 0 & 0 & ⋯ & 0 & 0 & 0 & 0 & 0 & 0 & 0 & 0 & 0 & 0\\\\\n",
       "\t GL000205.2:78245-78981     & 0 & 0 & 0 & 0 & 0 & 0 & 0 & 0 & 0 & ⋯ & 0 & 0 & 0 & 0 & 0 & 0 & 0 & 0 & 0 & 0\\\\\n",
       "\t GL000205.2:80805-81701     & 0 & 0 & 0 & 0 & 0 & 0 & 0 & 0 & 0 & ⋯ & 0 & 0 & 0 & 0 & 0 & 0 & 0 & 0 & 0 & 0\\\\\n",
       "\t GL000205.2:88677-89482     & 0 & 0 & 0 & 0 & 0 & 0 & 0 & 0 & 0 & ⋯ & 0 & 0 & 0 & 0 & 0 & 0 & 0 & 0 & 0 & 0\\\\\n",
       "\t GL000205.2:140328-141200   & 0 & 0 & 0 & 0 & 0 & 0 & 0 & 0 & 0 & ⋯ & 0 & 0 & 0 & 0 & 0 & 0 & 0 & 0 & 0 & 0\\\\\n",
       "\t GL000195.1:30407-31258     & 2 & 0 & 0 & 0 & 2 & 0 & 2 & 0 & 0 & ⋯ & 0 & 0 & 0 & 0 & 0 & 0 & 0 & 0 & 0 & 0\\\\\n",
       "\t GL000195.1:32188-33024     & 0 & 0 & 0 & 2 & 0 & 0 & 0 & 0 & 2 & ⋯ & 0 & 0 & 4 & 0 & 0 & 0 & 0 & 0 & 0 & 0\\\\\n",
       "\t GL000195.1:120728-121613   & 0 & 0 & 0 & 0 & 0 & 0 & 0 & 0 & 0 & ⋯ & 0 & 0 & 0 & 0 & 0 & 0 & 0 & 0 & 0 & 0\\\\\n",
       "\t GL000219.1:39945-40841     & 0 & 0 & 0 & 0 & 0 & 0 & 0 & 0 & 4 & ⋯ & 0 & 0 & 2 & 0 & 0 & 0 & 0 & 0 & 0 & 0\\\\\n",
       "\t GL000219.1:42162-43054     & 0 & 0 & 0 & 0 & 0 & 0 & 2 & 0 & 4 & ⋯ & 0 & 0 & 0 & 0 & 0 & 0 & 4 & 0 & 0 & 0\\\\\n",
       "\t GL000219.1:44807-45592     & 0 & 0 & 0 & 0 & 0 & 0 & 0 & 0 & 0 & ⋯ & 0 & 0 & 0 & 0 & 0 & 0 & 0 & 0 & 0 & 0\\\\\n",
       "\t GL000219.1:45722-46375     & 0 & 0 & 0 & 2 & 0 & 0 & 0 & 0 & 0 & ⋯ & 0 & 0 & 0 & 0 & 0 & 0 & 0 & 0 & 0 & 0\\\\\n",
       "\t GL000219.1:50731-51770     & 0 & 0 & 0 & 0 & 0 & 0 & 0 & 0 & 0 & ⋯ & 0 & 0 & 0 & 0 & 0 & 0 & 0 & 0 & 0 & 0\\\\\n",
       "\t GL000219.1:90023-90936     & 0 & 0 & 0 & 0 & 2 & 0 & 0 & 0 & 0 & ⋯ & 0 & 0 & 0 & 0 & 0 & 0 & 0 & 0 & 0 & 0\\\\\n",
       "\t GL000219.1:92318-93143     & 0 & 0 & 0 & 0 & 0 & 0 & 0 & 0 & 0 & ⋯ & 0 & 0 & 0 & 0 & 0 & 0 & 0 & 0 & 0 & 0\\\\\n",
       "\t GL000219.1:99260-100166    & 0 & 0 & 2 & 4 & 0 & 0 & 3 & 0 & 0 & ⋯ & 0 & 4 & 8 & 2 & 2 & 0 & 0 & 0 & 3 & 0\\\\\n",
       "\t GL000219.1:120205-121037   & 0 & 0 & 0 & 0 & 0 & 0 & 0 & 0 & 0 & ⋯ & 0 & 0 & 0 & 0 & 0 & 0 & 0 & 0 & 0 & 0\\\\\n",
       "\t GL000219.1:125033-125879   & 0 & 0 & 0 & 2 & 0 & 0 & 0 & 0 & 0 & ⋯ & 0 & 0 & 0 & 0 & 0 & 0 & 0 & 0 & 0 & 0\\\\\n",
       "\t GL000219.1:132781-133690   & 0 & 0 & 0 & 0 & 0 & 0 & 0 & 0 & 0 & ⋯ & 0 & 0 & 0 & 0 & 0 & 0 & 0 & 0 & 0 & 0\\\\\n",
       "\t KI270734.1:133560-134405   & 0 & 2 & 0 & 0 & 0 & 0 & 0 & 0 & 0 & ⋯ & 0 & 2 & 0 & 0 & 0 & 0 & 0 & 0 & 0 & 0\\\\\n",
       "\t GL000218.1:155567-156493   & 0 & 0 & 0 & 0 & 0 & 0 & 0 & 0 & 0 & ⋯ & 0 & 0 & 0 & 0 & 0 & 0 & 0 & 0 & 0 & 0\\\\\n",
       "\t KI270721.1:2090-2985       & 0 & 0 & 0 & 0 & 0 & 0 & 0 & 0 & 0 & ⋯ & 0 & 0 & 0 & 0 & 0 & 0 & 0 & 0 & 0 & 0\\\\\n",
       "\t KI270726.1:27107-28055     & 0 & 0 & 0 & 0 & 0 & 0 & 0 & 0 & 0 & ⋯ & 0 & 0 & 0 & 0 & 0 & 0 & 0 & 0 & 0 & 0\\\\\n",
       "\t KI270726.1:41499-42323     & 0 & 0 & 0 & 0 & 0 & 0 & 0 & 0 & 0 & ⋯ & 0 & 0 & 0 & 0 & 0 & 0 & 0 & 0 & 0 & 0\\\\\n",
       "\t KI270711.1:7879-8702       & 0 & 0 & 0 & 0 & 0 & 0 & 0 & 0 & 0 & ⋯ & 0 & 0 & 0 & 0 & 0 & 0 & 0 & 0 & 0 & 0\\\\\n",
       "\t KI270711.1:8919-9656       & 0 & 0 & 0 & 0 & 0 & 0 & 0 & 0 & 0 & ⋯ & 0 & 0 & 0 & 0 & 0 & 0 & 0 & 0 & 0 & 0\\\\\n",
       "\t KI270711.1:22605-23472     & 0 & 0 & 0 & 0 & 0 & 0 & 0 & 0 & 0 & ⋯ & 0 & 0 & 0 & 0 & 0 & 0 & 0 & 0 & 0 & 0\\\\\n",
       "\t KI270713.1:3924-4839       & 0 & 0 & 0 & 0 & 0 & 0 & 0 & 0 & 0 & ⋯ & 0 & 0 & 0 & 0 & 0 & 0 & 0 & 0 & 0 & 0\\\\\n",
       "\t KI270713.1:21448-22354     & 0 & 2 & 0 & 6 & 0 & 0 & 0 & 0 & 2 & ⋯ & 0 & 2 & 0 & 0 & 4 & 0 & 2 & 0 & 2 & 0\\\\\n",
       "\t KI270713.1:26202-26986     & 0 & 0 & 0 & 0 & 0 & 0 & 0 & 0 & 0 & ⋯ & 0 & 0 & 0 & 0 & 0 & 0 & 0 & 0 & 0 & 0\\\\\n",
       "\t KI270713.1:36937-37838     & 0 & 0 & 0 & 0 & 0 & 0 & 0 & 0 & 0 & ⋯ & 0 & 0 & 0 & 0 & 2 & 0 & 0 & 0 & 0 & 0\\\\\n",
       "\\end{tabular}\n"
      ],
      "text/markdown": [
       "\n",
       "A data.table: 45 × 3010\n",
       "\n",
       "| id &lt;chr&gt; | AAACAGCCAACAGGTG-1 &lt;dbl&gt; | AAACATGCAACAACAA-1 &lt;dbl&gt; | AAACATGCACCTGGTG-1 &lt;dbl&gt; | AAACCAACACAGCCTG-1 &lt;dbl&gt; | AAACCAACAGCAAGAT-1 &lt;dbl&gt; | AAACCAACATTGCGAC-1 &lt;dbl&gt; | AAACCGAAGCACAGCC-1 &lt;dbl&gt; | AAACCGCGTAATTAGC-1 &lt;dbl&gt; | AAACCGCGTCACGAAC-1 &lt;dbl&gt; | ⋯ ⋯ | TTTGGTGCATGAGCAG-1 &lt;dbl&gt; | TTTGTCCCAGCTTAGC-1 &lt;dbl&gt; | TTTGTCCCATAATCGT-1 &lt;dbl&gt; | TTTGTCTAGCATGTTA-1 &lt;dbl&gt; | TTTGTCTAGGAGGACT-1 &lt;dbl&gt; | TTTGTCTAGTCTATGA-1 &lt;dbl&gt; | TTTGTGGCAGCACGAA-1 &lt;dbl&gt; | TTTGTGGCATCGCTCC-1 &lt;dbl&gt; | TTTGTGTTCACTTCAT-1 &lt;dbl&gt; | TTTGTGTTCATGCGTG-1 &lt;dbl&gt; |\n",
       "|---|---|---|---|---|---|---|---|---|---|---|---|---|---|---|---|---|---|---|---|---|\n",
       "| KI270728.1:232228-233172   | 0 | 0 | 0 | 0 | 0 | 0 | 0 | 0 | 0 | ⋯ | 0 | 0 | 0 | 0 | 0 | 0 | 0 | 0 | 0 | 0 |\n",
       "| KI270728.1:1791270-1791983 | 0 | 0 | 0 | 0 | 0 | 0 | 0 | 0 | 0 | ⋯ | 0 | 0 | 0 | 0 | 0 | 0 | 0 | 0 | 0 | 0 |\n",
       "| KI270728.1:1792102-1792511 | 0 | 0 | 0 | 0 | 0 | 0 | 0 | 0 | 0 | ⋯ | 0 | 0 | 0 | 0 | 0 | 0 | 0 | 0 | 0 | 0 |\n",
       "| KI270727.1:52087-52965     | 0 | 0 | 0 | 0 | 0 | 0 | 0 | 0 | 0 | ⋯ | 0 | 0 | 0 | 0 | 0 | 0 | 0 | 0 | 2 | 0 |\n",
       "| GL000009.2:113930-114840   | 0 | 0 | 0 | 0 | 0 | 0 | 0 | 0 | 0 | ⋯ | 0 | 0 | 0 | 0 | 0 | 0 | 0 | 0 | 0 | 0 |\n",
       "| GL000194.1:27950-28827     | 0 | 0 | 0 | 0 | 0 | 0 | 0 | 0 | 0 | ⋯ | 0 | 0 | 0 | 0 | 0 | 0 | 0 | 0 | 0 | 0 |\n",
       "| GL000194.1:55758-56625     | 0 | 0 | 0 | 0 | 0 | 0 | 0 | 0 | 0 | ⋯ | 0 | 0 | 0 | 0 | 0 | 0 | 0 | 0 | 0 | 0 |\n",
       "| GL000194.1:59549-60358     | 0 | 0 | 0 | 0 | 0 | 0 | 0 | 0 | 0 | ⋯ | 0 | 0 | 0 | 0 | 0 | 0 | 0 | 0 | 0 | 0 |\n",
       "| GL000194.1:71564-72412     | 0 | 0 | 0 | 0 | 0 | 0 | 0 | 0 | 0 | ⋯ | 0 | 0 | 0 | 0 | 0 | 0 | 0 | 0 | 0 | 0 |\n",
       "| GL000194.1:72884-73754     | 0 | 0 | 0 | 0 | 0 | 0 | 0 | 0 | 0 | ⋯ | 0 | 0 | 0 | 0 | 0 | 0 | 0 | 0 | 0 | 0 |\n",
       "| GL000194.1:101051-101904   | 0 | 0 | 0 | 0 | 0 | 0 | 0 | 0 | 0 | ⋯ | 0 | 0 | 0 | 0 | 0 | 0 | 0 | 0 | 0 | 0 |\n",
       "| GL000194.1:114535-115388   | 0 | 0 | 0 | 0 | 0 | 0 | 0 | 0 | 0 | ⋯ | 0 | 0 | 0 | 0 | 0 | 0 | 0 | 0 | 0 | 0 |\n",
       "| GL000205.2:62968-63834     | 0 | 0 | 0 | 0 | 0 | 1 | 0 | 0 | 0 | ⋯ | 0 | 0 | 0 | 0 | 0 | 0 | 0 | 0 | 0 | 0 |\n",
       "| GL000205.2:67706-68579     | 0 | 0 | 0 | 0 | 0 | 0 | 0 | 0 | 0 | ⋯ | 0 | 0 | 0 | 0 | 2 | 0 | 0 | 0 | 0 | 0 |\n",
       "| GL000205.2:69004-69899     | 0 | 0 | 0 | 0 | 0 | 0 | 0 | 0 | 0 | ⋯ | 0 | 0 | 0 | 0 | 0 | 0 | 0 | 0 | 0 | 0 |\n",
       "| GL000205.2:78245-78981     | 0 | 0 | 0 | 0 | 0 | 0 | 0 | 0 | 0 | ⋯ | 0 | 0 | 0 | 0 | 0 | 0 | 0 | 0 | 0 | 0 |\n",
       "| GL000205.2:80805-81701     | 0 | 0 | 0 | 0 | 0 | 0 | 0 | 0 | 0 | ⋯ | 0 | 0 | 0 | 0 | 0 | 0 | 0 | 0 | 0 | 0 |\n",
       "| GL000205.2:88677-89482     | 0 | 0 | 0 | 0 | 0 | 0 | 0 | 0 | 0 | ⋯ | 0 | 0 | 0 | 0 | 0 | 0 | 0 | 0 | 0 | 0 |\n",
       "| GL000205.2:140328-141200   | 0 | 0 | 0 | 0 | 0 | 0 | 0 | 0 | 0 | ⋯ | 0 | 0 | 0 | 0 | 0 | 0 | 0 | 0 | 0 | 0 |\n",
       "| GL000195.1:30407-31258     | 2 | 0 | 0 | 0 | 2 | 0 | 2 | 0 | 0 | ⋯ | 0 | 0 | 0 | 0 | 0 | 0 | 0 | 0 | 0 | 0 |\n",
       "| GL000195.1:32188-33024     | 0 | 0 | 0 | 2 | 0 | 0 | 0 | 0 | 2 | ⋯ | 0 | 0 | 4 | 0 | 0 | 0 | 0 | 0 | 0 | 0 |\n",
       "| GL000195.1:120728-121613   | 0 | 0 | 0 | 0 | 0 | 0 | 0 | 0 | 0 | ⋯ | 0 | 0 | 0 | 0 | 0 | 0 | 0 | 0 | 0 | 0 |\n",
       "| GL000219.1:39945-40841     | 0 | 0 | 0 | 0 | 0 | 0 | 0 | 0 | 4 | ⋯ | 0 | 0 | 2 | 0 | 0 | 0 | 0 | 0 | 0 | 0 |\n",
       "| GL000219.1:42162-43054     | 0 | 0 | 0 | 0 | 0 | 0 | 2 | 0 | 4 | ⋯ | 0 | 0 | 0 | 0 | 0 | 0 | 4 | 0 | 0 | 0 |\n",
       "| GL000219.1:44807-45592     | 0 | 0 | 0 | 0 | 0 | 0 | 0 | 0 | 0 | ⋯ | 0 | 0 | 0 | 0 | 0 | 0 | 0 | 0 | 0 | 0 |\n",
       "| GL000219.1:45722-46375     | 0 | 0 | 0 | 2 | 0 | 0 | 0 | 0 | 0 | ⋯ | 0 | 0 | 0 | 0 | 0 | 0 | 0 | 0 | 0 | 0 |\n",
       "| GL000219.1:50731-51770     | 0 | 0 | 0 | 0 | 0 | 0 | 0 | 0 | 0 | ⋯ | 0 | 0 | 0 | 0 | 0 | 0 | 0 | 0 | 0 | 0 |\n",
       "| GL000219.1:90023-90936     | 0 | 0 | 0 | 0 | 2 | 0 | 0 | 0 | 0 | ⋯ | 0 | 0 | 0 | 0 | 0 | 0 | 0 | 0 | 0 | 0 |\n",
       "| GL000219.1:92318-93143     | 0 | 0 | 0 | 0 | 0 | 0 | 0 | 0 | 0 | ⋯ | 0 | 0 | 0 | 0 | 0 | 0 | 0 | 0 | 0 | 0 |\n",
       "| GL000219.1:99260-100166    | 0 | 0 | 2 | 4 | 0 | 0 | 3 | 0 | 0 | ⋯ | 0 | 4 | 8 | 2 | 2 | 0 | 0 | 0 | 3 | 0 |\n",
       "| GL000219.1:120205-121037   | 0 | 0 | 0 | 0 | 0 | 0 | 0 | 0 | 0 | ⋯ | 0 | 0 | 0 | 0 | 0 | 0 | 0 | 0 | 0 | 0 |\n",
       "| GL000219.1:125033-125879   | 0 | 0 | 0 | 2 | 0 | 0 | 0 | 0 | 0 | ⋯ | 0 | 0 | 0 | 0 | 0 | 0 | 0 | 0 | 0 | 0 |\n",
       "| GL000219.1:132781-133690   | 0 | 0 | 0 | 0 | 0 | 0 | 0 | 0 | 0 | ⋯ | 0 | 0 | 0 | 0 | 0 | 0 | 0 | 0 | 0 | 0 |\n",
       "| KI270734.1:133560-134405   | 0 | 2 | 0 | 0 | 0 | 0 | 0 | 0 | 0 | ⋯ | 0 | 2 | 0 | 0 | 0 | 0 | 0 | 0 | 0 | 0 |\n",
       "| GL000218.1:155567-156493   | 0 | 0 | 0 | 0 | 0 | 0 | 0 | 0 | 0 | ⋯ | 0 | 0 | 0 | 0 | 0 | 0 | 0 | 0 | 0 | 0 |\n",
       "| KI270721.1:2090-2985       | 0 | 0 | 0 | 0 | 0 | 0 | 0 | 0 | 0 | ⋯ | 0 | 0 | 0 | 0 | 0 | 0 | 0 | 0 | 0 | 0 |\n",
       "| KI270726.1:27107-28055     | 0 | 0 | 0 | 0 | 0 | 0 | 0 | 0 | 0 | ⋯ | 0 | 0 | 0 | 0 | 0 | 0 | 0 | 0 | 0 | 0 |\n",
       "| KI270726.1:41499-42323     | 0 | 0 | 0 | 0 | 0 | 0 | 0 | 0 | 0 | ⋯ | 0 | 0 | 0 | 0 | 0 | 0 | 0 | 0 | 0 | 0 |\n",
       "| KI270711.1:7879-8702       | 0 | 0 | 0 | 0 | 0 | 0 | 0 | 0 | 0 | ⋯ | 0 | 0 | 0 | 0 | 0 | 0 | 0 | 0 | 0 | 0 |\n",
       "| KI270711.1:8919-9656       | 0 | 0 | 0 | 0 | 0 | 0 | 0 | 0 | 0 | ⋯ | 0 | 0 | 0 | 0 | 0 | 0 | 0 | 0 | 0 | 0 |\n",
       "| KI270711.1:22605-23472     | 0 | 0 | 0 | 0 | 0 | 0 | 0 | 0 | 0 | ⋯ | 0 | 0 | 0 | 0 | 0 | 0 | 0 | 0 | 0 | 0 |\n",
       "| KI270713.1:3924-4839       | 0 | 0 | 0 | 0 | 0 | 0 | 0 | 0 | 0 | ⋯ | 0 | 0 | 0 | 0 | 0 | 0 | 0 | 0 | 0 | 0 |\n",
       "| KI270713.1:21448-22354     | 0 | 2 | 0 | 6 | 0 | 0 | 0 | 0 | 2 | ⋯ | 0 | 2 | 0 | 0 | 4 | 0 | 2 | 0 | 2 | 0 |\n",
       "| KI270713.1:26202-26986     | 0 | 0 | 0 | 0 | 0 | 0 | 0 | 0 | 0 | ⋯ | 0 | 0 | 0 | 0 | 0 | 0 | 0 | 0 | 0 | 0 |\n",
       "| KI270713.1:36937-37838     | 0 | 0 | 0 | 0 | 0 | 0 | 0 | 0 | 0 | ⋯ | 0 | 0 | 0 | 0 | 2 | 0 | 0 | 0 | 0 | 0 |\n",
       "\n"
      ],
      "text/plain": [
       "   id                         AAACAGCCAACAGGTG-1 AAACATGCAACAACAA-1\n",
       "1  KI270728.1:232228-233172   0                  0                 \n",
       "2  KI270728.1:1791270-1791983 0                  0                 \n",
       "3  KI270728.1:1792102-1792511 0                  0                 \n",
       "4  KI270727.1:52087-52965     0                  0                 \n",
       "5  GL000009.2:113930-114840   0                  0                 \n",
       "6  GL000194.1:27950-28827     0                  0                 \n",
       "7  GL000194.1:55758-56625     0                  0                 \n",
       "8  GL000194.1:59549-60358     0                  0                 \n",
       "9  GL000194.1:71564-72412     0                  0                 \n",
       "10 GL000194.1:72884-73754     0                  0                 \n",
       "11 GL000194.1:101051-101904   0                  0                 \n",
       "12 GL000194.1:114535-115388   0                  0                 \n",
       "13 GL000205.2:62968-63834     0                  0                 \n",
       "14 GL000205.2:67706-68579     0                  0                 \n",
       "15 GL000205.2:69004-69899     0                  0                 \n",
       "16 GL000205.2:78245-78981     0                  0                 \n",
       "17 GL000205.2:80805-81701     0                  0                 \n",
       "18 GL000205.2:88677-89482     0                  0                 \n",
       "19 GL000205.2:140328-141200   0                  0                 \n",
       "20 GL000195.1:30407-31258     2                  0                 \n",
       "21 GL000195.1:32188-33024     0                  0                 \n",
       "22 GL000195.1:120728-121613   0                  0                 \n",
       "23 GL000219.1:39945-40841     0                  0                 \n",
       "24 GL000219.1:42162-43054     0                  0                 \n",
       "25 GL000219.1:44807-45592     0                  0                 \n",
       "26 GL000219.1:45722-46375     0                  0                 \n",
       "27 GL000219.1:50731-51770     0                  0                 \n",
       "28 GL000219.1:90023-90936     0                  0                 \n",
       "29 GL000219.1:92318-93143     0                  0                 \n",
       "30 GL000219.1:99260-100166    0                  0                 \n",
       "31 GL000219.1:120205-121037   0                  0                 \n",
       "32 GL000219.1:125033-125879   0                  0                 \n",
       "33 GL000219.1:132781-133690   0                  0                 \n",
       "34 KI270734.1:133560-134405   0                  2                 \n",
       "35 GL000218.1:155567-156493   0                  0                 \n",
       "36 KI270721.1:2090-2985       0                  0                 \n",
       "37 KI270726.1:27107-28055     0                  0                 \n",
       "38 KI270726.1:41499-42323     0                  0                 \n",
       "39 KI270711.1:7879-8702       0                  0                 \n",
       "40 KI270711.1:8919-9656       0                  0                 \n",
       "41 KI270711.1:22605-23472     0                  0                 \n",
       "42 KI270713.1:3924-4839       0                  0                 \n",
       "43 KI270713.1:21448-22354     0                  2                 \n",
       "44 KI270713.1:26202-26986     0                  0                 \n",
       "45 KI270713.1:36937-37838     0                  0                 \n",
       "   AAACATGCACCTGGTG-1 AAACCAACACAGCCTG-1 AAACCAACAGCAAGAT-1 AAACCAACATTGCGAC-1\n",
       "1  0                  0                  0                  0                 \n",
       "2  0                  0                  0                  0                 \n",
       "3  0                  0                  0                  0                 \n",
       "4  0                  0                  0                  0                 \n",
       "5  0                  0                  0                  0                 \n",
       "6  0                  0                  0                  0                 \n",
       "7  0                  0                  0                  0                 \n",
       "8  0                  0                  0                  0                 \n",
       "9  0                  0                  0                  0                 \n",
       "10 0                  0                  0                  0                 \n",
       "11 0                  0                  0                  0                 \n",
       "12 0                  0                  0                  0                 \n",
       "13 0                  0                  0                  1                 \n",
       "14 0                  0                  0                  0                 \n",
       "15 0                  0                  0                  0                 \n",
       "16 0                  0                  0                  0                 \n",
       "17 0                  0                  0                  0                 \n",
       "18 0                  0                  0                  0                 \n",
       "19 0                  0                  0                  0                 \n",
       "20 0                  0                  2                  0                 \n",
       "21 0                  2                  0                  0                 \n",
       "22 0                  0                  0                  0                 \n",
       "23 0                  0                  0                  0                 \n",
       "24 0                  0                  0                  0                 \n",
       "25 0                  0                  0                  0                 \n",
       "26 0                  2                  0                  0                 \n",
       "27 0                  0                  0                  0                 \n",
       "28 0                  0                  2                  0                 \n",
       "29 0                  0                  0                  0                 \n",
       "30 2                  4                  0                  0                 \n",
       "31 0                  0                  0                  0                 \n",
       "32 0                  2                  0                  0                 \n",
       "33 0                  0                  0                  0                 \n",
       "34 0                  0                  0                  0                 \n",
       "35 0                  0                  0                  0                 \n",
       "36 0                  0                  0                  0                 \n",
       "37 0                  0                  0                  0                 \n",
       "38 0                  0                  0                  0                 \n",
       "39 0                  0                  0                  0                 \n",
       "40 0                  0                  0                  0                 \n",
       "41 0                  0                  0                  0                 \n",
       "42 0                  0                  0                  0                 \n",
       "43 0                  6                  0                  0                 \n",
       "44 0                  0                  0                  0                 \n",
       "45 0                  0                  0                  0                 \n",
       "   AAACCGAAGCACAGCC-1 AAACCGCGTAATTAGC-1 AAACCGCGTCACGAAC-1 ⋯\n",
       "1  0                  0                  0                  ⋯\n",
       "2  0                  0                  0                  ⋯\n",
       "3  0                  0                  0                  ⋯\n",
       "4  0                  0                  0                  ⋯\n",
       "5  0                  0                  0                  ⋯\n",
       "6  0                  0                  0                  ⋯\n",
       "7  0                  0                  0                  ⋯\n",
       "8  0                  0                  0                  ⋯\n",
       "9  0                  0                  0                  ⋯\n",
       "10 0                  0                  0                  ⋯\n",
       "11 0                  0                  0                  ⋯\n",
       "12 0                  0                  0                  ⋯\n",
       "13 0                  0                  0                  ⋯\n",
       "14 0                  0                  0                  ⋯\n",
       "15 0                  0                  0                  ⋯\n",
       "16 0                  0                  0                  ⋯\n",
       "17 0                  0                  0                  ⋯\n",
       "18 0                  0                  0                  ⋯\n",
       "19 0                  0                  0                  ⋯\n",
       "20 2                  0                  0                  ⋯\n",
       "21 0                  0                  2                  ⋯\n",
       "22 0                  0                  0                  ⋯\n",
       "23 0                  0                  4                  ⋯\n",
       "24 2                  0                  4                  ⋯\n",
       "25 0                  0                  0                  ⋯\n",
       "26 0                  0                  0                  ⋯\n",
       "27 0                  0                  0                  ⋯\n",
       "28 0                  0                  0                  ⋯\n",
       "29 0                  0                  0                  ⋯\n",
       "30 3                  0                  0                  ⋯\n",
       "31 0                  0                  0                  ⋯\n",
       "32 0                  0                  0                  ⋯\n",
       "33 0                  0                  0                  ⋯\n",
       "34 0                  0                  0                  ⋯\n",
       "35 0                  0                  0                  ⋯\n",
       "36 0                  0                  0                  ⋯\n",
       "37 0                  0                  0                  ⋯\n",
       "38 0                  0                  0                  ⋯\n",
       "39 0                  0                  0                  ⋯\n",
       "40 0                  0                  0                  ⋯\n",
       "41 0                  0                  0                  ⋯\n",
       "42 0                  0                  0                  ⋯\n",
       "43 0                  0                  2                  ⋯\n",
       "44 0                  0                  0                  ⋯\n",
       "45 0                  0                  0                  ⋯\n",
       "   TTTGGTGCATGAGCAG-1 TTTGTCCCAGCTTAGC-1 TTTGTCCCATAATCGT-1 TTTGTCTAGCATGTTA-1\n",
       "1  0                  0                  0                  0                 \n",
       "2  0                  0                  0                  0                 \n",
       "3  0                  0                  0                  0                 \n",
       "4  0                  0                  0                  0                 \n",
       "5  0                  0                  0                  0                 \n",
       "6  0                  0                  0                  0                 \n",
       "7  0                  0                  0                  0                 \n",
       "8  0                  0                  0                  0                 \n",
       "9  0                  0                  0                  0                 \n",
       "10 0                  0                  0                  0                 \n",
       "11 0                  0                  0                  0                 \n",
       "12 0                  0                  0                  0                 \n",
       "13 0                  0                  0                  0                 \n",
       "14 0                  0                  0                  0                 \n",
       "15 0                  0                  0                  0                 \n",
       "16 0                  0                  0                  0                 \n",
       "17 0                  0                  0                  0                 \n",
       "18 0                  0                  0                  0                 \n",
       "19 0                  0                  0                  0                 \n",
       "20 0                  0                  0                  0                 \n",
       "21 0                  0                  4                  0                 \n",
       "22 0                  0                  0                  0                 \n",
       "23 0                  0                  2                  0                 \n",
       "24 0                  0                  0                  0                 \n",
       "25 0                  0                  0                  0                 \n",
       "26 0                  0                  0                  0                 \n",
       "27 0                  0                  0                  0                 \n",
       "28 0                  0                  0                  0                 \n",
       "29 0                  0                  0                  0                 \n",
       "30 0                  4                  8                  2                 \n",
       "31 0                  0                  0                  0                 \n",
       "32 0                  0                  0                  0                 \n",
       "33 0                  0                  0                  0                 \n",
       "34 0                  2                  0                  0                 \n",
       "35 0                  0                  0                  0                 \n",
       "36 0                  0                  0                  0                 \n",
       "37 0                  0                  0                  0                 \n",
       "38 0                  0                  0                  0                 \n",
       "39 0                  0                  0                  0                 \n",
       "40 0                  0                  0                  0                 \n",
       "41 0                  0                  0                  0                 \n",
       "42 0                  0                  0                  0                 \n",
       "43 0                  2                  0                  0                 \n",
       "44 0                  0                  0                  0                 \n",
       "45 0                  0                  0                  0                 \n",
       "   TTTGTCTAGGAGGACT-1 TTTGTCTAGTCTATGA-1 TTTGTGGCAGCACGAA-1 TTTGTGGCATCGCTCC-1\n",
       "1  0                  0                  0                  0                 \n",
       "2  0                  0                  0                  0                 \n",
       "3  0                  0                  0                  0                 \n",
       "4  0                  0                  0                  0                 \n",
       "5  0                  0                  0                  0                 \n",
       "6  0                  0                  0                  0                 \n",
       "7  0                  0                  0                  0                 \n",
       "8  0                  0                  0                  0                 \n",
       "9  0                  0                  0                  0                 \n",
       "10 0                  0                  0                  0                 \n",
       "11 0                  0                  0                  0                 \n",
       "12 0                  0                  0                  0                 \n",
       "13 0                  0                  0                  0                 \n",
       "14 2                  0                  0                  0                 \n",
       "15 0                  0                  0                  0                 \n",
       "16 0                  0                  0                  0                 \n",
       "17 0                  0                  0                  0                 \n",
       "18 0                  0                  0                  0                 \n",
       "19 0                  0                  0                  0                 \n",
       "20 0                  0                  0                  0                 \n",
       "21 0                  0                  0                  0                 \n",
       "22 0                  0                  0                  0                 \n",
       "23 0                  0                  0                  0                 \n",
       "24 0                  0                  4                  0                 \n",
       "25 0                  0                  0                  0                 \n",
       "26 0                  0                  0                  0                 \n",
       "27 0                  0                  0                  0                 \n",
       "28 0                  0                  0                  0                 \n",
       "29 0                  0                  0                  0                 \n",
       "30 2                  0                  0                  0                 \n",
       "31 0                  0                  0                  0                 \n",
       "32 0                  0                  0                  0                 \n",
       "33 0                  0                  0                  0                 \n",
       "34 0                  0                  0                  0                 \n",
       "35 0                  0                  0                  0                 \n",
       "36 0                  0                  0                  0                 \n",
       "37 0                  0                  0                  0                 \n",
       "38 0                  0                  0                  0                 \n",
       "39 0                  0                  0                  0                 \n",
       "40 0                  0                  0                  0                 \n",
       "41 0                  0                  0                  0                 \n",
       "42 0                  0                  0                  0                 \n",
       "43 4                  0                  2                  0                 \n",
       "44 0                  0                  0                  0                 \n",
       "45 2                  0                  0                  0                 \n",
       "   TTTGTGTTCACTTCAT-1 TTTGTGTTCATGCGTG-1\n",
       "1  0                  0                 \n",
       "2  0                  0                 \n",
       "3  0                  0                 \n",
       "4  2                  0                 \n",
       "5  0                  0                 \n",
       "6  0                  0                 \n",
       "7  0                  0                 \n",
       "8  0                  0                 \n",
       "9  0                  0                 \n",
       "10 0                  0                 \n",
       "11 0                  0                 \n",
       "12 0                  0                 \n",
       "13 0                  0                 \n",
       "14 0                  0                 \n",
       "15 0                  0                 \n",
       "16 0                  0                 \n",
       "17 0                  0                 \n",
       "18 0                  0                 \n",
       "19 0                  0                 \n",
       "20 0                  0                 \n",
       "21 0                  0                 \n",
       "22 0                  0                 \n",
       "23 0                  0                 \n",
       "24 0                  0                 \n",
       "25 0                  0                 \n",
       "26 0                  0                 \n",
       "27 0                  0                 \n",
       "28 0                  0                 \n",
       "29 0                  0                 \n",
       "30 3                  0                 \n",
       "31 0                  0                 \n",
       "32 0                  0                 \n",
       "33 0                  0                 \n",
       "34 0                  0                 \n",
       "35 0                  0                 \n",
       "36 0                  0                 \n",
       "37 0                  0                 \n",
       "38 0                  0                 \n",
       "39 0                  0                 \n",
       "40 0                  0                 \n",
       "41 0                  0                 \n",
       "42 0                  0                 \n",
       "43 2                  0                 \n",
       "44 0                  0                 \n",
       "45 0                  0                 "
      ]
     },
     "metadata": {},
     "output_type": "display_data"
    }
   ],
   "source": [
    "(dt[!grepl(\"ENSG|chr\", dt$id)])"
   ]
  },
  {
   "cell_type": "markdown",
   "id": "335e2c21-8789-4d04-a3dd-57df9cf3a83c",
   "metadata": {
    "jp-MarkdownHeadingCollapsed": true
   },
   "source": [
    "# Step 3: Summarize Data"
   ]
  },
  {
   "cell_type": "markdown",
   "id": "24dc8fbe-9441-407d-8e56-d59a30021363",
   "metadata": {},
   "source": [
    "For each dataset (expression and peaks), compute the column-wise sum to produce:\n",
    "* A single vector of total expression per gene\n",
    "* A single vector of total chromatin accessibility per peak region"
   ]
  },
  {
   "cell_type": "code",
   "execution_count": 20,
   "id": "6e32d230-e119-4cdc-b472-38f019d75512",
   "metadata": {},
   "outputs": [],
   "source": [
    "if (!requireNamespace(\"dplyr\", quietly = TRUE))\n",
    "    install.packages(\"dplyr\")\n",
    "library(dplyr)"
   ]
  },
  {
   "cell_type": "code",
   "execution_count": 21,
   "id": "68d7365f-4167-4ce6-bbed-4760004bf99b",
   "metadata": {},
   "outputs": [],
   "source": [
    "genes_summary <- dt_genes[, lapply(.SD, sum), .SDcols = -\"id\"] %>% as.numeric()"
   ]
  },
  {
   "cell_type": "code",
   "execution_count": 102,
   "id": "43b366fb-608e-444e-9f0b-003c8d1114e7",
   "metadata": {},
   "outputs": [
    {
     "ename": "ERROR",
     "evalue": "Error in names(genes_summary) <- dt_genes$id: 'names' attribute [36601] must be the same length as the vector [3009]\n",
     "output_type": "error",
     "traceback": [
      "Error in names(genes_summary) <- dt_genes$id: 'names' attribute [36601] must be the same length as the vector [3009]\nTraceback:\n"
     ]
    }
   ],
   "source": [
    "names(genes_summary) <- dt_genes$id"
   ]
  },
  {
   "cell_type": "code",
   "execution_count": 109,
   "id": "33aa884f-a4f6-42e5-8b3d-486e342aec74",
   "metadata": {},
   "outputs": [
    {
     "data": {
      "text/html": [
       "36601"
      ],
      "text/latex": [
       "36601"
      ],
      "text/markdown": [
       "36601"
      ],
      "text/plain": [
       "[1] 36601"
      ]
     },
     "metadata": {},
     "output_type": "display_data"
    }
   ],
   "source": [
    "nrow(dt_genes)"
   ]
  },
  {
   "cell_type": "code",
   "execution_count": 103,
   "id": "bb0eda73-cd4a-4303-8f27-2aff453e6fc3",
   "metadata": {},
   "outputs": [
    {
     "data": {
      "text/html": [
       "3009"
      ],
      "text/latex": [
       "3009"
      ],
      "text/markdown": [
       "3009"
      ],
      "text/plain": [
       "[1] 3009"
      ]
     },
     "metadata": {},
     "output_type": "display_data"
    }
   ],
   "source": [
    "length(genes_summary)"
   ]
  },
  {
   "cell_type": "code",
   "execution_count": 104,
   "id": "8c948f26-7a99-4e2f-b62e-942caaa7b4a9",
   "metadata": {},
   "outputs": [
    {
     "data": {
      "text/html": [
       "FALSE"
      ],
      "text/latex": [
       "FALSE"
      ],
      "text/markdown": [
       "FALSE"
      ],
      "text/plain": [
       "[1] FALSE"
      ]
     },
     "metadata": {},
     "output_type": "display_data"
    }
   ],
   "source": [
    "genes_summary[1] == sum(dt[,2])"
   ]
  },
  {
   "cell_type": "code",
   "execution_count": 106,
   "id": "7461debf-e80a-4ce5-b6c5-a8ae0d4a8ba7",
   "metadata": {},
   "outputs": [
    {
     "data": {
      "text/html": [
       "13129"
      ],
      "text/latex": [
       "13129"
      ],
      "text/markdown": [
       "13129"
      ],
      "text/plain": [
       "[1] 13129"
      ]
     },
     "metadata": {},
     "output_type": "display_data"
    }
   ],
   "source": [
    "sum(dt[,2])"
   ]
  },
  {
   "cell_type": "code",
   "execution_count": 108,
   "id": "cde60462-b6e6-44b0-bd96-b4d973211be5",
   "metadata": {},
   "outputs": [
    {
     "data": {
      "text/html": [
       "<table class=\"dataframe\">\n",
       "<caption>A data.table: 1 × 3009</caption>\n",
       "<thead>\n",
       "\t<tr><th scope=col>AAACAGCCAACAGGTG-1</th><th scope=col>AAACATGCAACAACAA-1</th><th scope=col>AAACATGCACCTGGTG-1</th><th scope=col>AAACCAACACAGCCTG-1</th><th scope=col>AAACCAACAGCAAGAT-1</th><th scope=col>AAACCAACATTGCGAC-1</th><th scope=col>AAACCGAAGCACAGCC-1</th><th scope=col>AAACCGCGTAATTAGC-1</th><th scope=col>AAACCGCGTCACGAAC-1</th><th scope=col>AAACCGGCAGAGGGAG-1</th><th scope=col>⋯</th><th scope=col>TTTGGTGCATGAGCAG-1</th><th scope=col>TTTGTCCCAGCTTAGC-1</th><th scope=col>TTTGTCCCATAATCGT-1</th><th scope=col>TTTGTCTAGCATGTTA-1</th><th scope=col>TTTGTCTAGGAGGACT-1</th><th scope=col>TTTGTCTAGTCTATGA-1</th><th scope=col>TTTGTGGCAGCACGAA-1</th><th scope=col>TTTGTGGCATCGCTCC-1</th><th scope=col>TTTGTGTTCACTTCAT-1</th><th scope=col>TTTGTGTTCATGCGTG-1</th></tr>\n",
       "\t<tr><th scope=col>&lt;dbl&gt;</th><th scope=col>&lt;dbl&gt;</th><th scope=col>&lt;dbl&gt;</th><th scope=col>&lt;dbl&gt;</th><th scope=col>&lt;dbl&gt;</th><th scope=col>&lt;dbl&gt;</th><th scope=col>&lt;dbl&gt;</th><th scope=col>&lt;dbl&gt;</th><th scope=col>&lt;dbl&gt;</th><th scope=col>&lt;dbl&gt;</th><th scope=col>⋯</th><th scope=col>&lt;dbl&gt;</th><th scope=col>&lt;dbl&gt;</th><th scope=col>&lt;dbl&gt;</th><th scope=col>&lt;dbl&gt;</th><th scope=col>&lt;dbl&gt;</th><th scope=col>&lt;dbl&gt;</th><th scope=col>&lt;dbl&gt;</th><th scope=col>&lt;dbl&gt;</th><th scope=col>&lt;dbl&gt;</th><th scope=col>&lt;dbl&gt;</th></tr>\n",
       "</thead>\n",
       "<tbody>\n",
       "\t<tr><td>0</td><td>0</td><td>0</td><td>0</td><td>0</td><td>0</td><td>0</td><td>0</td><td>0</td><td>0</td><td>⋯</td><td>0</td><td>0</td><td>0</td><td>0</td><td>0</td><td>0</td><td>0</td><td>0</td><td>0</td><td>0</td></tr>\n",
       "</tbody>\n",
       "</table>\n"
      ],
      "text/latex": [
       "A data.table: 1 × 3009\n",
       "\\begin{tabular}{lllllllllllllllllllll}\n",
       " AAACAGCCAACAGGTG-1 & AAACATGCAACAACAA-1 & AAACATGCACCTGGTG-1 & AAACCAACACAGCCTG-1 & AAACCAACAGCAAGAT-1 & AAACCAACATTGCGAC-1 & AAACCGAAGCACAGCC-1 & AAACCGCGTAATTAGC-1 & AAACCGCGTCACGAAC-1 & AAACCGGCAGAGGGAG-1 & ⋯ & TTTGGTGCATGAGCAG-1 & TTTGTCCCAGCTTAGC-1 & TTTGTCCCATAATCGT-1 & TTTGTCTAGCATGTTA-1 & TTTGTCTAGGAGGACT-1 & TTTGTCTAGTCTATGA-1 & TTTGTGGCAGCACGAA-1 & TTTGTGGCATCGCTCC-1 & TTTGTGTTCACTTCAT-1 & TTTGTGTTCATGCGTG-1\\\\\n",
       " <dbl> & <dbl> & <dbl> & <dbl> & <dbl> & <dbl> & <dbl> & <dbl> & <dbl> & <dbl> & ⋯ & <dbl> & <dbl> & <dbl> & <dbl> & <dbl> & <dbl> & <dbl> & <dbl> & <dbl> & <dbl>\\\\\n",
       "\\hline\n",
       "\t 0 & 0 & 0 & 0 & 0 & 0 & 0 & 0 & 0 & 0 & ⋯ & 0 & 0 & 0 & 0 & 0 & 0 & 0 & 0 & 0 & 0\\\\\n",
       "\\end{tabular}\n"
      ],
      "text/markdown": [
       "\n",
       "A data.table: 1 × 3009\n",
       "\n",
       "| AAACAGCCAACAGGTG-1 &lt;dbl&gt; | AAACATGCAACAACAA-1 &lt;dbl&gt; | AAACATGCACCTGGTG-1 &lt;dbl&gt; | AAACCAACACAGCCTG-1 &lt;dbl&gt; | AAACCAACAGCAAGAT-1 &lt;dbl&gt; | AAACCAACATTGCGAC-1 &lt;dbl&gt; | AAACCGAAGCACAGCC-1 &lt;dbl&gt; | AAACCGCGTAATTAGC-1 &lt;dbl&gt; | AAACCGCGTCACGAAC-1 &lt;dbl&gt; | AAACCGGCAGAGGGAG-1 &lt;dbl&gt; | ⋯ ⋯ | TTTGGTGCATGAGCAG-1 &lt;dbl&gt; | TTTGTCCCAGCTTAGC-1 &lt;dbl&gt; | TTTGTCCCATAATCGT-1 &lt;dbl&gt; | TTTGTCTAGCATGTTA-1 &lt;dbl&gt; | TTTGTCTAGGAGGACT-1 &lt;dbl&gt; | TTTGTCTAGTCTATGA-1 &lt;dbl&gt; | TTTGTGGCAGCACGAA-1 &lt;dbl&gt; | TTTGTGGCATCGCTCC-1 &lt;dbl&gt; | TTTGTGTTCACTTCAT-1 &lt;dbl&gt; | TTTGTGTTCATGCGTG-1 &lt;dbl&gt; |\n",
       "|---|---|---|---|---|---|---|---|---|---|---|---|---|---|---|---|---|---|---|---|---|\n",
       "| 0 | 0 | 0 | 0 | 0 | 0 | 0 | 0 | 0 | 0 | ⋯ | 0 | 0 | 0 | 0 | 0 | 0 | 0 | 0 | 0 | 0 |\n",
       "\n"
      ],
      "text/plain": [
       "  AAACAGCCAACAGGTG-1 AAACATGCAACAACAA-1 AAACATGCACCTGGTG-1 AAACCAACACAGCCTG-1\n",
       "1 0                  0                  0                  0                 \n",
       "  AAACCAACAGCAAGAT-1 AAACCAACATTGCGAC-1 AAACCGAAGCACAGCC-1 AAACCGCGTAATTAGC-1\n",
       "1 0                  0                  0                  0                 \n",
       "  AAACCGCGTCACGAAC-1 AAACCGGCAGAGGGAG-1 ⋯ TTTGGTGCATGAGCAG-1 TTTGTCCCAGCTTAGC-1\n",
       "1 0                  0                  ⋯ 0                  0                 \n",
       "  TTTGTCCCATAATCGT-1 TTTGTCTAGCATGTTA-1 TTTGTCTAGGAGGACT-1 TTTGTCTAGTCTATGA-1\n",
       "1 0                  0                  0                  0                 \n",
       "  TTTGTGGCAGCACGAA-1 TTTGTGGCATCGCTCC-1 TTTGTGTTCACTTCAT-1 TTTGTGTTCATGCGTG-1\n",
       "1 0                  0                  0                  0                 "
      ]
     },
     "metadata": {},
     "output_type": "display_data"
    }
   ],
   "source": [
    "(dt[1,-1])"
   ]
  },
  {
   "cell_type": "markdown",
   "id": "d70e5c1a-b187-4aac-bcc4-bc2ff0b4b5f0",
   "metadata": {},
   "source": [
    "this one works, above does not"
   ]
  },
  {
   "cell_type": "code",
   "execution_count": 22,
   "id": "231df1cb-0b6a-425f-a51a-a2cfaad2cd08",
   "metadata": {},
   "outputs": [
    {
     "data": {
      "text/html": [
       "<style>\n",
       ".dl-inline {width: auto; margin:0; padding: 0}\n",
       ".dl-inline>dt, .dl-inline>dd {float: none; width: auto; display: inline-block}\n",
       ".dl-inline>dt::after {content: \":\\0020\"; padding-right: .5ex}\n",
       ".dl-inline>dt:not(:first-of-type) {padding-left: .5ex}\n",
       "</style><dl class=dl-inline><dt>ENSG00000243485</dt><dd>0</dd><dt>ENSG00000237613</dt><dd>0</dd><dt>ENSG00000186092</dt><dd>0</dd><dt>ENSG00000238009</dt><dd>16</dd><dt>ENSG00000239945</dt><dd>1</dd></dl>\n"
      ],
      "text/latex": [
       "\\begin{description*}\n",
       "\\item[ENSG00000243485] 0\n",
       "\\item[ENSG00000237613] 0\n",
       "\\item[ENSG00000186092] 0\n",
       "\\item[ENSG00000238009] 16\n",
       "\\item[ENSG00000239945] 1\n",
       "\\end{description*}\n"
      ],
      "text/markdown": [
       "ENSG00000243485\n",
       ":   0ENSG00000237613\n",
       ":   0ENSG00000186092\n",
       ":   0ENSG00000238009\n",
       ":   16ENSG00000239945\n",
       ":   1\n",
       "\n"
      ],
      "text/plain": [
       "ENSG00000243485 ENSG00000237613 ENSG00000186092 ENSG00000238009 ENSG00000239945 \n",
       "              0               0               0              16               1 "
      ]
     },
     "metadata": {},
     "output_type": "display_data"
    }
   ],
   "source": [
    "genes_summary <- dt_genes[, rowSums(.SD), .SDcols = -\"id\"]\n",
    "names(genes_summary) <- dt_genes$id\n",
    "genes_summary[1:5]"
   ]
  },
  {
   "cell_type": "code",
   "execution_count": 23,
   "id": "1ba8f032-6961-4603-b3e1-142039d97398",
   "metadata": {},
   "outputs": [
    {
     "data": {
      "text/html": [
       "36601"
      ],
      "text/latex": [
       "36601"
      ],
      "text/markdown": [
       "36601"
      ],
      "text/plain": [
       "[1] 36601"
      ]
     },
     "metadata": {},
     "output_type": "display_data"
    }
   ],
   "source": [
    "length(genes_summary)"
   ]
  },
  {
   "cell_type": "code",
   "execution_count": 24,
   "id": "c3f04110-ccbe-4818-a86c-4429d7fc4b63",
   "metadata": {},
   "outputs": [
    {
     "data": {
      "text/html": [
       "<style>\n",
       ".dl-inline {width: auto; margin:0; padding: 0}\n",
       ".dl-inline>dt, .dl-inline>dd {float: none; width: auto; display: inline-block}\n",
       ".dl-inline>dt::after {content: \":\\0020\"; padding-right: .5ex}\n",
       ".dl-inline>dt:not(:first-of-type) {padding-left: .5ex}\n",
       "</style><dl class=dl-inline><dt>chr1:9782-10672</dt><dd>46</dd><dt>chr1:180547-181446</dt><dd>83</dd><dt>chr1:191121-191998</dt><dd>20</dd><dt>chr1:267553-268447</dt><dd>74</dd><dt>chr1:270906-271782</dt><dd>26</dd></dl>\n"
      ],
      "text/latex": [
       "\\begin{description*}\n",
       "\\item[chr1:9782-10672] 46\n",
       "\\item[chr1:180547-181446] 83\n",
       "\\item[chr1:191121-191998] 20\n",
       "\\item[chr1:267553-268447] 74\n",
       "\\item[chr1:270906-271782] 26\n",
       "\\end{description*}\n"
      ],
      "text/markdown": [
       "chr1:9782-10672\n",
       ":   46chr1:180547-181446\n",
       ":   83chr1:191121-191998\n",
       ":   20chr1:267553-268447\n",
       ":   74chr1:270906-271782\n",
       ":   26\n",
       "\n"
      ],
      "text/plain": [
       "   chr1:9782-10672 chr1:180547-181446 chr1:191121-191998 chr1:267553-268447 \n",
       "                46                 83                 20                 74 \n",
       "chr1:270906-271782 \n",
       "                26 "
      ]
     },
     "metadata": {},
     "output_type": "display_data"
    }
   ],
   "source": [
    "atac_summary <- dt_atac[, rowSums(.SD), .SDcols = -\"id\"]\n",
    "names(atac_summary) <- dt_atac$id\n",
    "atac_summary[1:5]"
   ]
  },
  {
   "cell_type": "markdown",
   "id": "e3872ee9-f859-474f-be2e-f7d361cd5519",
   "metadata": {},
   "source": [
    "# Step 4: Create GenomicRanges"
   ]
  },
  {
   "cell_type": "markdown",
   "id": "21e4e144-d325-4349-95cb-5b03b93d0258",
   "metadata": {},
   "source": [
    "* Convert both the summarized gene expression and peak data into GenomicRanges objects.\n",
    "* Add the summarized data as metadata to their respective GenomicRanges."
   ]
  },
  {
   "cell_type": "code",
   "execution_count": 25,
   "id": "d4055142-7409-467b-b118-2c4720b656ee",
   "metadata": {},
   "outputs": [],
   "source": [
    "library(GenomicRanges)"
   ]
  },
  {
   "cell_type": "code",
   "execution_count": 26,
   "id": "b431cc35-f30d-40ef-805d-8d5a5f1b493a",
   "metadata": {},
   "outputs": [
    {
     "data": {
      "text/html": [
       "<style>\n",
       ".list-inline {list-style: none; margin:0; padding: 0}\n",
       ".list-inline>li {display: inline-block}\n",
       ".list-inline>li:not(:last-child)::after {content: \"\\00b7\"; padding: 0 .5ex}\n",
       "</style>\n",
       "<ol class=list-inline><li>'Gene Expression'</li><li>'Peaks'</li></ol>\n"
      ],
      "text/latex": [
       "\\begin{enumerate*}\n",
       "\\item 'Gene Expression'\n",
       "\\item 'Peaks'\n",
       "\\end{enumerate*}\n"
      ],
      "text/markdown": [
       "1. 'Gene Expression'\n",
       "2. 'Peaks'\n",
       "\n",
       "\n"
      ],
      "text/plain": [
       "[1] \"Gene Expression\" \"Peaks\"          "
      ]
     },
     "metadata": {},
     "output_type": "display_data"
    }
   ],
   "source": [
    "unique(features$type)"
   ]
  },
  {
   "cell_type": "code",
   "execution_count": 27,
   "id": "88942c89-1e31-4fe7-be04-ae373d579bac",
   "metadata": {},
   "outputs": [
    {
     "data": {
      "text/html": [
       "36601"
      ],
      "text/latex": [
       "36601"
      ],
      "text/markdown": [
       "36601"
      ],
      "text/plain": [
       "[1] 36601"
      ]
     },
     "metadata": {},
     "output_type": "display_data"
    }
   ],
   "source": [
    "sum(grepl(\"Gene Expression\", features$type))"
   ]
  },
  {
   "cell_type": "code",
   "execution_count": 28,
   "id": "e342fe15-b3d8-4440-afc9-ebde58161289",
   "metadata": {},
   "outputs": [],
   "source": [
    "features_dt <- as.data.table(features)"
   ]
  },
  {
   "cell_type": "code",
   "execution_count": 29,
   "id": "5c449ae3-d1e3-4dc7-ac9b-dfa021196823",
   "metadata": {
    "scrolled": true
   },
   "outputs": [],
   "source": [
    "features_genes <- features_dt[grepl(\"Gene\", features_dt$type)]\n",
    "features_atac <- features_dt[grepl(\"Peaks\", features_dt$type)]"
   ]
  },
  {
   "cell_type": "code",
   "execution_count": 30,
   "id": "a71a2929-1fc5-400c-8847-74a45a217c7a",
   "metadata": {},
   "outputs": [
    {
     "data": {
      "text/html": [
       "<style>\n",
       ".list-inline {list-style: none; margin:0; padding: 0}\n",
       ".list-inline>li {display: inline-block}\n",
       ".list-inline>li:not(:last-child)::after {content: \"\\00b7\"; padding: 0 .5ex}\n",
       "</style>\n",
       "<ol class=list-inline><li>'chr1'</li><li>'chr2'</li><li>'chr3'</li><li>'chr4'</li><li>'chr5'</li><li>'chr6'</li><li>'chr7'</li><li>'chr8'</li><li>'chr9'</li><li>'chr10'</li><li>'chr11'</li><li>'chr12'</li><li>'chr13'</li><li>'chr14'</li><li>'chr15'</li><li>'chr16'</li><li>'chr17'</li><li>'chr18'</li><li>'chr19'</li><li>'chr20'</li><li>'chr21'</li><li>'chr22'</li><li>'chrX'</li><li>'chrY'</li><li>NA</li><li>'GL000009.2'</li><li>'GL000194.1'</li><li>'GL000195.1'</li><li>'GL000205.2'</li><li>'GL000213.1'</li><li>'GL000218.1'</li><li>'GL000219.1'</li><li>'KI270711.1'</li><li>'KI270713.1'</li><li>'KI270721.1'</li><li>'KI270726.1'</li><li>'KI270727.1'</li><li>'KI270728.1'</li><li>'KI270731.1'</li><li>'KI270734.1'</li></ol>\n"
      ],
      "text/latex": [
       "\\begin{enumerate*}\n",
       "\\item 'chr1'\n",
       "\\item 'chr2'\n",
       "\\item 'chr3'\n",
       "\\item 'chr4'\n",
       "\\item 'chr5'\n",
       "\\item 'chr6'\n",
       "\\item 'chr7'\n",
       "\\item 'chr8'\n",
       "\\item 'chr9'\n",
       "\\item 'chr10'\n",
       "\\item 'chr11'\n",
       "\\item 'chr12'\n",
       "\\item 'chr13'\n",
       "\\item 'chr14'\n",
       "\\item 'chr15'\n",
       "\\item 'chr16'\n",
       "\\item 'chr17'\n",
       "\\item 'chr18'\n",
       "\\item 'chr19'\n",
       "\\item 'chr20'\n",
       "\\item 'chr21'\n",
       "\\item 'chr22'\n",
       "\\item 'chrX'\n",
       "\\item 'chrY'\n",
       "\\item NA\n",
       "\\item 'GL000009.2'\n",
       "\\item 'GL000194.1'\n",
       "\\item 'GL000195.1'\n",
       "\\item 'GL000205.2'\n",
       "\\item 'GL000213.1'\n",
       "\\item 'GL000218.1'\n",
       "\\item 'GL000219.1'\n",
       "\\item 'KI270711.1'\n",
       "\\item 'KI270713.1'\n",
       "\\item 'KI270721.1'\n",
       "\\item 'KI270726.1'\n",
       "\\item 'KI270727.1'\n",
       "\\item 'KI270728.1'\n",
       "\\item 'KI270731.1'\n",
       "\\item 'KI270734.1'\n",
       "\\end{enumerate*}\n"
      ],
      "text/markdown": [
       "1. 'chr1'\n",
       "2. 'chr2'\n",
       "3. 'chr3'\n",
       "4. 'chr4'\n",
       "5. 'chr5'\n",
       "6. 'chr6'\n",
       "7. 'chr7'\n",
       "8. 'chr8'\n",
       "9. 'chr9'\n",
       "10. 'chr10'\n",
       "11. 'chr11'\n",
       "12. 'chr12'\n",
       "13. 'chr13'\n",
       "14. 'chr14'\n",
       "15. 'chr15'\n",
       "16. 'chr16'\n",
       "17. 'chr17'\n",
       "18. 'chr18'\n",
       "19. 'chr19'\n",
       "20. 'chr20'\n",
       "21. 'chr21'\n",
       "22. 'chr22'\n",
       "23. 'chrX'\n",
       "24. 'chrY'\n",
       "25. NA\n",
       "26. 'GL000009.2'\n",
       "27. 'GL000194.1'\n",
       "28. 'GL000195.1'\n",
       "29. 'GL000205.2'\n",
       "30. 'GL000213.1'\n",
       "31. 'GL000218.1'\n",
       "32. 'GL000219.1'\n",
       "33. 'KI270711.1'\n",
       "34. 'KI270713.1'\n",
       "35. 'KI270721.1'\n",
       "36. 'KI270726.1'\n",
       "37. 'KI270727.1'\n",
       "38. 'KI270728.1'\n",
       "39. 'KI270731.1'\n",
       "40. 'KI270734.1'\n",
       "\n",
       "\n"
      ],
      "text/plain": [
       " [1] \"chr1\"       \"chr2\"       \"chr3\"       \"chr4\"       \"chr5\"      \n",
       " [6] \"chr6\"       \"chr7\"       \"chr8\"       \"chr9\"       \"chr10\"     \n",
       "[11] \"chr11\"      \"chr12\"      \"chr13\"      \"chr14\"      \"chr15\"     \n",
       "[16] \"chr16\"      \"chr17\"      \"chr18\"      \"chr19\"      \"chr20\"     \n",
       "[21] \"chr21\"      \"chr22\"      \"chrX\"       \"chrY\"       NA          \n",
       "[26] \"GL000009.2\" \"GL000194.1\" \"GL000195.1\" \"GL000205.2\" \"GL000213.1\"\n",
       "[31] \"GL000218.1\" \"GL000219.1\" \"KI270711.1\" \"KI270713.1\" \"KI270721.1\"\n",
       "[36] \"KI270726.1\" \"KI270727.1\" \"KI270728.1\" \"KI270731.1\" \"KI270734.1\""
      ]
     },
     "metadata": {},
     "output_type": "display_data"
    }
   ],
   "source": [
    "unique(features_genes$chr)"
   ]
  },
  {
   "cell_type": "code",
   "execution_count": 31,
   "id": "72a371fd-302d-47dd-b2a2-22653be8d4e6",
   "metadata": {},
   "outputs": [
    {
     "data": {
      "text/html": [
       "36601"
      ],
      "text/latex": [
       "36601"
      ],
      "text/markdown": [
       "36601"
      ],
      "text/plain": [
       "[1] 36601"
      ]
     },
     "metadata": {},
     "output_type": "display_data"
    }
   ],
   "source": [
    "length(features_genes$chr)"
   ]
  },
  {
   "cell_type": "code",
   "execution_count": 32,
   "id": "ba072192-15c0-43fc-b0f1-c3a72e335b89",
   "metadata": {},
   "outputs": [
    {
     "data": {
      "text/html": [
       "13"
      ],
      "text/latex": [
       "13"
      ],
      "text/markdown": [
       "13"
      ],
      "text/plain": [
       "[1] 13"
      ]
     },
     "metadata": {},
     "output_type": "display_data"
    }
   ],
   "source": [
    "sum(is.na(features_genes$chr))"
   ]
  },
  {
   "cell_type": "code",
   "execution_count": 33,
   "id": "486e8162-baf4-404a-b12f-21360f8cd486",
   "metadata": {},
   "outputs": [],
   "source": [
    "features_genes$chr[is.na(features_genes$chr)] <- \"unknown\""
   ]
  },
  {
   "cell_type": "code",
   "execution_count": 34,
   "id": "238bb418-2107-44a4-934d-2ce85d5c8a69",
   "metadata": {},
   "outputs": [
    {
     "data": {
      "text/html": [
       "0"
      ],
      "text/latex": [
       "0"
      ],
      "text/markdown": [
       "0"
      ],
      "text/plain": [
       "[1] 0"
      ]
     },
     "metadata": {},
     "output_type": "display_data"
    }
   ],
   "source": [
    "sum(is.na(features_genes$chr))"
   ]
  },
  {
   "cell_type": "code",
   "execution_count": 35,
   "id": "9bfe2a6a-b032-404a-9140-cedd1bab8014",
   "metadata": {},
   "outputs": [
    {
     "data": {
      "text/plain": [
       "GRanges object with 6 ranges and 3 metadata columns:\n",
       "      seqnames        ranges strand |         gene_id        name       sum\n",
       "         <Rle>     <IRanges>  <Rle> |     <character> <character> <numeric>\n",
       "  [1]     chr1   29553-30267      * | ENSG00000243485 MIR1302-2HG         0\n",
       "  [2]     chr1   36080-36081      * | ENSG00000237613     FAM138A         0\n",
       "  [3]     chr1   65418-69055      * | ENSG00000186092       OR4F5         0\n",
       "  [4]     chr1 120931-133723      * | ENSG00000238009  AL627309.1        16\n",
       "  [5]     chr1   91104-91105      * | ENSG00000239945  AL627309.3         1\n",
       "  [6]     chr1 140338-140339      * | ENSG00000239906  AL627309.2         0\n",
       "  -------\n",
       "  seqinfo: 40 sequences from an unspecified genome; no seqlengths"
      ]
     },
     "metadata": {},
     "output_type": "display_data"
    }
   ],
   "source": [
    "gr_genes <- GRanges(\n",
    "    seqnames = features_genes$chr,\n",
    "    ranges = IRanges(\n",
    "        start = features_genes$start,\n",
    "        end = features_genes$end\n",
    "    ),\n",
    "    gene_id = dt_genes$id,\n",
    "    name = features_genes$name,\n",
    "    sum = genes_summary\n",
    ")\n",
    "head(gr_genes)"
   ]
  },
  {
   "cell_type": "code",
   "execution_count": 36,
   "id": "c49e76c6-e740-49d7-8654-4c8d63f82ddf",
   "metadata": {},
   "outputs": [
    {
     "data": {
      "text/html": [
       "0"
      ],
      "text/latex": [
       "0"
      ],
      "text/markdown": [
       "0"
      ],
      "text/plain": [
       "[1] 0"
      ]
     },
     "metadata": {},
     "output_type": "display_data"
    }
   ],
   "source": [
    "sum(is.na(features_atac$chr))"
   ]
  },
  {
   "cell_type": "code",
   "execution_count": 37,
   "id": "07d9843e-c16b-4a3f-b5b6-fd34277ceec5",
   "metadata": {},
   "outputs": [],
   "source": [
    "features_atac$chr[is.na(features_atac$chr)] <- \"unknown\""
   ]
  },
  {
   "cell_type": "code",
   "execution_count": 38,
   "id": "e4ff8d34-1f6a-48fb-9d39-02876b7c8817",
   "metadata": {},
   "outputs": [
    {
     "data": {
      "text/html": [
       "0"
      ],
      "text/latex": [
       "0"
      ],
      "text/markdown": [
       "0"
      ],
      "text/plain": [
       "[1] 0"
      ]
     },
     "metadata": {},
     "output_type": "display_data"
    }
   ],
   "source": [
    "sum(is.na(features_atac$chr))"
   ]
  },
  {
   "cell_type": "code",
   "execution_count": 39,
   "id": "18cd2f14-f083-4903-937e-30f4d356d7b2",
   "metadata": {},
   "outputs": [
    {
     "data": {
      "text/html": [
       "81156"
      ],
      "text/latex": [
       "81156"
      ],
      "text/markdown": [
       "81156"
      ],
      "text/plain": [
       "[1] 81156"
      ]
     },
     "metadata": {},
     "output_type": "display_data"
    },
    {
     "data": {
      "text/html": [
       "81156"
      ],
      "text/latex": [
       "81156"
      ],
      "text/markdown": [
       "81156"
      ],
      "text/plain": [
       "[1] 81156"
      ]
     },
     "metadata": {},
     "output_type": "display_data"
    },
    {
     "data": {
      "text/html": [
       "81156"
      ],
      "text/latex": [
       "81156"
      ],
      "text/markdown": [
       "81156"
      ],
      "text/plain": [
       "[1] 81156"
      ]
     },
     "metadata": {},
     "output_type": "display_data"
    },
    {
     "data": {
      "text/html": [
       "81156"
      ],
      "text/latex": [
       "81156"
      ],
      "text/markdown": [
       "81156"
      ],
      "text/plain": [
       "[1] 81156"
      ]
     },
     "metadata": {},
     "output_type": "display_data"
    },
    {
     "data": {
      "text/html": [
       "81156"
      ],
      "text/latex": [
       "81156"
      ],
      "text/markdown": [
       "81156"
      ],
      "text/plain": [
       "[1] 81156"
      ]
     },
     "metadata": {},
     "output_type": "display_data"
    },
    {
     "data": {
      "text/html": [
       "81156"
      ],
      "text/latex": [
       "81156"
      ],
      "text/markdown": [
       "81156"
      ],
      "text/plain": [
       "[1] 81156"
      ]
     },
     "metadata": {},
     "output_type": "display_data"
    }
   ],
   "source": [
    "length(features_atac$chr)\n",
    "length(features_atac$start)\n",
    "length(features_atac$end)\n",
    "length(dt_atac$id)\n",
    "length(features_atac$id)\n",
    "length(features_atac$name)"
   ]
  },
  {
   "cell_type": "code",
   "execution_count": 40,
   "id": "75c16d82-a730-404a-a819-b8982d9bb28e",
   "metadata": {},
   "outputs": [
    {
     "data": {
      "text/html": [
       "<style>\n",
       ".list-inline {list-style: none; margin:0; padding: 0}\n",
       ".list-inline>li {display: inline-block}\n",
       ".list-inline>li:not(:last-child)::after {content: \"\\00b7\"; padding: 0 .5ex}\n",
       "</style>\n",
       "<ol class=list-inline><li>'chr1'</li><li>'chr1'</li><li>'chr1'</li><li>'chr1'</li><li>'chr1'</li><li>'chr1'</li></ol>\n"
      ],
      "text/latex": [
       "\\begin{enumerate*}\n",
       "\\item 'chr1'\n",
       "\\item 'chr1'\n",
       "\\item 'chr1'\n",
       "\\item 'chr1'\n",
       "\\item 'chr1'\n",
       "\\item 'chr1'\n",
       "\\end{enumerate*}\n"
      ],
      "text/markdown": [
       "1. 'chr1'\n",
       "2. 'chr1'\n",
       "3. 'chr1'\n",
       "4. 'chr1'\n",
       "5. 'chr1'\n",
       "6. 'chr1'\n",
       "\n",
       "\n"
      ],
      "text/plain": [
       "[1] \"chr1\" \"chr1\" \"chr1\" \"chr1\" \"chr1\" \"chr1\""
      ]
     },
     "metadata": {},
     "output_type": "display_data"
    }
   ],
   "source": [
    "head(features_atac$chr)"
   ]
  },
  {
   "cell_type": "code",
   "execution_count": 44,
   "id": "f01b086a-977e-46ed-95ba-f6bf86b501c7",
   "metadata": {},
   "outputs": [
    {
     "data": {
      "text/html": [
       "81156"
      ],
      "text/latex": [
       "81156"
      ],
      "text/markdown": [
       "81156"
      ],
      "text/plain": [
       "[1] 81156"
      ]
     },
     "metadata": {},
     "output_type": "display_data"
    }
   ],
   "source": [
    "sum(features_atac$id==features_atac$name)"
   ]
  },
  {
   "cell_type": "code",
   "execution_count": 45,
   "id": "c0d0d69a-a47a-452d-ad6b-1569151ffa63",
   "metadata": {},
   "outputs": [
    {
     "data": {
      "text/plain": [
       "GRanges object with 6 ranges and 2 metadata columns:\n",
       "      seqnames        ranges strand |           peack_id       sum\n",
       "         <Rle>     <IRanges>  <Rle> |        <character> <numeric>\n",
       "  [1]     chr1    9782-10672      * |    chr1:9782-10672        46\n",
       "  [2]     chr1 180547-181446      * | chr1:180547-181446        83\n",
       "  [3]     chr1 191121-191998      * | chr1:191121-191998        20\n",
       "  [4]     chr1 267553-268447      * | chr1:267553-268447        74\n",
       "  [5]     chr1 270906-271782      * | chr1:270906-271782        26\n",
       "  [6]     chr1 273943-274789      * | chr1:273943-274789        25\n",
       "  -------\n",
       "  seqinfo: 37 sequences from an unspecified genome; no seqlengths"
      ]
     },
     "metadata": {},
     "output_type": "display_data"
    }
   ],
   "source": [
    "gr_atac <- GRanges(\n",
    "    seqnames = features_atac$chr,\n",
    "    ranges = IRanges(\n",
    "        start = features_atac$start,\n",
    "        end = features_atac$end\n",
    "    ),\n",
    "    peack_id = features_atac$id,\n",
    "    sum = atac_summary\n",
    ")\n",
    "head(gr_atac)"
   ]
  },
  {
   "cell_type": "code",
   "execution_count": 120,
   "id": "a6ea038d-b75d-4af9-a53f-cedd51fc69a3",
   "metadata": {
    "collapsed": true,
    "jupyter": {
     "outputs_hidden": true
    }
   },
   "outputs": [
    {
     "data": {
      "text/html": [
       "\n",
       "<table style=\"width: 100%;\"><tr><td>GRanges-class {GenomicRanges}</td><td style=\"text-align: right;\">R Documentation</td></tr></table>\n",
       "\n",
       "<h2>GRanges objects</h2>\n",
       "\n",
       "<h3>Description</h3>\n",
       "\n",
       "<p>The GRanges class is a container for the genomic locations and\n",
       "their associated annotations.\n",
       "</p>\n",
       "\n",
       "\n",
       "<h3>Details</h3>\n",
       "\n",
       "<p>GRanges is a vector of genomic locations and associated\n",
       "annotations. Each element in the vector is comprised of a sequence name,\n",
       "an interval, a strand, and optional metadata columns (e.g. score, GC\n",
       "content, etc.). This information is stored in four components:\n",
       "</p>\n",
       "\n",
       "<dl>\n",
       "<dt><code>seqnames</code></dt><dd><p>a 'factor' Rle object\n",
       "containing the sequence names.</p>\n",
       "</dd>\n",
       "<dt><code>ranges</code></dt><dd><p>an IRanges object containing\n",
       "the ranges.</p>\n",
       "</dd>\n",
       "<dt><code>strand</code></dt><dd><p>a 'factor' Rle object containing\n",
       "the strand information.</p>\n",
       "</dd>\n",
       "<dt><code>mcols</code></dt><dd><p>a DataFrame object\n",
       "containing the metadata columns. Columns cannot be named\n",
       "<code>\"seqnames\"</code>, <code>\"ranges\"</code>, <code>\"strand\"</code>,\n",
       "<code>\"seqlevels\"</code>, <code>\"seqlengths\"</code>, <code>\"isCircular\"</code>,\n",
       "<code>\"start\"</code>, <code>\"end\"</code>, <code>\"width\"</code>, or <code>\"element\"</code>.</p>\n",
       "</dd>\n",
       "<dt><code>seqinfo</code></dt><dd><p>a Seqinfo object containing information\n",
       "about the set of genomic sequences present in the GRanges object.</p>\n",
       "</dd>\n",
       "</dl>\n",
       "\n",
       "\n",
       "\n",
       "<h3>Constructor</h3>\n",
       "\n",
       "\n",
       "<dl>\n",
       "<dt><code>GRanges(seqnames=NULL, ranges=NULL, strand=NULL,\n",
       "                    ..., seqinfo=NULL, seqlengths=NULL)</code>:</dt><dd>\n",
       "<p>Creates a GRanges object.\n",
       "</p>\n",
       "\n",
       "<dl>\n",
       "<dt><code>seqnames</code></dt><dd>\n",
       "<p><code>NULL</code>, or an Rle object, character vector,\n",
       "or factor containing the sequence names.\n",
       "</p>\n",
       "</dd>\n",
       "<dt><code>ranges</code></dt><dd>\n",
       "<p><code>NULL</code>, or an IRanges object containing the\n",
       "ranges.\n",
       "</p>\n",
       "</dd>\n",
       "<dt><code>strand</code></dt><dd>\n",
       "<p><code>NULL</code>, or an Rle object, character vector,\n",
       "or factor containing the strand information.\n",
       "</p>\n",
       "</dd>\n",
       "<dt><code>...</code></dt><dd>\n",
       "<p>Metadata columns to set on the GRanges object. All the metadata\n",
       "columns must be vector-like objects of the same length as the object\n",
       "to construct. They cannot be named <code>\"start\"</code>, <code>\"end\"</code>,\n",
       "<code>\"width\"</code>, or <code>\"element\"</code>.\n",
       "</p>\n",
       "</dd>\n",
       "<dt><code>seqinfo</code></dt><dd>\n",
       "<p>Either <code>NULL</code>, or a Seqinfo object,\n",
       "or a character vector of unique sequence names (a.k.a.\n",
       "<em>seqlevels</em>), or a named numeric vector of sequence lengths.\n",
       "When not <code>NULL</code>, <code>seqinfo</code> must be compatible with the\n",
       "sequence names in <code>seqnames</code>, that is, it must have one entry\n",
       "for each unique sequence name in <code>seqnames</code>. Note that it can\n",
       "have additional entries i.e. entries for seqlevels not present\n",
       "in <code>seqnames</code>.\n",
       "</p>\n",
       "</dd>\n",
       "<dt><code>seqlengths</code></dt><dd>\n",
       "<p><code>NULL</code>, or an integer vector named with <code>levels(seqnames)</code>\n",
       "and containing the lengths (or NA) for each level in\n",
       "<code>levels(seqnames)</code>.\n",
       "</p>\n",
       "</dd>\n",
       "</dl>\n",
       "\n",
       "<p>If <code>ranges</code> is not supplied and/or NULL then the constructor\n",
       "proceeds in 2 steps:\n",
       "</p>\n",
       "\n",
       "<ol>\n",
       "<li><p> An initial GRanges object is created with\n",
       "<code>as(seqnames, \"GRanges\")</code>.\n",
       "</p>\n",
       "</li>\n",
       "<li><p> Then this GRanges object is updated according to whatever\n",
       "non-NULL remaining arguments were passed to the call to\n",
       "<code>GRanges()</code>.\n",
       "</p>\n",
       "</li></ol>\n",
       "\n",
       "<p>As a consequence of this behavior, <code>GRanges(x)</code> is equivalent to\n",
       "<code>as(x, \"GRanges\")</code>.\n",
       "</p>\n",
       "</dd>\n",
       "</dl>\n",
       "\n",
       "\n",
       "\n",
       "<h3>Accessors</h3>\n",
       "\n",
       "<p>In the following code snippets, <code>x</code> is a GRanges object.\n",
       "</p>\n",
       "\n",
       "<dl>\n",
       "<dt><code>length(x)</code>:</dt><dd>\n",
       "<p>Get the number of elements.\n",
       "</p>\n",
       "</dd>\n",
       "<dt><code>seqnames(x)</code>, <code>seqnames(x) &lt;- value</code>:</dt><dd>\n",
       "<p>Get or set the sequence names.\n",
       "<code>value</code> can be an Rle object, a character vector,\n",
       "or a factor.\n",
       "</p>\n",
       "</dd>\n",
       "<dt><code>ranges(x)</code>, <code>ranges(x) &lt;- value</code>:</dt><dd>\n",
       "<p>Get or set the ranges. <code>value</code> can be an\n",
       "IntegerRanges object.\n",
       "</p>\n",
       "</dd>\n",
       "<dt><code>start(x)</code>, <code>start(x) &lt;- value</code>:</dt><dd>\n",
       "<p>Get or set <code>start(ranges(x))</code>.\n",
       "</p>\n",
       "</dd>\n",
       "<dt><code>end(x)</code>, <code>end(x) &lt;- value</code>:</dt><dd>\n",
       "<p>Get or set <code>end(ranges(x))</code>.\n",
       "</p>\n",
       "</dd>\n",
       "<dt><code>width(x)</code>, <code>width(x) &lt;- value</code>:</dt><dd>\n",
       "<p>Get or set <code>width(ranges(x))</code>.\n",
       "</p>\n",
       "</dd>\n",
       "<dt><code>strand(x)</code>, <code>strand(x) &lt;- value</code>:</dt><dd>\n",
       "<p>Get or set the strand. <code>value</code> can be an Rle object, character\n",
       "vector, or factor.\n",
       "</p>\n",
       "</dd>\n",
       "<dt><code>names(x)</code>, <code>names(x) &lt;- value</code>:</dt><dd>\n",
       "<p>Get or set the names of the elements.\n",
       "</p>\n",
       "</dd>\n",
       "<dt><code>mcols(x, use.names=FALSE)</code>, <code>mcols(x) &lt;- value</code>:</dt><dd>\n",
       "<p>Get or set the metadata columns.\n",
       "If <code>use.names=TRUE</code> and the metadata columns are not <code>NULL</code>,\n",
       "then the names of <code>x</code> are propagated as the row names of the\n",
       "returned DataFrame object.\n",
       "When setting the metadata columns, the supplied value must be <code>NULL</code>\n",
       "or a data-frame-like object (i.e. DataFrame or data.frame)\n",
       "holding element-wise metadata.\n",
       "</p>\n",
       "</dd>\n",
       "<dt><code>elementMetadata(x)</code>, <code>elementMetadata(x) &lt;- value</code>,\n",
       "<code>values(x)</code>, <code>values(x) &lt;- value</code>:</dt><dd>\n",
       "<p>Alternatives to <code>mcols</code> functions. Their use is discouraged.\n",
       "</p>\n",
       "</dd>\n",
       "<dt><code>seqinfo(x)</code>, <code>seqinfo(x) &lt;- value</code>:</dt><dd>\n",
       "<p>Get or set the information about the underlying sequences.\n",
       "<code>value</code> must be a Seqinfo object.\n",
       "</p>\n",
       "</dd>\n",
       "<dt><code>seqlevels(x)</code>,\n",
       "<code>seqlevels(x, pruning.mode=c(\"error\", \"coarse\", \"fine\", \"tidy\")) &lt;- value</code>:</dt><dd>\n",
       "<p>Get or set the sequence levels.\n",
       "<code>seqlevels(x)</code> is equivalent to <code>seqlevels(seqinfo(x))</code>\n",
       "or to <code>levels(seqnames(x))</code>, those 2 expressions being\n",
       "guaranteed to return identical character vectors on a GRanges object.\n",
       "<code>value</code> must be a character vector with no NAs.\n",
       "See <code>?seqlevels</code> for more information.\n",
       "</p>\n",
       "</dd>\n",
       "<dt><code>seqlengths(x)</code>, <code>seqlengths(x) &lt;- value</code>:</dt><dd>\n",
       "<p>Get or set the sequence lengths.\n",
       "<code>seqlengths(x)</code> is equivalent to <code>seqlengths(seqinfo(x))</code>.\n",
       "<code>value</code> can be a named non-negative integer or numeric vector\n",
       "eventually with NAs.\n",
       "</p>\n",
       "</dd>\n",
       "<dt><code>isCircular(x)</code>, <code>isCircular(x) &lt;- value</code>:</dt><dd>\n",
       "<p>Get or set the circularity flags.\n",
       "<code>isCircular(x)</code> is equivalent to <code>isCircular(seqinfo(x))</code>.\n",
       "<code>value</code> must be a named logical vector eventually with NAs.\n",
       "</p>\n",
       "</dd>\n",
       "<dt><code>genome(x)</code>, <code>genome(x) &lt;- value</code>:</dt><dd>\n",
       "<p>Get or set the genome identifier or assembly name for each sequence.\n",
       "<code>genome(x)</code> is equivalent to <code>genome(seqinfo(x))</code>.\n",
       "<code>value</code> must be a named character vector eventually with NAs.\n",
       "</p>\n",
       "</dd>\n",
       "<dt><code>seqlevelsStyle(x)</code>, <code>seqlevelsStyle(x) &lt;- value</code>:</dt><dd>\n",
       "<p>Get or set the seqname style for <code>x</code>.\n",
       "See the seqlevelsStyle generic getter and setter\n",
       "in the <span class=\"pkg\">GenomeInfoDb</span> package for more information.\n",
       "</p>\n",
       "</dd>\n",
       "<dt><code>score(x), score(x) &lt;- value</code>:</dt><dd><p> Get or set the &ldquo;score&rdquo;\n",
       "column from the element metadata.\n",
       "</p>\n",
       "</dd>\n",
       "<dt><code>granges(x, use.names=FALSE, use.mcols=FALSE)</code>:</dt><dd><p> Squeeze the genomic\n",
       "ranges out of GenomicRanges object <code>x</code> and return them in a\n",
       "GRanges object <em>parallel</em> to <code>x</code> (i.e. same length as <code>x</code>).\n",
       "If <code>use.mcols</code> is <code>TRUE</code>, the metadata columns are propagated.\n",
       "If <code>x</code> is a GenomicRanges derivative with <em>extra column\n",
       "slots</em>, these will be propagated as metadata columns on the returned\n",
       "GRanges object.\n",
       "</p>\n",
       "</dd>\n",
       "</dl>\n",
       "\n",
       "\n",
       "\n",
       "<h3>Coercion</h3>\n",
       "\n",
       "<p>In the code snippets below, <code>x</code> is a GRanges object.\n",
       "</p>\n",
       "\n",
       "<dl>\n",
       "<dt><code>as(from, \"GRanges\")</code>:</dt><dd><p> Creates a GRanges object from a character\n",
       "vector, a factor, or IntegerRangesList object.\n",
       "</p>\n",
       "<p>When <code>from</code> is a character vector (or a factor), each element\n",
       "in it must represent a genomic range in format <code>chr1:2501-2800</code>\n",
       "(unstranded range) or <code>chr1:2501-2800:+</code> (stranded range).\n",
       "<code>..</code> is also supported as a separator between the start and end\n",
       "positions. Strand can be <code>+</code>, <code>-</code>, <code>*</code>, or missing.\n",
       "The names on <code>from</code> are propagated to the returned GRanges object.\n",
       "See <code>as.character()</code> and <code>as.factor()</code> below for the\n",
       "reverse transformations.\n",
       "</p>\n",
       "<p>Coercing a data.frame or DataFrame into a GRanges object is also\n",
       "supported. See <code>makeGRangesFromDataFrame</code> for the details.\n",
       "</p>\n",
       "</dd>\n",
       "<dt><code>as(from, \"IntegerRangesList\")</code>:</dt><dd>\n",
       "<p>Creates a IntegerRangesList object from a GRanges\n",
       "object. The <code>strand</code> and metadata columns become <em>inner</em>\n",
       "metadata columns (i.e. metadata columns on the ranges).\n",
       "The <code>seqlengths(from)</code>, <code>isCircular(from)</code>, and\n",
       "<code>genome(from)</code> vectors become the metadata columns.\n",
       "</p>\n",
       "</dd>\n",
       "<dt><code>as.character(x, ignore.strand=FALSE)</code>:</dt><dd>\n",
       "<p>Turn GRanges object <code>x</code> into a character vector where each\n",
       "range in <code>x</code> is represented by a string in format\n",
       "<code>chr1:2501-2800:+</code>. If <code>ignore.strand</code> is TRUE or if\n",
       "<em>all</em> the ranges in <code>x</code> are unstranded (i.e. their strand\n",
       "is set to <code>*</code>), then all the strings in the output are in\n",
       "format <code>chr1:2501-2800</code>.\n",
       "</p>\n",
       "<p>The names on <code>x</code> are propagated to the returned character vector.\n",
       "Its metadata (<code>metadata(x)</code>) and metadata columns (<code>mcols(x)</code>)\n",
       "are ignored.\n",
       "</p>\n",
       "<p>See <code>as(from, \"GRanges\")</code> above for the reverse transformation.\n",
       "</p>\n",
       "</dd>\n",
       "<dt><code>as.factor(x)</code>:</dt><dd>\n",
       "<p>Equivalent to\n",
       "</p>\n",
       "<pre>  factor(as.character(x), levels=as.character(sort(unique(x))))\n",
       "</pre>\n",
       "<p>See <code>as(from, \"GRanges\")</code> above for the reverse transformation.\n",
       "</p>\n",
       "<p>Note that <code>table(x)</code> is supported on a GRanges object. It is\n",
       "equivalent to, but much faster than, <code>table(as.factor(x))</code>.\n",
       "</p>\n",
       "</dd>\n",
       "<dt><code>as.data.frame(x, row.names = NULL, optional = FALSE, ...)</code>:</dt><dd>\n",
       "<p>Creates a data.frame with columns <code>seqnames</code> (factor),\n",
       "<code>start</code> (integer), <code>end</code> (integer), <code>width</code> (integer),\n",
       "<code>strand</code> (factor), as well as the additional metadata columns\n",
       "stored in <code>mcols(x)</code>. Pass an explicit\n",
       "<code>stringsAsFactors=TRUE/FALSE</code> argument via <code>...</code> to\n",
       "override the default conversions for the metadata columns in\n",
       "<code>mcols(x)</code>.\n",
       "</p>\n",
       "</dd>\n",
       "<dt><code>as(from, \"Grouping\")</code>:</dt><dd><p> Creates a\n",
       "<code>ManyToOneGrouping</code> object that groups\n",
       "<code>from</code> by seqname, strand, start and end (same as the default\n",
       "sort order). This makes it convenient, for example, to aggregate a\n",
       "GenomicRanges object by range.\n",
       "</p>\n",
       "</dd>\n",
       "</dl>\n",
       "\n",
       "<p>In the code snippets below, <code>x</code> is a Seqinfo\n",
       "object.\n",
       "</p>\n",
       "\n",
       "<dl>\n",
       "<dt><code>as(x, \"GRanges\")</code>, <code>as(x, \"GenomicRanges\")</code>,\n",
       "<code>as(x, \"IntegerRangesList\")</code>:</dt><dd><p> Turns Seqinfo\n",
       "object <code>x</code> (with no <code>NA</code> lengths) into a GRanges or\n",
       "IntegerRangesList.\n",
       "</p>\n",
       "</dd>\n",
       "</dl>\n",
       "\n",
       "\n",
       "\n",
       "<h3>Subsetting</h3>\n",
       "\n",
       "<p>In the code snippets below, <code>x</code> is a GRanges object.\n",
       "</p>\n",
       "\n",
       "<dl>\n",
       "<dt><code>x[i]</code>:</dt><dd>\n",
       "<p>Return a new GRanges object made of the elements selected by <code>i</code>.\n",
       "</p>\n",
       "</dd>\n",
       "<dt><code>x[i, j]</code>:</dt><dd>\n",
       "<p>Like the above, but allow the user to conveniently subset the metadata\n",
       "columns thru <code>j</code>.\n",
       "</p>\n",
       "</dd>\n",
       "<dt><code>x[i] &lt;- value</code>:</dt><dd>\n",
       "<p>Replacement version of <code>x[i]</code>.\n",
       "</p>\n",
       "</dd>\n",
       "<dt><code>x$name</code>, <code>x$name &lt;- value</code>:</dt><dd>\n",
       "<p>Shortcuts for <code>mcols(x)$name</code> and <code>mcols(x)$name &lt;- value</code>,\n",
       "respectively. Provided as a convenience, for GRanges objects *only*,\n",
       "and as the result of strong popular demand.\n",
       "Note that those methods are not consistent with the other <code>$</code>\n",
       "and <code>$&lt;-</code> methods in the IRanges/GenomicRanges infrastructure,\n",
       "and might confuse some users by making them believe that a GRanges\n",
       "object can be manipulated as a data.frame-like object.\n",
       "Therefore we recommend using them only interactively, and we discourage\n",
       "their use in scripts or packages. For the latter, use\n",
       "<code>mcols(x)$name</code> and <code>mcols(x)$name &lt;- value</code>, instead\n",
       "of <code>x$name</code> and <code>x$name &lt;- value</code>, respectively.\n",
       "</p>\n",
       "</dd>\n",
       "</dl>\n",
       "\n",
       "<p>See <code>?`[`</code> in the <span class=\"pkg\">S4Vectors</span> package for more\n",
       "information about subsetting Vector derivatives and for an important note\n",
       "about the <code>x[i, j]</code> form.\n",
       "</p>\n",
       "<p>Note that a GRanges object can be used as a subscript to subset a\n",
       "list-like object that has names on it. In that case, the names on the\n",
       "list-like object are interpreted as sequence names.\n",
       "In the code snippets below, <code>x</code> is a list or List object with\n",
       "names on it, and the subscript <code>gr</code> is a GRanges object with all its\n",
       "seqnames being valid <code>x</code> names.\n",
       "</p>\n",
       "\n",
       "<dl>\n",
       "<dt><code>x[gr]</code>:</dt><dd>\n",
       "<p>Return an object of the same class as <code>x</code> and <em>parallel</em>\n",
       "to <code>gr</code>. More precisely, it's conceptually doing:\n",
       "</p>\n",
       "<pre>  lapply(gr, function(gr1) x[[seqnames(gr1)]][ranges(gr1)])\n",
       "</pre>\n",
       "</dd>\n",
       "</dl>\n",
       "\n",
       "\n",
       "\n",
       "<h3>Concatenation</h3>\n",
       "\n",
       "\n",
       "<dl>\n",
       "<dt><code>c(x, ..., ignore.mcols=FALSE)</code>:</dt><dd>\n",
       "<p>Concatenate GRanges object <code>x</code> and the GRanges objects in\n",
       "<code>...</code> together.\n",
       "See <code>?c</code> in the <span class=\"pkg\">S4Vectors</span> package\n",
       "for more information about concatenating Vector derivatives.\n",
       "</p>\n",
       "</dd>\n",
       "</dl>\n",
       "\n",
       "\n",
       "\n",
       "<h3>Splitting</h3>\n",
       "\n",
       "\n",
       "<dl>\n",
       "<dt><code>split(x, f, drop=FALSE)</code>:</dt><dd>\n",
       "<p>Splits GRanges object <code>x</code> according to <code>f</code> to create a\n",
       "GRangesList object.\n",
       "If <code>f</code> is a list-like object then <code>drop</code> is ignored\n",
       "and <code>f</code> is treated as if it was\n",
       "<code>rep(seq_len(length(f)), sapply(f, length))</code>,\n",
       "so the returned object has the same shape as <code>f</code> (it also\n",
       "receives the names of <code>f</code>).\n",
       "Otherwise, if <code>f</code> is not a list-like object, empty list\n",
       "elements are removed from the returned object if <code>drop</code> is\n",
       "<code>TRUE</code>.\n",
       "</p>\n",
       "</dd>\n",
       "</dl>\n",
       "\n",
       "\n",
       "\n",
       "<h3>Displaying</h3>\n",
       "\n",
       "<p>In the code snippets below, <code>x</code> is a GRanges object.\n",
       "</p>\n",
       "\n",
       "<dl>\n",
       "<dt><code>show(x)</code>:</dt><dd>\n",
       "<p>By default the <code>show</code> method displays 5 head and 5 tail\n",
       "elements. This can be changed by setting the global options\n",
       "<code>showHeadLines</code> and <code>showTailLines</code>. If the object\n",
       "length is less than (or equal to) the sum of these 2 options\n",
       "plus 1, then the full object is displayed.\n",
       "Note that these options also affect the display of\n",
       "GAlignments and\n",
       "GAlignmentPairs objects (defined in\n",
       "the <span class=\"pkg\">GenomicAlignments</span> package), as well as other objects\n",
       "defined in the <span class=\"pkg\">IRanges</span> and <span class=\"pkg\">Biostrings</span> packages (e.g.\n",
       "IRanges and DNAStringSet objects).\n",
       "</p>\n",
       "</dd>\n",
       "</dl>\n",
       "\n",
       "\n",
       "\n",
       "<h3>Author(s)</h3>\n",
       "\n",
       "<p>P. Aboyoun and H. Pagès</p>\n",
       "\n",
       "\n",
       "<h3>See Also</h3>\n",
       "\n",
       "\n",
       "<ul>\n",
       "<li><p> The IRanges class in the <span class=\"pkg\">IRanges</span>\n",
       "package for storing a set of <em>integer ranges</em>.\n",
       "</p>\n",
       "</li>\n",
       "<li><p> The GPos class for representing a set of <em>genomic\n",
       "positions</em> (i.e. <em>genomic ranges</em> of width 1, a.k.a.\n",
       "<em>genomic loci</em>).\n",
       "</p>\n",
       "</li>\n",
       "<li> <p><code>makeGRangesFromDataFrame</code> for making a GRanges object\n",
       "from a data.frame or DataFrame object.\n",
       "</p>\n",
       "</li>\n",
       "<li> <p>Seqinfo objects and the\n",
       "<code>seqinfo</code> accessor and family in the\n",
       "<span class=\"pkg\">GenomeInfoDb</span> package for accessing/modifying information\n",
       "about the underlying sequences of a GenomicRanges derivative.\n",
       "</p>\n",
       "</li>\n",
       "<li> <p>GenomicRanges-comparison for comparing and ordering genomic\n",
       "ranges and/or positions.\n",
       "</p>\n",
       "</li>\n",
       "<li> <p>findOverlaps-methods for finding overlapping\n",
       "genomic ranges and/or positions.\n",
       "</p>\n",
       "</li>\n",
       "<li> <p>intra-range-methods and\n",
       "inter-range-methods\n",
       "for <em>intra range</em> and <em>inter range</em> transformations\n",
       "of GenomicRanges derivatives.\n",
       "</p>\n",
       "</li>\n",
       "<li> <p>coverage-methods for computing the coverage\n",
       "of a set of genomic ranges and/or positions.\n",
       "</p>\n",
       "</li>\n",
       "<li> <p>setops-methods for set operations on GRanges\n",
       "objects.\n",
       "</p>\n",
       "</li>\n",
       "<li> <p>subtract for subtracting a set of genomic\n",
       "ranges from a GRanges object (similar to bedtools subtract).\n",
       "</p>\n",
       "</li>\n",
       "<li> <p>nearest-methods for finding the nearest\n",
       "genomic range/position neighbor.\n",
       "</p>\n",
       "</li>\n",
       "<li> <p><code>absoluteRanges</code> for transforming genomic ranges into\n",
       "<em>absolute</em> ranges (i.e. into ranges on the sequence obtained\n",
       "by virtually concatenating all the sequences in a genome).\n",
       "</p>\n",
       "</li>\n",
       "<li> <p><code>tileGenome</code> for putting tiles on a genome.\n",
       "</p>\n",
       "</li>\n",
       "<li> <p>genomicvars for manipulating genomic variables.\n",
       "</p>\n",
       "</li>\n",
       "<li> <p>GRangesList objects.\n",
       "</p>\n",
       "</li>\n",
       "<li> <p>Vector, Rle, and\n",
       "DataFrame objects in the <span class=\"pkg\">S4Vectors</span> package.\n",
       "</p>\n",
       "</li></ul>\n",
       "\n",
       "\n",
       "\n",
       "<h3>Examples</h3>\n",
       "\n",
       "<pre><code class='language-R'>showClass(\"GRanges\")  # shows the known subclasses\n",
       "\n",
       "## ---------------------------------------------------------------------\n",
       "## CONSTRUCTION\n",
       "## ---------------------------------------------------------------------\n",
       "## Specifying the bare minimum i.e. seqnames and ranges only. The\n",
       "## GRanges object will have no names, no strand information, and no\n",
       "## metadata columns:\n",
       "gr0 &lt;- GRanges(Rle(c(\"chr2\", \"chr2\", \"chr1\", \"chr3\"), c(1, 3, 2, 4)),\n",
       "               IRanges(1:10, width=10:1))\n",
       "gr0\n",
       "\n",
       "## Specifying names, strand, metadata columns. They can be set on an\n",
       "## existing object:\n",
       "names(gr0) &lt;- head(letters, 10)\n",
       "strand(gr0) &lt;- Rle(strand(c(\"-\", \"+\", \"*\", \"+\", \"-\")), c(1, 2, 2, 3, 2))\n",
       "mcols(gr0)$score &lt;- 1:10\n",
       "mcols(gr0)$GC &lt;- seq(1, 0, length=10)\n",
       "gr0\n",
       "\n",
       "## ... or specified at construction time:\n",
       "gr &lt;- GRanges(Rle(c(\"chr2\", \"chr2\", \"chr1\", \"chr3\"), c(1, 3, 2, 4)),\n",
       "              IRanges(1:10, width=10:1, names=head(letters, 10)),\n",
       "              Rle(strand(c(\"-\", \"+\", \"*\", \"+\", \"-\")), c(1, 2, 2, 3, 2)),\n",
       "              score=1:10, GC=seq(1, 0, length=10))\n",
       "stopifnot(identical(gr0, gr))\n",
       "\n",
       "## Specifying the seqinfo. It can be set on an existing object:\n",
       "seqinfo &lt;- Seqinfo(paste0(\"chr\", 1:3), c(1000, 2000, 1500), NA, \"mock1\")\n",
       "seqinfo(gr0) &lt;- merge(seqinfo(gr0), seqinfo)\n",
       "seqlevels(gr0) &lt;- seqlevels(seqinfo)\n",
       "\n",
       "## ... or specified at construction time:\n",
       "gr &lt;- GRanges(Rle(c(\"chr2\", \"chr2\", \"chr1\", \"chr3\"), c(1, 3, 2, 4)),\n",
       "              IRanges(1:10, width=10:1, names=head(letters, 10)),\n",
       "              Rle(strand(c(\"-\", \"+\", \"*\", \"+\", \"-\")), c(1, 2, 2, 3, 2)),\n",
       "              score=1:10, GC=seq(1, 0, length=10),\n",
       "              seqinfo=seqinfo)\n",
       "stopifnot(identical(gr0, gr))\n",
       "\n",
       "## ---------------------------------------------------------------------\n",
       "## COERCION\n",
       "## ---------------------------------------------------------------------\n",
       "## From GRanges:\n",
       "as.character(gr)\n",
       "as.factor(gr)\n",
       "as.data.frame(gr)\n",
       "\n",
       "## From character to GRanges:\n",
       "x1 &lt;- \"chr2:56-125\"\n",
       "as(x1, \"GRanges\")\n",
       "as(rep(x1, 4), \"GRanges\")\n",
       "x2 &lt;- c(A=x1, B=\"chr1:25-30:-\")\n",
       "as(x2, \"GRanges\")\n",
       "\n",
       "## From data.frame to GRanges:\n",
       "df &lt;- data.frame(chrom=\"chr2\", start=11:15, end=20:24)\n",
       "gr3 &lt;- as(df, \"GRanges\")\n",
       "\n",
       "## Alternatively, coercion to GRanges can be done by just calling the\n",
       "## GRanges() constructor on the object to coerce:\n",
       "gr1 &lt;- GRanges(x1)  # same as as(x1, \"GRanges\")\n",
       "gr2 &lt;- GRanges(x2)  # same as as(x2, \"GRanges\")\n",
       "gr3 &lt;- GRanges(df)  # same as as(df, \"GRanges\")\n",
       "\n",
       "## Sanity checks:\n",
       "stopifnot(identical(as(x1, \"GRanges\"), gr1))\n",
       "stopifnot(identical(as(x2, \"GRanges\"), gr2))\n",
       "stopifnot(identical(as(df, \"GRanges\"), gr3))\n",
       "\n",
       "## ---------------------------------------------------------------------\n",
       "## SUMMARIZING ELEMENTS\n",
       "## ---------------------------------------------------------------------\n",
       "table(seqnames(gr))\n",
       "table(strand(gr))\n",
       "sum(width(gr))\n",
       "table(gr)\n",
       "summary(mcols(gr)[,\"score\"])\n",
       "\n",
       "## The number of lines displayed in the 'show' method are controlled\n",
       "## with two global options:\n",
       "longGR  &lt;- sample(gr, 25, replace=TRUE)\n",
       "longGR\n",
       "options(showHeadLines=7)\n",
       "options(showTailLines=2)\n",
       "longGR\n",
       "\n",
       "## Revert to default values\n",
       "options(showHeadLines=NULL)\n",
       "options(showTailLines=NULL)\n",
       "\n",
       "## ---------------------------------------------------------------------\n",
       "## INVERTING THE STRAND\n",
       "## ---------------------------------------------------------------------\n",
       "invertStrand(gr)\n",
       "\n",
       "## ---------------------------------------------------------------------\n",
       "## RENAMING THE UNDERLYING SEQUENCES\n",
       "## ---------------------------------------------------------------------\n",
       "seqlevels(gr)\n",
       "seqlevels(gr) &lt;- sub(\"chr\", \"Chrom\", seqlevels(gr))\n",
       "gr\n",
       "seqlevels(gr) &lt;- sub(\"Chrom\", \"chr\", seqlevels(gr)) # revert\n",
       "\n",
       "## ---------------------------------------------------------------------\n",
       "## COMBINING OBJECTS\n",
       "## ---------------------------------------------------------------------\n",
       "gr2 &lt;- GRanges(seqnames=Rle(c('chr1', 'chr2', 'chr3'), c(3, 3, 4)),\n",
       "               IRanges(1:10, width=5),\n",
       "               strand='-',\n",
       "               score=101:110, GC=runif(10),\n",
       "               seqinfo=seqinfo)\n",
       "gr3 &lt;- GRanges(seqnames=Rle(c('chr1', 'chr2', 'chr3'), c(3, 4, 3)),\n",
       "               IRanges(101:110, width=10),\n",
       "               strand='-',\n",
       "               score=21:30,\n",
       "               seqinfo=seqinfo)\n",
       "some.gr &lt;- c(gr, gr2)\n",
       "\n",
       "c(gr, gr2, gr3)\n",
       "c(gr, gr2, gr3, ignore.mcols=TRUE)\n",
       "\n",
       "## ---------------------------------------------------------------------\n",
       "## USING A GRANGES OBJECT AS A SUBSCRIPT TO SUBSET ANOTHER OBJECT\n",
       "## ---------------------------------------------------------------------\n",
       "## Subsetting *by* a GRanges subscript is supported only if the object\n",
       "## to subset is a named list-like object:\n",
       "x &lt;- RleList(chr1=101:120, chr2=2:-8, chr3=31:40)\n",
       "x[gr]\n",
       "</code></pre>\n",
       "\n",
       "<hr /><div style=\"text-align: center;\">[Package <em>GenomicRanges</em> version 1.60.0 ]</div></main>\n",
       "\n",
       "</div>"
      ],
      "text/latex": [
       "\\HeaderA{GRanges-class}{GRanges objects}{GRanges.Rdash.class}\n",
       "\\aliasA{\\$,GenomicRanges-method}{GRanges-class}{.Rdol.,GenomicRanges.Rdash.method}\n",
       "\\aliasA{\\$<\\Rdash{},GenomicRanges-method}{GRanges-class}{.Rdol.<.Rdash.,GenomicRanges.Rdash.method}\n",
       "\\aliasA{as.character,GenomicRanges-method}{GRanges-class}{as.character,GenomicRanges.Rdash.method}\n",
       "\\aliasA{as.data.frame,GenomicRanges-method}{GRanges-class}{as.data.frame,GenomicRanges.Rdash.method}\n",
       "\\aliasA{as.factor,GenomicRanges-method}{GRanges-class}{as.factor,GenomicRanges.Rdash.method}\n",
       "\\aliasA{bindROWS,GenomicRanges-method}{GRanges-class}{bindROWS,GenomicRanges.Rdash.method}\n",
       "\\aliasA{class:GenomicPos}{GRanges-class}{class:GenomicPos}\n",
       "\\aliasA{class:GenomicRanges}{GRanges-class}{class:GenomicRanges}\n",
       "\\aliasA{class:GRanges}{GRanges-class}{class:GRanges}\n",
       "\\aliasA{class:IRanges\\_OR\\_IPos}{GRanges-class}{class:IRanges.Rul.OR.Rul.IPos}\n",
       "\\aliasA{coerce,ANY,GenomicRanges-method}{GRanges-class}{coerce,ANY,GenomicRanges.Rdash.method}\n",
       "\\aliasA{coerce,character,GRanges-method}{GRanges-class}{coerce,character,GRanges.Rdash.method}\n",
       "\\aliasA{coerce,factor,GRanges-method}{GRanges-class}{coerce,factor,GRanges.Rdash.method}\n",
       "\\aliasA{coerce,GenomicRanges,CompressedIRangesList-method}{GRanges-class}{coerce,GenomicRanges,CompressedIRangesList.Rdash.method}\n",
       "\\aliasA{coerce,GenomicRanges,GRanges-method}{GRanges-class}{coerce,GenomicRanges,GRanges.Rdash.method}\n",
       "\\aliasA{coerce,GenomicRanges,Grouping-method}{GRanges-class}{coerce,GenomicRanges,Grouping.Rdash.method}\n",
       "\\aliasA{coerce,GenomicRanges,IntegerRangesList-method}{GRanges-class}{coerce,GenomicRanges,IntegerRangesList.Rdash.method}\n",
       "\\aliasA{coerce,GenomicRanges,IRangesList-method}{GRanges-class}{coerce,GenomicRanges,IRangesList.Rdash.method}\n",
       "\\aliasA{coerce,IntegerRangesList,GRanges-method}{GRanges-class}{coerce,IntegerRangesList,GRanges.Rdash.method}\n",
       "\\aliasA{coerce,Seqinfo,GRanges-method}{GRanges-class}{coerce,Seqinfo,GRanges.Rdash.method}\n",
       "\\aliasA{coerce,Seqinfo,IntegerRangesList-method}{GRanges-class}{coerce,Seqinfo,IntegerRangesList.Rdash.method}\n",
       "\\aliasA{end<\\Rdash{},GenomicRanges-method}{GRanges-class}{end<.Rdash.,GenomicRanges.Rdash.method}\n",
       "\\aliasA{GenomicPos}{GRanges-class}{GenomicPos}\n",
       "\\aliasA{GenomicPos-class}{GRanges-class}{GenomicPos.Rdash.class}\n",
       "\\aliasA{GenomicRanges}{GRanges-class}{GenomicRanges}\n",
       "\\aliasA{GenomicRanges-class}{GRanges-class}{GenomicRanges.Rdash.class}\n",
       "\\aliasA{GenomicRanges\\_OR\\_missing-class}{GRanges-class}{GenomicRanges.Rul.OR.Rul.missing.Rdash.class}\n",
       "\\aliasA{getListElement,GenomicRanges-method}{GRanges-class}{getListElement,GenomicRanges.Rdash.method}\n",
       "\\aliasA{GRanges}{GRanges-class}{GRanges}\n",
       "\\aliasA{GRanges}{GRanges-class}{GRanges}\n",
       "\\aliasA{granges,GenomicRanges-method}{GRanges-class}{granges,GenomicRanges.Rdash.method}\n",
       "\\aliasA{IRanges\\_OR\\_IPos}{GRanges-class}{IRanges.Rul.OR.Rul.IPos}\n",
       "\\aliasA{IRanges\\_OR\\_IPos-class}{GRanges-class}{IRanges.Rul.OR.Rul.IPos.Rdash.class}\n",
       "\\aliasA{length,GenomicRanges-method}{GRanges-class}{length,GenomicRanges.Rdash.method}\n",
       "\\aliasA{names,GenomicRanges-method}{GRanges-class}{names,GenomicRanges.Rdash.method}\n",
       "\\aliasA{names<\\Rdash{},GenomicRanges-method}{GRanges-class}{names<.Rdash.,GenomicRanges.Rdash.method}\n",
       "\\aliasA{parallel\\_slot\\_names,GRanges-method}{GRanges-class}{parallel.Rul.slot.Rul.names,GRanges.Rdash.method}\n",
       "\\aliasA{ranges,GRanges-method}{GRanges-class}{ranges,GRanges.Rdash.method}\n",
       "\\aliasA{ranges<\\Rdash{},GenomicRanges-method}{GRanges-class}{ranges<.Rdash.,GenomicRanges.Rdash.method}\n",
       "\\aliasA{score,GenomicRanges-method}{GRanges-class}{score,GenomicRanges.Rdash.method}\n",
       "\\aliasA{score<\\Rdash{},GenomicRanges-method}{GRanges-class}{score<.Rdash.,GenomicRanges.Rdash.method}\n",
       "\\aliasA{seqinfo,GRanges-method}{GRanges-class}{seqinfo,GRanges.Rdash.method}\n",
       "\\aliasA{seqinfo,List-method}{GRanges-class}{seqinfo,List.Rdash.method}\n",
       "\\aliasA{seqinfo<\\Rdash{},GenomicRanges-method}{GRanges-class}{seqinfo<.Rdash.,GenomicRanges.Rdash.method}\n",
       "\\aliasA{seqinfo<\\Rdash{},List-method}{GRanges-class}{seqinfo<.Rdash.,List.Rdash.method}\n",
       "\\aliasA{seqnames,GRanges-method}{GRanges-class}{seqnames,GRanges.Rdash.method}\n",
       "\\aliasA{seqnames<\\Rdash{},GenomicRanges-method}{GRanges-class}{seqnames<.Rdash.,GenomicRanges.Rdash.method}\n",
       "\\aliasA{show,GenomicRanges-method}{GRanges-class}{show,GenomicRanges.Rdash.method}\n",
       "\\aliasA{start,GenomicRanges-method}{GRanges-class}{start,GenomicRanges.Rdash.method}\n",
       "\\aliasA{start<\\Rdash{},GenomicRanges-method}{GRanges-class}{start<.Rdash.,GenomicRanges.Rdash.method}\n",
       "\\aliasA{strand,GRanges-method}{GRanges-class}{strand,GRanges.Rdash.method}\n",
       "\\aliasA{strand<\\Rdash{},GenomicRanges,ANY-method}{GRanges-class}{strand<.Rdash.,GenomicRanges,ANY.Rdash.method}\n",
       "\\aliasA{summary,GenomicRanges-method}{GRanges-class}{summary,GenomicRanges.Rdash.method}\n",
       "\\aliasA{summary.GenomicRanges}{GRanges-class}{summary.GenomicRanges}\n",
       "\\aliasA{update,GRanges-method}{GRanges-class}{update,GRanges.Rdash.method}\n",
       "\\aliasA{updateObject,GRanges-method}{GRanges-class}{updateObject,GRanges.Rdash.method}\n",
       "\\aliasA{width,GenomicRanges-method}{GRanges-class}{width,GenomicRanges.Rdash.method}\n",
       "\\aliasA{width<\\Rdash{},GenomicRanges-method}{GRanges-class}{width<.Rdash.,GenomicRanges.Rdash.method}\n",
       "\\aliasA{[,list\\_OR\\_List,GenomicRanges-method}{GRanges-class}{[,list.Rul.OR.Rul.List,GenomicRanges.Rdash.method}\n",
       "\\keyword{methods}{GRanges-class}\n",
       "\\keyword{classes}{GRanges-class}\n",
       "%\n",
       "\\begin{Description}\n",
       "The GRanges class is a container for the genomic locations and\n",
       "their associated annotations.\n",
       "\\end{Description}\n",
       "%\n",
       "\\begin{Details}\n",
       "GRanges is a vector of genomic locations and associated\n",
       "annotations. Each element in the vector is comprised of a sequence name,\n",
       "an interval, a \\LinkA{strand}{strand}, and optional metadata columns (e.g. score, GC\n",
       "content, etc.). This information is stored in four components:\n",
       "\\begin{description}\n",
       "\n",
       "\\item[\\code{seqnames}] a 'factor' \\LinkA{Rle}{Rle} object\n",
       "containing the sequence names.\n",
       "\\item[\\code{ranges}] an \\LinkA{IRanges}{IRanges} object containing\n",
       "the ranges.\n",
       "\\item[\\code{strand}] a 'factor' \\LinkA{Rle}{Rle} object containing\n",
       "the \\LinkA{strand}{strand} information.\n",
       "\\item[\\code{mcols}] a \\LinkA{DataFrame}{DataFrame} object\n",
       "containing the metadata columns. Columns cannot be named\n",
       "\\code{\"seqnames\"}, \\code{\"ranges\"}, \\code{\"strand\"},\n",
       "\\code{\"seqlevels\"}, \\code{\"seqlengths\"}, \\code{\"isCircular\"},\n",
       "\\code{\"start\"}, \\code{\"end\"}, \\code{\"width\"}, or \\code{\"element\"}.\n",
       "\\item[\\code{seqinfo}] a \\LinkA{Seqinfo}{Seqinfo} object containing information\n",
       "about the set of genomic sequences present in the GRanges object.\n",
       "\n",
       "\\end{description}\n",
       "\n",
       "\\end{Details}\n",
       "%\n",
       "\\begin{Section}{Constructor}\n",
       "\\begin{description}\n",
       "\n",
       "\\item[\\code{GRanges(seqnames=NULL, ranges=NULL, strand=NULL,\n",
       "                    ..., seqinfo=NULL, seqlengths=NULL)}:] \n",
       "Creates a GRanges object.\n",
       "\\begin{description}\n",
       "\n",
       "\\item[\\code{seqnames}] \n",
       "\\code{NULL}, or an \\LinkA{Rle}{Rle} object, character vector,\n",
       "or factor containing the sequence names.\n",
       "\n",
       "\\item[\\code{ranges}] \n",
       "\\code{NULL}, or an \\LinkA{IRanges}{IRanges} object containing the\n",
       "ranges.\n",
       "\n",
       "\\item[\\code{strand}] \n",
       "\\code{NULL}, or an \\LinkA{Rle}{Rle} object, character vector,\n",
       "or factor containing the strand information.\n",
       "\n",
       "\\item[\\code{...}] \n",
       "Metadata columns to set on the GRanges object. All the metadata\n",
       "columns must be vector-like objects of the same length as the object\n",
       "to construct. They cannot be named \\code{\"start\"}, \\code{\"end\"},\n",
       "\\code{\"width\"}, or \\code{\"element\"}.\n",
       "\n",
       "\\item[\\code{seqinfo}] \n",
       "Either \\code{NULL}, or a \\LinkA{Seqinfo}{Seqinfo} object,\n",
       "or a character vector of unique sequence names (a.k.a.\n",
       "\\emph{seqlevels}), or a named numeric vector of sequence lengths.\n",
       "When not \\code{NULL}, \\code{seqinfo} must be compatible with the\n",
       "sequence names in \\code{seqnames}, that is, it must have one entry\n",
       "for each unique sequence name in \\code{seqnames}. Note that it can\n",
       "have additional entries i.e. entries for seqlevels not present\n",
       "in \\code{seqnames}.\n",
       "\n",
       "\\item[\\code{seqlengths}] \n",
       "\\code{NULL}, or an integer vector named with \\code{levels(seqnames)}\n",
       "and containing the lengths (or NA) for each level in\n",
       "\\code{levels(seqnames)}.\n",
       "\n",
       "\n",
       "\\end{description}\n",
       "\n",
       "If \\code{ranges} is not supplied and/or NULL then the constructor\n",
       "proceeds in 2 steps:\n",
       "\\begin{enumerate}\n",
       "\n",
       "\\item{} An initial GRanges object is created with\n",
       "\\code{as(seqnames, \"GRanges\")}.\n",
       "\\item{} Then this GRanges object is updated according to whatever\n",
       "non-NULL remaining arguments were passed to the call to\n",
       "\\code{GRanges()}.\n",
       "\n",
       "\\end{enumerate}\n",
       "\n",
       "As a consequence of this behavior, \\code{GRanges(x)} is equivalent to\n",
       "\\code{as(x, \"GRanges\")}.\n",
       "\n",
       "\n",
       "\\end{description}\n",
       "\n",
       "\\end{Section}\n",
       "%\n",
       "\\begin{Section}{Accessors}\n",
       "In the following code snippets, \\code{x} is a GRanges object.\n",
       "\n",
       "\\begin{description}\n",
       "\n",
       "\\item[\\code{length(x)}:] \n",
       "Get the number of elements.\n",
       "\n",
       "\\item[\\code{seqnames(x)}, \\code{seqnames(x) <- value}:] \n",
       "Get or set the sequence names.\n",
       "\\code{value} can be an \\LinkA{Rle}{Rle} object, a character vector,\n",
       "or a factor.\n",
       "\n",
       "\\item[\\code{ranges(x)}, \\code{ranges(x) <- value}:] \n",
       "Get or set the ranges. \\code{value} can be an\n",
       "\\LinkA{IntegerRanges}{IntegerRanges} object.\n",
       "\n",
       "\\item[\\code{start(x)}, \\code{start(x) <- value}:] \n",
       "Get or set \\code{start(ranges(x))}.\n",
       "\n",
       "\\item[\\code{end(x)}, \\code{end(x) <- value}:] \n",
       "Get or set \\code{end(ranges(x))}.\n",
       "\n",
       "\\item[\\code{width(x)}, \\code{width(x) <- value}:] \n",
       "Get or set \\code{width(ranges(x))}.\n",
       "\n",
       "\\item[\\code{strand(x)}, \\code{strand(x) <- value}:] \n",
       "Get or set the strand. \\code{value} can be an Rle object, character\n",
       "vector, or factor.\n",
       "\n",
       "\\item[\\code{names(x)}, \\code{names(x) <- value}:] \n",
       "Get or set the names of the elements.\n",
       "\n",
       "\\item[\\code{mcols(x, use.names=FALSE)}, \\code{mcols(x) <- value}:] \n",
       "Get or set the metadata columns.\n",
       "If \\code{use.names=TRUE} and the metadata columns are not \\code{NULL},\n",
       "then the names of \\code{x} are propagated as the row names of the\n",
       "returned \\LinkA{DataFrame}{DataFrame} object.\n",
       "When setting the metadata columns, the supplied value must be \\code{NULL}\n",
       "or a data-frame-like object (i.e. \\LinkA{DataFrame}{DataFrame} or data.frame)\n",
       "holding element-wise metadata.\n",
       "\n",
       "\\item[\\code{elementMetadata(x)}, \\code{elementMetadata(x) <- value},\n",
       "\\code{values(x)}, \\code{values(x) <- value}:] \n",
       "Alternatives to \\code{mcols} functions. Their use is discouraged.\n",
       "\n",
       "\\item[\\code{seqinfo(x)}, \\code{seqinfo(x) <- value}:] \n",
       "Get or set the information about the underlying sequences.\n",
       "\\code{value} must be a \\LinkA{Seqinfo}{Seqinfo} object.\n",
       "\n",
       "\\item[\\code{seqlevels(x)},\n",
       "\\code{seqlevels(x, pruning.mode=c(\"error\", \"coarse\", \"fine\", \"tidy\")) <- value}:] \n",
       "Get or set the sequence levels.\n",
       "\\code{seqlevels(x)} is equivalent to \\code{seqlevels(seqinfo(x))}\n",
       "or to \\code{levels(seqnames(x))}, those 2 expressions being\n",
       "guaranteed to return identical character vectors on a GRanges object.\n",
       "\\code{value} must be a character vector with no NAs.\n",
       "See \\code{?\\LinkA{seqlevels}{seqlevels}} for more information.\n",
       "\n",
       "\\item[\\code{seqlengths(x)}, \\code{seqlengths(x) <- value}:] \n",
       "Get or set the sequence lengths.\n",
       "\\code{seqlengths(x)} is equivalent to \\code{seqlengths(seqinfo(x))}.\n",
       "\\code{value} can be a named non-negative integer or numeric vector\n",
       "eventually with NAs.\n",
       "\n",
       "\\item[\\code{isCircular(x)}, \\code{isCircular(x) <- value}:] \n",
       "Get or set the circularity flags.\n",
       "\\code{isCircular(x)} is equivalent to \\code{isCircular(seqinfo(x))}.\n",
       "\\code{value} must be a named logical vector eventually with NAs.\n",
       "\n",
       "\\item[\\code{genome(x)}, \\code{genome(x) <- value}:] \n",
       "Get or set the genome identifier or assembly name for each sequence.\n",
       "\\code{genome(x)} is equivalent to \\code{genome(seqinfo(x))}.\n",
       "\\code{value} must be a named character vector eventually with NAs.\n",
       "\n",
       "\\item[\\code{seqlevelsStyle(x)}, \\code{seqlevelsStyle(x) <- value}:] \n",
       "Get or set the seqname style for \\code{x}.\n",
       "See the \\LinkA{seqlevelsStyle}{seqlevelsStyle} generic getter and setter\n",
       "in the \\pkg{GenomeInfoDb} package for more information.\n",
       "\n",
       "\\item[\\code{score(x), score(x) <- value}:]  Get or set the ``score''\n",
       "column from the element metadata.\n",
       "\n",
       "\\item[\\code{granges(x, use.names=FALSE, use.mcols=FALSE)}:]  Squeeze the genomic\n",
       "ranges out of \\LinkA{GenomicRanges}{GenomicRanges} object \\code{x} and return them in a\n",
       "GRanges object \\emph{parallel} to \\code{x} (i.e. same length as \\code{x}).\n",
       "If \\code{use.mcols} is \\code{TRUE}, the metadata columns are propagated.\n",
       "If \\code{x} is a \\LinkA{GenomicRanges}{GenomicRanges} derivative with \\emph{extra column\n",
       "slots}, these will be propagated as metadata columns on the returned\n",
       "GRanges object.\n",
       "\n",
       "\n",
       "\\end{description}\n",
       "\n",
       "\\end{Section}\n",
       "%\n",
       "\\begin{Section}{Coercion}\n",
       "In the code snippets below, \\code{x} is a GRanges object.\n",
       "\n",
       "\\begin{description}\n",
       "\n",
       "\\item[\\code{as(from, \"GRanges\")}:]  Creates a GRanges object from a character\n",
       "vector, a factor, or \\LinkA{IntegerRangesList}{IntegerRangesList} object.\n",
       "\n",
       "When \\code{from} is a character vector (or a factor), each element\n",
       "in it must represent a genomic range in format \\code{chr1:2501-2800}\n",
       "(unstranded range) or \\code{chr1:2501-2800:+} (stranded range).\n",
       "\\code{..} is also supported as a separator between the start and end\n",
       "positions. Strand can be \\code{+}, \\code{-}, \\code{*}, or missing.\n",
       "The names on \\code{from} are propagated to the returned GRanges object.\n",
       "See \\code{as.character()} and \\code{as.factor()} below for the\n",
       "reverse transformations.\n",
       "\n",
       "Coercing a data.frame or DataFrame into a GRanges object is also\n",
       "supported. See \\code{\\LinkA{makeGRangesFromDataFrame}{makeGRangesFromDataFrame}} for the details.\n",
       "\n",
       "\\item[\\code{as(from, \"IntegerRangesList\")}:] \n",
       "Creates a \\LinkA{IntegerRangesList}{IntegerRangesList} object from a GRanges\n",
       "object. The \\code{strand} and metadata columns become \\emph{inner}\n",
       "metadata columns (i.e. metadata columns on the ranges).\n",
       "The \\code{seqlengths(from)}, \\code{isCircular(from)}, and\n",
       "\\code{genome(from)} vectors become the metadata columns.\n",
       "\n",
       "\\item[\\code{as.character(x, ignore.strand=FALSE)}:] \n",
       "Turn GRanges object \\code{x} into a character vector where each\n",
       "range in \\code{x} is represented by a string in format\n",
       "\\code{chr1:2501-2800:+}. If \\code{ignore.strand} is TRUE or if\n",
       "\\emph{all} the ranges in \\code{x} are unstranded (i.e. their strand\n",
       "is set to \\code{*}), then all the strings in the output are in\n",
       "format \\code{chr1:2501-2800}.\n",
       "\n",
       "The names on \\code{x} are propagated to the returned character vector.\n",
       "Its metadata (\\code{metadata(x)}) and metadata columns (\\code{mcols(x)})\n",
       "are ignored.\n",
       "\n",
       "See \\code{as(from, \"GRanges\")} above for the reverse transformation.\n",
       "\n",
       "\\item[\\code{as.factor(x)}:] \n",
       "Equivalent to\n",
       "\\begin{alltt}  factor(as.character(x), levels=as.character(sort(unique(x))))\n",
       "\\end{alltt}\n",
       "\n",
       "See \\code{as(from, \"GRanges\")} above for the reverse transformation.\n",
       "\n",
       "Note that \\code{table(x)} is supported on a GRanges object. It is\n",
       "equivalent to, but much faster than, \\code{table(as.factor(x))}.\n",
       "\n",
       "\\item[\\code{as.data.frame(x, row.names = NULL, optional = FALSE, ...)}:] \n",
       "Creates a data.frame with columns \\code{seqnames} (factor),\n",
       "\\code{start} (integer), \\code{end} (integer), \\code{width} (integer),\n",
       "\\code{strand} (factor), as well as the additional metadata columns\n",
       "stored in \\code{mcols(x)}. Pass an explicit\n",
       "\\code{stringsAsFactors=TRUE/FALSE} argument via \\code{...} to\n",
       "override the default conversions for the metadata columns in\n",
       "\\code{mcols(x)}.\n",
       "\n",
       "\\item[\\code{as(from, \"Grouping\")}:]  Creates a\n",
       "\\code{\\LinkA{ManyToOneGrouping}{ManyToOneGrouping}} object that groups\n",
       "\\code{from} by seqname, strand, start and end (same as the default\n",
       "sort order). This makes it convenient, for example, to aggregate a\n",
       "GenomicRanges object by range.\n",
       "\n",
       "\n",
       "\\end{description}\n",
       "\n",
       "\n",
       "In the code snippets below, \\code{x} is a \\LinkA{Seqinfo}{Seqinfo}\n",
       "object.\n",
       "\n",
       "\\begin{description}\n",
       "\n",
       "\\item[\\code{as(x, \"GRanges\")}, \\code{as(x, \"GenomicRanges\")},\n",
       "\\code{as(x, \"IntegerRangesList\")}:]  Turns \\LinkA{Seqinfo}{Seqinfo}\n",
       "object \\code{x} (with no \\code{NA} lengths) into a GRanges or\n",
       "\\LinkA{IntegerRangesList}{IntegerRangesList}.\n",
       "\n",
       "\n",
       "\\end{description}\n",
       "\n",
       "\\end{Section}\n",
       "%\n",
       "\\begin{Section}{Subsetting}\n",
       "In the code snippets below, \\code{x} is a GRanges object.\n",
       "\\begin{description}\n",
       "\n",
       "\\item[\\code{x[i]}:] \n",
       "Return a new GRanges object made of the elements selected by \\code{i}.\n",
       "\n",
       "\\item[\\code{x[i, j]}:] \n",
       "Like the above, but allow the user to conveniently subset the metadata\n",
       "columns thru \\code{j}.\n",
       "\n",
       "\\item[\\code{x[i] <- value}:] \n",
       "Replacement version of \\code{x[i]}.\n",
       "\n",
       "\\item[\\code{x\\$name}, \\code{x\\$name <- value}:] \n",
       "Shortcuts for \\code{mcols(x)\\$name} and \\code{mcols(x)\\$name <- value},\n",
       "respectively. Provided as a convenience, for GRanges objects *only*,\n",
       "and as the result of strong popular demand.\n",
       "Note that those methods are not consistent with the other \\code{\\$}\n",
       "and \\code{\\$<-} methods in the IRanges/GenomicRanges infrastructure,\n",
       "and might confuse some users by making them believe that a GRanges\n",
       "object can be manipulated as a data.frame-like object.\n",
       "Therefore we recommend using them only interactively, and we discourage\n",
       "their use in scripts or packages. For the latter, use\n",
       "\\code{mcols(x)\\$name} and \\code{mcols(x)\\$name <- value}, instead\n",
       "of \\code{x\\$name} and \\code{x\\$name <- value}, respectively.\n",
       "\n",
       "\n",
       "\\end{description}\n",
       "\n",
       "\n",
       "See \\code{?`\\LinkA{[}{[}`} in the \\pkg{S4Vectors} package for more\n",
       "information about subsetting Vector derivatives and for an important note\n",
       "about the \\code{x[i, j]} form.\n",
       "\n",
       "Note that a GRanges object can be used as a subscript to subset a\n",
       "list-like object that has names on it. In that case, the names on the\n",
       "list-like object are interpreted as sequence names.\n",
       "In the code snippets below, \\code{x} is a list or \\LinkA{List}{List} object with\n",
       "names on it, and the subscript \\code{gr} is a GRanges object with all its\n",
       "seqnames being valid \\code{x} names.\n",
       "\n",
       "\\begin{description}\n",
       "\n",
       "\\item[\\code{x[gr]}:] \n",
       "Return an object of the same class as \\code{x} and \\emph{parallel}\n",
       "to \\code{gr}. More precisely, it's conceptually doing:\n",
       "\\begin{alltt}  lapply(gr, function(gr1) x[[seqnames(gr1)]][ranges(gr1)])\n",
       "\\end{alltt}\n",
       "\n",
       "\n",
       "\n",
       "\\end{description}\n",
       "\n",
       "\\end{Section}\n",
       "%\n",
       "\\begin{Section}{Concatenation}\n",
       "\\begin{description}\n",
       "\n",
       "\\item[\\code{c(x, ..., ignore.mcols=FALSE)}:] \n",
       "Concatenate GRanges object \\code{x} and the GRanges objects in\n",
       "\\code{...} together.\n",
       "See \\code{?\\LinkA{c}{c}} in the \\pkg{S4Vectors} package\n",
       "for more information about concatenating Vector derivatives.\n",
       "\n",
       "\n",
       "\\end{description}\n",
       "\n",
       "\\end{Section}\n",
       "%\n",
       "\\begin{Section}{Splitting}\n",
       "\\begin{description}\n",
       "\n",
       "\\item[\\code{split(x, f, drop=FALSE)}:] \n",
       "Splits GRanges object \\code{x} according to \\code{f} to create a\n",
       "\\LinkA{GRangesList}{GRangesList} object.\n",
       "If \\code{f} is a list-like object then \\code{drop} is ignored\n",
       "and \\code{f} is treated as if it was\n",
       "\\code{rep(seq\\_len(length(f)), sapply(f, length))},\n",
       "so the returned object has the same shape as \\code{f} (it also\n",
       "receives the names of \\code{f}).\n",
       "Otherwise, if \\code{f} is not a list-like object, empty list\n",
       "elements are removed from the returned object if \\code{drop} is\n",
       "\\code{TRUE}.\n",
       "\n",
       "\n",
       "\\end{description}\n",
       "\n",
       "\\end{Section}\n",
       "%\n",
       "\\begin{Section}{Displaying}\n",
       "In the code snippets below, \\code{x} is a GRanges object.\n",
       "\n",
       "\\begin{description}\n",
       "\n",
       "\\item[\\code{show(x)}:] \n",
       "By default the \\code{show} method displays 5 head and 5 tail\n",
       "elements. This can be changed by setting the global options\n",
       "\\code{showHeadLines} and \\code{showTailLines}. If the object\n",
       "length is less than (or equal to) the sum of these 2 options\n",
       "plus 1, then the full object is displayed.\n",
       "Note that these options also affect the display of\n",
       "\\LinkA{GAlignments}{GAlignments} and\n",
       "\\LinkA{GAlignmentPairs}{GAlignmentPairs} objects (defined in\n",
       "the \\pkg{GenomicAlignments} package), as well as other objects\n",
       "defined in the \\pkg{IRanges} and \\pkg{Biostrings} packages (e.g.\n",
       "\\LinkA{IRanges}{IRanges} and \\LinkA{DNAStringSet}{DNAStringSet} objects).\n",
       "\n",
       "\n",
       "\\end{description}\n",
       "\n",
       "\\end{Section}\n",
       "%\n",
       "\\begin{Author}\n",
       "P. Aboyoun and H. Pagès\n",
       "\\end{Author}\n",
       "%\n",
       "\\begin{SeeAlso}\n",
       "\\begin{itemize}\n",
       "\n",
       "\\item{} The \\LinkA{IRanges}{IRanges} class in the \\pkg{IRanges}\n",
       "package for storing a set of \\emph{integer ranges}.\n",
       "\n",
       "\\item{} The \\LinkA{GPos}{GPos} class for representing a set of \\emph{genomic\n",
       "positions} (i.e. \\emph{genomic ranges} of width 1, a.k.a.\n",
       "\\emph{genomic loci}).\n",
       "\n",
       "\\item{} \\code{\\LinkA{makeGRangesFromDataFrame}{makeGRangesFromDataFrame}} for making a GRanges object\n",
       "from a data.frame or \\LinkA{DataFrame}{DataFrame} object.\n",
       "\n",
       "\\item{} \\LinkA{Seqinfo}{Seqinfo} objects and the\n",
       "\\code{\\LinkA{seqinfo}{seqinfo}} accessor and family in the\n",
       "\\pkg{GenomeInfoDb} package for accessing/modifying information\n",
       "about the underlying sequences of a \\LinkA{GenomicRanges}{GenomicRanges} derivative.\n",
       "\n",
       "\\item{} \\LinkA{GenomicRanges-comparison}{GenomicRanges.Rdash.comparison} for comparing and ordering genomic\n",
       "ranges and/or positions.\n",
       "\n",
       "\\item{} \\LinkA{findOverlaps-methods}{findOverlaps.Rdash.methods} for finding overlapping\n",
       "genomic ranges and/or positions.\n",
       "\n",
       "\\item{} \\LinkA{intra-range-methods}{intra.Rdash.range.Rdash.methods} and\n",
       "\\LinkA{inter-range-methods}{inter.Rdash.range.Rdash.methods}\n",
       "for \\emph{intra range} and \\emph{inter range} transformations\n",
       "of \\LinkA{GenomicRanges}{GenomicRanges} derivatives.\n",
       "\n",
       "\\item{} \\LinkA{coverage-methods}{coverage.Rdash.methods} for computing the coverage\n",
       "of a set of genomic ranges and/or positions.\n",
       "\n",
       "\\item{} \\LinkA{setops-methods}{setops.Rdash.methods} for set operations on GRanges\n",
       "objects.\n",
       "\n",
       "\\item{} \\LinkA{subtract}{subtract} for subtracting a set of genomic\n",
       "ranges from a GRanges object (similar to bedtools subtract).\n",
       "\n",
       "\\item{} \\LinkA{nearest-methods}{nearest.Rdash.methods} for finding the nearest\n",
       "genomic range/position neighbor.\n",
       "\n",
       "\\item{} \\code{\\LinkA{absoluteRanges}{absoluteRanges}} for transforming genomic ranges into\n",
       "\\emph{absolute} ranges (i.e. into ranges on the sequence obtained\n",
       "by virtually concatenating all the sequences in a genome).\n",
       "\n",
       "\\item{} \\code{\\LinkA{tileGenome}{tileGenome}} for putting tiles on a genome.\n",
       "\n",
       "\\item{} \\LinkA{genomicvars}{genomicvars} for manipulating genomic variables.\n",
       "\n",
       "\\item{} \\LinkA{GRangesList}{GRangesList} objects.\n",
       "\n",
       "\\item{} \\LinkA{Vector}{Vector}, \\LinkA{Rle}{Rle}, and\n",
       "\\LinkA{DataFrame}{DataFrame} objects in the \\pkg{S4Vectors} package.\n",
       "\n",
       "\\end{itemize}\n",
       "\n",
       "\\end{SeeAlso}\n",
       "%\n",
       "\\begin{Examples}\n",
       "\\begin{ExampleCode}\n",
       "showClass(\"GRanges\")  # shows the known subclasses\n",
       "\n",
       "## ---------------------------------------------------------------------\n",
       "## CONSTRUCTION\n",
       "## ---------------------------------------------------------------------\n",
       "## Specifying the bare minimum i.e. seqnames and ranges only. The\n",
       "## GRanges object will have no names, no strand information, and no\n",
       "## metadata columns:\n",
       "gr0 <- GRanges(Rle(c(\"chr2\", \"chr2\", \"chr1\", \"chr3\"), c(1, 3, 2, 4)),\n",
       "               IRanges(1:10, width=10:1))\n",
       "gr0\n",
       "\n",
       "## Specifying names, strand, metadata columns. They can be set on an\n",
       "## existing object:\n",
       "names(gr0) <- head(letters, 10)\n",
       "strand(gr0) <- Rle(strand(c(\"-\", \"+\", \"*\", \"+\", \"-\")), c(1, 2, 2, 3, 2))\n",
       "mcols(gr0)$score <- 1:10\n",
       "mcols(gr0)$GC <- seq(1, 0, length=10)\n",
       "gr0\n",
       "\n",
       "## ... or specified at construction time:\n",
       "gr <- GRanges(Rle(c(\"chr2\", \"chr2\", \"chr1\", \"chr3\"), c(1, 3, 2, 4)),\n",
       "              IRanges(1:10, width=10:1, names=head(letters, 10)),\n",
       "              Rle(strand(c(\"-\", \"+\", \"*\", \"+\", \"-\")), c(1, 2, 2, 3, 2)),\n",
       "              score=1:10, GC=seq(1, 0, length=10))\n",
       "stopifnot(identical(gr0, gr))\n",
       "\n",
       "## Specifying the seqinfo. It can be set on an existing object:\n",
       "seqinfo <- Seqinfo(paste0(\"chr\", 1:3), c(1000, 2000, 1500), NA, \"mock1\")\n",
       "seqinfo(gr0) <- merge(seqinfo(gr0), seqinfo)\n",
       "seqlevels(gr0) <- seqlevels(seqinfo)\n",
       "\n",
       "## ... or specified at construction time:\n",
       "gr <- GRanges(Rle(c(\"chr2\", \"chr2\", \"chr1\", \"chr3\"), c(1, 3, 2, 4)),\n",
       "              IRanges(1:10, width=10:1, names=head(letters, 10)),\n",
       "              Rle(strand(c(\"-\", \"+\", \"*\", \"+\", \"-\")), c(1, 2, 2, 3, 2)),\n",
       "              score=1:10, GC=seq(1, 0, length=10),\n",
       "              seqinfo=seqinfo)\n",
       "stopifnot(identical(gr0, gr))\n",
       "\n",
       "## ---------------------------------------------------------------------\n",
       "## COERCION\n",
       "## ---------------------------------------------------------------------\n",
       "## From GRanges:\n",
       "as.character(gr)\n",
       "as.factor(gr)\n",
       "as.data.frame(gr)\n",
       "\n",
       "## From character to GRanges:\n",
       "x1 <- \"chr2:56-125\"\n",
       "as(x1, \"GRanges\")\n",
       "as(rep(x1, 4), \"GRanges\")\n",
       "x2 <- c(A=x1, B=\"chr1:25-30:-\")\n",
       "as(x2, \"GRanges\")\n",
       "\n",
       "## From data.frame to GRanges:\n",
       "df <- data.frame(chrom=\"chr2\", start=11:15, end=20:24)\n",
       "gr3 <- as(df, \"GRanges\")\n",
       "\n",
       "## Alternatively, coercion to GRanges can be done by just calling the\n",
       "## GRanges() constructor on the object to coerce:\n",
       "gr1 <- GRanges(x1)  # same as as(x1, \"GRanges\")\n",
       "gr2 <- GRanges(x2)  # same as as(x2, \"GRanges\")\n",
       "gr3 <- GRanges(df)  # same as as(df, \"GRanges\")\n",
       "\n",
       "## Sanity checks:\n",
       "stopifnot(identical(as(x1, \"GRanges\"), gr1))\n",
       "stopifnot(identical(as(x2, \"GRanges\"), gr2))\n",
       "stopifnot(identical(as(df, \"GRanges\"), gr3))\n",
       "\n",
       "## ---------------------------------------------------------------------\n",
       "## SUMMARIZING ELEMENTS\n",
       "## ---------------------------------------------------------------------\n",
       "table(seqnames(gr))\n",
       "table(strand(gr))\n",
       "sum(width(gr))\n",
       "table(gr)\n",
       "summary(mcols(gr)[,\"score\"])\n",
       "\n",
       "## The number of lines displayed in the 'show' method are controlled\n",
       "## with two global options:\n",
       "longGR  <- sample(gr, 25, replace=TRUE)\n",
       "longGR\n",
       "options(showHeadLines=7)\n",
       "options(showTailLines=2)\n",
       "longGR\n",
       "\n",
       "## Revert to default values\n",
       "options(showHeadLines=NULL)\n",
       "options(showTailLines=NULL)\n",
       "\n",
       "## ---------------------------------------------------------------------\n",
       "## INVERTING THE STRAND\n",
       "## ---------------------------------------------------------------------\n",
       "invertStrand(gr)\n",
       "\n",
       "## ---------------------------------------------------------------------\n",
       "## RENAMING THE UNDERLYING SEQUENCES\n",
       "## ---------------------------------------------------------------------\n",
       "seqlevels(gr)\n",
       "seqlevels(gr) <- sub(\"chr\", \"Chrom\", seqlevels(gr))\n",
       "gr\n",
       "seqlevels(gr) <- sub(\"Chrom\", \"chr\", seqlevels(gr)) # revert\n",
       "\n",
       "## ---------------------------------------------------------------------\n",
       "## COMBINING OBJECTS\n",
       "## ---------------------------------------------------------------------\n",
       "gr2 <- GRanges(seqnames=Rle(c('chr1', 'chr2', 'chr3'), c(3, 3, 4)),\n",
       "               IRanges(1:10, width=5),\n",
       "               strand='-',\n",
       "               score=101:110, GC=runif(10),\n",
       "               seqinfo=seqinfo)\n",
       "gr3 <- GRanges(seqnames=Rle(c('chr1', 'chr2', 'chr3'), c(3, 4, 3)),\n",
       "               IRanges(101:110, width=10),\n",
       "               strand='-',\n",
       "               score=21:30,\n",
       "               seqinfo=seqinfo)\n",
       "some.gr <- c(gr, gr2)\n",
       "\n",
       "c(gr, gr2, gr3)\n",
       "c(gr, gr2, gr3, ignore.mcols=TRUE)\n",
       "\n",
       "## ---------------------------------------------------------------------\n",
       "## USING A GRANGES OBJECT AS A SUBSCRIPT TO SUBSET ANOTHER OBJECT\n",
       "## ---------------------------------------------------------------------\n",
       "## Subsetting *by* a GRanges subscript is supported only if the object\n",
       "## to subset is a named list-like object:\n",
       "x <- RleList(chr1=101:120, chr2=2:-8, chr3=31:40)\n",
       "x[gr]\n",
       "\\end{ExampleCode}\n",
       "\\end{Examples}"
      ],
      "text/plain": [
       "GRanges-class          package:GenomicRanges           R Documentation\n",
       "\n",
       "_\bG_\bR_\ba_\bn_\bg_\be_\bs _\bo_\bb_\bj_\be_\bc_\bt_\bs\n",
       "\n",
       "_\bD_\be_\bs_\bc_\br_\bi_\bp_\bt_\bi_\bo_\bn:\n",
       "\n",
       "     The GRanges class is a container for the genomic locations and\n",
       "     their associated annotations.\n",
       "\n",
       "_\bD_\be_\bt_\ba_\bi_\bl_\bs:\n",
       "\n",
       "     GRanges is a vector of genomic locations and associated\n",
       "     annotations. Each element in the vector is comprised of a sequence\n",
       "     name, an interval, a strand, and optional metadata columns (e.g.\n",
       "     score, GC content, etc.). This information is stored in four\n",
       "     components:\n",
       "\n",
       "     ‘seqnames’ a 'factor' Rle object containing the sequence names.\n",
       "\n",
       "     ‘ranges’ an IRanges object containing the ranges.\n",
       "\n",
       "     ‘strand’ a 'factor' Rle object containing the strand information.\n",
       "\n",
       "     ‘mcols’ a DataFrame object containing the metadata columns.\n",
       "          Columns cannot be named ‘\"seqnames\"’, ‘\"ranges\"’, ‘\"strand\"’,\n",
       "          ‘\"seqlevels\"’, ‘\"seqlengths\"’, ‘\"isCircular\"’, ‘\"start\"’,\n",
       "          ‘\"end\"’, ‘\"width\"’, or ‘\"element\"’.\n",
       "\n",
       "     ‘seqinfo’ a Seqinfo object containing information about the set of\n",
       "          genomic sequences present in the GRanges object.\n",
       "\n",
       "_\bC_\bo_\bn_\bs_\bt_\br_\bu_\bc_\bt_\bo_\br:\n",
       "\n",
       "     ‘GRanges(seqnames=NULL, ranges=NULL, strand=NULL, ...,\n",
       "          seqinfo=NULL, seqlengths=NULL)’: Creates a GRanges object.\n",
       "\n",
       "          ‘seqnames’ ‘NULL’, or an Rle object, character vector, or\n",
       "              factor containing the sequence names.\n",
       "\n",
       "          ‘ranges’ ‘NULL’, or an IRanges object containing the ranges.\n",
       "\n",
       "          ‘strand’ ‘NULL’, or an Rle object, character vector, or\n",
       "              factor containing the strand information.\n",
       "\n",
       "          ‘...’ Metadata columns to set on the GRanges object. All the\n",
       "              metadata columns must be vector-like objects of the same\n",
       "              length as the object to construct. They cannot be named\n",
       "              ‘\"start\"’, ‘\"end\"’, ‘\"width\"’, or ‘\"element\"’.\n",
       "\n",
       "          ‘seqinfo’ Either ‘NULL’, or a Seqinfo object, or a character\n",
       "              vector of unique sequence names (a.k.a.  _seqlevels_), or\n",
       "              a named numeric vector of sequence lengths.  When not\n",
       "              ‘NULL’, ‘seqinfo’ must be compatible with the sequence\n",
       "              names in ‘seqnames’, that is, it must have one entry for\n",
       "              each unique sequence name in ‘seqnames’. Note that it can\n",
       "              have additional entries i.e. entries for seqlevels not\n",
       "              present in ‘seqnames’.\n",
       "\n",
       "          ‘seqlengths’ ‘NULL’, or an integer vector named with\n",
       "              ‘levels(seqnames)’ and containing the lengths (or NA) for\n",
       "              each level in ‘levels(seqnames)’.\n",
       "\n",
       "          If ‘ranges’ is not supplied and/or NULL then the constructor\n",
       "          proceeds in 2 steps:\n",
       "\n",
       "           1. An initial GRanges object is created with ‘as(seqnames,\n",
       "              \"GRanges\")’.\n",
       "\n",
       "           2. Then this GRanges object is updated according to whatever\n",
       "              non-NULL remaining arguments were passed to the call to\n",
       "              ‘GRanges()’.\n",
       "\n",
       "          As a consequence of this behavior, ‘GRanges(x)’ is equivalent\n",
       "          to ‘as(x, \"GRanges\")’.\n",
       "\n",
       "_\bA_\bc_\bc_\be_\bs_\bs_\bo_\br_\bs:\n",
       "\n",
       "     In the following code snippets, ‘x’ is a GRanges object.\n",
       "\n",
       "     ‘length(x)’: Get the number of elements.\n",
       "\n",
       "     ‘seqnames(x)’, ‘seqnames(x) <- value’: Get or set the sequence\n",
       "          names.  ‘value’ can be an Rle object, a character vector, or\n",
       "          a factor.\n",
       "\n",
       "     ‘ranges(x)’, ‘ranges(x) <- value’: Get or set the ranges. ‘value’\n",
       "          can be an IntegerRanges object.\n",
       "\n",
       "     ‘start(x)’, ‘start(x) <- value’: Get or set ‘start(ranges(x))’.\n",
       "\n",
       "     ‘end(x)’, ‘end(x) <- value’: Get or set ‘end(ranges(x))’.\n",
       "\n",
       "     ‘width(x)’, ‘width(x) <- value’: Get or set ‘width(ranges(x))’.\n",
       "\n",
       "     ‘strand(x)’, ‘strand(x) <- value’: Get or set the strand. ‘value’\n",
       "          can be an Rle object, character vector, or factor.\n",
       "\n",
       "     ‘names(x)’, ‘names(x) <- value’: Get or set the names of the\n",
       "          elements.\n",
       "\n",
       "     ‘mcols(x, use.names=FALSE)’, ‘mcols(x) <- value’: Get or set the\n",
       "          metadata columns.  If ‘use.names=TRUE’ and the metadata\n",
       "          columns are not ‘NULL’, then the names of ‘x’ are propagated\n",
       "          as the row names of the returned DataFrame object.  When\n",
       "          setting the metadata columns, the supplied value must be\n",
       "          ‘NULL’ or a data-frame-like object (i.e. DataFrame or\n",
       "          data.frame) holding element-wise metadata.\n",
       "\n",
       "     ‘elementMetadata(x)’, ‘elementMetadata(x) <- value’, ‘values(x)’,\n",
       "          ‘values(x) <- value’: Alternatives to ‘mcols’ functions.\n",
       "          Their use is discouraged.\n",
       "\n",
       "     ‘seqinfo(x)’, ‘seqinfo(x) <- value’: Get or set the information\n",
       "          about the underlying sequences.  ‘value’ must be a Seqinfo\n",
       "          object.\n",
       "\n",
       "     ‘seqlevels(x)’, ‘seqlevels(x, pruning.mode=c(\"error\", \"coarse\",\n",
       "          \"fine\", \"tidy\")) <- value’: Get or set the sequence levels.\n",
       "          ‘seqlevels(x)’ is equivalent to ‘seqlevels(seqinfo(x))’ or to\n",
       "          ‘levels(seqnames(x))’, those 2 expressions being guaranteed\n",
       "          to return identical character vectors on a GRanges object.\n",
       "          ‘value’ must be a character vector with no NAs.  See\n",
       "          ‘?seqlevels’ for more information.\n",
       "\n",
       "     ‘seqlengths(x)’, ‘seqlengths(x) <- value’: Get or set the sequence\n",
       "          lengths.  ‘seqlengths(x)’ is equivalent to\n",
       "          ‘seqlengths(seqinfo(x))’.  ‘value’ can be a named\n",
       "          non-negative integer or numeric vector eventually with NAs.\n",
       "\n",
       "     ‘isCircular(x)’, ‘isCircular(x) <- value’: Get or set the\n",
       "          circularity flags.  ‘isCircular(x)’ is equivalent to\n",
       "          ‘isCircular(seqinfo(x))’.  ‘value’ must be a named logical\n",
       "          vector eventually with NAs.\n",
       "\n",
       "     ‘genome(x)’, ‘genome(x) <- value’: Get or set the genome\n",
       "          identifier or assembly name for each sequence.  ‘genome(x)’\n",
       "          is equivalent to ‘genome(seqinfo(x))’.  ‘value’ must be a\n",
       "          named character vector eventually with NAs.\n",
       "\n",
       "     ‘seqlevelsStyle(x)’, ‘seqlevelsStyle(x) <- value’: Get or set the\n",
       "          seqname style for ‘x’.  See the seqlevelsStyle generic getter\n",
       "          and setter in the ‘GenomeInfoDb’ package for more\n",
       "          information.\n",
       "\n",
       "     ‘score(x), score(x) <- value’: Get or set the “score” column from\n",
       "          the element metadata.\n",
       "\n",
       "     ‘granges(x, use.names=FALSE, use.mcols=FALSE)’: Squeeze the\n",
       "          genomic ranges out of GenomicRanges object ‘x’ and return\n",
       "          them in a GRanges object _parallel_ to ‘x’ (i.e. same length\n",
       "          as ‘x’).  If ‘use.mcols’ is ‘TRUE’, the metadata columns are\n",
       "          propagated.  If ‘x’ is a GenomicRanges derivative with _extra\n",
       "          column slots_, these will be propagated as metadata columns\n",
       "          on the returned GRanges object.\n",
       "\n",
       "_\bC_\bo_\be_\br_\bc_\bi_\bo_\bn:\n",
       "\n",
       "     In the code snippets below, ‘x’ is a GRanges object.\n",
       "\n",
       "     ‘as(from, \"GRanges\")’: Creates a GRanges object from a character\n",
       "          vector, a factor, or IntegerRangesList object.\n",
       "\n",
       "          When ‘from’ is a character vector (or a factor), each element\n",
       "          in it must represent a genomic range in format\n",
       "          ‘chr1:2501-2800’ (unstranded range) or ‘chr1:2501-2800:+’\n",
       "          (stranded range).  ‘..’ is also supported as a separator\n",
       "          between the start and end positions. Strand can be ‘+’, ‘-’,\n",
       "          ‘*’, or missing.  The names on ‘from’ are propagated to the\n",
       "          returned GRanges object.  See ‘as.character()’ and\n",
       "          ‘as.factor()’ below for the reverse transformations.\n",
       "\n",
       "          Coercing a data.frame or DataFrame into a GRanges object is\n",
       "          also supported. See ‘makeGRangesFromDataFrame’ for the\n",
       "          details.\n",
       "\n",
       "     ‘as(from, \"IntegerRangesList\")’: Creates a IntegerRangesList\n",
       "          object from a GRanges object. The ‘strand’ and metadata\n",
       "          columns become _inner_ metadata columns (i.e. metadata\n",
       "          columns on the ranges).  The ‘seqlengths(from)’,\n",
       "          ‘isCircular(from)’, and ‘genome(from)’ vectors become the\n",
       "          metadata columns.\n",
       "\n",
       "     ‘as.character(x, ignore.strand=FALSE)’: Turn GRanges object ‘x’\n",
       "          into a character vector where each range in ‘x’ is\n",
       "          represented by a string in format ‘chr1:2501-2800:+’. If\n",
       "          ‘ignore.strand’ is TRUE or if _all_ the ranges in ‘x’ are\n",
       "          unstranded (i.e. their strand is set to ‘*’), then all the\n",
       "          strings in the output are in format ‘chr1:2501-2800’.\n",
       "\n",
       "          The names on ‘x’ are propagated to the returned character\n",
       "          vector.  Its metadata (‘metadata(x)’) and metadata columns\n",
       "          (‘mcols(x)’) are ignored.\n",
       "\n",
       "          See ‘as(from, \"GRanges\")’ above for the reverse\n",
       "          transformation.\n",
       "\n",
       "     ‘as.factor(x)’: Equivalent to\n",
       "\n",
       "            factor(as.character(x), levels=as.character(sort(unique(x))))\n",
       "          \n",
       "          See ‘as(from, \"GRanges\")’ above for the reverse\n",
       "          transformation.\n",
       "\n",
       "          Note that ‘table(x)’ is supported on a GRanges object. It is\n",
       "          equivalent to, but much faster than, ‘table(as.factor(x))’.\n",
       "\n",
       "     ‘as.data.frame(x, row.names = NULL, optional = FALSE, ...)’:\n",
       "          Creates a data.frame with columns ‘seqnames’ (factor),\n",
       "          ‘start’ (integer), ‘end’ (integer), ‘width’ (integer),\n",
       "          ‘strand’ (factor), as well as the additional metadata columns\n",
       "          stored in ‘mcols(x)’. Pass an explicit\n",
       "          ‘stringsAsFactors=TRUE/FALSE’ argument via ‘...’ to override\n",
       "          the default conversions for the metadata columns in\n",
       "          ‘mcols(x)’.\n",
       "\n",
       "     ‘as(from, \"Grouping\")’: Creates a ‘ManyToOneGrouping’ object that\n",
       "          groups ‘from’ by seqname, strand, start and end (same as the\n",
       "          default sort order). This makes it convenient, for example,\n",
       "          to aggregate a GenomicRanges object by range.\n",
       "\n",
       "     In the code snippets below, ‘x’ is a Seqinfo object.\n",
       "\n",
       "     ‘as(x, \"GRanges\")’, ‘as(x, \"GenomicRanges\")’, ‘as(x,\n",
       "          \"IntegerRangesList\")’: Turns Seqinfo object ‘x’ (with no ‘NA’\n",
       "          lengths) into a GRanges or IntegerRangesList.\n",
       "\n",
       "_\bS_\bu_\bb_\bs_\be_\bt_\bt_\bi_\bn_\bg:\n",
       "\n",
       "     In the code snippets below, ‘x’ is a GRanges object.\n",
       "\n",
       "     ‘x[i]’: Return a new GRanges object made of the elements selected\n",
       "          by ‘i’.\n",
       "\n",
       "     ‘x[i, j]’: Like the above, but allow the user to conveniently\n",
       "          subset the metadata columns thru ‘j’.\n",
       "\n",
       "     ‘x[i] <- value’: Replacement version of ‘x[i]’.\n",
       "\n",
       "     ‘x$name’, ‘x$name <- value’: Shortcuts for ‘mcols(x)$name’ and\n",
       "          ‘mcols(x)$name <- value’, respectively. Provided as a\n",
       "          convenience, for GRanges objects *only*, and as the result of\n",
       "          strong popular demand.  Note that those methods are not\n",
       "          consistent with the other ‘$’ and ‘$<-’ methods in the\n",
       "          IRanges/GenomicRanges infrastructure, and might confuse some\n",
       "          users by making them believe that a GRanges object can be\n",
       "          manipulated as a data.frame-like object.  Therefore we\n",
       "          recommend using them only interactively, and we discourage\n",
       "          their use in scripts or packages. For the latter, use\n",
       "          ‘mcols(x)$name’ and ‘mcols(x)$name <- value’, instead of\n",
       "          ‘x$name’ and ‘x$name <- value’, respectively.\n",
       "\n",
       "     See ‘?`[`’ in the ‘S4Vectors’ package for more information about\n",
       "     subsetting Vector derivatives and for an important note about the\n",
       "     ‘x[i, j]’ form.\n",
       "\n",
       "     Note that a GRanges object can be used as a subscript to subset a\n",
       "     list-like object that has names on it. In that case, the names on\n",
       "     the list-like object are interpreted as sequence names.  In the\n",
       "     code snippets below, ‘x’ is a list or List object with names on\n",
       "     it, and the subscript ‘gr’ is a GRanges object with all its\n",
       "     seqnames being valid ‘x’ names.\n",
       "\n",
       "     ‘x[gr]’: Return an object of the same class as ‘x’ and _parallel_\n",
       "          to ‘gr’. More precisely, it's conceptually doing:\n",
       "\n",
       "            lapply(gr, function(gr1) x[[seqnames(gr1)]][ranges(gr1)])\n",
       "          \n",
       "_\bC_\bo_\bn_\bc_\ba_\bt_\be_\bn_\ba_\bt_\bi_\bo_\bn:\n",
       "\n",
       "     ‘c(x, ..., ignore.mcols=FALSE)’: Concatenate GRanges object ‘x’\n",
       "          and the GRanges objects in ‘...’ together.  See ‘?c’ in the\n",
       "          ‘S4Vectors’ package for more information about concatenating\n",
       "          Vector derivatives.\n",
       "\n",
       "_\bS_\bp_\bl_\bi_\bt_\bt_\bi_\bn_\bg:\n",
       "\n",
       "     ‘split(x, f, drop=FALSE)’: Splits GRanges object ‘x’ according to\n",
       "          ‘f’ to create a GRangesList object.  If ‘f’ is a list-like\n",
       "          object then ‘drop’ is ignored and ‘f’ is treated as if it was\n",
       "          ‘rep(seq_len(length(f)), sapply(f, length))’, so the returned\n",
       "          object has the same shape as ‘f’ (it also receives the names\n",
       "          of ‘f’).  Otherwise, if ‘f’ is not a list-like object, empty\n",
       "          list elements are removed from the returned object if ‘drop’\n",
       "          is ‘TRUE’.\n",
       "\n",
       "_\bD_\bi_\bs_\bp_\bl_\ba_\by_\bi_\bn_\bg:\n",
       "\n",
       "     In the code snippets below, ‘x’ is a GRanges object.\n",
       "\n",
       "     ‘show(x)’: By default the ‘show’ method displays 5 head and 5 tail\n",
       "          elements. This can be changed by setting the global options\n",
       "          ‘showHeadLines’ and ‘showTailLines’. If the object length is\n",
       "          less than (or equal to) the sum of these 2 options plus 1,\n",
       "          then the full object is displayed.  Note that these options\n",
       "          also affect the display of GAlignments and GAlignmentPairs\n",
       "          objects (defined in the ‘GenomicAlignments’ package), as well\n",
       "          as other objects defined in the ‘IRanges’ and ‘Biostrings’\n",
       "          packages (e.g.  IRanges and DNAStringSet objects).\n",
       "\n",
       "_\bA_\bu_\bt_\bh_\bo_\br(_\bs):\n",
       "\n",
       "     P. Aboyoun and H. Pagès\n",
       "\n",
       "_\bS_\be_\be _\bA_\bl_\bs_\bo:\n",
       "\n",
       "        • The IRanges class in the ‘IRanges’ package for storing a set\n",
       "          of _integer ranges_.\n",
       "\n",
       "        • The GPos class for representing a set of _genomic positions_\n",
       "          (i.e. _genomic ranges_ of width 1, a.k.a.  _genomic loci_).\n",
       "\n",
       "        • ‘makeGRangesFromDataFrame’ for making a GRanges object from a\n",
       "          data.frame or DataFrame object.\n",
       "\n",
       "        • Seqinfo objects and the ‘seqinfo’ accessor and family in the\n",
       "          ‘GenomeInfoDb’ package for accessing/modifying information\n",
       "          about the underlying sequences of a GenomicRanges derivative.\n",
       "\n",
       "        • GenomicRanges-comparison for comparing and ordering genomic\n",
       "          ranges and/or positions.\n",
       "\n",
       "        • findOverlaps-methods for finding overlapping genomic ranges\n",
       "          and/or positions.\n",
       "\n",
       "        • intra-range-methods and inter-range-methods for _intra range_\n",
       "          and _inter range_ transformations of GenomicRanges\n",
       "          derivatives.\n",
       "\n",
       "        • coverage-methods for computing the coverage of a set of\n",
       "          genomic ranges and/or positions.\n",
       "\n",
       "        • setops-methods for set operations on GRanges objects.\n",
       "\n",
       "        • subtract for subtracting a set of genomic ranges from a\n",
       "          GRanges object (similar to bedtools subtract).\n",
       "\n",
       "        • nearest-methods for finding the nearest genomic\n",
       "          range/position neighbor.\n",
       "\n",
       "        • ‘absoluteRanges’ for transforming genomic ranges into\n",
       "          _absolute_ ranges (i.e. into ranges on the sequence obtained\n",
       "          by virtually concatenating all the sequences in a genome).\n",
       "\n",
       "        • ‘tileGenome’ for putting tiles on a genome.\n",
       "\n",
       "        • genomicvars for manipulating genomic variables.\n",
       "\n",
       "        • GRangesList objects.\n",
       "\n",
       "        • Vector, Rle, and DataFrame objects in the ‘S4Vectors’\n",
       "          package.\n",
       "\n",
       "_\bE_\bx_\ba_\bm_\bp_\bl_\be_\bs:\n",
       "\n",
       "     showClass(\"GRanges\")  # shows the known subclasses\n",
       "     \n",
       "     ## ---------------------------------------------------------------------\n",
       "     ## CONSTRUCTION\n",
       "     ## ---------------------------------------------------------------------\n",
       "     ## Specifying the bare minimum i.e. seqnames and ranges only. The\n",
       "     ## GRanges object will have no names, no strand information, and no\n",
       "     ## metadata columns:\n",
       "     gr0 <- GRanges(Rle(c(\"chr2\", \"chr2\", \"chr1\", \"chr3\"), c(1, 3, 2, 4)),\n",
       "                    IRanges(1:10, width=10:1))\n",
       "     gr0\n",
       "     \n",
       "     ## Specifying names, strand, metadata columns. They can be set on an\n",
       "     ## existing object:\n",
       "     names(gr0) <- head(letters, 10)\n",
       "     strand(gr0) <- Rle(strand(c(\"-\", \"+\", \"*\", \"+\", \"-\")), c(1, 2, 2, 3, 2))\n",
       "     mcols(gr0)$score <- 1:10\n",
       "     mcols(gr0)$GC <- seq(1, 0, length=10)\n",
       "     gr0\n",
       "     \n",
       "     ## ... or specified at construction time:\n",
       "     gr <- GRanges(Rle(c(\"chr2\", \"chr2\", \"chr1\", \"chr3\"), c(1, 3, 2, 4)),\n",
       "                   IRanges(1:10, width=10:1, names=head(letters, 10)),\n",
       "                   Rle(strand(c(\"-\", \"+\", \"*\", \"+\", \"-\")), c(1, 2, 2, 3, 2)),\n",
       "                   score=1:10, GC=seq(1, 0, length=10))\n",
       "     stopifnot(identical(gr0, gr))\n",
       "     \n",
       "     ## Specifying the seqinfo. It can be set on an existing object:\n",
       "     seqinfo <- Seqinfo(paste0(\"chr\", 1:3), c(1000, 2000, 1500), NA, \"mock1\")\n",
       "     seqinfo(gr0) <- merge(seqinfo(gr0), seqinfo)\n",
       "     seqlevels(gr0) <- seqlevels(seqinfo)\n",
       "     \n",
       "     ## ... or specified at construction time:\n",
       "     gr <- GRanges(Rle(c(\"chr2\", \"chr2\", \"chr1\", \"chr3\"), c(1, 3, 2, 4)),\n",
       "                   IRanges(1:10, width=10:1, names=head(letters, 10)),\n",
       "                   Rle(strand(c(\"-\", \"+\", \"*\", \"+\", \"-\")), c(1, 2, 2, 3, 2)),\n",
       "                   score=1:10, GC=seq(1, 0, length=10),\n",
       "                   seqinfo=seqinfo)\n",
       "     stopifnot(identical(gr0, gr))\n",
       "     \n",
       "     ## ---------------------------------------------------------------------\n",
       "     ## COERCION\n",
       "     ## ---------------------------------------------------------------------\n",
       "     ## From GRanges:\n",
       "     as.character(gr)\n",
       "     as.factor(gr)\n",
       "     as.data.frame(gr)\n",
       "     \n",
       "     ## From character to GRanges:\n",
       "     x1 <- \"chr2:56-125\"\n",
       "     as(x1, \"GRanges\")\n",
       "     as(rep(x1, 4), \"GRanges\")\n",
       "     x2 <- c(A=x1, B=\"chr1:25-30:-\")\n",
       "     as(x2, \"GRanges\")\n",
       "     \n",
       "     ## From data.frame to GRanges:\n",
       "     df <- data.frame(chrom=\"chr2\", start=11:15, end=20:24)\n",
       "     gr3 <- as(df, \"GRanges\")\n",
       "     \n",
       "     ## Alternatively, coercion to GRanges can be done by just calling the\n",
       "     ## GRanges() constructor on the object to coerce:\n",
       "     gr1 <- GRanges(x1)  # same as as(x1, \"GRanges\")\n",
       "     gr2 <- GRanges(x2)  # same as as(x2, \"GRanges\")\n",
       "     gr3 <- GRanges(df)  # same as as(df, \"GRanges\")\n",
       "     \n",
       "     ## Sanity checks:\n",
       "     stopifnot(identical(as(x1, \"GRanges\"), gr1))\n",
       "     stopifnot(identical(as(x2, \"GRanges\"), gr2))\n",
       "     stopifnot(identical(as(df, \"GRanges\"), gr3))\n",
       "     \n",
       "     ## ---------------------------------------------------------------------\n",
       "     ## SUMMARIZING ELEMENTS\n",
       "     ## ---------------------------------------------------------------------\n",
       "     table(seqnames(gr))\n",
       "     table(strand(gr))\n",
       "     sum(width(gr))\n",
       "     table(gr)\n",
       "     summary(mcols(gr)[,\"score\"])\n",
       "     \n",
       "     ## The number of lines displayed in the 'show' method are controlled\n",
       "     ## with two global options:\n",
       "     longGR  <- sample(gr, 25, replace=TRUE)\n",
       "     longGR\n",
       "     options(showHeadLines=7)\n",
       "     options(showTailLines=2)\n",
       "     longGR\n",
       "     \n",
       "     ## Revert to default values\n",
       "     options(showHeadLines=NULL)\n",
       "     options(showTailLines=NULL)\n",
       "     \n",
       "     ## ---------------------------------------------------------------------\n",
       "     ## INVERTING THE STRAND\n",
       "     ## ---------------------------------------------------------------------\n",
       "     invertStrand(gr)\n",
       "     \n",
       "     ## ---------------------------------------------------------------------\n",
       "     ## RENAMING THE UNDERLYING SEQUENCES\n",
       "     ## ---------------------------------------------------------------------\n",
       "     seqlevels(gr)\n",
       "     seqlevels(gr) <- sub(\"chr\", \"Chrom\", seqlevels(gr))\n",
       "     gr\n",
       "     seqlevels(gr) <- sub(\"Chrom\", \"chr\", seqlevels(gr)) # revert\n",
       "     \n",
       "     ## ---------------------------------------------------------------------\n",
       "     ## COMBINING OBJECTS\n",
       "     ## ---------------------------------------------------------------------\n",
       "     gr2 <- GRanges(seqnames=Rle(c('chr1', 'chr2', 'chr3'), c(3, 3, 4)),\n",
       "                    IRanges(1:10, width=5),\n",
       "                    strand='-',\n",
       "                    score=101:110, GC=runif(10),\n",
       "                    seqinfo=seqinfo)\n",
       "     gr3 <- GRanges(seqnames=Rle(c('chr1', 'chr2', 'chr3'), c(3, 4, 3)),\n",
       "                    IRanges(101:110, width=10),\n",
       "                    strand='-',\n",
       "                    score=21:30,\n",
       "                    seqinfo=seqinfo)\n",
       "     some.gr <- c(gr, gr2)\n",
       "     \n",
       "     c(gr, gr2, gr3)\n",
       "     c(gr, gr2, gr3, ignore.mcols=TRUE)\n",
       "     \n",
       "     ## ---------------------------------------------------------------------\n",
       "     ## USING A GRANGES OBJECT AS A SUBSCRIPT TO SUBSET ANOTHER OBJECT\n",
       "     ## ---------------------------------------------------------------------\n",
       "     ## Subsetting *by* a GRanges subscript is supported only if the object\n",
       "     ## to subset is a named list-like object:\n",
       "     x <- RleList(chr1=101:120, chr2=2:-8, chr3=31:40)\n",
       "     x[gr]\n",
       "     "
      ]
     },
     "metadata": {},
     "output_type": "display_data"
    }
   ],
   "source": [
    "?GRanges"
   ]
  },
  {
   "cell_type": "markdown",
   "id": "dde4762b-9097-48bc-9e2f-92715748de8c",
   "metadata": {},
   "source": [
    "# Step 5: Gene Annotation for ATACseq data"
   ]
  },
  {
   "cell_type": "markdown",
   "id": "68a43570-6f29-40a8-830a-74a55f0a7718",
   "metadata": {},
   "source": [
    "Using the annotation file Homo_sapiens.GRCh38.114.gtf.gz:\n",
    "* Create a GenomicRanges object only for protein-coding genes and only for gene features.\n",
    "* Remap the ATAC-seq GenomicRanges to this object and attach the summarized peak data from step 4."
   ]
  },
  {
   "cell_type": "code",
   "execution_count": 48,
   "id": "295b31d7-df94-4e3b-8135-a3edeae99f1c",
   "metadata": {},
   "outputs": [],
   "source": [
    "if (!requireNamespace(\"rtracklayer\", quietly = TRUE)) BiocManager::install(\"rtracklayer\")\n",
    "library(rtracklayer)"
   ]
  },
  {
   "cell_type": "code",
   "execution_count": 51,
   "id": "c818a40e-623a-4ad8-80cb-ed6bbea304f5",
   "metadata": {},
   "outputs": [],
   "source": [
    "h38 <- rtracklayer::import(\"Data/Homo_sapiens.GRCh38.114.gtf.gz\")"
   ]
  },
  {
   "cell_type": "code",
   "execution_count": 55,
   "id": "5f4d070b-d835-4fb8-84f2-7be65b6ffafe",
   "metadata": {},
   "outputs": [
    {
     "data": {
      "text/plain": [
       "factor-Rle of length 4116048 with 70 runs\n",
       "  Lengths:     384290     317346     258971 ...         24          4\n",
       "  Values : 1          2          3          ... KI270718.1 KI270755.1\n",
       "Levels(70): 1 2 3 4 5 ... KI270750.1 KI270751.1 KI270753.1 KI270755.1"
      ]
     },
     "metadata": {},
     "output_type": "display_data"
    }
   ],
   "source": [
    "seqnames(h38)"
   ]
  },
  {
   "cell_type": "code",
   "execution_count": 52,
   "id": "c7962756-1a10-4498-a962-492ac6f89052",
   "metadata": {},
   "outputs": [
    {
     "data": {
      "text/plain": [
       "GRanges object with 6 ranges and 22 metadata columns:\n",
       "      seqnames          ranges strand |         source        type     score\n",
       "         <Rle>       <IRanges>  <Rle> |       <factor>    <factor> <numeric>\n",
       "  [1]        1 3069168-3438621      + | ensembl_havana gene               NA\n",
       "  [2]        1 3069168-3434342      + | havana         transcript         NA\n",
       "  [3]        1 3069168-3069296      + | havana         exon               NA\n",
       "  [4]        1 3069260-3069296      + | havana         CDS                NA\n",
       "  [5]        1 3069260-3069262      + | havana         start_codon        NA\n",
       "  [6]        1 3186125-3186474      + | havana         exon               NA\n",
       "          phase         gene_id gene_version   gene_name    gene_source\n",
       "      <integer>     <character>  <character> <character>    <character>\n",
       "  [1]      <NA> ENSG00000142611           17      PRDM16 ensembl_havana\n",
       "  [2]      <NA> ENSG00000142611           17      PRDM16 ensembl_havana\n",
       "  [3]      <NA> ENSG00000142611           17      PRDM16 ensembl_havana\n",
       "  [4]         0 ENSG00000142611           17      PRDM16 ensembl_havana\n",
       "  [5]         0 ENSG00000142611           17      PRDM16 ensembl_havana\n",
       "  [6]      <NA> ENSG00000142611           17      PRDM16 ensembl_havana\n",
       "        gene_biotype   transcript_id transcript_version transcript_name\n",
       "         <character>     <character>        <character>     <character>\n",
       "  [1] protein_coding            <NA>               <NA>            <NA>\n",
       "  [2] protein_coding ENST00000511072                  5      PRDM16-206\n",
       "  [3] protein_coding ENST00000511072                  5      PRDM16-206\n",
       "  [4] protein_coding ENST00000511072                  5      PRDM16-206\n",
       "  [5] protein_coding ENST00000511072                  5      PRDM16-206\n",
       "  [6] protein_coding ENST00000511072                  5      PRDM16-206\n",
       "      transcript_source transcript_biotype             tag\n",
       "            <character>        <character>     <character>\n",
       "  [1]              <NA>               <NA>            <NA>\n",
       "  [2]            havana     protein_coding gencode_primary\n",
       "  [3]            havana     protein_coding gencode_primary\n",
       "  [4]            havana     protein_coding gencode_primary\n",
       "  [5]            havana     protein_coding gencode_primary\n",
       "  [6]            havana     protein_coding gencode_primary\n",
       "      transcript_support_level exon_number         exon_id exon_version\n",
       "                   <character> <character>     <character>  <character>\n",
       "  [1]                     <NA>        <NA>            <NA>         <NA>\n",
       "  [2]                        5        <NA>            <NA>         <NA>\n",
       "  [3]                        5           1 ENSE00002048533            1\n",
       "  [4]                        5           1            <NA>         <NA>\n",
       "  [5]                        5           1            <NA>         <NA>\n",
       "  [6]                        5           2 ENSE00001754112            1\n",
       "           protein_id protein_version     ccds_id\n",
       "          <character>     <character> <character>\n",
       "  [1]            <NA>            <NA>        <NA>\n",
       "  [2]            <NA>            <NA>        <NA>\n",
       "  [3]            <NA>            <NA>        <NA>\n",
       "  [4] ENSP00000426975               1        <NA>\n",
       "  [5]            <NA>            <NA>        <NA>\n",
       "  [6]            <NA>            <NA>        <NA>\n",
       "  -------\n",
       "  seqinfo: 70 sequences from an unspecified genome; no seqlengths"
      ]
     },
     "metadata": {},
     "output_type": "display_data"
    }
   ],
   "source": [
    "head(h38)"
   ]
  },
  {
   "cell_type": "code",
   "execution_count": 65,
   "id": "5fec7f0a-1d6c-4858-936f-5c5f228d52af",
   "metadata": {},
   "outputs": [
    {
     "data": {
      "text/html": [
       "20120"
      ],
      "text/latex": [
       "20120"
      ],
      "text/markdown": [
       "20120"
      ],
      "text/plain": [
       "[1] 20120"
      ]
     },
     "metadata": {},
     "output_type": "display_data"
    }
   ],
   "source": [
    "sum(h38$type == \"gene\" & h38$gene_biotype == \"protein_coding\")"
   ]
  },
  {
   "cell_type": "code",
   "execution_count": 75,
   "id": "2eba1416-3753-44df-928e-f310ba7b6fad",
   "metadata": {},
   "outputs": [],
   "source": [
    "seqlevels(h38) <- ifelse(\n",
    "    grepl(\n",
    "        \"^([1-9]|1[0-9]|2[0-2]|X|Y)$\", \n",
    "        seqlevels(h38)\n",
    "    ), \n",
    "    paste0(\n",
    "        \"chr\", \n",
    "        seqlevels(h38)\n",
    "    ), \n",
    "    seqlevels(h38)\n",
    ")"
   ]
  },
  {
   "cell_type": "code",
   "execution_count": 76,
   "id": "da9a6d7b-8ce7-427a-a1f4-d012c6557f28",
   "metadata": {},
   "outputs": [
    {
     "data": {
      "text/html": [
       "<style>\n",
       ".list-inline {list-style: none; margin:0; padding: 0}\n",
       ".list-inline>li {display: inline-block}\n",
       ".list-inline>li:not(:last-child)::after {content: \"\\00b7\"; padding: 0 .5ex}\n",
       "</style>\n",
       "<ol class=list-inline><li>'chr1'</li><li>'chr2'</li><li>'chr3'</li><li>'chr4'</li><li>'chr5'</li><li>'chr6'</li><li>'chr7'</li><li>'chr8'</li><li>'chr9'</li><li>'chr10'</li><li>'chr11'</li><li>'chr12'</li><li>'chr13'</li><li>'chr14'</li><li>'chr15'</li><li>'chr16'</li><li>'chr17'</li><li>'chr18'</li><li>'chr19'</li><li>'chr20'</li><li>'chr21'</li><li>'chr22'</li><li>'chrX'</li><li>'chrY'</li><li>'MT'</li><li>'GL000008.2'</li><li>'GL000009.2'</li><li>'GL000194.1'</li><li>'GL000195.1'</li><li>'GL000205.2'</li><li>'GL000213.1'</li><li>'GL000214.1'</li><li>'GL000216.2'</li><li>'GL000218.1'</li><li>'GL000219.1'</li><li>'GL000220.1'</li><li>'GL000221.1'</li><li>'GL000224.1'</li><li>'GL000225.1'</li><li>'KI270442.1'</li><li>'KI270706.1'</li><li>'KI270710.1'</li><li>'KI270711.1'</li><li>'KI270712.1'</li><li>'KI270713.1'</li><li>'KI270714.1'</li><li>'KI270717.1'</li><li>'KI270718.1'</li><li>'KI270719.1'</li><li>'KI270720.1'</li><li>'KI270721.1'</li><li>'KI270722.1'</li><li>'KI270726.1'</li><li>'KI270727.1'</li><li>'KI270728.1'</li><li>'KI270731.1'</li><li>'KI270733.1'</li><li>'KI270734.1'</li><li>'KI270741.1'</li><li>'KI270742.1'</li><li>'KI270743.1'</li><li>'KI270744.1'</li><li>'KI270745.1'</li><li>'KI270746.1'</li><li>'KI270748.1'</li><li>'KI270749.1'</li><li>'KI270750.1'</li><li>'KI270751.1'</li><li>'KI270753.1'</li><li>'KI270755.1'</li></ol>\n"
      ],
      "text/latex": [
       "\\begin{enumerate*}\n",
       "\\item 'chr1'\n",
       "\\item 'chr2'\n",
       "\\item 'chr3'\n",
       "\\item 'chr4'\n",
       "\\item 'chr5'\n",
       "\\item 'chr6'\n",
       "\\item 'chr7'\n",
       "\\item 'chr8'\n",
       "\\item 'chr9'\n",
       "\\item 'chr10'\n",
       "\\item 'chr11'\n",
       "\\item 'chr12'\n",
       "\\item 'chr13'\n",
       "\\item 'chr14'\n",
       "\\item 'chr15'\n",
       "\\item 'chr16'\n",
       "\\item 'chr17'\n",
       "\\item 'chr18'\n",
       "\\item 'chr19'\n",
       "\\item 'chr20'\n",
       "\\item 'chr21'\n",
       "\\item 'chr22'\n",
       "\\item 'chrX'\n",
       "\\item 'chrY'\n",
       "\\item 'MT'\n",
       "\\item 'GL000008.2'\n",
       "\\item 'GL000009.2'\n",
       "\\item 'GL000194.1'\n",
       "\\item 'GL000195.1'\n",
       "\\item 'GL000205.2'\n",
       "\\item 'GL000213.1'\n",
       "\\item 'GL000214.1'\n",
       "\\item 'GL000216.2'\n",
       "\\item 'GL000218.1'\n",
       "\\item 'GL000219.1'\n",
       "\\item 'GL000220.1'\n",
       "\\item 'GL000221.1'\n",
       "\\item 'GL000224.1'\n",
       "\\item 'GL000225.1'\n",
       "\\item 'KI270442.1'\n",
       "\\item 'KI270706.1'\n",
       "\\item 'KI270710.1'\n",
       "\\item 'KI270711.1'\n",
       "\\item 'KI270712.1'\n",
       "\\item 'KI270713.1'\n",
       "\\item 'KI270714.1'\n",
       "\\item 'KI270717.1'\n",
       "\\item 'KI270718.1'\n",
       "\\item 'KI270719.1'\n",
       "\\item 'KI270720.1'\n",
       "\\item 'KI270721.1'\n",
       "\\item 'KI270722.1'\n",
       "\\item 'KI270726.1'\n",
       "\\item 'KI270727.1'\n",
       "\\item 'KI270728.1'\n",
       "\\item 'KI270731.1'\n",
       "\\item 'KI270733.1'\n",
       "\\item 'KI270734.1'\n",
       "\\item 'KI270741.1'\n",
       "\\item 'KI270742.1'\n",
       "\\item 'KI270743.1'\n",
       "\\item 'KI270744.1'\n",
       "\\item 'KI270745.1'\n",
       "\\item 'KI270746.1'\n",
       "\\item 'KI270748.1'\n",
       "\\item 'KI270749.1'\n",
       "\\item 'KI270750.1'\n",
       "\\item 'KI270751.1'\n",
       "\\item 'KI270753.1'\n",
       "\\item 'KI270755.1'\n",
       "\\end{enumerate*}\n"
      ],
      "text/markdown": [
       "1. 'chr1'\n",
       "2. 'chr2'\n",
       "3. 'chr3'\n",
       "4. 'chr4'\n",
       "5. 'chr5'\n",
       "6. 'chr6'\n",
       "7. 'chr7'\n",
       "8. 'chr8'\n",
       "9. 'chr9'\n",
       "10. 'chr10'\n",
       "11. 'chr11'\n",
       "12. 'chr12'\n",
       "13. 'chr13'\n",
       "14. 'chr14'\n",
       "15. 'chr15'\n",
       "16. 'chr16'\n",
       "17. 'chr17'\n",
       "18. 'chr18'\n",
       "19. 'chr19'\n",
       "20. 'chr20'\n",
       "21. 'chr21'\n",
       "22. 'chr22'\n",
       "23. 'chrX'\n",
       "24. 'chrY'\n",
       "25. 'MT'\n",
       "26. 'GL000008.2'\n",
       "27. 'GL000009.2'\n",
       "28. 'GL000194.1'\n",
       "29. 'GL000195.1'\n",
       "30. 'GL000205.2'\n",
       "31. 'GL000213.1'\n",
       "32. 'GL000214.1'\n",
       "33. 'GL000216.2'\n",
       "34. 'GL000218.1'\n",
       "35. 'GL000219.1'\n",
       "36. 'GL000220.1'\n",
       "37. 'GL000221.1'\n",
       "38. 'GL000224.1'\n",
       "39. 'GL000225.1'\n",
       "40. 'KI270442.1'\n",
       "41. 'KI270706.1'\n",
       "42. 'KI270710.1'\n",
       "43. 'KI270711.1'\n",
       "44. 'KI270712.1'\n",
       "45. 'KI270713.1'\n",
       "46. 'KI270714.1'\n",
       "47. 'KI270717.1'\n",
       "48. 'KI270718.1'\n",
       "49. 'KI270719.1'\n",
       "50. 'KI270720.1'\n",
       "51. 'KI270721.1'\n",
       "52. 'KI270722.1'\n",
       "53. 'KI270726.1'\n",
       "54. 'KI270727.1'\n",
       "55. 'KI270728.1'\n",
       "56. 'KI270731.1'\n",
       "57. 'KI270733.1'\n",
       "58. 'KI270734.1'\n",
       "59. 'KI270741.1'\n",
       "60. 'KI270742.1'\n",
       "61. 'KI270743.1'\n",
       "62. 'KI270744.1'\n",
       "63. 'KI270745.1'\n",
       "64. 'KI270746.1'\n",
       "65. 'KI270748.1'\n",
       "66. 'KI270749.1'\n",
       "67. 'KI270750.1'\n",
       "68. 'KI270751.1'\n",
       "69. 'KI270753.1'\n",
       "70. 'KI270755.1'\n",
       "\n",
       "\n"
      ],
      "text/plain": [
       " [1] \"chr1\"       \"chr2\"       \"chr3\"       \"chr4\"       \"chr5\"      \n",
       " [6] \"chr6\"       \"chr7\"       \"chr8\"       \"chr9\"       \"chr10\"     \n",
       "[11] \"chr11\"      \"chr12\"      \"chr13\"      \"chr14\"      \"chr15\"     \n",
       "[16] \"chr16\"      \"chr17\"      \"chr18\"      \"chr19\"      \"chr20\"     \n",
       "[21] \"chr21\"      \"chr22\"      \"chrX\"       \"chrY\"       \"MT\"        \n",
       "[26] \"GL000008.2\" \"GL000009.2\" \"GL000194.1\" \"GL000195.1\" \"GL000205.2\"\n",
       "[31] \"GL000213.1\" \"GL000214.1\" \"GL000216.2\" \"GL000218.1\" \"GL000219.1\"\n",
       "[36] \"GL000220.1\" \"GL000221.1\" \"GL000224.1\" \"GL000225.1\" \"KI270442.1\"\n",
       "[41] \"KI270706.1\" \"KI270710.1\" \"KI270711.1\" \"KI270712.1\" \"KI270713.1\"\n",
       "[46] \"KI270714.1\" \"KI270717.1\" \"KI270718.1\" \"KI270719.1\" \"KI270720.1\"\n",
       "[51] \"KI270721.1\" \"KI270722.1\" \"KI270726.1\" \"KI270727.1\" \"KI270728.1\"\n",
       "[56] \"KI270731.1\" \"KI270733.1\" \"KI270734.1\" \"KI270741.1\" \"KI270742.1\"\n",
       "[61] \"KI270743.1\" \"KI270744.1\" \"KI270745.1\" \"KI270746.1\" \"KI270748.1\"\n",
       "[66] \"KI270749.1\" \"KI270750.1\" \"KI270751.1\" \"KI270753.1\" \"KI270755.1\""
      ]
     },
     "metadata": {},
     "output_type": "display_data"
    }
   ],
   "source": [
    "seqlevels(h38)"
   ]
  },
  {
   "cell_type": "code",
   "execution_count": 86,
   "id": "1b2b6e22-df90-458e-b67c-76ec9ecc550a",
   "metadata": {},
   "outputs": [],
   "source": [
    "h38_protein_coding <- h38[h38$type == \"gene\" & h38$gene_biotype == \"protein_coding\"]"
   ]
  },
  {
   "cell_type": "code",
   "execution_count": 87,
   "id": "1d481669-bac8-4479-8ff1-2e8dd4fdb73b",
   "metadata": {},
   "outputs": [
    {
     "data": {
      "text/html": [
       "<style>\n",
       ".list-inline {list-style: none; margin:0; padding: 0}\n",
       ".list-inline>li {display: inline-block}\n",
       ".list-inline>li:not(:last-child)::after {content: \"\\00b7\"; padding: 0 .5ex}\n",
       "</style>\n",
       "<ol class=list-inline><li>TRUE</li><li>FALSE</li><li>FALSE</li><li>FALSE</li><li>FALSE</li><li>FALSE</li><li>FALSE</li><li>FALSE</li><li>FALSE</li><li>FALSE</li><li>FALSE</li><li>FALSE</li><li>FALSE</li><li>FALSE</li><li>FALSE</li><li>FALSE</li><li>FALSE</li><li>FALSE</li><li>FALSE</li><li>FALSE</li><li>FALSE</li><li>FALSE</li><li>FALSE</li><li>FALSE</li><li>FALSE</li><li>FALSE</li><li>FALSE</li><li>FALSE</li><li>FALSE</li><li>FALSE</li><li>FALSE</li><li>FALSE</li><li>FALSE</li><li>FALSE</li><li>FALSE</li><li>FALSE</li><li>FALSE</li><li>FALSE</li><li>FALSE</li><li>FALSE</li><li>FALSE</li><li>FALSE</li><li>FALSE</li><li>FALSE</li><li>FALSE</li><li>FALSE</li><li>FALSE</li><li>FALSE</li><li>FALSE</li><li>FALSE</li><li>FALSE</li><li>FALSE</li><li>FALSE</li><li>FALSE</li><li>FALSE</li><li>FALSE</li><li>FALSE</li><li>FALSE</li><li>FALSE</li><li>FALSE</li><li>FALSE</li><li>FALSE</li><li>FALSE</li><li>FALSE</li><li>FALSE</li><li>FALSE</li><li>FALSE</li><li>FALSE</li><li>FALSE</li><li>FALSE</li></ol>\n"
      ],
      "text/latex": [
       "\\begin{enumerate*}\n",
       "\\item TRUE\n",
       "\\item FALSE\n",
       "\\item FALSE\n",
       "\\item FALSE\n",
       "\\item FALSE\n",
       "\\item FALSE\n",
       "\\item FALSE\n",
       "\\item FALSE\n",
       "\\item FALSE\n",
       "\\item FALSE\n",
       "\\item FALSE\n",
       "\\item FALSE\n",
       "\\item FALSE\n",
       "\\item FALSE\n",
       "\\item FALSE\n",
       "\\item FALSE\n",
       "\\item FALSE\n",
       "\\item FALSE\n",
       "\\item FALSE\n",
       "\\item FALSE\n",
       "\\item FALSE\n",
       "\\item FALSE\n",
       "\\item FALSE\n",
       "\\item FALSE\n",
       "\\item FALSE\n",
       "\\item FALSE\n",
       "\\item FALSE\n",
       "\\item FALSE\n",
       "\\item FALSE\n",
       "\\item FALSE\n",
       "\\item FALSE\n",
       "\\item FALSE\n",
       "\\item FALSE\n",
       "\\item FALSE\n",
       "\\item FALSE\n",
       "\\item FALSE\n",
       "\\item FALSE\n",
       "\\item FALSE\n",
       "\\item FALSE\n",
       "\\item FALSE\n",
       "\\item FALSE\n",
       "\\item FALSE\n",
       "\\item FALSE\n",
       "\\item FALSE\n",
       "\\item FALSE\n",
       "\\item FALSE\n",
       "\\item FALSE\n",
       "\\item FALSE\n",
       "\\item FALSE\n",
       "\\item FALSE\n",
       "\\item FALSE\n",
       "\\item FALSE\n",
       "\\item FALSE\n",
       "\\item FALSE\n",
       "\\item FALSE\n",
       "\\item FALSE\n",
       "\\item FALSE\n",
       "\\item FALSE\n",
       "\\item FALSE\n",
       "\\item FALSE\n",
       "\\item FALSE\n",
       "\\item FALSE\n",
       "\\item FALSE\n",
       "\\item FALSE\n",
       "\\item FALSE\n",
       "\\item FALSE\n",
       "\\item FALSE\n",
       "\\item FALSE\n",
       "\\item FALSE\n",
       "\\item FALSE\n",
       "\\end{enumerate*}\n"
      ],
      "text/markdown": [
       "1. TRUE\n",
       "2. FALSE\n",
       "3. FALSE\n",
       "4. FALSE\n",
       "5. FALSE\n",
       "6. FALSE\n",
       "7. FALSE\n",
       "8. FALSE\n",
       "9. FALSE\n",
       "10. FALSE\n",
       "11. FALSE\n",
       "12. FALSE\n",
       "13. FALSE\n",
       "14. FALSE\n",
       "15. FALSE\n",
       "16. FALSE\n",
       "17. FALSE\n",
       "18. FALSE\n",
       "19. FALSE\n",
       "20. FALSE\n",
       "21. FALSE\n",
       "22. FALSE\n",
       "23. FALSE\n",
       "24. FALSE\n",
       "25. FALSE\n",
       "26. FALSE\n",
       "27. FALSE\n",
       "28. FALSE\n",
       "29. FALSE\n",
       "30. FALSE\n",
       "31. FALSE\n",
       "32. FALSE\n",
       "33. FALSE\n",
       "34. FALSE\n",
       "35. FALSE\n",
       "36. FALSE\n",
       "37. FALSE\n",
       "38. FALSE\n",
       "39. FALSE\n",
       "40. FALSE\n",
       "41. FALSE\n",
       "42. FALSE\n",
       "43. FALSE\n",
       "44. FALSE\n",
       "45. FALSE\n",
       "46. FALSE\n",
       "47. FALSE\n",
       "48. FALSE\n",
       "49. FALSE\n",
       "50. FALSE\n",
       "51. FALSE\n",
       "52. FALSE\n",
       "53. FALSE\n",
       "54. FALSE\n",
       "55. FALSE\n",
       "56. FALSE\n",
       "57. FALSE\n",
       "58. FALSE\n",
       "59. FALSE\n",
       "60. FALSE\n",
       "61. FALSE\n",
       "62. FALSE\n",
       "63. FALSE\n",
       "64. FALSE\n",
       "65. FALSE\n",
       "66. FALSE\n",
       "67. FALSE\n",
       "68. FALSE\n",
       "69. FALSE\n",
       "70. FALSE\n",
       "\n",
       "\n"
      ],
      "text/plain": [
       " [1]  TRUE FALSE FALSE FALSE FALSE FALSE FALSE FALSE FALSE FALSE FALSE FALSE\n",
       "[13] FALSE FALSE FALSE FALSE FALSE FALSE FALSE FALSE FALSE FALSE FALSE FALSE\n",
       "[25] FALSE FALSE FALSE FALSE FALSE FALSE FALSE FALSE FALSE FALSE FALSE FALSE\n",
       "[37] FALSE FALSE FALSE FALSE FALSE FALSE FALSE FALSE FALSE FALSE FALSE FALSE\n",
       "[49] FALSE FALSE FALSE FALSE FALSE FALSE FALSE FALSE FALSE FALSE FALSE FALSE\n",
       "[61] FALSE FALSE FALSE FALSE FALSE FALSE FALSE FALSE FALSE FALSE"
      ]
     },
     "metadata": {},
     "output_type": "display_data"
    }
   ],
   "source": [
    "seqlevels(h38_protein_coding) == \"chr1\""
   ]
  },
  {
   "cell_type": "code",
   "execution_count": 88,
   "id": "88f5a87f-f393-4434-a5fd-b877e637fa8d",
   "metadata": {},
   "outputs": [
    {
     "data": {
      "text/plain": [
       "Hits object with 58205 hits and 0 metadata columns:\n",
       "          queryHits subjectHits\n",
       "          <integer>   <integer>\n",
       "      [1]        23         725\n",
       "      [2]        24         725\n",
       "      [3]        25         725\n",
       "      [4]        26         679\n",
       "      [5]        27        1118\n",
       "      ...       ...         ...\n",
       "  [58201]     81147       20115\n",
       "  [58202]     81149       20116\n",
       "  [58203]     81150       20118\n",
       "  [58204]     81151       20118\n",
       "  [58205]     81152       20118\n",
       "  -------\n",
       "  queryLength: 81156 / subjectLength: 20120"
      ]
     },
     "metadata": {},
     "output_type": "display_data"
    }
   ],
   "source": [
    "overlap_atac <- findOverlaps(gr_atac, h38_protein_coding)\n",
    "overlap_atac"
   ]
  },
  {
   "cell_type": "code",
   "execution_count": 89,
   "id": "b04e4705-e43e-43f7-8847-82a771344d47",
   "metadata": {},
   "outputs": [],
   "source": [
    "gr_atac$nearest_gene <- NA\n",
    "gr_atac$nearest_gene[queryHits(overlap_atac)] <- h38_protein_coding$gene_id[subjectHits(overlap_atac)]"
   ]
  },
  {
   "cell_type": "code",
   "execution_count": 92,
   "id": "98106575-3080-451f-8045-269858ab4a52",
   "metadata": {},
   "outputs": [
    {
     "data": {
      "text/plain": [
       "GRanges object with 21 ranges and 3 metadata columns:\n",
       "       seqnames          ranges strand |             peack_id       sum\n",
       "          <Rle>       <IRanges>  <Rle> |          <character> <numeric>\n",
       "   [1]     chr1 1143877-1144746      * | chr1:1143877-1144746       664\n",
       "   [2]     chr1 1157382-1157956      * | chr1:1157382-1157956       705\n",
       "   [3]     chr1 1171537-1172446      * | chr1:1171537-1172446       271\n",
       "   [4]     chr1 1173399-1174330      * | chr1:1173399-1174330       482\n",
       "   [5]     chr1 1182517-1183343      * | chr1:1182517-1183343       136\n",
       "   ...      ...             ...    ... .                  ...       ...\n",
       "  [17]     chr1 1291553-1292459      * | chr1:1291553-1292459       193\n",
       "  [18]     chr1 1305174-1306099      * | chr1:1305174-1306099       795\n",
       "  [19]     chr1 1307786-1308702      * | chr1:1307786-1308702      4221\n",
       "  [20]     chr1 1315264-1316182      * | chr1:1315264-1316182       421\n",
       "  [21]     chr1 1324320-1325215      * | chr1:1324320-1325215      2616\n",
       "          nearest_gene\n",
       "           <character>\n",
       "   [1]            <NA>\n",
       "   [2]            <NA>\n",
       "   [3]            <NA>\n",
       "   [4] ENSG00000162571\n",
       "   [5] ENSG00000162571\n",
       "   ...             ...\n",
       "  [17] ENSG00000131584\n",
       "  [18] ENSG00000131584\n",
       "  [19] ENSG00000169972\n",
       "  [20] ENSG00000127054\n",
       "  [21] ENSG00000224051\n",
       "  -------\n",
       "  seqinfo: 37 sequences from an unspecified genome; no seqlengths"
      ]
     },
     "metadata": {},
     "output_type": "display_data"
    }
   ],
   "source": [
    "gr_atac[50:70]"
   ]
  },
  {
   "cell_type": "raw",
   "id": "1ab5c8f3-d392-43d0-838b-68ecd2ea4730",
   "metadata": {},
   "source": [
    "# Suppose your summarized data is in mcols(gr_atac)$sum\n",
    "# For each gene, sum the 'sum' from all overlapping peaks\n",
    "\n",
    "# Prepare a vector to store summarized peak data per gene\n",
    "peak_sum_per_gene <- tapply(mcols(gr_atac)$sum[queryHits(overlap_atac)], subjectHits(overlap_atac), sum)\n",
    "\n",
    "# Attach to the genes object as a new metadata column\n",
    "mcols(h38_protein_coding)$peak_sum <- NA  # initialize\n",
    "mcols(h38_protein_coding)$peak_sum[as.integer(names(peak_sum_per_gene))] <- peak_sum_per_gene"
   ]
  },
  {
   "cell_type": "markdown",
   "id": "11e22cfd-5f90-442a-bb61-0dbec66ff00e",
   "metadata": {},
   "source": [
    "# Step 6: Finalize expression data"
   ]
  },
  {
   "cell_type": "markdown",
   "id": "cbbded0b-1668-44ca-a408-33502158fa83",
   "metadata": {},
   "source": [
    "* Subset the expression GenomicRanges, step 4, to include only protein-coding genes.\n",
    "* Add gene symbol identifiers to the object."
   ]
  },
  {
   "cell_type": "code",
   "execution_count": 94,
   "id": "c9f3b78b-bbc3-4928-b093-e5d629eeb8a9",
   "metadata": {},
   "outputs": [],
   "source": [
    "gr_genes$gene_symbol <- h38_protein_coding$gene_name[match(gr_genes$gene_id, h38_protein_coding$gene_id)]"
   ]
  },
  {
   "cell_type": "code",
   "execution_count": 104,
   "id": "149d31d7-dd1c-4345-9181-6736b2985668",
   "metadata": {},
   "outputs": [],
   "source": [
    "gr_genes_pr_cod <- gr_genes[!is.na(gr_genes$gene_symbol)]"
   ]
  },
  {
   "cell_type": "code",
   "execution_count": null,
   "id": "e6a2b666-0228-4704-adc5-2f65cd28f7a5",
   "metadata": {},
   "outputs": [],
   "source": []
  },
  {
   "cell_type": "markdown",
   "id": "848c5bb9-cf32-495f-970d-1eef6f4ee651",
   "metadata": {},
   "source": [
    "# Step 7: Data Normalization and Integration"
   ]
  },
  {
   "cell_type": "markdown",
   "id": "40501a1a-13f9-4e93-8351-8ec588775e11",
   "metadata": {},
   "source": [
    "* Normalize both expression and ATAC-seq data using CPM:\n",
    "    * Divide each column by the column sum, multiply by 106, add a pseudo-count of 1, and apply log2.\n",
    "* Merge expression and ATAC data based on common genes.\n",
    "* Provide a summary table of the number of ATAC peaks that could not be merged and a plot of peak intensity distribution chromosome by chromosome. Provide a summary table of the genes which do not show association with ATAC peaks and plot their expression distribution chromosome by chromosome"
   ]
  },
  {
   "cell_type": "code",
   "execution_count": 115,
   "id": "1b46cf04-59ac-4b30-be79-d8511655e9d0",
   "metadata": {},
   "outputs": [],
   "source": [
    "dt_genes_cmp <- NormalizeData(dt_genes[,-\"id\"], normalization.method = \"LogNormalize\", scale.factor = 1e6) %>% as.data.table\n",
    "dt_genes_cmp[, id := dt_genes$id]\n",
    "setcolorder(dt_genes_cmp, c(\"id\", setdiff(names(dt_genes_cmp), \"id\")))"
   ]
  },
  {
   "cell_type": "code",
   "execution_count": 117,
   "id": "9d0fcbcd-1cd5-4c76-a576-d130949134fd",
   "metadata": {},
   "outputs": [],
   "source": [
    "dt_atac_cmp <- NormalizeData(dt_atac[,-\"id\"], normalization.method = \"LogNormalize\", scale.factor = 1e6) %>% as.data.table\n",
    "dt_atac_cmp[, id := dt_atac$id]\n",
    "setcolorder(dt_atac_cmp, c(\"id\", setdiff(names(dt_atac_cmp), \"id\")))"
   ]
  },
  {
   "cell_type": "code",
   "execution_count": 120,
   "id": "9c832d31-f5a3-4e7c-a86b-fde91f9c27c6",
   "metadata": {},
   "outputs": [],
   "source": [
    "merge <- merge(dt_genes_cmp, dt_genes_cmp, by = \"id\", all = TRUE)"
   ]
  },
  {
   "cell_type": "code",
   "execution_count": 123,
   "id": "574a9f06-a691-4c9f-a1cb-29bb4ee4d00b",
   "metadata": {},
   "outputs": [
    {
     "data": {
      "text/html": [
       "<table class=\"dataframe\">\n",
       "<caption>A data.table: 6 × 3010</caption>\n",
       "<thead>\n",
       "\t<tr><th scope=col>id</th><th scope=col>AAACAGCCAACAGGTG-1</th><th scope=col>AAACATGCAACAACAA-1</th><th scope=col>AAACATGCACCTGGTG-1</th><th scope=col>AAACCAACACAGCCTG-1</th><th scope=col>AAACCAACAGCAAGAT-1</th><th scope=col>AAACCAACATTGCGAC-1</th><th scope=col>AAACCGAAGCACAGCC-1</th><th scope=col>AAACCGCGTAATTAGC-1</th><th scope=col>AAACCGCGTCACGAAC-1</th><th scope=col>⋯</th><th scope=col>TTTGGTGCATGAGCAG-1</th><th scope=col>TTTGTCCCAGCTTAGC-1</th><th scope=col>TTTGTCCCATAATCGT-1</th><th scope=col>TTTGTCTAGCATGTTA-1</th><th scope=col>TTTGTCTAGGAGGACT-1</th><th scope=col>TTTGTCTAGTCTATGA-1</th><th scope=col>TTTGTGGCAGCACGAA-1</th><th scope=col>TTTGTGGCATCGCTCC-1</th><th scope=col>TTTGTGTTCACTTCAT-1</th><th scope=col>TTTGTGTTCATGCGTG-1</th></tr>\n",
       "\t<tr><th scope=col>&lt;chr&gt;</th><th scope=col>&lt;dbl&gt;</th><th scope=col>&lt;dbl&gt;</th><th scope=col>&lt;dbl&gt;</th><th scope=col>&lt;dbl&gt;</th><th scope=col>&lt;dbl&gt;</th><th scope=col>&lt;dbl&gt;</th><th scope=col>&lt;dbl&gt;</th><th scope=col>&lt;dbl&gt;</th><th scope=col>&lt;dbl&gt;</th><th scope=col>⋯</th><th scope=col>&lt;dbl&gt;</th><th scope=col>&lt;dbl&gt;</th><th scope=col>&lt;dbl&gt;</th><th scope=col>&lt;dbl&gt;</th><th scope=col>&lt;dbl&gt;</th><th scope=col>&lt;dbl&gt;</th><th scope=col>&lt;dbl&gt;</th><th scope=col>&lt;dbl&gt;</th><th scope=col>&lt;dbl&gt;</th><th scope=col>&lt;dbl&gt;</th></tr>\n",
       "</thead>\n",
       "<tbody>\n",
       "\t<tr><td>ENSG00000243485</td><td>0</td><td>0</td><td>0</td><td>0</td><td>0</td><td>0</td><td>0</td><td>0</td><td>0</td><td>⋯</td><td>0</td><td>0</td><td>0</td><td>0</td><td>0</td><td>0</td><td>0</td><td>0</td><td>0</td><td>0</td></tr>\n",
       "\t<tr><td>ENSG00000237613</td><td>0</td><td>0</td><td>0</td><td>0</td><td>0</td><td>0</td><td>0</td><td>0</td><td>0</td><td>⋯</td><td>0</td><td>0</td><td>0</td><td>0</td><td>0</td><td>0</td><td>0</td><td>0</td><td>0</td><td>0</td></tr>\n",
       "\t<tr><td>ENSG00000186092</td><td>0</td><td>0</td><td>0</td><td>0</td><td>0</td><td>0</td><td>0</td><td>0</td><td>0</td><td>⋯</td><td>0</td><td>0</td><td>0</td><td>0</td><td>0</td><td>0</td><td>0</td><td>0</td><td>0</td><td>0</td></tr>\n",
       "\t<tr><td>ENSG00000238009</td><td>0</td><td>0</td><td>0</td><td>0</td><td>0</td><td>0</td><td>0</td><td>0</td><td>0</td><td>⋯</td><td>0</td><td>0</td><td>0</td><td>0</td><td>0</td><td>0</td><td>0</td><td>0</td><td>0</td><td>0</td></tr>\n",
       "\t<tr><td>ENSG00000239945</td><td>0</td><td>0</td><td>0</td><td>0</td><td>0</td><td>0</td><td>0</td><td>0</td><td>0</td><td>⋯</td><td>0</td><td>0</td><td>0</td><td>0</td><td>0</td><td>0</td><td>0</td><td>0</td><td>0</td><td>0</td></tr>\n",
       "\t<tr><td>ENSG00000239906</td><td>0</td><td>0</td><td>0</td><td>0</td><td>0</td><td>0</td><td>0</td><td>0</td><td>0</td><td>⋯</td><td>0</td><td>0</td><td>0</td><td>0</td><td>0</td><td>0</td><td>0</td><td>0</td><td>0</td><td>0</td></tr>\n",
       "</tbody>\n",
       "</table>\n"
      ],
      "text/latex": [
       "A data.table: 6 × 3010\n",
       "\\begin{tabular}{lllllllllllllllllllll}\n",
       " id & AAACAGCCAACAGGTG-1 & AAACATGCAACAACAA-1 & AAACATGCACCTGGTG-1 & AAACCAACACAGCCTG-1 & AAACCAACAGCAAGAT-1 & AAACCAACATTGCGAC-1 & AAACCGAAGCACAGCC-1 & AAACCGCGTAATTAGC-1 & AAACCGCGTCACGAAC-1 & ⋯ & TTTGGTGCATGAGCAG-1 & TTTGTCCCAGCTTAGC-1 & TTTGTCCCATAATCGT-1 & TTTGTCTAGCATGTTA-1 & TTTGTCTAGGAGGACT-1 & TTTGTCTAGTCTATGA-1 & TTTGTGGCAGCACGAA-1 & TTTGTGGCATCGCTCC-1 & TTTGTGTTCACTTCAT-1 & TTTGTGTTCATGCGTG-1\\\\\n",
       " <chr> & <dbl> & <dbl> & <dbl> & <dbl> & <dbl> & <dbl> & <dbl> & <dbl> & <dbl> & ⋯ & <dbl> & <dbl> & <dbl> & <dbl> & <dbl> & <dbl> & <dbl> & <dbl> & <dbl> & <dbl>\\\\\n",
       "\\hline\n",
       "\t ENSG00000243485 & 0 & 0 & 0 & 0 & 0 & 0 & 0 & 0 & 0 & ⋯ & 0 & 0 & 0 & 0 & 0 & 0 & 0 & 0 & 0 & 0\\\\\n",
       "\t ENSG00000237613 & 0 & 0 & 0 & 0 & 0 & 0 & 0 & 0 & 0 & ⋯ & 0 & 0 & 0 & 0 & 0 & 0 & 0 & 0 & 0 & 0\\\\\n",
       "\t ENSG00000186092 & 0 & 0 & 0 & 0 & 0 & 0 & 0 & 0 & 0 & ⋯ & 0 & 0 & 0 & 0 & 0 & 0 & 0 & 0 & 0 & 0\\\\\n",
       "\t ENSG00000238009 & 0 & 0 & 0 & 0 & 0 & 0 & 0 & 0 & 0 & ⋯ & 0 & 0 & 0 & 0 & 0 & 0 & 0 & 0 & 0 & 0\\\\\n",
       "\t ENSG00000239945 & 0 & 0 & 0 & 0 & 0 & 0 & 0 & 0 & 0 & ⋯ & 0 & 0 & 0 & 0 & 0 & 0 & 0 & 0 & 0 & 0\\\\\n",
       "\t ENSG00000239906 & 0 & 0 & 0 & 0 & 0 & 0 & 0 & 0 & 0 & ⋯ & 0 & 0 & 0 & 0 & 0 & 0 & 0 & 0 & 0 & 0\\\\\n",
       "\\end{tabular}\n"
      ],
      "text/markdown": [
       "\n",
       "A data.table: 6 × 3010\n",
       "\n",
       "| id &lt;chr&gt; | AAACAGCCAACAGGTG-1 &lt;dbl&gt; | AAACATGCAACAACAA-1 &lt;dbl&gt; | AAACATGCACCTGGTG-1 &lt;dbl&gt; | AAACCAACACAGCCTG-1 &lt;dbl&gt; | AAACCAACAGCAAGAT-1 &lt;dbl&gt; | AAACCAACATTGCGAC-1 &lt;dbl&gt; | AAACCGAAGCACAGCC-1 &lt;dbl&gt; | AAACCGCGTAATTAGC-1 &lt;dbl&gt; | AAACCGCGTCACGAAC-1 &lt;dbl&gt; | ⋯ ⋯ | TTTGGTGCATGAGCAG-1 &lt;dbl&gt; | TTTGTCCCAGCTTAGC-1 &lt;dbl&gt; | TTTGTCCCATAATCGT-1 &lt;dbl&gt; | TTTGTCTAGCATGTTA-1 &lt;dbl&gt; | TTTGTCTAGGAGGACT-1 &lt;dbl&gt; | TTTGTCTAGTCTATGA-1 &lt;dbl&gt; | TTTGTGGCAGCACGAA-1 &lt;dbl&gt; | TTTGTGGCATCGCTCC-1 &lt;dbl&gt; | TTTGTGTTCACTTCAT-1 &lt;dbl&gt; | TTTGTGTTCATGCGTG-1 &lt;dbl&gt; |\n",
       "|---|---|---|---|---|---|---|---|---|---|---|---|---|---|---|---|---|---|---|---|---|\n",
       "| ENSG00000243485 | 0 | 0 | 0 | 0 | 0 | 0 | 0 | 0 | 0 | ⋯ | 0 | 0 | 0 | 0 | 0 | 0 | 0 | 0 | 0 | 0 |\n",
       "| ENSG00000237613 | 0 | 0 | 0 | 0 | 0 | 0 | 0 | 0 | 0 | ⋯ | 0 | 0 | 0 | 0 | 0 | 0 | 0 | 0 | 0 | 0 |\n",
       "| ENSG00000186092 | 0 | 0 | 0 | 0 | 0 | 0 | 0 | 0 | 0 | ⋯ | 0 | 0 | 0 | 0 | 0 | 0 | 0 | 0 | 0 | 0 |\n",
       "| ENSG00000238009 | 0 | 0 | 0 | 0 | 0 | 0 | 0 | 0 | 0 | ⋯ | 0 | 0 | 0 | 0 | 0 | 0 | 0 | 0 | 0 | 0 |\n",
       "| ENSG00000239945 | 0 | 0 | 0 | 0 | 0 | 0 | 0 | 0 | 0 | ⋯ | 0 | 0 | 0 | 0 | 0 | 0 | 0 | 0 | 0 | 0 |\n",
       "| ENSG00000239906 | 0 | 0 | 0 | 0 | 0 | 0 | 0 | 0 | 0 | ⋯ | 0 | 0 | 0 | 0 | 0 | 0 | 0 | 0 | 0 | 0 |\n",
       "\n"
      ],
      "text/plain": [
       "  id              AAACAGCCAACAGGTG-1 AAACATGCAACAACAA-1 AAACATGCACCTGGTG-1\n",
       "1 ENSG00000243485 0                  0                  0                 \n",
       "2 ENSG00000237613 0                  0                  0                 \n",
       "3 ENSG00000186092 0                  0                  0                 \n",
       "4 ENSG00000238009 0                  0                  0                 \n",
       "5 ENSG00000239945 0                  0                  0                 \n",
       "6 ENSG00000239906 0                  0                  0                 \n",
       "  AAACCAACACAGCCTG-1 AAACCAACAGCAAGAT-1 AAACCAACATTGCGAC-1 AAACCGAAGCACAGCC-1\n",
       "1 0                  0                  0                  0                 \n",
       "2 0                  0                  0                  0                 \n",
       "3 0                  0                  0                  0                 \n",
       "4 0                  0                  0                  0                 \n",
       "5 0                  0                  0                  0                 \n",
       "6 0                  0                  0                  0                 \n",
       "  AAACCGCGTAATTAGC-1 AAACCGCGTCACGAAC-1 ⋯ TTTGGTGCATGAGCAG-1 TTTGTCCCAGCTTAGC-1\n",
       "1 0                  0                  ⋯ 0                  0                 \n",
       "2 0                  0                  ⋯ 0                  0                 \n",
       "3 0                  0                  ⋯ 0                  0                 \n",
       "4 0                  0                  ⋯ 0                  0                 \n",
       "5 0                  0                  ⋯ 0                  0                 \n",
       "6 0                  0                  ⋯ 0                  0                 \n",
       "  TTTGTCCCATAATCGT-1 TTTGTCTAGCATGTTA-1 TTTGTCTAGGAGGACT-1 TTTGTCTAGTCTATGA-1\n",
       "1 0                  0                  0                  0                 \n",
       "2 0                  0                  0                  0                 \n",
       "3 0                  0                  0                  0                 \n",
       "4 0                  0                  0                  0                 \n",
       "5 0                  0                  0                  0                 \n",
       "6 0                  0                  0                  0                 \n",
       "  TTTGTGGCAGCACGAA-1 TTTGTGGCATCGCTCC-1 TTTGTGTTCACTTCAT-1 TTTGTGTTCATGCGTG-1\n",
       "1 0                  0                  0                  0                 \n",
       "2 0                  0                  0                  0                 \n",
       "3 0                  0                  0                  0                 \n",
       "4 0                  0                  0                  0                 \n",
       "5 0                  0                  0                  0                 \n",
       "6 0                  0                  0                  0                 "
      ]
     },
     "metadata": {},
     "output_type": "display_data"
    },
    {
     "data": {
      "text/html": [
       "<table class=\"dataframe\">\n",
       "<caption>A data.table: 6 × 3010</caption>\n",
       "<thead>\n",
       "\t<tr><th scope=col>id</th><th scope=col>AAACAGCCAACAGGTG-1</th><th scope=col>AAACATGCAACAACAA-1</th><th scope=col>AAACATGCACCTGGTG-1</th><th scope=col>AAACCAACACAGCCTG-1</th><th scope=col>AAACCAACAGCAAGAT-1</th><th scope=col>AAACCAACATTGCGAC-1</th><th scope=col>AAACCGAAGCACAGCC-1</th><th scope=col>AAACCGCGTAATTAGC-1</th><th scope=col>AAACCGCGTCACGAAC-1</th><th scope=col>⋯</th><th scope=col>TTTGGTGCATGAGCAG-1</th><th scope=col>TTTGTCCCAGCTTAGC-1</th><th scope=col>TTTGTCCCATAATCGT-1</th><th scope=col>TTTGTCTAGCATGTTA-1</th><th scope=col>TTTGTCTAGGAGGACT-1</th><th scope=col>TTTGTCTAGTCTATGA-1</th><th scope=col>TTTGTGGCAGCACGAA-1</th><th scope=col>TTTGTGGCATCGCTCC-1</th><th scope=col>TTTGTGTTCACTTCAT-1</th><th scope=col>TTTGTGTTCATGCGTG-1</th></tr>\n",
       "\t<tr><th scope=col>&lt;chr&gt;</th><th scope=col>&lt;dbl&gt;</th><th scope=col>&lt;dbl&gt;</th><th scope=col>&lt;dbl&gt;</th><th scope=col>&lt;dbl&gt;</th><th scope=col>&lt;dbl&gt;</th><th scope=col>&lt;dbl&gt;</th><th scope=col>&lt;dbl&gt;</th><th scope=col>&lt;dbl&gt;</th><th scope=col>&lt;dbl&gt;</th><th scope=col>⋯</th><th scope=col>&lt;dbl&gt;</th><th scope=col>&lt;dbl&gt;</th><th scope=col>&lt;dbl&gt;</th><th scope=col>&lt;dbl&gt;</th><th scope=col>&lt;dbl&gt;</th><th scope=col>&lt;dbl&gt;</th><th scope=col>&lt;dbl&gt;</th><th scope=col>&lt;dbl&gt;</th><th scope=col>&lt;dbl&gt;</th><th scope=col>&lt;dbl&gt;</th></tr>\n",
       "</thead>\n",
       "<tbody>\n",
       "\t<tr><td>ENSG00000243485</td><td>0</td><td>0</td><td>0</td><td>0</td><td>0</td><td>0</td><td>0</td><td>0</td><td>0</td><td>⋯</td><td>0</td><td>0</td><td>0</td><td>0</td><td>0</td><td>0</td><td>0</td><td>0</td><td>0</td><td>0</td></tr>\n",
       "\t<tr><td>ENSG00000237613</td><td>0</td><td>0</td><td>0</td><td>0</td><td>0</td><td>0</td><td>0</td><td>0</td><td>0</td><td>⋯</td><td>0</td><td>0</td><td>0</td><td>0</td><td>0</td><td>0</td><td>0</td><td>0</td><td>0</td><td>0</td></tr>\n",
       "\t<tr><td>ENSG00000186092</td><td>0</td><td>0</td><td>0</td><td>0</td><td>0</td><td>0</td><td>0</td><td>0</td><td>0</td><td>⋯</td><td>0</td><td>0</td><td>0</td><td>0</td><td>0</td><td>0</td><td>0</td><td>0</td><td>0</td><td>0</td></tr>\n",
       "\t<tr><td>ENSG00000238009</td><td>0</td><td>0</td><td>0</td><td>0</td><td>0</td><td>0</td><td>0</td><td>0</td><td>0</td><td>⋯</td><td>0</td><td>0</td><td>0</td><td>0</td><td>0</td><td>0</td><td>0</td><td>0</td><td>0</td><td>0</td></tr>\n",
       "\t<tr><td>ENSG00000239945</td><td>0</td><td>0</td><td>0</td><td>0</td><td>0</td><td>0</td><td>0</td><td>0</td><td>0</td><td>⋯</td><td>0</td><td>0</td><td>0</td><td>0</td><td>0</td><td>0</td><td>0</td><td>0</td><td>0</td><td>0</td></tr>\n",
       "\t<tr><td>ENSG00000239906</td><td>0</td><td>0</td><td>0</td><td>0</td><td>0</td><td>0</td><td>0</td><td>0</td><td>0</td><td>⋯</td><td>0</td><td>0</td><td>0</td><td>0</td><td>0</td><td>0</td><td>0</td><td>0</td><td>0</td><td>0</td></tr>\n",
       "</tbody>\n",
       "</table>\n"
      ],
      "text/latex": [
       "A data.table: 6 × 3010\n",
       "\\begin{tabular}{lllllllllllllllllllll}\n",
       " id & AAACAGCCAACAGGTG-1 & AAACATGCAACAACAA-1 & AAACATGCACCTGGTG-1 & AAACCAACACAGCCTG-1 & AAACCAACAGCAAGAT-1 & AAACCAACATTGCGAC-1 & AAACCGAAGCACAGCC-1 & AAACCGCGTAATTAGC-1 & AAACCGCGTCACGAAC-1 & ⋯ & TTTGGTGCATGAGCAG-1 & TTTGTCCCAGCTTAGC-1 & TTTGTCCCATAATCGT-1 & TTTGTCTAGCATGTTA-1 & TTTGTCTAGGAGGACT-1 & TTTGTCTAGTCTATGA-1 & TTTGTGGCAGCACGAA-1 & TTTGTGGCATCGCTCC-1 & TTTGTGTTCACTTCAT-1 & TTTGTGTTCATGCGTG-1\\\\\n",
       " <chr> & <dbl> & <dbl> & <dbl> & <dbl> & <dbl> & <dbl> & <dbl> & <dbl> & <dbl> & ⋯ & <dbl> & <dbl> & <dbl> & <dbl> & <dbl> & <dbl> & <dbl> & <dbl> & <dbl> & <dbl>\\\\\n",
       "\\hline\n",
       "\t ENSG00000243485 & 0 & 0 & 0 & 0 & 0 & 0 & 0 & 0 & 0 & ⋯ & 0 & 0 & 0 & 0 & 0 & 0 & 0 & 0 & 0 & 0\\\\\n",
       "\t ENSG00000237613 & 0 & 0 & 0 & 0 & 0 & 0 & 0 & 0 & 0 & ⋯ & 0 & 0 & 0 & 0 & 0 & 0 & 0 & 0 & 0 & 0\\\\\n",
       "\t ENSG00000186092 & 0 & 0 & 0 & 0 & 0 & 0 & 0 & 0 & 0 & ⋯ & 0 & 0 & 0 & 0 & 0 & 0 & 0 & 0 & 0 & 0\\\\\n",
       "\t ENSG00000238009 & 0 & 0 & 0 & 0 & 0 & 0 & 0 & 0 & 0 & ⋯ & 0 & 0 & 0 & 0 & 0 & 0 & 0 & 0 & 0 & 0\\\\\n",
       "\t ENSG00000239945 & 0 & 0 & 0 & 0 & 0 & 0 & 0 & 0 & 0 & ⋯ & 0 & 0 & 0 & 0 & 0 & 0 & 0 & 0 & 0 & 0\\\\\n",
       "\t ENSG00000239906 & 0 & 0 & 0 & 0 & 0 & 0 & 0 & 0 & 0 & ⋯ & 0 & 0 & 0 & 0 & 0 & 0 & 0 & 0 & 0 & 0\\\\\n",
       "\\end{tabular}\n"
      ],
      "text/markdown": [
       "\n",
       "A data.table: 6 × 3010\n",
       "\n",
       "| id &lt;chr&gt; | AAACAGCCAACAGGTG-1 &lt;dbl&gt; | AAACATGCAACAACAA-1 &lt;dbl&gt; | AAACATGCACCTGGTG-1 &lt;dbl&gt; | AAACCAACACAGCCTG-1 &lt;dbl&gt; | AAACCAACAGCAAGAT-1 &lt;dbl&gt; | AAACCAACATTGCGAC-1 &lt;dbl&gt; | AAACCGAAGCACAGCC-1 &lt;dbl&gt; | AAACCGCGTAATTAGC-1 &lt;dbl&gt; | AAACCGCGTCACGAAC-1 &lt;dbl&gt; | ⋯ ⋯ | TTTGGTGCATGAGCAG-1 &lt;dbl&gt; | TTTGTCCCAGCTTAGC-1 &lt;dbl&gt; | TTTGTCCCATAATCGT-1 &lt;dbl&gt; | TTTGTCTAGCATGTTA-1 &lt;dbl&gt; | TTTGTCTAGGAGGACT-1 &lt;dbl&gt; | TTTGTCTAGTCTATGA-1 &lt;dbl&gt; | TTTGTGGCAGCACGAA-1 &lt;dbl&gt; | TTTGTGGCATCGCTCC-1 &lt;dbl&gt; | TTTGTGTTCACTTCAT-1 &lt;dbl&gt; | TTTGTGTTCATGCGTG-1 &lt;dbl&gt; |\n",
       "|---|---|---|---|---|---|---|---|---|---|---|---|---|---|---|---|---|---|---|---|---|\n",
       "| ENSG00000243485 | 0 | 0 | 0 | 0 | 0 | 0 | 0 | 0 | 0 | ⋯ | 0 | 0 | 0 | 0 | 0 | 0 | 0 | 0 | 0 | 0 |\n",
       "| ENSG00000237613 | 0 | 0 | 0 | 0 | 0 | 0 | 0 | 0 | 0 | ⋯ | 0 | 0 | 0 | 0 | 0 | 0 | 0 | 0 | 0 | 0 |\n",
       "| ENSG00000186092 | 0 | 0 | 0 | 0 | 0 | 0 | 0 | 0 | 0 | ⋯ | 0 | 0 | 0 | 0 | 0 | 0 | 0 | 0 | 0 | 0 |\n",
       "| ENSG00000238009 | 0 | 0 | 0 | 0 | 0 | 0 | 0 | 0 | 0 | ⋯ | 0 | 0 | 0 | 0 | 0 | 0 | 0 | 0 | 0 | 0 |\n",
       "| ENSG00000239945 | 0 | 0 | 0 | 0 | 0 | 0 | 0 | 0 | 0 | ⋯ | 0 | 0 | 0 | 0 | 0 | 0 | 0 | 0 | 0 | 0 |\n",
       "| ENSG00000239906 | 0 | 0 | 0 | 0 | 0 | 0 | 0 | 0 | 0 | ⋯ | 0 | 0 | 0 | 0 | 0 | 0 | 0 | 0 | 0 | 0 |\n",
       "\n"
      ],
      "text/plain": [
       "  id              AAACAGCCAACAGGTG-1 AAACATGCAACAACAA-1 AAACATGCACCTGGTG-1\n",
       "1 ENSG00000243485 0                  0                  0                 \n",
       "2 ENSG00000237613 0                  0                  0                 \n",
       "3 ENSG00000186092 0                  0                  0                 \n",
       "4 ENSG00000238009 0                  0                  0                 \n",
       "5 ENSG00000239945 0                  0                  0                 \n",
       "6 ENSG00000239906 0                  0                  0                 \n",
       "  AAACCAACACAGCCTG-1 AAACCAACAGCAAGAT-1 AAACCAACATTGCGAC-1 AAACCGAAGCACAGCC-1\n",
       "1 0                  0                  0                  0                 \n",
       "2 0                  0                  0                  0                 \n",
       "3 0                  0                  0                  0                 \n",
       "4 0                  0                  0                  0                 \n",
       "5 0                  0                  0                  0                 \n",
       "6 0                  0                  0                  0                 \n",
       "  AAACCGCGTAATTAGC-1 AAACCGCGTCACGAAC-1 ⋯ TTTGGTGCATGAGCAG-1 TTTGTCCCAGCTTAGC-1\n",
       "1 0                  0                  ⋯ 0                  0                 \n",
       "2 0                  0                  ⋯ 0                  0                 \n",
       "3 0                  0                  ⋯ 0                  0                 \n",
       "4 0                  0                  ⋯ 0                  0                 \n",
       "5 0                  0                  ⋯ 0                  0                 \n",
       "6 0                  0                  ⋯ 0                  0                 \n",
       "  TTTGTCCCATAATCGT-1 TTTGTCTAGCATGTTA-1 TTTGTCTAGGAGGACT-1 TTTGTCTAGTCTATGA-1\n",
       "1 0                  0                  0                  0                 \n",
       "2 0                  0                  0                  0                 \n",
       "3 0                  0                  0                  0                 \n",
       "4 0                  0                  0                  0                 \n",
       "5 0                  0                  0                  0                 \n",
       "6 0                  0                  0                  0                 \n",
       "  TTTGTGGCAGCACGAA-1 TTTGTGGCATCGCTCC-1 TTTGTGTTCACTTCAT-1 TTTGTGTTCATGCGTG-1\n",
       "1 0                  0                  0                  0                 \n",
       "2 0                  0                  0                  0                 \n",
       "3 0                  0                  0                  0                 \n",
       "4 0                  0                  0                  0                 \n",
       "5 0                  0                  0                  0                 \n",
       "6 0                  0                  0                  0                 "
      ]
     },
     "metadata": {},
     "output_type": "display_data"
    }
   ],
   "source": [
    "head(dt_genes_cmp)\n",
    "head(dt_genes_cmp)"
   ]
  },
  {
   "cell_type": "code",
   "execution_count": 122,
   "id": "5ae70693-7aec-4e65-958d-0e6f8e8b866a",
   "metadata": {},
   "outputs": [
    {
     "data": {
      "text/html": [
       "36601"
      ],
      "text/latex": [
       "36601"
      ],
      "text/markdown": [
       "36601"
      ],
      "text/plain": [
       "[1] 36601"
      ]
     },
     "metadata": {},
     "output_type": "display_data"
    },
    {
     "data": {
      "text/html": [
       "6019"
      ],
      "text/latex": [
       "6019"
      ],
      "text/markdown": [
       "6019"
      ],
      "text/plain": [
       "[1] 6019"
      ]
     },
     "metadata": {},
     "output_type": "display_data"
    },
    {
     "data": {
      "text/html": [
       "<table class=\"dataframe\">\n",
       "<caption>A data.table: 6 × 6019</caption>\n",
       "<thead>\n",
       "\t<tr><th scope=col>id</th><th scope=col>AAACAGCCAACAGGTG-1.x</th><th scope=col>AAACATGCAACAACAA-1.x</th><th scope=col>AAACATGCACCTGGTG-1.x</th><th scope=col>AAACCAACACAGCCTG-1.x</th><th scope=col>AAACCAACAGCAAGAT-1.x</th><th scope=col>AAACCAACATTGCGAC-1.x</th><th scope=col>AAACCGAAGCACAGCC-1.x</th><th scope=col>AAACCGCGTAATTAGC-1.x</th><th scope=col>AAACCGCGTCACGAAC-1.x</th><th scope=col>⋯</th><th scope=col>TTTGGTGCATGAGCAG-1.y</th><th scope=col>TTTGTCCCAGCTTAGC-1.y</th><th scope=col>TTTGTCCCATAATCGT-1.y</th><th scope=col>TTTGTCTAGCATGTTA-1.y</th><th scope=col>TTTGTCTAGGAGGACT-1.y</th><th scope=col>TTTGTCTAGTCTATGA-1.y</th><th scope=col>TTTGTGGCAGCACGAA-1.y</th><th scope=col>TTTGTGGCATCGCTCC-1.y</th><th scope=col>TTTGTGTTCACTTCAT-1.y</th><th scope=col>TTTGTGTTCATGCGTG-1.y</th></tr>\n",
       "\t<tr><th scope=col>&lt;chr&gt;</th><th scope=col>&lt;dbl&gt;</th><th scope=col>&lt;dbl&gt;</th><th scope=col>&lt;dbl&gt;</th><th scope=col>&lt;dbl&gt;</th><th scope=col>&lt;dbl&gt;</th><th scope=col>&lt;dbl&gt;</th><th scope=col>&lt;dbl&gt;</th><th scope=col>&lt;dbl&gt;</th><th scope=col>&lt;dbl&gt;</th><th scope=col>⋯</th><th scope=col>&lt;dbl&gt;</th><th scope=col>&lt;dbl&gt;</th><th scope=col>&lt;dbl&gt;</th><th scope=col>&lt;dbl&gt;</th><th scope=col>&lt;dbl&gt;</th><th scope=col>&lt;dbl&gt;</th><th scope=col>&lt;dbl&gt;</th><th scope=col>&lt;dbl&gt;</th><th scope=col>&lt;dbl&gt;</th><th scope=col>&lt;dbl&gt;</th></tr>\n",
       "</thead>\n",
       "<tbody>\n",
       "\t<tr><td>ENSG00000000003</td><td>0</td><td>0.000000</td><td>0</td><td>0</td><td>0</td><td>0</td><td>0.000000</td><td>0</td><td>0</td><td>⋯</td><td>0.000000</td><td>0.000000</td><td>0</td><td>0.000000</td><td>0</td><td>0</td><td>0</td><td>0</td><td>0.000000</td><td>0</td></tr>\n",
       "\t<tr><td>ENSG00000000005</td><td>0</td><td>0.000000</td><td>0</td><td>0</td><td>0</td><td>0</td><td>0.000000</td><td>0</td><td>0</td><td>⋯</td><td>0.000000</td><td>0.000000</td><td>0</td><td>0.000000</td><td>0</td><td>0</td><td>0</td><td>0</td><td>0.000000</td><td>0</td></tr>\n",
       "\t<tr><td>ENSG00000000419</td><td>0</td><td>0.000000</td><td>0</td><td>0</td><td>0</td><td>0</td><td>0.000000</td><td>0</td><td>0</td><td>⋯</td><td>0.000000</td><td>0.000000</td><td>0</td><td>0.000000</td><td>0</td><td>0</td><td>0</td><td>0</td><td>5.602846</td><td>0</td></tr>\n",
       "\t<tr><td>ENSG00000000457</td><td>0</td><td>0.000000</td><td>0</td><td>0</td><td>0</td><td>0</td><td>5.455749</td><td>0</td><td>0</td><td>⋯</td><td>0.000000</td><td>0.000000</td><td>0</td><td>0.000000</td><td>0</td><td>0</td><td>0</td><td>0</td><td>0.000000</td><td>0</td></tr>\n",
       "\t<tr><td>ENSG00000000460</td><td>0</td><td>0.000000</td><td>0</td><td>0</td><td>0</td><td>0</td><td>6.146758</td><td>0</td><td>0</td><td>⋯</td><td>0.000000</td><td>6.099516</td><td>0</td><td>0.000000</td><td>0</td><td>0</td><td>0</td><td>0</td><td>0.000000</td><td>0</td></tr>\n",
       "\t<tr><td>ENSG00000000938</td><td>0</td><td>6.622155</td><td>0</td><td>0</td><td>0</td><td>0</td><td>0.000000</td><td>0</td><td>0</td><td>⋯</td><td>5.405075</td><td>0.000000</td><td>0</td><td>5.628756</td><td>0</td><td>0</td><td>0</td><td>0</td><td>5.602846</td><td>0</td></tr>\n",
       "</tbody>\n",
       "</table>\n"
      ],
      "text/latex": [
       "A data.table: 6 × 6019\n",
       "\\begin{tabular}{lllllllllllllllllllll}\n",
       " id & AAACAGCCAACAGGTG-1.x & AAACATGCAACAACAA-1.x & AAACATGCACCTGGTG-1.x & AAACCAACACAGCCTG-1.x & AAACCAACAGCAAGAT-1.x & AAACCAACATTGCGAC-1.x & AAACCGAAGCACAGCC-1.x & AAACCGCGTAATTAGC-1.x & AAACCGCGTCACGAAC-1.x & ⋯ & TTTGGTGCATGAGCAG-1.y & TTTGTCCCAGCTTAGC-1.y & TTTGTCCCATAATCGT-1.y & TTTGTCTAGCATGTTA-1.y & TTTGTCTAGGAGGACT-1.y & TTTGTCTAGTCTATGA-1.y & TTTGTGGCAGCACGAA-1.y & TTTGTGGCATCGCTCC-1.y & TTTGTGTTCACTTCAT-1.y & TTTGTGTTCATGCGTG-1.y\\\\\n",
       " <chr> & <dbl> & <dbl> & <dbl> & <dbl> & <dbl> & <dbl> & <dbl> & <dbl> & <dbl> & ⋯ & <dbl> & <dbl> & <dbl> & <dbl> & <dbl> & <dbl> & <dbl> & <dbl> & <dbl> & <dbl>\\\\\n",
       "\\hline\n",
       "\t ENSG00000000003 & 0 & 0.000000 & 0 & 0 & 0 & 0 & 0.000000 & 0 & 0 & ⋯ & 0.000000 & 0.000000 & 0 & 0.000000 & 0 & 0 & 0 & 0 & 0.000000 & 0\\\\\n",
       "\t ENSG00000000005 & 0 & 0.000000 & 0 & 0 & 0 & 0 & 0.000000 & 0 & 0 & ⋯ & 0.000000 & 0.000000 & 0 & 0.000000 & 0 & 0 & 0 & 0 & 0.000000 & 0\\\\\n",
       "\t ENSG00000000419 & 0 & 0.000000 & 0 & 0 & 0 & 0 & 0.000000 & 0 & 0 & ⋯ & 0.000000 & 0.000000 & 0 & 0.000000 & 0 & 0 & 0 & 0 & 5.602846 & 0\\\\\n",
       "\t ENSG00000000457 & 0 & 0.000000 & 0 & 0 & 0 & 0 & 5.455749 & 0 & 0 & ⋯ & 0.000000 & 0.000000 & 0 & 0.000000 & 0 & 0 & 0 & 0 & 0.000000 & 0\\\\\n",
       "\t ENSG00000000460 & 0 & 0.000000 & 0 & 0 & 0 & 0 & 6.146758 & 0 & 0 & ⋯ & 0.000000 & 6.099516 & 0 & 0.000000 & 0 & 0 & 0 & 0 & 0.000000 & 0\\\\\n",
       "\t ENSG00000000938 & 0 & 6.622155 & 0 & 0 & 0 & 0 & 0.000000 & 0 & 0 & ⋯ & 5.405075 & 0.000000 & 0 & 5.628756 & 0 & 0 & 0 & 0 & 5.602846 & 0\\\\\n",
       "\\end{tabular}\n"
      ],
      "text/markdown": [
       "\n",
       "A data.table: 6 × 6019\n",
       "\n",
       "| id &lt;chr&gt; | AAACAGCCAACAGGTG-1.x &lt;dbl&gt; | AAACATGCAACAACAA-1.x &lt;dbl&gt; | AAACATGCACCTGGTG-1.x &lt;dbl&gt; | AAACCAACACAGCCTG-1.x &lt;dbl&gt; | AAACCAACAGCAAGAT-1.x &lt;dbl&gt; | AAACCAACATTGCGAC-1.x &lt;dbl&gt; | AAACCGAAGCACAGCC-1.x &lt;dbl&gt; | AAACCGCGTAATTAGC-1.x &lt;dbl&gt; | AAACCGCGTCACGAAC-1.x &lt;dbl&gt; | ⋯ ⋯ | TTTGGTGCATGAGCAG-1.y &lt;dbl&gt; | TTTGTCCCAGCTTAGC-1.y &lt;dbl&gt; | TTTGTCCCATAATCGT-1.y &lt;dbl&gt; | TTTGTCTAGCATGTTA-1.y &lt;dbl&gt; | TTTGTCTAGGAGGACT-1.y &lt;dbl&gt; | TTTGTCTAGTCTATGA-1.y &lt;dbl&gt; | TTTGTGGCAGCACGAA-1.y &lt;dbl&gt; | TTTGTGGCATCGCTCC-1.y &lt;dbl&gt; | TTTGTGTTCACTTCAT-1.y &lt;dbl&gt; | TTTGTGTTCATGCGTG-1.y &lt;dbl&gt; |\n",
       "|---|---|---|---|---|---|---|---|---|---|---|---|---|---|---|---|---|---|---|---|---|\n",
       "| ENSG00000000003 | 0 | 0.000000 | 0 | 0 | 0 | 0 | 0.000000 | 0 | 0 | ⋯ | 0.000000 | 0.000000 | 0 | 0.000000 | 0 | 0 | 0 | 0 | 0.000000 | 0 |\n",
       "| ENSG00000000005 | 0 | 0.000000 | 0 | 0 | 0 | 0 | 0.000000 | 0 | 0 | ⋯ | 0.000000 | 0.000000 | 0 | 0.000000 | 0 | 0 | 0 | 0 | 0.000000 | 0 |\n",
       "| ENSG00000000419 | 0 | 0.000000 | 0 | 0 | 0 | 0 | 0.000000 | 0 | 0 | ⋯ | 0.000000 | 0.000000 | 0 | 0.000000 | 0 | 0 | 0 | 0 | 5.602846 | 0 |\n",
       "| ENSG00000000457 | 0 | 0.000000 | 0 | 0 | 0 | 0 | 5.455749 | 0 | 0 | ⋯ | 0.000000 | 0.000000 | 0 | 0.000000 | 0 | 0 | 0 | 0 | 0.000000 | 0 |\n",
       "| ENSG00000000460 | 0 | 0.000000 | 0 | 0 | 0 | 0 | 6.146758 | 0 | 0 | ⋯ | 0.000000 | 6.099516 | 0 | 0.000000 | 0 | 0 | 0 | 0 | 0.000000 | 0 |\n",
       "| ENSG00000000938 | 0 | 6.622155 | 0 | 0 | 0 | 0 | 0.000000 | 0 | 0 | ⋯ | 5.405075 | 0.000000 | 0 | 5.628756 | 0 | 0 | 0 | 0 | 5.602846 | 0 |\n",
       "\n"
      ],
      "text/plain": [
       "  id              AAACAGCCAACAGGTG-1.x AAACATGCAACAACAA-1.x\n",
       "1 ENSG00000000003 0                    0.000000            \n",
       "2 ENSG00000000005 0                    0.000000            \n",
       "3 ENSG00000000419 0                    0.000000            \n",
       "4 ENSG00000000457 0                    0.000000            \n",
       "5 ENSG00000000460 0                    0.000000            \n",
       "6 ENSG00000000938 0                    6.622155            \n",
       "  AAACATGCACCTGGTG-1.x AAACCAACACAGCCTG-1.x AAACCAACAGCAAGAT-1.x\n",
       "1 0                    0                    0                   \n",
       "2 0                    0                    0                   \n",
       "3 0                    0                    0                   \n",
       "4 0                    0                    0                   \n",
       "5 0                    0                    0                   \n",
       "6 0                    0                    0                   \n",
       "  AAACCAACATTGCGAC-1.x AAACCGAAGCACAGCC-1.x AAACCGCGTAATTAGC-1.x\n",
       "1 0                    0.000000             0                   \n",
       "2 0                    0.000000             0                   \n",
       "3 0                    0.000000             0                   \n",
       "4 0                    5.455749             0                   \n",
       "5 0                    6.146758             0                   \n",
       "6 0                    0.000000             0                   \n",
       "  AAACCGCGTCACGAAC-1.x ⋯ TTTGGTGCATGAGCAG-1.y TTTGTCCCAGCTTAGC-1.y\n",
       "1 0                    ⋯ 0.000000             0.000000            \n",
       "2 0                    ⋯ 0.000000             0.000000            \n",
       "3 0                    ⋯ 0.000000             0.000000            \n",
       "4 0                    ⋯ 0.000000             0.000000            \n",
       "5 0                    ⋯ 0.000000             6.099516            \n",
       "6 0                    ⋯ 5.405075             0.000000            \n",
       "  TTTGTCCCATAATCGT-1.y TTTGTCTAGCATGTTA-1.y TTTGTCTAGGAGGACT-1.y\n",
       "1 0                    0.000000             0                   \n",
       "2 0                    0.000000             0                   \n",
       "3 0                    0.000000             0                   \n",
       "4 0                    0.000000             0                   \n",
       "5 0                    0.000000             0                   \n",
       "6 0                    5.628756             0                   \n",
       "  TTTGTCTAGTCTATGA-1.y TTTGTGGCAGCACGAA-1.y TTTGTGGCATCGCTCC-1.y\n",
       "1 0                    0                    0                   \n",
       "2 0                    0                    0                   \n",
       "3 0                    0                    0                   \n",
       "4 0                    0                    0                   \n",
       "5 0                    0                    0                   \n",
       "6 0                    0                    0                   \n",
       "  TTTGTGTTCACTTCAT-1.y TTTGTGTTCATGCGTG-1.y\n",
       "1 0.000000             0                   \n",
       "2 0.000000             0                   \n",
       "3 5.602846             0                   \n",
       "4 0.000000             0                   \n",
       "5 0.000000             0                   \n",
       "6 5.602846             0                   "
      ]
     },
     "metadata": {},
     "output_type": "display_data"
    }
   ],
   "source": [
    "nrow(merge)\n",
    "ncol(merge)\n",
    "head(merge)"
   ]
  },
  {
   "cell_type": "code",
   "execution_count": null,
   "id": "8376947d-beaf-43d2-b079-5fcfeffa15b4",
   "metadata": {},
   "outputs": [],
   "source": [
    "unmerged_peaks <- atac_peaks_dt[is.na(id)]\n",
    "unmerged_table <- table(unmerged_peaks$chromosome)"
   ]
  },
  {
   "cell_type": "markdown",
   "id": "41e605ab-c27d-40e2-b44d-a316598076a2",
   "metadata": {
    "jp-MarkdownHeadingCollapsed": true
   },
   "source": [
    "# Step 8: Visualization"
   ]
  },
  {
   "cell_type": "markdown",
   "id": "71d7f1d5-ac94-4b68-927f-3faf8f9c38b5",
   "metadata": {},
   "source": [
    "* Generate a scatter plot using ggplot2:\n",
    "    * X-axis: log-transformed expression CPM\n",
    "    * Y-axis: log-transformed ATAC CPM\n",
    "* If the plot is too much busy of data divide the plot in the 24 chromosomes"
   ]
  },
  {
   "cell_type": "code",
   "execution_count": null,
   "id": "e613ecea-1163-4a48-9c11-8a933aee935a",
   "metadata": {},
   "outputs": [],
   "source": []
  },
  {
   "cell_type": "code",
   "execution_count": null,
   "id": "5bf0acd1-9793-46c6-8d07-bfd9b3801d14",
   "metadata": {},
   "outputs": [],
   "source": []
  },
  {
   "cell_type": "code",
   "execution_count": null,
   "id": "a72ebc94-7ca2-492d-b0f7-e1514cc5ef2a",
   "metadata": {},
   "outputs": [],
   "source": []
  },
  {
   "cell_type": "code",
   "execution_count": null,
   "id": "6002ed8e-5e1f-4aed-9074-bc938dfef84b",
   "metadata": {},
   "outputs": [],
   "source": []
  },
  {
   "cell_type": "code",
   "execution_count": null,
   "id": "af6374da-c57f-4db3-963b-aca76f2871bb",
   "metadata": {},
   "outputs": [],
   "source": []
  },
  {
   "cell_type": "code",
   "execution_count": null,
   "id": "92d0876b-6970-4f32-885f-3bd0eddecb6a",
   "metadata": {},
   "outputs": [],
   "source": []
  },
  {
   "cell_type": "code",
   "execution_count": null,
   "id": "a3cdcd60-30c1-4231-8176-b9b3b0390c5d",
   "metadata": {},
   "outputs": [],
   "source": []
  },
  {
   "cell_type": "code",
   "execution_count": null,
   "id": "3944f926-be55-4b29-a7e8-13964d42649b",
   "metadata": {},
   "outputs": [],
   "source": []
  }
 ],
 "metadata": {
  "kernelspec": {
   "display_name": "R",
   "language": "R",
   "name": "ir"
  },
  "language_info": {
   "codemirror_mode": "r",
   "file_extension": ".r",
   "mimetype": "text/x-r-source",
   "name": "R",
   "pygments_lexer": "r",
   "version": "4.5.0"
  }
 },
 "nbformat": 4,
 "nbformat_minor": 5
}
