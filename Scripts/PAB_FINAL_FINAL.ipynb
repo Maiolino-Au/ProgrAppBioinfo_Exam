{
 "cells": [
  {
   "cell_type": "markdown",
   "id": "4e8f557a-1382-487d-922e-8a4e972aed41",
   "metadata": {},
   "source": [
    "# Load libraries"
   ]
  },
  {
   "cell_type": "code",
   "execution_count": 1,
   "id": "2cc0855d-2260-4c41-bd38-afbab7e49128",
   "metadata": {},
   "outputs": [
    {
     "name": "stderr",
     "output_type": "stream",
     "text": [
      "Loading required package: SeuratObject\n",
      "\n",
      "Loading required package: sp\n",
      "\n",
      "\n",
      "Attaching package: ‘SeuratObject’\n",
      "\n",
      "\n",
      "The following objects are masked from ‘package:base’:\n",
      "\n",
      "    intersect, t\n",
      "\n",
      "\n",
      "Loading required package: stats4\n",
      "\n",
      "Loading required package: BiocGenerics\n",
      "\n",
      "Loading required package: generics\n",
      "\n",
      "\n",
      "Attaching package: ‘generics’\n",
      "\n",
      "\n",
      "The following objects are masked from ‘package:base’:\n",
      "\n",
      "    as.difftime, as.factor, as.ordered, intersect, is.element, setdiff,\n",
      "    setequal, union\n",
      "\n",
      "\n",
      "\n",
      "Attaching package: ‘BiocGenerics’\n",
      "\n",
      "\n",
      "The following objects are masked from ‘package:stats’:\n",
      "\n",
      "    IQR, mad, sd, var, xtabs\n",
      "\n",
      "\n",
      "The following objects are masked from ‘package:base’:\n",
      "\n",
      "    Filter, Find, Map, Position, Reduce, anyDuplicated, aperm, append,\n",
      "    as.data.frame, basename, cbind, colnames, dirname, do.call,\n",
      "    duplicated, eval, evalq, get, grep, grepl, is.unsorted, lapply,\n",
      "    mapply, match, mget, order, paste, pmax, pmax.int, pmin, pmin.int,\n",
      "    rank, rbind, rownames, sapply, saveRDS, table, tapply, unique,\n",
      "    unsplit, which.max, which.min\n",
      "\n",
      "\n",
      "Loading required package: S4Vectors\n",
      "\n",
      "\n",
      "Attaching package: ‘S4Vectors’\n",
      "\n",
      "\n",
      "The following objects are masked from ‘package:data.table’:\n",
      "\n",
      "    first, second\n",
      "\n",
      "\n",
      "The following objects are masked from ‘package:Matrix’:\n",
      "\n",
      "    expand, unname\n",
      "\n",
      "\n",
      "The following object is masked from ‘package:utils’:\n",
      "\n",
      "    findMatches\n",
      "\n",
      "\n",
      "The following objects are masked from ‘package:base’:\n",
      "\n",
      "    I, expand.grid, unname\n",
      "\n",
      "\n",
      "Loading required package: IRanges\n",
      "\n",
      "\n",
      "Attaching package: ‘IRanges’\n",
      "\n",
      "\n",
      "The following object is masked from ‘package:data.table’:\n",
      "\n",
      "    shift\n",
      "\n",
      "\n",
      "The following object is masked from ‘package:sp’:\n",
      "\n",
      "    %over%\n",
      "\n",
      "\n",
      "Loading required package: GenomeInfoDb\n",
      "\n",
      "\n",
      "Attaching package: ‘dplyr’\n",
      "\n",
      "\n",
      "The following objects are masked from ‘package:GenomicRanges’:\n",
      "\n",
      "    intersect, setdiff, union\n",
      "\n",
      "\n",
      "The following object is masked from ‘package:GenomeInfoDb’:\n",
      "\n",
      "    intersect\n",
      "\n",
      "\n",
      "The following objects are masked from ‘package:IRanges’:\n",
      "\n",
      "    collapse, desc, intersect, setdiff, slice, union\n",
      "\n",
      "\n",
      "The following objects are masked from ‘package:S4Vectors’:\n",
      "\n",
      "    first, intersect, rename, setdiff, setequal, union\n",
      "\n",
      "\n",
      "The following objects are masked from ‘package:BiocGenerics’:\n",
      "\n",
      "    combine, intersect, setdiff, setequal, union\n",
      "\n",
      "\n",
      "The following object is masked from ‘package:generics’:\n",
      "\n",
      "    explain\n",
      "\n",
      "\n",
      "The following objects are masked from ‘package:data.table’:\n",
      "\n",
      "    between, first, last\n",
      "\n",
      "\n",
      "The following objects are masked from ‘package:stats’:\n",
      "\n",
      "    filter, lag\n",
      "\n",
      "\n",
      "The following objects are masked from ‘package:base’:\n",
      "\n",
      "    intersect, setdiff, setequal, union\n",
      "\n",
      "\n"
     ]
    }
   ],
   "source": [
    "library(Seurat)\n",
    "library(Signac)\n",
    "library(Matrix)\n",
    "library(readr)\n",
    "library(ggplot2)\n",
    "library(data.table)\n",
    "library(GenomicRanges)\n",
    "library(dplyr)\n",
    "library(rtracklayer)"
   ]
  },
  {
   "cell_type": "markdown",
   "id": "2d36fa3d-0b1d-4f54-9f5d-7c2fe3574276",
   "metadata": {},
   "source": [
    "# Step 1: Load sparse matrix and convert to full matrix"
   ]
  },
  {
   "cell_type": "markdown",
   "id": "b6758090-d67e-461e-82af-a840bf93911d",
   "metadata": {},
   "source": [
    "Use the dataset: \"PBMCs 3k cells from a healthy donor\"\n",
    "* Use the material provided as part of the exam.\n",
    "\n",
    "Matrix conversion\n",
    "* Use the Matrix R package to convert the sparse matrix into a full matrix.\n",
    "* Save the result as a data.table object.\n"
   ]
  },
  {
   "cell_type": "code",
   "execution_count": 2,
   "id": "86dad4d2-ecd0-482e-bb12-a93c43b90cb3",
   "metadata": {},
   "outputs": [],
   "source": [
    "# Step 1 ___________________________________________________________________________\n",
    "s1.make.dt <- function(\n",
    "    data_path = \"/sharedFolder/Data/matrix/\"\n",
    ") {\n",
    "    # Load the sparse matrix\n",
    "    matrix <- readMM(file = paste0(data_path, \"matrix.mtx.gz\"))\n",
    "    features <- read_tsv(file = paste0(data_path, \"features.tsv.gz\"), \n",
    "                         col_names = c(\"id\", \"name\", \"type\", \"chr\", \"start\", \"end\"), \n",
    "                         show_col_types = F)\n",
    "    barcodes <- read_tsv(file = paste0(data_path, \"barcodes.tsv.gz\"), \n",
    "                         col_names = F, \n",
    "                         show_col_types = F) \n",
    "\n",
    "    # Assign names to colums and rows and transform the object \"matrix\" in a matrix\n",
    "    colnames(matrix) <- barcodes$X1\n",
    "    rownames(matrix) <- features$id\n",
    "    matrix <- as.matrix(matrix)\n",
    "\n",
    "    # Genearate a data.table, a id columns containg the ids of the various genes/peaks is added \n",
    "    dt <- as.data.table(matrix, row.names = rownames(matrix))\n",
    "    dt[, id := rownames(matrix)]\n",
    "    setcolorder(dt, c(\"id\", setdiff(names(dt), \"id\"))) # id is put as the first column\n",
    "\n",
    "\n",
    "    return(dt)\n",
    "}"
   ]
  },
  {
   "cell_type": "code",
   "execution_count": 3,
   "id": "6032c6ae-13ee-49d0-9434-d1bb562598dc",
   "metadata": {},
   "outputs": [
    {
     "name": "stderr",
     "output_type": "stream",
     "text": [
      "Warning message in asMethod(object):\n",
      "“sparse->dense coercion: allocating vector of size 2.6 GiB”\n"
     ]
    }
   ],
   "source": [
    "dt <- s1.make.dt(data_path = \"/sharedFolder/Data/matrix/\")"
   ]
  },
  {
   "cell_type": "markdown",
   "id": "f7f7cf30-c15a-4a47-ab54-b044979601fd",
   "metadata": {},
   "source": [
    "# Step 2: Split gene expression and ATAC-seq data"
   ]
  },
  {
   "cell_type": "markdown",
   "id": "06b3718b-13a7-47e3-b06d-d3391855db0b",
   "metadata": {},
   "source": [
    "From the data.table object, separate:\n",
    "* Gene expression data (rows labelled with Ensembl gene IDs, e.g., ENSG00000243485)\n",
    "* ATAC-seq peak data (rows labelled with genomic coordinates, e.g., chrN:NNNN-NNNN)\n"
   ]
  },
  {
   "cell_type": "code",
   "execution_count": 4,
   "id": "af901d6c-b7a1-4a74-aaa7-9b3b7b279547",
   "metadata": {},
   "outputs": [],
   "source": [
    "# Step 2 ___________________________________________________________________________\n",
    "s2.subset.dt <- function(\n",
    "    string,\n",
    "    data\n",
    ") {\n",
    "    # Use grepl to create a logic that indicates which elemnent of the data.table to take\n",
    "    sub <- data[grepl(string, data$id)]\n",
    "    return(sub)\n",
    "}"
   ]
  },
  {
   "cell_type": "code",
   "execution_count": 5,
   "id": "56a015da-b3d2-4dfd-a932-0f1653a40525",
   "metadata": {},
   "outputs": [],
   "source": [
    "dt_genes <- s2.subset.dt(string = \"ENSG\", data = dt)\n",
    "dt_atac <- s2.subset.dt(string = \"chr\", data = dt)"
   ]
  },
  {
   "cell_type": "markdown",
   "id": "335e2c21-8789-4d04-a3dd-57df9cf3a83c",
   "metadata": {},
   "source": [
    "# Step 3: Summarize Data"
   ]
  },
  {
   "cell_type": "markdown",
   "id": "24dc8fbe-9441-407d-8e56-d59a30021363",
   "metadata": {},
   "source": [
    "For each dataset (expression and peaks), compute the column-wise sum to produce:\n",
    "* A single vector of total expression per gene\n",
    "* A single vector of total chromatin accessibility per peak region"
   ]
  },
  {
   "cell_type": "code",
   "execution_count": 6,
   "id": "b63dc8a6-9646-4822-bd54-ed50fa02511f",
   "metadata": {},
   "outputs": [],
   "source": [
    "# Step 3 ___________________________________________________________________________\n",
    "s3.summarize.data <- function(\n",
    "    data\n",
    ") {\n",
    "    summary <- data[, rowSums(.SD), .SDcols = -\"id\"]\n",
    "    names(summary) <- data$id\n",
    "    return(summary)\n",
    "}"
   ]
  },
  {
   "cell_type": "code",
   "execution_count": 7,
   "id": "e13172bf-d403-4fd4-83e2-76b7be49dfcb",
   "metadata": {},
   "outputs": [],
   "source": [
    "genes_summary <- s3.summarize.data(data = dt_genes)\n",
    "atac_summary <- s3.summarize.data(data = dt_atac)"
   ]
  },
  {
   "cell_type": "markdown",
   "id": "e3872ee9-f859-474f-be2e-f7d361cd5519",
   "metadata": {},
   "source": [
    "# Step 4: Create GenomicRanges"
   ]
  },
  {
   "cell_type": "markdown",
   "id": "21e4e144-d325-4349-95cb-5b03b93d0258",
   "metadata": {},
   "source": [
    "* Convert both the summarized gene expression and peak data into GenomicRanges objects.\n",
    "* Add the summarized data as metadata to their respective GenomicRanges."
   ]
  },
  {
   "cell_type": "code",
   "execution_count": 8,
   "id": "608fea02-8d71-4fc0-b056-98b1068dcbc9",
   "metadata": {},
   "outputs": [],
   "source": [
    "# Step 4 ___________________________________________________________________________\n",
    "s4.create.GenomicRanges <- function(\n",
    "    type,\n",
    "    path_f = \"/sharedFolder/Data/matrix/features.tsv.gz\"\n",
    ") {\n",
    "    # Load Features\n",
    "    features <- as.data.table(\n",
    "        read_tsv(\n",
    "            file = path_f, \n",
    "            col_names = c(\"id\", \"name\", \"type\", \"chr\", \"start\", \"end\"), \n",
    "            show_col_types = F\n",
    "        )\n",
    "    )\n",
    "\n",
    "    # Subset features for genes or peaks\n",
    "    if (type %in% c(\"Genes\", \"genes\")) {\n",
    "        if (type != \"Genes\") {type = \"Genes\"}\n",
    "        \n",
    "        features <- features[grepl(\"Gene\", features$type)]\n",
    "        features$chr[is.na(features$chr)] <- \"unknown\"\n",
    "\n",
    "        summary = genes_summary\n",
    "    } else if (type %in% c(\"Peaks\", \"peaks\", \"ATAC\", \"Atac\", \"atac\")) {\n",
    "        if (type != \"Peaks\") {type = \"Peaks\"}\n",
    "        \n",
    "        features <- features[grepl(\"Peaks\", features$type) & grepl(\"chr\", features$chr)]\n",
    "        features$chr[is.na(features$chr)] <- \"unknown\"\n",
    "\n",
    "        summary = atac_summary\n",
    "    } else {\n",
    "        print(\"Error, invalid value for type: must be 'Gene' or 'Peaks'\")\n",
    "        return (\"\")\n",
    "    }\n",
    "\n",
    "    # Create GRanges object\n",
    "    gr <- GRanges(\n",
    "        seqnames = features$chr,\n",
    "        ranges = IRanges(\n",
    "            start = features$start,\n",
    "            end = features$end\n",
    "        )\n",
    "    )\n",
    "\n",
    "    # Add metadata \n",
    "    if (type == \"Genes\") {\n",
    "        gr$gene_sum = summary\n",
    "        gr$gene_id <- features$id\n",
    "        gr$gene_name <- features$name\n",
    "    } else if (type == \"Peaks\") {\n",
    "        gr$peak_sum = summary\n",
    "        gr$peak_id <- features$id\n",
    "    }\n",
    "\n",
    "    return(gr)\n",
    "}"
   ]
  },
  {
   "cell_type": "code",
   "execution_count": 9,
   "id": "5dd5d029-dc03-4c37-a1b6-bd767789cfad",
   "metadata": {},
   "outputs": [],
   "source": [
    "gr_genes <- s4.create.GenomicRanges(\"genes\")\n",
    "gr_atac <- s4.create.GenomicRanges(\"atac\")"
   ]
  },
  {
   "cell_type": "markdown",
   "id": "dde4762b-9097-48bc-9e2f-92715748de8c",
   "metadata": {},
   "source": [
    "# Step 5: Gene Annotation for ATACseq data"
   ]
  },
  {
   "cell_type": "markdown",
   "id": "68a43570-6f29-40a8-830a-74a55f0a7718",
   "metadata": {},
   "source": [
    "Using the annotation file Homo_sapiens.GRCh38.114.gtf.gz:\n",
    "* Create a GenomicRanges object only for protein-coding genes and only for gene features.\n",
    "* Remap the ATAC-seq GenomicRanges to this object and attach the summarized peak data from step 4."
   ]
  },
  {
   "cell_type": "markdown",
   "id": "147dde27-82ea-4986-b6c9-d11a9422d45e",
   "metadata": {},
   "source": [
    "## Create GFT"
   ]
  },
  {
   "cell_type": "code",
   "execution_count": 10,
   "id": "b787995d-d043-4bc1-8b71-94b29e9aa87f",
   "metadata": {},
   "outputs": [],
   "source": [
    "# Step 5 ___________________________________________________________________________\n",
    "s5.GR.protein.coding <- function(\n",
    "    path = \"/sharedFolder/Data/Homo_sapiens.GRCh38.114.gtf.gz\"\n",
    ") {\n",
    "    # Import the GTF file\n",
    "    data <- rtracklayer::import(\"Data/Homo_sapiens.GRCh38.114.gtf.gz\")\n",
    "\n",
    "    # Standardize the names (in the files the chromosomes are called by number/letter)\n",
    "    seqlevels(data) <- ifelse(\n",
    "        grepl(\n",
    "            \"^([1-9]|1[0-9]|2[0-2]|X|Y)$\", # [1-22] would not work but just check from 1 to 2, with the second 2 ignored\n",
    "            seqlevels(data)\n",
    "        ), \n",
    "        paste0(\n",
    "            \"chr\", \n",
    "            seqlevels(data)\n",
    "        ), \n",
    "        seqlevels(data)\n",
    "    )\n",
    "\n",
    "    # Filter for protein coding genes\n",
    "    data_coding <- data[data$type == \"gene\" & data$gene_biotype == \"protein_coding\"]\n",
    "\n",
    "    return(data_coding)\n",
    "}"
   ]
  },
  {
   "cell_type": "code",
   "execution_count": 11,
   "id": "73c5e607-454b-4f33-9a28-94fd2875aa84",
   "metadata": {},
   "outputs": [],
   "source": [
    "h38_coding <- s5.GR.protein.coding()"
   ]
  },
  {
   "cell_type": "markdown",
   "id": "4a921133-d020-45d0-9bf9-ddc96b450f43",
   "metadata": {},
   "source": [
    "## Remap ATAC"
   ]
  },
  {
   "cell_type": "code",
   "execution_count": 12,
   "id": "dec62e9f-4fa2-4a5d-9964-c053cc0a6b78",
   "metadata": {},
   "outputs": [],
   "source": [
    "s5.remap.atac <- function(\n",
    "    atac_data = gr_atac\n",
    ") {\n",
    "    # Find the atac peaks that overlap with coding genes\n",
    "    overlaps <- findOverlaps(atac_data, h38_coding)\n",
    "    \n",
    "    # Create a list of the genes for which there is an overlap\n",
    "    gene_list <- split(h38_coding$gene_id[subjectHits(overlaps)], queryHits(overlaps))\n",
    "    \n",
    "    # Assign the genes to the corresponding peaks\n",
    "    # In the case a peak is overlapping multiple genes they are added as a comma separated list\n",
    "    atac_data$overlapping_genes <- NA\n",
    "    atac_data$overlapping_genes[as.integer(names(gene_list))] <- sapply(gene_list, paste, collapse = \",\") \n",
    "\n",
    "    return(atac_data)\n",
    "}"
   ]
  },
  {
   "cell_type": "code",
   "execution_count": 13,
   "id": "67700948-8d6a-4a6f-ab89-389f78aa7c1c",
   "metadata": {},
   "outputs": [],
   "source": [
    "gr_atac <- s5.remap.atac()"
   ]
  },
  {
   "cell_type": "markdown",
   "id": "11e22cfd-5f90-442a-bb61-0dbec66ff00e",
   "metadata": {},
   "source": [
    "# Step 6: Finalize expression data"
   ]
  },
  {
   "cell_type": "markdown",
   "id": "cbbded0b-1668-44ca-a408-33502158fa83",
   "metadata": {},
   "source": [
    "* Subset the expression GenomicRanges, step 4, to include only protein-coding genes.\n",
    "* Add gene symbol identifiers to the object."
   ]
  },
  {
   "cell_type": "code",
   "execution_count": 14,
   "id": "91da70c5-dd61-4c0d-8ad9-9e8061f848fd",
   "metadata": {},
   "outputs": [],
   "source": [
    "# Step 6 ___________________________________________________________________________\n",
    "s6.finalize.exp.data <- function(\n",
    "    exp_data = gr_genes\n",
    ") {\n",
    "    # Add a column to with gene symbols by matching the gene_id to the annotation from the GTF file\n",
    "    exp_data$gene_symbol <- h38_coding$gene_name[match(exp_data$gene_id, h38_coding$gene_id)]\n",
    "\n",
    "    # # Remove rows where gene_symbol is NA\n",
    "    exp_data <- exp_data[!is.na(exp_data$gene_symbol)]\n",
    "\n",
    "    return(exp_data)\n",
    "}"
   ]
  },
  {
   "cell_type": "code",
   "execution_count": 15,
   "id": "95cebd03-5e69-4b49-b653-031131709f4b",
   "metadata": {},
   "outputs": [],
   "source": [
    "gr_genes <- s6.finalize.exp.data()"
   ]
  },
  {
   "cell_type": "markdown",
   "id": "848c5bb9-cf32-495f-970d-1eef6f4ee651",
   "metadata": {},
   "source": [
    "# Step 7: Data Normalization and Integration"
   ]
  },
  {
   "cell_type": "markdown",
   "id": "40501a1a-13f9-4e93-8351-8ec588775e11",
   "metadata": {},
   "source": [
    "* Normalize both expression and ATAC-seq data using CPM:\n",
    "    * Divide each column by the column sum, multiply by 106, add a pseudo-count of 1, and apply log2.\n",
    "* Merge expression and ATAC data based on common genes.\n",
    "* Provide a summary table of the number of ATAC peaks that could not be merged and a plot of peak intensity distribution chromosome by chromosome. Provide a summary table of the genes which do not show association with ATAC peaks and plot their expression distribution chromosome by chromosome"
   ]
  },
  {
   "cell_type": "markdown",
   "id": "863d14c8-28a1-4bca-8dfb-406a8baba2ad",
   "metadata": {},
   "source": [
    "## Normalize cpm"
   ]
  },
  {
   "cell_type": "markdown",
   "id": "10137e22-fc12-4aa0-b9eb-453665287547",
   "metadata": {},
   "source": [
    "s7.normalize.cmp <- function(\n",
    "    data\n",
    ") {\n",
    "    dt_norm <- copy(data)\n",
    "    # Get columns to normalize (all except 'id')\n",
    "    cols <- setdiff(names(dt_norm), \"id\")\n",
    "    # Perform CPM normalization & log2 transform\n",
    "    dt_norm[, (cols) := lapply(.SD, function(x) log2((x / sum(x) * 1e6) + 1)), .SDcols = cols]\n",
    "    return(dt_norm)\n",
    "}"
   ]
  },
  {
   "cell_type": "code",
   "execution_count": 17,
   "id": "e9965f5b-8b30-4d03-9d42-5d2751939482",
   "metadata": {},
   "outputs": [],
   "source": [
    "# Step 7 ___________________________________________________________________________\n",
    "# Step 7 - Normalize _______________________________________________________________\n",
    "s7.normalize.cmp <- function(data) {\n",
    "    log2((data / sum(data) * 1e6) + 1)\n",
    "}"
   ]
  },
  {
   "cell_type": "code",
   "execution_count": 18,
   "id": "d2b0df58-951f-4995-b596-f4ebaf662c38",
   "metadata": {},
   "outputs": [],
   "source": [
    "genes_cpm <- s7.normalize.cmp(data = genes_summary)\n",
    "atac_cpm <- s7.normalize.cmp(data = atac_summary)"
   ]
  },
  {
   "cell_type": "code",
   "execution_count": 19,
   "id": "f3bda54e-033d-426f-b09e-b02b7d0be90d",
   "metadata": {},
   "outputs": [],
   "source": [
    "gr_genes$gene_cpm <- genes_cpm[match(gr_genes$gene_id, names(genes_cpm))]\n",
    "gr_atac$peak_cpm  <- atac_cpm[match(gr_atac$peak_id, names(atac_cpm))]"
   ]
  },
  {
   "cell_type": "markdown",
   "id": "706f966f-e4fc-452b-b9c5-4ae7a4a56653",
   "metadata": {},
   "source": [
    "## Merge"
   ]
  },
  {
   "cell_type": "code",
   "execution_count": 60,
   "id": "3b8b592f-0613-414e-a5fa-e045fea4570f",
   "metadata": {},
   "outputs": [],
   "source": [
    "# Step 7 - Merge ___________________________________________________________________\n",
    "s7.merge <- function(\n",
    "    exp_data = gr_genes,\n",
    "    atac_data = gr_atac\n",
    ") {\n",
    "    merged <- merge(\n",
    "      as.data.table(exp_data)[, .(gene_id, gene_symbol, chr = seqnames, gene_cpm)],\n",
    "      as.data.table(atac_data)[, .(overlapping_genes, peak_cpm)],\n",
    "      by.x = \"gene_id\", by.y = \"overlapping_genes\", all.x = TRUE\n",
    "    )\n",
    "\n",
    "    merged$chr <- factor(merged_data$chr, levels = paste0(\"chr\", c(1:22, \"X\", \"Y\")))\n",
    "    \n",
    "    return(merged)\n",
    "}"
   ]
  },
  {
   "cell_type": "code",
   "execution_count": 61,
   "id": "af52c19e-01f6-42a0-9444-a54ee91173b2",
   "metadata": {},
   "outputs": [],
   "source": [
    "merged_data <- s7.merge()"
   ]
  },
  {
   "cell_type": "code",
   "execution_count": 69,
   "id": "d6b259c6-b8b9-4e3e-b8a1-8f37928a089e",
   "metadata": {},
   "outputs": [
    {
     "data": {
      "text/html": [
       "<style>\n",
       ".list-inline {list-style: none; margin:0; padding: 0}\n",
       ".list-inline>li {display: inline-block}\n",
       ".list-inline>li:not(:last-child)::after {content: \"\\00b7\"; padding: 0 .5ex}\n",
       "</style>\n",
       "<ol class=list-inline><li>'chr1'</li><li>'chr2'</li><li>'chr3'</li><li>'chr4'</li><li>'chr5'</li><li>'chr6'</li><li>'chr7'</li><li>'chr8'</li><li>'chr9'</li><li>'chr10'</li><li>'chr11'</li><li>'chr12'</li><li>'chr13'</li><li>'chr14'</li><li>'chr15'</li><li>'chr16'</li><li>'chr17'</li><li>'chr18'</li><li>'chr19'</li><li>'chr20'</li><li>'chr21'</li><li>'chr22'</li><li>'chrX'</li><li>'chrY'</li></ol>\n"
      ],
      "text/latex": [
       "\\begin{enumerate*}\n",
       "\\item 'chr1'\n",
       "\\item 'chr2'\n",
       "\\item 'chr3'\n",
       "\\item 'chr4'\n",
       "\\item 'chr5'\n",
       "\\item 'chr6'\n",
       "\\item 'chr7'\n",
       "\\item 'chr8'\n",
       "\\item 'chr9'\n",
       "\\item 'chr10'\n",
       "\\item 'chr11'\n",
       "\\item 'chr12'\n",
       "\\item 'chr13'\n",
       "\\item 'chr14'\n",
       "\\item 'chr15'\n",
       "\\item 'chr16'\n",
       "\\item 'chr17'\n",
       "\\item 'chr18'\n",
       "\\item 'chr19'\n",
       "\\item 'chr20'\n",
       "\\item 'chr21'\n",
       "\\item 'chr22'\n",
       "\\item 'chrX'\n",
       "\\item 'chrY'\n",
       "\\end{enumerate*}\n"
      ],
      "text/markdown": [
       "1. 'chr1'\n",
       "2. 'chr2'\n",
       "3. 'chr3'\n",
       "4. 'chr4'\n",
       "5. 'chr5'\n",
       "6. 'chr6'\n",
       "7. 'chr7'\n",
       "8. 'chr8'\n",
       "9. 'chr9'\n",
       "10. 'chr10'\n",
       "11. 'chr11'\n",
       "12. 'chr12'\n",
       "13. 'chr13'\n",
       "14. 'chr14'\n",
       "15. 'chr15'\n",
       "16. 'chr16'\n",
       "17. 'chr17'\n",
       "18. 'chr18'\n",
       "19. 'chr19'\n",
       "20. 'chr20'\n",
       "21. 'chr21'\n",
       "22. 'chr22'\n",
       "23. 'chrX'\n",
       "24. 'chrY'\n",
       "\n",
       "\n"
      ],
      "text/plain": [
       " [1] \"chr1\"  \"chr2\"  \"chr3\"  \"chr4\"  \"chr5\"  \"chr6\"  \"chr7\"  \"chr8\"  \"chr9\" \n",
       "[10] \"chr10\" \"chr11\" \"chr12\" \"chr13\" \"chr14\" \"chr15\" \"chr16\" \"chr17\" \"chr18\"\n",
       "[19] \"chr19\" \"chr20\" \"chr21\" \"chr22\" \"chrX\"  \"chrY\" "
      ]
     },
     "metadata": {},
     "output_type": "display_data"
    }
   ],
   "source": [
    "# Define correct chromosome order\n",
    "chr_levels <- paste0(\"chr\", c(1:22, \"X\", \"Y\"))\n",
    "chr_levels\n",
    "# Convert chr column to factor with this order\n",
    "merged_data$chr <- factor(merged_data$chr, levels = chr_levels)"
   ]
  },
  {
   "cell_type": "markdown",
   "id": "32f13fa0-0be4-47bf-b226-49fa1ee5f991",
   "metadata": {},
   "source": [
    "## Summary"
   ]
  },
  {
   "cell_type": "code",
   "execution_count": 63,
   "id": "fa39d5f7-9de1-488b-87cf-03d5f6cac47e",
   "metadata": {},
   "outputs": [],
   "source": [
    "# Step 7 - Summary _________________________________________________________________\n",
    "s7.summary.table.peaks <- function(\n",
    "    atac_data = gr_atac\n",
    ") {\n",
    "    unmerged <- as.data.table(atac_data)[is.na(overlapping_genes)]\n",
    "    unmerged<- unmerged[, .(peak_id, seqnames, start, end, peak_cpm)]\n",
    "    colnames(unmerged)[colnames(unmerged) == \"seqnames\"] <- \"chr\"\n",
    "        \n",
    "    return(unmerged)\n",
    "}"
   ]
  },
  {
   "cell_type": "code",
   "execution_count": 64,
   "id": "3f0d558e-8a20-4bb0-889d-df01b59b29ee",
   "metadata": {},
   "outputs": [],
   "source": [
    "unmerged_peaks <- s7.summary.table.peaks()"
   ]
  },
  {
   "cell_type": "code",
   "execution_count": 65,
   "id": "16e26920-72c8-458c-8b45-582eca4672c6",
   "metadata": {},
   "outputs": [],
   "source": [
    "s7.summary.table.genes <- function(\n",
    "    exp_data = gr_genes,\n",
    "    merged = merged_data\n",
    ") {\n",
    "    genes_no_atac <- merged[is.na(peak_cpm) | peak_cpm == 0]\n",
    "    genes_no_atac <- genes_no_atac[, .(gene_id, gene_symbol, gene_cpm)]\n",
    "    \n",
    "    return(genes_no_atac)\n",
    "}"
   ]
  },
  {
   "cell_type": "code",
   "execution_count": 66,
   "id": "9c83735d-4f98-4a67-b838-986314859b4e",
   "metadata": {},
   "outputs": [],
   "source": [
    "genes_no_atac <- s7.summary.table.genes()"
   ]
  },
  {
   "cell_type": "code",
   "execution_count": 72,
   "id": "dbf6ff78-d7ed-406e-bd59-090106d01094",
   "metadata": {},
   "outputs": [],
   "source": [
    "s7.summary.plot.peaks <- function(\n",
    "    data_merged = merged_data,\n",
    "    data_unmerged = unmerged_peaks\n",
    ") {\n",
    "    # Provide \"a plot of peak intensity distribution chromosome by chromosome\"\n",
    "    # For peaks that could be merged or for the ones that could not?\n",
    "    \n",
    "    chr_levels <- paste0(\"chr\", c(1:22, \"X\", \"Y\"))\n",
    "    unmerged_peaks$chr <- factor(unmerged_peaks$chr, levels = chr_levels)\n",
    "\n",
    "    merged <- ggplot(data_merged[!is.na(peak_cpm)], aes(x=chr, y=peak_cpm)) + \n",
    "        geom_boxplot() + theme(axis.text.x = element_text(angle=90)) +\n",
    "        labs(title = \"Peak intensity distribution for merged peaks\")\n",
    "\n",
    "    unmerged <- ggplot(data_unmerged[!is.na(peak_cpm)], aes(x=chr, y=peak_cpm)) + \n",
    "        geom_boxplot() + theme(axis.text.x = element_text(angle=90)) +\n",
    "        labs(title = \"Peak intensity distribution for unmerged peaks\")\n",
    "    \n",
    "    #Save\n",
    "    dir_results <- \"/sharedFolder/Results\"\n",
    "    if (!dir.exists(dir_results)) {dir.create(dir_results)}\n",
    "    \n",
    "    ggsave(\"/sharedFolder/Results/s7_peaks_intesnisty_merged.png\", plot = merged)\n",
    "    ggsave(\"/sharedFolder/Results/s7_peaks_intesnisty_unmerged.png\", plot = unmerged)\n",
    "    \n",
    "    return(list(merged, unmerged))\n",
    "}"
   ]
  },
  {
   "cell_type": "code",
   "execution_count": 73,
   "id": "7d966e95-c054-4900-9c7a-39c5e52567fa",
   "metadata": {},
   "outputs": [
    {
     "name": "stderr",
     "output_type": "stream",
     "text": [
      "\u001b[1m\u001b[22mSaving 7 x 7 in image\n",
      "\u001b[1m\u001b[22mSaving 7 x 7 in image\n"
     ]
    }
   ],
   "source": [
    "plot_s7_pea <- s7.summary.plot.peaks()"
   ]
  },
  {
   "cell_type": "code",
   "execution_count": 56,
   "id": "a04b2c62-7aae-4065-90eb-b405b9088f13",
   "metadata": {},
   "outputs": [],
   "source": [
    "s7.summary.plot.genes <- function(\n",
    "    data = merged_data\n",
    ") {\n",
    "    plot <- list()\n",
    "    \n",
    "    # atac\n",
    "    data_atac <- data[peak_cpm > 0 & grepl(\"chr\", data$chr)]\n",
    "    merged <- ggplot(data_atac, aes(x=chr, y=gene_cpm)) + \n",
    "        geom_boxplot() + theme(axis.text.x = element_text(angle=90)) +\n",
    "        labs(title = \"Expression of Genes with ATAC Peaks\")\n",
    "    \n",
    "    # no atac\n",
    "    data_no_atac <- data[(is.na(peak_cpm)| peak_cpm == 0) & grepl(\"chr\", data$chr)]\n",
    "    unmerged <- ggplot(data_no_atac, aes(x=chr, y=gene_cpm)) + \n",
    "        geom_boxplot() + theme(axis.text.x = element_text(angle=90)) +\n",
    "        labs(title = \"Expression of Genes without ATAC Peaks\")\n",
    "\n",
    "    #Save\n",
    "    dir_results <- \"/sharedFolder/Results\"\n",
    "    if (!dir.exists(dir_results)) {dir.create(dir_results)}\n",
    "    \n",
    "    ggsave(\"/sharedFolder/Results/s7_gene_expression_merged.png\", plot = merged)\n",
    "    ggsave(\"/sharedFolder/Results/s7_gene_expression_unmerged.png\", plot = unmerged)\n",
    "    \n",
    "    return(list(merged, unmerged))\n",
    "}"
   ]
  },
  {
   "cell_type": "code",
   "execution_count": 57,
   "id": "1502a2a3-c93b-45e1-bb21-d0baf67cce63",
   "metadata": {},
   "outputs": [
    {
     "name": "stderr",
     "output_type": "stream",
     "text": [
      "\u001b[1m\u001b[22mSaving 7 x 7 in image\n",
      "\u001b[1m\u001b[22mSaving 7 x 7 in image\n"
     ]
    }
   ],
   "source": [
    "plot_s7_genes <- s7.summary.plot.genes(merged_data)\n"
   ]
  },
  {
   "cell_type": "code",
   "execution_count": 58,
   "id": "40fc292f-5486-4167-b492-35d009cf71ec",
   "metadata": {},
   "outputs": [],
   "source": [
    "s7.summary.chr.wise <- function(\n",
    "\n",
    ") {\n",
    "    peak_chr_summary <- unmerged_peaks[, .N, by = chr]\n",
    "    colnames(peak_chr_summary) <- c(\"chr\", \"N_unmerged_peaks\")\n",
    "    \n",
    "    gr_genes_dt <- as.data.table(gr_genes)\n",
    "    genes_no_atac <- merge(genes_no_atac, gr_genes_dt[, .(gene_id, seqnames)], by = \"gene_id\", all.x = TRUE)\n",
    "    gene_chr_summary <- genes_no_atac[, .N, by = seqnames] \n",
    "    colnames(gene_chr_summary) <- c(\"chr\", \"N_unmerged_genes\")\n",
    "    \n",
    "    chr_wise_summary <- merge(gene_chr_summary,peak_chr_summary, all = T)\n",
    "\n",
    "    return(chr_wise_summary)\n",
    "}"
   ]
  },
  {
   "cell_type": "code",
   "execution_count": 59,
   "id": "de85ccb9-1b9e-423f-9867-748ad656363d",
   "metadata": {},
   "outputs": [
    {
     "name": "stdout",
     "output_type": "stream",
     "text": [
      "Key: <chr>\n",
      "           chr N_unmerged_genes N_unmerged_peaks\n",
      "        <fctr>            <int>            <int>\n",
      " 1:       chr1              607             3038\n",
      " 2:       chr2              354             2444\n",
      " 3:       chr3              303             1636\n",
      " 4:       chr4              260             1092\n",
      " 5:       chr5              319             1520\n",
      " 6:       chr6              329             2007\n",
      " 7:       chr7              280             1361\n",
      " 8:       chr8              213             1283\n",
      " 9:       chr9              243             1243\n",
      "10:      chr10              193             1381\n",
      "11:      chr11              538             1304\n",
      "12:      chr12              311             1469\n",
      "13:      chr13               81              740\n",
      "14:      chr14              202             1098\n",
      "15:      chr15              168              889\n",
      "16:      chr16              274              807\n",
      "17:      chr17              359             1404\n",
      "18:      chr18               67              533\n",
      "19:      chr19              443              989\n",
      "20:      chr20              159              903\n",
      "21:      chr21               94              369\n",
      "22:      chr22              113              639\n",
      "23:       chrX              382              879\n",
      "24:       chrY               43               14\n",
      "25:    unknown               13               NA\n",
      "26: GL000194.1                1               NA\n",
      "           chr N_unmerged_genes N_unmerged_peaks\n"
     ]
    }
   ],
   "source": [
    "chr_wise_summary <- s7.summary.chr.wise()\n",
    "print(chr_wise_summary)"
   ]
  },
  {
   "cell_type": "markdown",
   "id": "41e605ab-c27d-40e2-b44d-a316598076a2",
   "metadata": {},
   "source": [
    "# Step 8: Visualization"
   ]
  },
  {
   "cell_type": "markdown",
   "id": "71d7f1d5-ac94-4b68-927f-3faf8f9c38b5",
   "metadata": {},
   "source": [
    "* Generate a scatter plot using ggplot2:\n",
    "    * X-axis: log-transformed expression CPM\n",
    "    * Y-axis: log-transformed ATAC CPM\n",
    "* If the plot is too much busy of data divide the plot in the 24 chromosomes"
   ]
  },
  {
   "cell_type": "code",
   "execution_count": 111,
   "id": "adeb4f09-24f8-447e-a8a3-5fa74addf380",
   "metadata": {},
   "outputs": [],
   "source": [
    "# Step 8 ___________________________________________________________________________\n",
    "s8.scatter.plots <- function(chr_num) {\n",
    "    plot <- ggplot(\n",
    "        merged_data[!is.na(peak_cpm) & merged_data$chr == paste0(\"chr\", chr_num)], \n",
    "        aes(x=gene_cpm, y=peak_cpm)\n",
    "    ) +\n",
    "      geom_point(alpha=0.5) +\n",
    "      labs(\n",
    "          x = \"Gene Expression CPM (log2)\", \n",
    "          y = \"ATAC Peaks CPM (log2)\", \n",
    "          title = paste(\"Chromosme\", chr_num)\n",
    "      ) +\n",
    "      xlim(0, 13) +\n",
    "      ylim(0, 9) +\n",
    "      theme_bw() +\n",
    "      theme(axis.text.x = element_text(angle = 45, hjust = 1))\n",
    "    return(plot)\n",
    "}"
   ]
  },
  {
   "cell_type": "code",
   "execution_count": 112,
   "id": "6437158b-9631-42f2-b9dd-9b47b72db8d0",
   "metadata": {},
   "outputs": [],
   "source": [
    "s8.save.plots <- function() {\n",
    "    plot_list <- lapply(c(as.character(1:22), \"X\", \"Y\"), s8.scatter.plots)\n",
    "\n",
    "    dir_results <- \"/sharedFolder/Results\"\n",
    "    if (!dir.exists(dir_results)) {dir.create(dir_results)}\n",
    "\n",
    "    for (i in 1:(length(plot_list)/12)) {\n",
    "        n <- 12*(i-1)+1\n",
    "        combined <- cowplot::plot_grid(plotlist = plot_list[(n):(n+11)], ncol = 3) \n",
    "        ggsave(paste0(\n",
    "            \"/sharedFolder/Results/s8_plot_\",\n",
    "            i,\n",
    "            \".png\"\n",
    "        ), plot = combined, width = 1920*2, height = 1080*3.6, units = \"px\")\n",
    "    }\n",
    "}"
   ]
  },
  {
   "cell_type": "code",
   "execution_count": 113,
   "id": "eed051bd-344c-4239-8877-df2ae83320a1",
   "metadata": {},
   "outputs": [],
   "source": [
    "s8.save.plots()"
   ]
  },
  {
   "cell_type": "code",
   "execution_count": 114,
   "id": "497c53f6-3fc3-4481-8442-d567caf2a652",
   "metadata": {},
   "outputs": [],
   "source": [
    "#plot_list <- lapply(c(as.character(1:22), \"X\", \"Y\"), s8.scatter.plots)\n",
    "#plot_list"
   ]
  },
  {
   "cell_type": "code",
   "execution_count": null,
   "id": "bd5ec140-a897-4259-92ff-fafd09c7706e",
   "metadata": {},
   "outputs": [],
   "source": []
  },
  {
   "cell_type": "markdown",
   "id": "33ba4ac6-cc8f-432e-981c-0375d97dcc69",
   "metadata": {},
   "source": [
    "# R Markdown"
   ]
  },
  {
   "cell_type": "code",
   "execution_count": 115,
   "id": "d7569eb8-7e1f-4f05-ac3f-d855989b18be",
   "metadata": {},
   "outputs": [],
   "source": [
    "#install.packages(\"tinytex\")\n",
    "#tinytex::install_tinytex()"
   ]
  },
  {
   "cell_type": "code",
   "execution_count": 116,
   "id": "88c29e95-dca9-4c05-954c-2acad8253bff",
   "metadata": {},
   "outputs": [
    {
     "name": "stderr",
     "output_type": "stream",
     "text": [
      "\n",
      "\n",
      "processing file: Maiolino_Au.Rmd\n",
      "\n"
     ]
    },
    {
     "name": "stdout",
     "output_type": "stream",
     "text": [
      "1/30                   \n",
      "2/30 [unnamed-chunk-1] \n",
      "3/30                   \n",
      "4/30 [unnamed-chunk-2] \n",
      "5/30                   \n",
      "6/30 [unnamed-chunk-3] \n",
      "7/30                   \n",
      "8/30 [unnamed-chunk-4] \n",
      "9/30                   \n",
      "10/30 [unnamed-chunk-5] \n",
      "11/30                   \n",
      "12/30 [unnamed-chunk-6] \n",
      "13/30                   \n",
      "14/30 [unnamed-chunk-7] \n",
      "15/30                   \n",
      "16/30 [unnamed-chunk-8] \n",
      "17/30                   \n",
      "18/30 [unnamed-chunk-9] \n",
      "19/30                   \n",
      "20/30 [unnamed-chunk-10]\n",
      "21/30                   \n",
      "22/30 [unnamed-chunk-11]\n",
      "23/30                   \n",
      "24/30 [unnamed-chunk-12]\n",
      "25/30                   \n",
      "26/30 [unnamed-chunk-13]\n",
      "27/30                   \n",
      "28/30 [unnamed-chunk-14]\n",
      "29/30                   \n",
      "30/30 [unnamed-chunk-15]\n"
     ]
    },
    {
     "name": "stderr",
     "output_type": "stream",
     "text": [
      "output file: Maiolino_Au.knit.md\n",
      "\n",
      "\n"
     ]
    },
    {
     "name": "stdout",
     "output_type": "stream",
     "text": [
      "/usr/bin/pandoc +RTS -K512m -RTS Maiolino_Au.knit.md --to latex --from markdown+autolink_bare_uris+tex_math_single_backslash --output Maiolino_Au.tex --lua-filter /usr/local/lib/R/site-library/rmarkdown/rmarkdown/lua/pagebreak.lua --lua-filter /usr/local/lib/R/site-library/rmarkdown/rmarkdown/lua/latex-div.lua --self-contained --table-of-contents --toc-depth 2 --highlight-style tango --pdf-engine pdflatex --variable graphics --include-in-header /tmp/RtmpinQXvz/rmarkdown-str5d4461bba87e.html --variable 'geometry:margin=1in' \n"
     ]
    },
    {
     "name": "stderr",
     "output_type": "stream",
     "text": [
      "\n",
      "Output created: Maiolino_Au.pdf\n",
      "\n"
     ]
    }
   ],
   "source": [
    "rmarkdown::render(\"Maiolino_Au.Rmd\")"
   ]
  },
  {
   "cell_type": "code",
   "execution_count": null,
   "id": "56de04ed-465f-4c15-a4ac-6e4a11ddf1eb",
   "metadata": {},
   "outputs": [],
   "source": []
  }
 ],
 "metadata": {
  "kernelspec": {
   "display_name": "R",
   "language": "R",
   "name": "ir"
  },
  "language_info": {
   "codemirror_mode": "r",
   "file_extension": ".r",
   "mimetype": "text/x-r-source",
   "name": "R",
   "pygments_lexer": "r",
   "version": "4.5.0"
  }
 },
 "nbformat": 4,
 "nbformat_minor": 5
}
