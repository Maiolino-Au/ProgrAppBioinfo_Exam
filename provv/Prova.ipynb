{
 "cells": [
  {
   "cell_type": "code",
   "execution_count": 1,
   "id": "e54d35ca-2c82-4d85-bdea-384da248056d",
   "metadata": {},
   "outputs": [
    {
     "data": {
      "text/html": [
       "<table class=\"dataframe\">\n",
       "<caption>A matrix: 5 × 5 of type int</caption>\n",
       "<tbody>\n",
       "\t<tr><td>1</td><td> 6</td><td>11</td><td>16</td><td>21</td></tr>\n",
       "\t<tr><td>2</td><td> 7</td><td>12</td><td>17</td><td>22</td></tr>\n",
       "\t<tr><td>3</td><td> 8</td><td>13</td><td>18</td><td>23</td></tr>\n",
       "\t<tr><td>4</td><td> 9</td><td>14</td><td>19</td><td>24</td></tr>\n",
       "\t<tr><td>5</td><td>10</td><td>15</td><td>20</td><td>25</td></tr>\n",
       "</tbody>\n",
       "</table>\n"
      ],
      "text/latex": [
       "A matrix: 5 × 5 of type int\n",
       "\\begin{tabular}{lllll}\n",
       "\t 1 &  6 & 11 & 16 & 21\\\\\n",
       "\t 2 &  7 & 12 & 17 & 22\\\\\n",
       "\t 3 &  8 & 13 & 18 & 23\\\\\n",
       "\t 4 &  9 & 14 & 19 & 24\\\\\n",
       "\t 5 & 10 & 15 & 20 & 25\\\\\n",
       "\\end{tabular}\n"
      ],
      "text/markdown": [
       "\n",
       "A matrix: 5 × 5 of type int\n",
       "\n",
       "| 1 |  6 | 11 | 16 | 21 |\n",
       "| 2 |  7 | 12 | 17 | 22 |\n",
       "| 3 |  8 | 13 | 18 | 23 |\n",
       "| 4 |  9 | 14 | 19 | 24 |\n",
       "| 5 | 10 | 15 | 20 | 25 |\n",
       "\n"
      ],
      "text/plain": [
       "     [,1] [,2] [,3] [,4] [,5]\n",
       "[1,] 1     6   11   16   21  \n",
       "[2,] 2     7   12   17   22  \n",
       "[3,] 3     8   13   18   23  \n",
       "[4,] 4     9   14   19   24  \n",
       "[5,] 5    10   15   20   25  "
      ]
     },
     "metadata": {},
     "output_type": "display_data"
    }
   ],
   "source": [
    "matrix(1:25, nrow = 5, ncol = 5)"
   ]
  },
  {
   "cell_type": "code",
   "execution_count": 3,
   "id": "d31aa110-3fce-4cf0-a87a-f6f24c193d60",
   "metadata": {},
   "outputs": [
    {
     "data": {
      "text/html": [
       "<table class=\"dataframe\">\n",
       "<caption>A matrix: 5 × 5 of type int</caption>\n",
       "<tbody>\n",
       "\t<tr><td>1</td><td> 6</td><td>11</td><td>16</td><td>21</td></tr>\n",
       "\t<tr><td>2</td><td> 7</td><td>12</td><td>17</td><td>22</td></tr>\n",
       "\t<tr><td>3</td><td> 8</td><td>13</td><td>18</td><td>23</td></tr>\n",
       "\t<tr><td>4</td><td> 9</td><td>14</td><td>19</td><td>24</td></tr>\n",
       "\t<tr><td>5</td><td>10</td><td>15</td><td>20</td><td>25</td></tr>\n",
       "</tbody>\n",
       "</table>\n"
      ],
      "text/latex": [
       "A matrix: 5 × 5 of type int\n",
       "\\begin{tabular}{lllll}\n",
       "\t 1 &  6 & 11 & 16 & 21\\\\\n",
       "\t 2 &  7 & 12 & 17 & 22\\\\\n",
       "\t 3 &  8 & 13 & 18 & 23\\\\\n",
       "\t 4 &  9 & 14 & 19 & 24\\\\\n",
       "\t 5 & 10 & 15 & 20 & 25\\\\\n",
       "\\end{tabular}\n"
      ],
      "text/markdown": [
       "\n",
       "A matrix: 5 × 5 of type int\n",
       "\n",
       "| 1 |  6 | 11 | 16 | 21 |\n",
       "| 2 |  7 | 12 | 17 | 22 |\n",
       "| 3 |  8 | 13 | 18 | 23 |\n",
       "| 4 |  9 | 14 | 19 | 24 |\n",
       "| 5 | 10 | 15 | 20 | 25 |\n",
       "\n"
      ],
      "text/plain": [
       "     [,1] [,2] [,3] [,4] [,5]\n",
       "[1,] 1     6   11   16   21  \n",
       "[2,] 2     7   12   17   22  \n",
       "[3,] 3     8   13   18   23  \n",
       "[4,] 4     9   14   19   24  \n",
       "[5,] 5    10   15   20   25  "
      ]
     },
     "metadata": {},
     "output_type": "display_data"
    }
   ],
   "source": [
    "a <- matrix(1:25, nrow = 5, ncol = 5) \n",
    "a"
   ]
  },
  {
   "cell_type": "code",
   "execution_count": 4,
   "id": "81b9deb8-15ad-48ea-8989-47a0b0e535e7",
   "metadata": {},
   "outputs": [
    {
     "ename": "ERROR",
     "evalue": "Error in c(\"a\", \"b\", \"c\", \"d\", \"e\") %>% colnames(a): could not find function \"%>%\"\n",
     "output_type": "error",
     "traceback": [
      "Error in c(\"a\", \"b\", \"c\", \"d\", \"e\") %>% colnames(a): could not find function \"%>%\"\nTraceback:\n"
     ]
    }
   ],
   "source": [
    "b <- c(\"a\", \"b\", \"c\", \"d\", \"e\") %>% colnames(a)\n",
    "b\n",
    "a"
   ]
  },
  {
   "cell_type": "code",
   "execution_count": 5,
   "id": "6e32d230-e119-4cdc-b472-38f019d75512",
   "metadata": {},
   "outputs": [
    {
     "name": "stderr",
     "output_type": "stream",
     "text": [
      "\n",
      "Attaching package: ‘dplyr’\n",
      "\n",
      "\n",
      "The following objects are masked from ‘package:stats’:\n",
      "\n",
      "    filter, lag\n",
      "\n",
      "\n",
      "The following objects are masked from ‘package:base’:\n",
      "\n",
      "    intersect, setdiff, setequal, union\n",
      "\n",
      "\n"
     ]
    }
   ],
   "source": [
    "if (!requireNamespace(\"dplyr\", quietly = TRUE))\n",
    "    install.packages(\"dplyr\")\n",
    "library(dplyr)"
   ]
  },
  {
   "cell_type": "code",
   "execution_count": 7,
   "id": "2f56b377-f272-47b6-aea5-0dd2ea9d328e",
   "metadata": {},
   "outputs": [],
   "source": [
    "if (!requireNamespace(\"magrittr\", quietly = TRUE))\n",
    "    install.packages(\"magrittr\")\n",
    "library(magrittr)"
   ]
  },
  {
   "cell_type": "code",
   "execution_count": 8,
   "id": "e1ba22a8-1b86-44fa-8fe6-defe476a2913",
   "metadata": {},
   "outputs": [
    {
     "ename": "ERROR",
     "evalue": "Error in if (do.NULL) NULL else {: the condition has length > 1\n",
     "output_type": "error",
     "traceback": [
      "Error in if (do.NULL) NULL else {: the condition has length > 1\nTraceback:\n",
      "1. colnames(., a)",
      "2. dimnames(x)[[2L]] %||% if (do.NULL) NULL else {\n .     nc <- NCOL(x)\n .     if (nc > 0L) \n .         paste0(prefix, seq_len(nc))\n .     else character()\n . }",
      "3. .handleSimpleError(function (cnd) \n . {\n .     watcher$capture_plot_and_output()\n .     cnd <- sanitize_call(cnd)\n .     watcher$push(cnd)\n .     switch(on_error, continue = invokeRestart(\"eval_continue\"), \n .         stop = invokeRestart(\"eval_stop\"), error = NULL)\n . }, \"the condition has length > 1\", base::quote(if (do.NULL) NULL else {\n .     nc <- NCOL(x)\n .     if (nc > 0L) \n .         paste0(prefix, seq_len(nc))\n .     else character()\n . }))"
     ]
    }
   ],
   "source": [
    "b <- c(\"a\", \"b\", \"c\", \"d\", \"e\") %>% colnames(a)\n",
    "b\n",
    "a"
   ]
  },
  {
   "cell_type": "code",
   "execution_count": 11,
   "id": "ffb4fcdb-8159-4763-ace8-0d6b82f5a59d",
   "metadata": {},
   "outputs": [],
   "source": [
    "library(data.table)"
   ]
  },
  {
   "cell_type": "code",
   "execution_count": 12,
   "id": "52d9c42e-5693-43b9-bfca-b296dcbf307a",
   "metadata": {},
   "outputs": [],
   "source": [
    "dt_genes <- data.table(\n",
    "  id = c(\"gene1\", \"gene2\", \"gene3\"),\n",
    "  A = c(1, 2, 3),\n",
    "  B = c(4, 5, 6)\n",
    ")"
   ]
  },
  {
   "cell_type": "code",
   "execution_count": 13,
   "id": "bf2748ce-0626-4ab2-aa2d-a34d3b9092b2",
   "metadata": {},
   "outputs": [
    {
     "name": "stdout",
     "output_type": "stream",
     "text": [
      "       A     B\n",
      "   <num> <num>\n",
      "1:     6    15\n"
     ]
    }
   ],
   "source": [
    "expr_sum <- dt_genes[, lapply(.SD, sum), .SDcols = -'id']\n",
    "print(expr_sum)"
   ]
  },
  {
   "cell_type": "code",
   "execution_count": 15,
   "id": "6e912329-2a00-48e0-b6cf-7b314d1abbc5",
   "metadata": {},
   "outputs": [
    {
     "name": "stdout",
     "output_type": "stream",
     "text": [
      "$A\n",
      "[1] 6\n",
      "\n",
      "$B\n",
      "[1] 15\n",
      "\n"
     ]
    }
   ],
   "source": [
    "expr_sum <- lapply(dt_genes[, -\"id\"], sum)\n",
    "print(expr_sum)"
   ]
  },
  {
   "cell_type": "code",
   "execution_count": 17,
   "id": "90cc4059-45b2-499b-8078-f3bf23944d3f",
   "metadata": {},
   "outputs": [],
   "source": [
    "library(GenomicRanges)"
   ]
  },
  {
   "cell_type": "code",
   "execution_count": 20,
   "id": "52e72324-e1e6-4107-8989-195718a37cde",
   "metadata": {},
   "outputs": [],
   "source": [
    "a <- GRanges(\n",
    "  seqnames = Rle(c(\"chr1\", \"chr2\"), c(2, 2)),\n",
    "  ranges = IRanges(start = c(100, 200, 300, 400), width = 50),\n",
    "  strand = Rle(strand(c(\"+\", \"-\", \"*\", \"+\"))),\n",
    "  score = c(5.1, 3.2, 6.3, 2.5)\n",
    ")"
   ]
  },
  {
   "cell_type": "code",
   "execution_count": 21,
   "id": "43f5ead7-b737-4771-be77-51c60c07dca6",
   "metadata": {},
   "outputs": [
    {
     "data": {
      "text/plain": [
       "GRanges object with 4 ranges and 1 metadata column:\n",
       "      seqnames    ranges strand |     score\n",
       "         <Rle> <IRanges>  <Rle> | <numeric>\n",
       "  [1]     chr1   100-149      + |       5.1\n",
       "  [2]     chr1   200-249      - |       3.2\n",
       "  [3]     chr2   300-349      * |       6.3\n",
       "  [4]     chr2   400-449      + |       2.5\n",
       "  -------\n",
       "  seqinfo: 2 sequences from an unspecified genome; no seqlengths"
      ]
     },
     "metadata": {},
     "output_type": "display_data"
    }
   ],
   "source": [
    "a"
   ]
  },
  {
   "cell_type": "code",
   "execution_count": 25,
   "id": "1b9d98a3-3b2e-4008-8c88-37130f3dd391",
   "metadata": {},
   "outputs": [
    {
     "data": {
      "text/plain": [
       "GRanges object with 4 ranges and 1 metadata column:\n",
       "      seqnames    ranges strand |       sum\n",
       "         <Rle> <IRanges>  <Rle> | <numeric>\n",
       "  [1]     chr1   100-101      * |       5.1\n",
       "  [2]     chr1   200-201      * |       3.2\n",
       "  [3]     chr2   300-301      * |       6.3\n",
       "  [4]     chr2   400-401      * |       2.5\n",
       "  -------\n",
       "  seqinfo: 2 sequences from an unspecified genome; no seqlengths"
      ]
     },
     "metadata": {},
     "output_type": "display_data"
    }
   ],
   "source": [
    "GRanges(\n",
    "  seqnames = Rle(c(\"chr1\", \"chr2\"), c(2, 2)),\n",
    "  ranges = IRanges(start = c(100, 200, 300, 400), end = c(101, 201, 301, 401)),\n",
    "  sum = c(5.1, 3.2, 6.3, 2.5)\n",
    ")"
   ]
  },
  {
   "cell_type": "code",
   "execution_count": 29,
   "id": "a4175602-af15-42c7-bf70-f9e69c1f20e0",
   "metadata": {},
   "outputs": [],
   "source": [
    "library(Matrix)\n",
    "library(readr)\n",
    "data_path <- \"Data/matrix/\"\n",
    "features <- read_tsv(file = paste0(data_path, \"features.tsv.gz\"), col_names = F, show_col_types = F)"
   ]
  },
  {
   "cell_type": "code",
   "execution_count": 30,
   "id": "23578cb8-c59c-43c0-9d22-7b7c10d19ec8",
   "metadata": {},
   "outputs": [
    {
     "data": {
      "text/html": [
       "<table class=\"dataframe\">\n",
       "<caption>A tibble: 6 × 6</caption>\n",
       "<thead>\n",
       "\t<tr><th scope=col>X1</th><th scope=col>X2</th><th scope=col>X3</th><th scope=col>X4</th><th scope=col>X5</th><th scope=col>X6</th></tr>\n",
       "\t<tr><th scope=col>&lt;chr&gt;</th><th scope=col>&lt;chr&gt;</th><th scope=col>&lt;chr&gt;</th><th scope=col>&lt;chr&gt;</th><th scope=col>&lt;dbl&gt;</th><th scope=col>&lt;dbl&gt;</th></tr>\n",
       "</thead>\n",
       "<tbody>\n",
       "\t<tr><td>ENSG00000243485</td><td>MIR1302-2HG</td><td>Gene Expression</td><td>chr1</td><td> 29553</td><td> 30267</td></tr>\n",
       "\t<tr><td>ENSG00000237613</td><td>FAM138A    </td><td>Gene Expression</td><td>chr1</td><td> 36080</td><td> 36081</td></tr>\n",
       "\t<tr><td>ENSG00000186092</td><td>OR4F5      </td><td>Gene Expression</td><td>chr1</td><td> 65418</td><td> 69055</td></tr>\n",
       "\t<tr><td>ENSG00000238009</td><td>AL627309.1 </td><td>Gene Expression</td><td>chr1</td><td>120931</td><td>133723</td></tr>\n",
       "\t<tr><td>ENSG00000239945</td><td>AL627309.3 </td><td>Gene Expression</td><td>chr1</td><td> 91104</td><td> 91105</td></tr>\n",
       "\t<tr><td>ENSG00000239906</td><td>AL627309.2 </td><td>Gene Expression</td><td>chr1</td><td>140338</td><td>140339</td></tr>\n",
       "</tbody>\n",
       "</table>\n"
      ],
      "text/latex": [
       "A tibble: 6 × 6\n",
       "\\begin{tabular}{llllll}\n",
       " X1 & X2 & X3 & X4 & X5 & X6\\\\\n",
       " <chr> & <chr> & <chr> & <chr> & <dbl> & <dbl>\\\\\n",
       "\\hline\n",
       "\t ENSG00000243485 & MIR1302-2HG & Gene Expression & chr1 &  29553 &  30267\\\\\n",
       "\t ENSG00000237613 & FAM138A     & Gene Expression & chr1 &  36080 &  36081\\\\\n",
       "\t ENSG00000186092 & OR4F5       & Gene Expression & chr1 &  65418 &  69055\\\\\n",
       "\t ENSG00000238009 & AL627309.1  & Gene Expression & chr1 & 120931 & 133723\\\\\n",
       "\t ENSG00000239945 & AL627309.3  & Gene Expression & chr1 &  91104 &  91105\\\\\n",
       "\t ENSG00000239906 & AL627309.2  & Gene Expression & chr1 & 140338 & 140339\\\\\n",
       "\\end{tabular}\n"
      ],
      "text/markdown": [
       "\n",
       "A tibble: 6 × 6\n",
       "\n",
       "| X1 &lt;chr&gt; | X2 &lt;chr&gt; | X3 &lt;chr&gt; | X4 &lt;chr&gt; | X5 &lt;dbl&gt; | X6 &lt;dbl&gt; |\n",
       "|---|---|---|---|---|---|\n",
       "| ENSG00000243485 | MIR1302-2HG | Gene Expression | chr1 |  29553 |  30267 |\n",
       "| ENSG00000237613 | FAM138A     | Gene Expression | chr1 |  36080 |  36081 |\n",
       "| ENSG00000186092 | OR4F5       | Gene Expression | chr1 |  65418 |  69055 |\n",
       "| ENSG00000238009 | AL627309.1  | Gene Expression | chr1 | 120931 | 133723 |\n",
       "| ENSG00000239945 | AL627309.3  | Gene Expression | chr1 |  91104 |  91105 |\n",
       "| ENSG00000239906 | AL627309.2  | Gene Expression | chr1 | 140338 | 140339 |\n",
       "\n"
      ],
      "text/plain": [
       "  X1              X2          X3              X4   X5     X6    \n",
       "1 ENSG00000243485 MIR1302-2HG Gene Expression chr1  29553  30267\n",
       "2 ENSG00000237613 FAM138A     Gene Expression chr1  36080  36081\n",
       "3 ENSG00000186092 OR4F5       Gene Expression chr1  65418  69055\n",
       "4 ENSG00000238009 AL627309.1  Gene Expression chr1 120931 133723\n",
       "5 ENSG00000239945 AL627309.3  Gene Expression chr1  91104  91105\n",
       "6 ENSG00000239906 AL627309.2  Gene Expression chr1 140338 140339"
      ]
     },
     "metadata": {},
     "output_type": "display_data"
    }
   ],
   "source": [
    "head(features)"
   ]
  },
  {
   "cell_type": "code",
   "execution_count": 31,
   "id": "c4af7109-4407-47b7-bfd4-519661940258",
   "metadata": {},
   "outputs": [
    {
     "data": {
      "text/html": [
       "<table class=\"dataframe\">\n",
       "<caption>A tibble: 6 × 6</caption>\n",
       "<thead>\n",
       "\t<tr><th scope=col>id</th><th scope=col>name</th><th scope=col>type</th><th scope=col>chr</th><th scope=col>start</th><th scope=col>end</th></tr>\n",
       "\t<tr><th scope=col>&lt;chr&gt;</th><th scope=col>&lt;chr&gt;</th><th scope=col>&lt;chr&gt;</th><th scope=col>&lt;chr&gt;</th><th scope=col>&lt;dbl&gt;</th><th scope=col>&lt;dbl&gt;</th></tr>\n",
       "</thead>\n",
       "<tbody>\n",
       "\t<tr><td>ENSG00000243485</td><td>MIR1302-2HG</td><td>Gene Expression</td><td>chr1</td><td> 29553</td><td> 30267</td></tr>\n",
       "\t<tr><td>ENSG00000237613</td><td>FAM138A    </td><td>Gene Expression</td><td>chr1</td><td> 36080</td><td> 36081</td></tr>\n",
       "\t<tr><td>ENSG00000186092</td><td>OR4F5      </td><td>Gene Expression</td><td>chr1</td><td> 65418</td><td> 69055</td></tr>\n",
       "\t<tr><td>ENSG00000238009</td><td>AL627309.1 </td><td>Gene Expression</td><td>chr1</td><td>120931</td><td>133723</td></tr>\n",
       "\t<tr><td>ENSG00000239945</td><td>AL627309.3 </td><td>Gene Expression</td><td>chr1</td><td> 91104</td><td> 91105</td></tr>\n",
       "\t<tr><td>ENSG00000239906</td><td>AL627309.2 </td><td>Gene Expression</td><td>chr1</td><td>140338</td><td>140339</td></tr>\n",
       "</tbody>\n",
       "</table>\n"
      ],
      "text/latex": [
       "A tibble: 6 × 6\n",
       "\\begin{tabular}{llllll}\n",
       " id & name & type & chr & start & end\\\\\n",
       " <chr> & <chr> & <chr> & <chr> & <dbl> & <dbl>\\\\\n",
       "\\hline\n",
       "\t ENSG00000243485 & MIR1302-2HG & Gene Expression & chr1 &  29553 &  30267\\\\\n",
       "\t ENSG00000237613 & FAM138A     & Gene Expression & chr1 &  36080 &  36081\\\\\n",
       "\t ENSG00000186092 & OR4F5       & Gene Expression & chr1 &  65418 &  69055\\\\\n",
       "\t ENSG00000238009 & AL627309.1  & Gene Expression & chr1 & 120931 & 133723\\\\\n",
       "\t ENSG00000239945 & AL627309.3  & Gene Expression & chr1 &  91104 &  91105\\\\\n",
       "\t ENSG00000239906 & AL627309.2  & Gene Expression & chr1 & 140338 & 140339\\\\\n",
       "\\end{tabular}\n"
      ],
      "text/markdown": [
       "\n",
       "A tibble: 6 × 6\n",
       "\n",
       "| id &lt;chr&gt; | name &lt;chr&gt; | type &lt;chr&gt; | chr &lt;chr&gt; | start &lt;dbl&gt; | end &lt;dbl&gt; |\n",
       "|---|---|---|---|---|---|\n",
       "| ENSG00000243485 | MIR1302-2HG | Gene Expression | chr1 |  29553 |  30267 |\n",
       "| ENSG00000237613 | FAM138A     | Gene Expression | chr1 |  36080 |  36081 |\n",
       "| ENSG00000186092 | OR4F5       | Gene Expression | chr1 |  65418 |  69055 |\n",
       "| ENSG00000238009 | AL627309.1  | Gene Expression | chr1 | 120931 | 133723 |\n",
       "| ENSG00000239945 | AL627309.3  | Gene Expression | chr1 |  91104 |  91105 |\n",
       "| ENSG00000239906 | AL627309.2  | Gene Expression | chr1 | 140338 | 140339 |\n",
       "\n"
      ],
      "text/plain": [
       "  id              name        type            chr  start  end   \n",
       "1 ENSG00000243485 MIR1302-2HG Gene Expression chr1  29553  30267\n",
       "2 ENSG00000237613 FAM138A     Gene Expression chr1  36080  36081\n",
       "3 ENSG00000186092 OR4F5       Gene Expression chr1  65418  69055\n",
       "4 ENSG00000238009 AL627309.1  Gene Expression chr1 120931 133723\n",
       "5 ENSG00000239945 AL627309.3  Gene Expression chr1  91104  91105\n",
       "6 ENSG00000239906 AL627309.2  Gene Expression chr1 140338 140339"
      ]
     },
     "metadata": {},
     "output_type": "display_data"
    }
   ],
   "source": [
    "colnames(features) <- c(\"id\", \"name\", \"type\", \"chr\", \"start\", \"end\")\n",
    "head(features)"
   ]
  },
  {
   "cell_type": "code",
   "execution_count": 32,
   "id": "3a4046c8-eda4-4d88-b38c-206b762f95ff",
   "metadata": {},
   "outputs": [],
   "source": [
    "a<-c(1, NA, 3)"
   ]
  },
  {
   "cell_type": "code",
   "execution_count": 33,
   "id": "94e4034d-8633-476c-af2f-35d560d12a65",
   "metadata": {},
   "outputs": [
    {
     "data": {
      "text/html": [
       "<style>\n",
       ".list-inline {list-style: none; margin:0; padding: 0}\n",
       ".list-inline>li {display: inline-block}\n",
       ".list-inline>li:not(:last-child)::after {content: \"\\00b7\"; padding: 0 .5ex}\n",
       "</style>\n",
       "<ol class=list-inline><li>1</li><li>&lt;NA&gt;</li><li>3</li></ol>\n"
      ],
      "text/latex": [
       "\\begin{enumerate*}\n",
       "\\item 1\n",
       "\\item <NA>\n",
       "\\item 3\n",
       "\\end{enumerate*}\n"
      ],
      "text/markdown": [
       "1. 1\n",
       "2. &lt;NA&gt;\n",
       "3. 3\n",
       "\n",
       "\n"
      ],
      "text/plain": [
       "[1]  1 NA  3"
      ]
     },
     "metadata": {},
     "output_type": "display_data"
    }
   ],
   "source": [
    "a"
   ]
  },
  {
   "cell_type": "code",
   "execution_count": 34,
   "id": "3a6403f1-db7e-40d4-a43e-55497d1dcdde",
   "metadata": {},
   "outputs": [
    {
     "data": {
      "text/html": [
       "<style>\n",
       ".list-inline {list-style: none; margin:0; padding: 0}\n",
       ".list-inline>li {display: inline-block}\n",
       ".list-inline>li:not(:last-child)::after {content: \"\\00b7\"; padding: 0 .5ex}\n",
       "</style>\n",
       "<ol class=list-inline><li>1</li><li>2</li><li>3</li></ol>\n"
      ],
      "text/latex": [
       "\\begin{enumerate*}\n",
       "\\item 1\n",
       "\\item 2\n",
       "\\item 3\n",
       "\\end{enumerate*}\n"
      ],
      "text/markdown": [
       "1. 1\n",
       "2. 2\n",
       "3. 3\n",
       "\n",
       "\n"
      ],
      "text/plain": [
       "[1] 1 2 3"
      ]
     },
     "metadata": {},
     "output_type": "display_data"
    }
   ],
   "source": [
    "a[is.na(a)] <- 2\n",
    "a"
   ]
  },
  {
   "cell_type": "code",
   "execution_count": 41,
   "id": "0ae24319-3089-461b-a706-047bc4f1d7fb",
   "metadata": {},
   "outputs": [
    {
     "data": {
      "text/html": [
       "TRUE"
      ],
      "text/latex": [
       "TRUE"
      ],
      "text/markdown": [
       "TRUE"
      ],
      "text/plain": [
       "[1] TRUE"
      ]
     },
     "metadata": {},
     "output_type": "display_data"
    }
   ],
   "source": [
    "FALSE || TRUE"
   ]
  },
  {
   "cell_type": "code",
   "execution_count": 42,
   "id": "23c93b73-f3c4-415d-bdca-4b30f0b9da5e",
   "metadata": {},
   "outputs": [
    {
     "data": {
      "text/html": [
       "243"
      ],
      "text/latex": [
       "243"
      ],
      "text/markdown": [
       "243"
      ],
      "text/plain": [
       "[1] 243"
      ]
     },
     "metadata": {},
     "output_type": "display_data"
    }
   ],
   "source": [
    "nrow(installed.packages())"
   ]
  },
  {
   "cell_type": "code",
   "execution_count": 50,
   "id": "01ab0b1d-087b-4138-9705-e5218aad43d9",
   "metadata": {},
   "outputs": [],
   "source": [
    "h38 <- rtracklayer::import(\"Data/Homo_sapiens.GRCh38.114.gtf.gz\")\n",
    "h38_protein_coding <- h38[h38$type == \"gene\" & h38$gene_biotype == \"protein_coding\"]"
   ]
  },
  {
   "cell_type": "code",
   "execution_count": 51,
   "id": "1118e164-0a3d-4eb0-b45a-6defbb5ec7b9",
   "metadata": {},
   "outputs": [],
   "source": [
    "seqlevels(h38_protein_coding) <- ifelse(\n",
    "    grepl(\n",
    "        \"^([1-9]|1[0-9]|2[0-2]|X|Y)$\", \n",
    "        seqlevels(h38_protein_coding)\n",
    "    ), \n",
    "    paste0(\n",
    "        \"chr\", \n",
    "        seqlevels(h38_protein_coding)\n",
    "    ), \n",
    "    seqlevels(h38_protein_coding)\n",
    ")"
   ]
  },
  {
   "cell_type": "code",
   "execution_count": 52,
   "id": "f0ca5feb-d466-40c1-af2c-67bb3e2284bc",
   "metadata": {},
   "outputs": [
    {
     "data": {
      "text/html": [
       "<style>\n",
       ".list-inline {list-style: none; margin:0; padding: 0}\n",
       ".list-inline>li {display: inline-block}\n",
       ".list-inline>li:not(:last-child)::after {content: \"\\00b7\"; padding: 0 .5ex}\n",
       "</style>\n",
       "<ol class=list-inline><li>'chr1'</li><li>'chr2'</li><li>'chr3'</li><li>'chr4'</li><li>'chr5'</li><li>'chr6'</li><li>'chr7'</li><li>'chr8'</li><li>'chr9'</li><li>'chr10'</li><li>'chr11'</li><li>'chr12'</li><li>'chr13'</li><li>'chr14'</li><li>'chr15'</li><li>'chr16'</li><li>'chr17'</li><li>'chr18'</li><li>'chr19'</li><li>'chr20'</li><li>'chr21'</li><li>'chr22'</li><li>'chrX'</li><li>'chrY'</li><li>'MT'</li><li>'GL000008.2'</li><li>'GL000009.2'</li><li>'GL000194.1'</li><li>'GL000195.1'</li><li>'GL000205.2'</li><li>'GL000213.1'</li><li>'GL000214.1'</li><li>'GL000216.2'</li><li>'GL000218.1'</li><li>'GL000219.1'</li><li>'GL000220.1'</li><li>'GL000221.1'</li><li>'GL000224.1'</li><li>'GL000225.1'</li><li>'KI270442.1'</li><li>'KI270706.1'</li><li>'KI270710.1'</li><li>'KI270711.1'</li><li>'KI270712.1'</li><li>'KI270713.1'</li><li>'KI270714.1'</li><li>'KI270717.1'</li><li>'KI270718.1'</li><li>'KI270719.1'</li><li>'KI270720.1'</li><li>'KI270721.1'</li><li>'KI270722.1'</li><li>'KI270726.1'</li><li>'KI270727.1'</li><li>'KI270728.1'</li><li>'KI270731.1'</li><li>'KI270733.1'</li><li>'KI270734.1'</li><li>'KI270741.1'</li><li>'KI270742.1'</li><li>'KI270743.1'</li><li>'KI270744.1'</li><li>'KI270745.1'</li><li>'KI270746.1'</li><li>'KI270748.1'</li><li>'KI270749.1'</li><li>'KI270750.1'</li><li>'KI270751.1'</li><li>'KI270753.1'</li><li>'KI270755.1'</li></ol>\n"
      ],
      "text/latex": [
       "\\begin{enumerate*}\n",
       "\\item 'chr1'\n",
       "\\item 'chr2'\n",
       "\\item 'chr3'\n",
       "\\item 'chr4'\n",
       "\\item 'chr5'\n",
       "\\item 'chr6'\n",
       "\\item 'chr7'\n",
       "\\item 'chr8'\n",
       "\\item 'chr9'\n",
       "\\item 'chr10'\n",
       "\\item 'chr11'\n",
       "\\item 'chr12'\n",
       "\\item 'chr13'\n",
       "\\item 'chr14'\n",
       "\\item 'chr15'\n",
       "\\item 'chr16'\n",
       "\\item 'chr17'\n",
       "\\item 'chr18'\n",
       "\\item 'chr19'\n",
       "\\item 'chr20'\n",
       "\\item 'chr21'\n",
       "\\item 'chr22'\n",
       "\\item 'chrX'\n",
       "\\item 'chrY'\n",
       "\\item 'MT'\n",
       "\\item 'GL000008.2'\n",
       "\\item 'GL000009.2'\n",
       "\\item 'GL000194.1'\n",
       "\\item 'GL000195.1'\n",
       "\\item 'GL000205.2'\n",
       "\\item 'GL000213.1'\n",
       "\\item 'GL000214.1'\n",
       "\\item 'GL000216.2'\n",
       "\\item 'GL000218.1'\n",
       "\\item 'GL000219.1'\n",
       "\\item 'GL000220.1'\n",
       "\\item 'GL000221.1'\n",
       "\\item 'GL000224.1'\n",
       "\\item 'GL000225.1'\n",
       "\\item 'KI270442.1'\n",
       "\\item 'KI270706.1'\n",
       "\\item 'KI270710.1'\n",
       "\\item 'KI270711.1'\n",
       "\\item 'KI270712.1'\n",
       "\\item 'KI270713.1'\n",
       "\\item 'KI270714.1'\n",
       "\\item 'KI270717.1'\n",
       "\\item 'KI270718.1'\n",
       "\\item 'KI270719.1'\n",
       "\\item 'KI270720.1'\n",
       "\\item 'KI270721.1'\n",
       "\\item 'KI270722.1'\n",
       "\\item 'KI270726.1'\n",
       "\\item 'KI270727.1'\n",
       "\\item 'KI270728.1'\n",
       "\\item 'KI270731.1'\n",
       "\\item 'KI270733.1'\n",
       "\\item 'KI270734.1'\n",
       "\\item 'KI270741.1'\n",
       "\\item 'KI270742.1'\n",
       "\\item 'KI270743.1'\n",
       "\\item 'KI270744.1'\n",
       "\\item 'KI270745.1'\n",
       "\\item 'KI270746.1'\n",
       "\\item 'KI270748.1'\n",
       "\\item 'KI270749.1'\n",
       "\\item 'KI270750.1'\n",
       "\\item 'KI270751.1'\n",
       "\\item 'KI270753.1'\n",
       "\\item 'KI270755.1'\n",
       "\\end{enumerate*}\n"
      ],
      "text/markdown": [
       "1. 'chr1'\n",
       "2. 'chr2'\n",
       "3. 'chr3'\n",
       "4. 'chr4'\n",
       "5. 'chr5'\n",
       "6. 'chr6'\n",
       "7. 'chr7'\n",
       "8. 'chr8'\n",
       "9. 'chr9'\n",
       "10. 'chr10'\n",
       "11. 'chr11'\n",
       "12. 'chr12'\n",
       "13. 'chr13'\n",
       "14. 'chr14'\n",
       "15. 'chr15'\n",
       "16. 'chr16'\n",
       "17. 'chr17'\n",
       "18. 'chr18'\n",
       "19. 'chr19'\n",
       "20. 'chr20'\n",
       "21. 'chr21'\n",
       "22. 'chr22'\n",
       "23. 'chrX'\n",
       "24. 'chrY'\n",
       "25. 'MT'\n",
       "26. 'GL000008.2'\n",
       "27. 'GL000009.2'\n",
       "28. 'GL000194.1'\n",
       "29. 'GL000195.1'\n",
       "30. 'GL000205.2'\n",
       "31. 'GL000213.1'\n",
       "32. 'GL000214.1'\n",
       "33. 'GL000216.2'\n",
       "34. 'GL000218.1'\n",
       "35. 'GL000219.1'\n",
       "36. 'GL000220.1'\n",
       "37. 'GL000221.1'\n",
       "38. 'GL000224.1'\n",
       "39. 'GL000225.1'\n",
       "40. 'KI270442.1'\n",
       "41. 'KI270706.1'\n",
       "42. 'KI270710.1'\n",
       "43. 'KI270711.1'\n",
       "44. 'KI270712.1'\n",
       "45. 'KI270713.1'\n",
       "46. 'KI270714.1'\n",
       "47. 'KI270717.1'\n",
       "48. 'KI270718.1'\n",
       "49. 'KI270719.1'\n",
       "50. 'KI270720.1'\n",
       "51. 'KI270721.1'\n",
       "52. 'KI270722.1'\n",
       "53. 'KI270726.1'\n",
       "54. 'KI270727.1'\n",
       "55. 'KI270728.1'\n",
       "56. 'KI270731.1'\n",
       "57. 'KI270733.1'\n",
       "58. 'KI270734.1'\n",
       "59. 'KI270741.1'\n",
       "60. 'KI270742.1'\n",
       "61. 'KI270743.1'\n",
       "62. 'KI270744.1'\n",
       "63. 'KI270745.1'\n",
       "64. 'KI270746.1'\n",
       "65. 'KI270748.1'\n",
       "66. 'KI270749.1'\n",
       "67. 'KI270750.1'\n",
       "68. 'KI270751.1'\n",
       "69. 'KI270753.1'\n",
       "70. 'KI270755.1'\n",
       "\n",
       "\n"
      ],
      "text/plain": [
       " [1] \"chr1\"       \"chr2\"       \"chr3\"       \"chr4\"       \"chr5\"      \n",
       " [6] \"chr6\"       \"chr7\"       \"chr8\"       \"chr9\"       \"chr10\"     \n",
       "[11] \"chr11\"      \"chr12\"      \"chr13\"      \"chr14\"      \"chr15\"     \n",
       "[16] \"chr16\"      \"chr17\"      \"chr18\"      \"chr19\"      \"chr20\"     \n",
       "[21] \"chr21\"      \"chr22\"      \"chrX\"       \"chrY\"       \"MT\"        \n",
       "[26] \"GL000008.2\" \"GL000009.2\" \"GL000194.1\" \"GL000195.1\" \"GL000205.2\"\n",
       "[31] \"GL000213.1\" \"GL000214.1\" \"GL000216.2\" \"GL000218.1\" \"GL000219.1\"\n",
       "[36] \"GL000220.1\" \"GL000221.1\" \"GL000224.1\" \"GL000225.1\" \"KI270442.1\"\n",
       "[41] \"KI270706.1\" \"KI270710.1\" \"KI270711.1\" \"KI270712.1\" \"KI270713.1\"\n",
       "[46] \"KI270714.1\" \"KI270717.1\" \"KI270718.1\" \"KI270719.1\" \"KI270720.1\"\n",
       "[51] \"KI270721.1\" \"KI270722.1\" \"KI270726.1\" \"KI270727.1\" \"KI270728.1\"\n",
       "[56] \"KI270731.1\" \"KI270733.1\" \"KI270734.1\" \"KI270741.1\" \"KI270742.1\"\n",
       "[61] \"KI270743.1\" \"KI270744.1\" \"KI270745.1\" \"KI270746.1\" \"KI270748.1\"\n",
       "[66] \"KI270749.1\" \"KI270750.1\" \"KI270751.1\" \"KI270753.1\" \"KI270755.1\""
      ]
     },
     "metadata": {},
     "output_type": "display_data"
    }
   ],
   "source": [
    "seqlevels(h38_protein_coding)"
   ]
  },
  {
   "cell_type": "code",
   "execution_count": 45,
   "id": "9dcb1519-d025-4d59-bb05-e08021d5d5ef",
   "metadata": {},
   "outputs": [
    {
     "data": {
      "text/html": [
       "<style>\n",
       ".list-inline {list-style: none; margin:0; padding: 0}\n",
       ".list-inline>li {display: inline-block}\n",
       ".list-inline>li:not(:last-child)::after {content: \"\\00b7\"; padding: 0 .5ex}\n",
       "</style>\n",
       "<ol class=list-inline><li>TRUE</li><li>TRUE</li><li>TRUE</li><li>FALSE</li></ol>\n"
      ],
      "text/latex": [
       "\\begin{enumerate*}\n",
       "\\item TRUE\n",
       "\\item TRUE\n",
       "\\item TRUE\n",
       "\\item FALSE\n",
       "\\end{enumerate*}\n"
      ],
      "text/markdown": [
       "1. TRUE\n",
       "2. TRUE\n",
       "3. TRUE\n",
       "4. FALSE\n",
       "\n",
       "\n"
      ],
      "text/plain": [
       "[1]  TRUE  TRUE  TRUE FALSE"
      ]
     },
     "metadata": {},
     "output_type": "display_data"
    }
   ],
   "source": [
    "grepl(\"^([1-9]|1[0-9]|2[0-2]|X|Y)$\", c(1, 2, 10, 99))"
   ]
  },
  {
   "cell_type": "code",
   "execution_count": 46,
   "id": "cc96bc24-5ded-49a5-8679-0a04a2d941b1",
   "metadata": {},
   "outputs": [
    {
     "data": {
      "text/html": [
       "<style>\n",
       ".list-inline {list-style: none; margin:0; padding: 0}\n",
       ".list-inline>li {display: inline-block}\n",
       ".list-inline>li:not(:last-child)::after {content: \"\\00b7\"; padding: 0 .5ex}\n",
       "</style>\n",
       "<ol class=list-inline><li>TRUE</li><li>TRUE</li><li>FALSE</li><li>FALSE</li></ol>\n"
      ],
      "text/latex": [
       "\\begin{enumerate*}\n",
       "\\item TRUE\n",
       "\\item TRUE\n",
       "\\item FALSE\n",
       "\\item FALSE\n",
       "\\end{enumerate*}\n"
      ],
      "text/markdown": [
       "1. TRUE\n",
       "2. TRUE\n",
       "3. FALSE\n",
       "4. FALSE\n",
       "\n",
       "\n"
      ],
      "text/plain": [
       "[1]  TRUE  TRUE FALSE FALSE"
      ]
     },
     "metadata": {},
     "output_type": "display_data"
    }
   ],
   "source": [
    "grepl(\"^([1-22]|X|Y)$\", c(1, 2, 10, 99))"
   ]
  },
  {
   "cell_type": "code",
   "execution_count": 53,
   "id": "22ba52c7-bb6b-47a1-9cc7-a4e58fb8cd43",
   "metadata": {},
   "outputs": [
    {
     "data": {
      "text/html": [
       "<table class=\"dataframe\">\n",
       "<caption>A tibble: 6 × 6</caption>\n",
       "<thead>\n",
       "\t<tr><th scope=col>id</th><th scope=col>name</th><th scope=col>type</th><th scope=col>chr</th><th scope=col>start</th><th scope=col>end</th></tr>\n",
       "\t<tr><th scope=col>&lt;chr&gt;</th><th scope=col>&lt;chr&gt;</th><th scope=col>&lt;chr&gt;</th><th scope=col>&lt;chr&gt;</th><th scope=col>&lt;dbl&gt;</th><th scope=col>&lt;dbl&gt;</th></tr>\n",
       "</thead>\n",
       "<tbody>\n",
       "\t<tr><td>ENSG00000243485</td><td>MIR1302-2HG</td><td>Gene Expression</td><td>chr1</td><td> 29553</td><td> 30267</td></tr>\n",
       "\t<tr><td>ENSG00000237613</td><td>FAM138A    </td><td>Gene Expression</td><td>chr1</td><td> 36080</td><td> 36081</td></tr>\n",
       "\t<tr><td>ENSG00000186092</td><td>OR4F5      </td><td>Gene Expression</td><td>chr1</td><td> 65418</td><td> 69055</td></tr>\n",
       "\t<tr><td>ENSG00000238009</td><td>AL627309.1 </td><td>Gene Expression</td><td>chr1</td><td>120931</td><td>133723</td></tr>\n",
       "\t<tr><td>ENSG00000239945</td><td>AL627309.3 </td><td>Gene Expression</td><td>chr1</td><td> 91104</td><td> 91105</td></tr>\n",
       "\t<tr><td>ENSG00000239906</td><td>AL627309.2 </td><td>Gene Expression</td><td>chr1</td><td>140338</td><td>140339</td></tr>\n",
       "</tbody>\n",
       "</table>\n"
      ],
      "text/latex": [
       "A tibble: 6 × 6\n",
       "\\begin{tabular}{llllll}\n",
       " id & name & type & chr & start & end\\\\\n",
       " <chr> & <chr> & <chr> & <chr> & <dbl> & <dbl>\\\\\n",
       "\\hline\n",
       "\t ENSG00000243485 & MIR1302-2HG & Gene Expression & chr1 &  29553 &  30267\\\\\n",
       "\t ENSG00000237613 & FAM138A     & Gene Expression & chr1 &  36080 &  36081\\\\\n",
       "\t ENSG00000186092 & OR4F5       & Gene Expression & chr1 &  65418 &  69055\\\\\n",
       "\t ENSG00000238009 & AL627309.1  & Gene Expression & chr1 & 120931 & 133723\\\\\n",
       "\t ENSG00000239945 & AL627309.3  & Gene Expression & chr1 &  91104 &  91105\\\\\n",
       "\t ENSG00000239906 & AL627309.2  & Gene Expression & chr1 & 140338 & 140339\\\\\n",
       "\\end{tabular}\n"
      ],
      "text/markdown": [
       "\n",
       "A tibble: 6 × 6\n",
       "\n",
       "| id &lt;chr&gt; | name &lt;chr&gt; | type &lt;chr&gt; | chr &lt;chr&gt; | start &lt;dbl&gt; | end &lt;dbl&gt; |\n",
       "|---|---|---|---|---|---|\n",
       "| ENSG00000243485 | MIR1302-2HG | Gene Expression | chr1 |  29553 |  30267 |\n",
       "| ENSG00000237613 | FAM138A     | Gene Expression | chr1 |  36080 |  36081 |\n",
       "| ENSG00000186092 | OR4F5       | Gene Expression | chr1 |  65418 |  69055 |\n",
       "| ENSG00000238009 | AL627309.1  | Gene Expression | chr1 | 120931 | 133723 |\n",
       "| ENSG00000239945 | AL627309.3  | Gene Expression | chr1 |  91104 |  91105 |\n",
       "| ENSG00000239906 | AL627309.2  | Gene Expression | chr1 | 140338 | 140339 |\n",
       "\n"
      ],
      "text/plain": [
       "  id              name        type            chr  start  end   \n",
       "1 ENSG00000243485 MIR1302-2HG Gene Expression chr1  29553  30267\n",
       "2 ENSG00000237613 FAM138A     Gene Expression chr1  36080  36081\n",
       "3 ENSG00000186092 OR4F5       Gene Expression chr1  65418  69055\n",
       "4 ENSG00000238009 AL627309.1  Gene Expression chr1 120931 133723\n",
       "5 ENSG00000239945 AL627309.3  Gene Expression chr1  91104  91105\n",
       "6 ENSG00000239906 AL627309.2  Gene Expression chr1 140338 140339"
      ]
     },
     "metadata": {},
     "output_type": "display_data"
    }
   ],
   "source": [
    "a <- read_tsv(file = paste0(data_path, \"features.tsv.gz\"), col_names = c(\"id\", \"name\", \"type\", \"chr\", \"start\", \"end\"), show_col_types = F)\n",
    "head(a)"
   ]
  },
  {
   "cell_type": "code",
   "execution_count": 54,
   "id": "904a61f1-b563-41ff-85a4-15c2880b95f2",
   "metadata": {},
   "outputs": [],
   "source": [
    "aa <- function(x) {return(paste(\"a\", x))}"
   ]
  },
  {
   "cell_type": "code",
   "execution_count": 56,
   "id": "ad5771f1-b44f-4d94-a9fa-77b33201fd10",
   "metadata": {},
   "outputs": [],
   "source": [
    "a <- lapply(1:5, aa)"
   ]
  },
  {
   "cell_type": "code",
   "execution_count": 57,
   "id": "8791d8e9-b45d-4958-8fdc-b452133885d6",
   "metadata": {},
   "outputs": [
    {
     "data": {
      "text/html": [
       "<ol>\n",
       "\t<li>'a 1'</li>\n",
       "\t<li>'a 2'</li>\n",
       "\t<li>'a 3'</li>\n",
       "\t<li>'a 4'</li>\n",
       "\t<li>'a 5'</li>\n",
       "</ol>\n"
      ],
      "text/latex": [
       "\\begin{enumerate}\n",
       "\\item 'a 1'\n",
       "\\item 'a 2'\n",
       "\\item 'a 3'\n",
       "\\item 'a 4'\n",
       "\\item 'a 5'\n",
       "\\end{enumerate}\n"
      ],
      "text/markdown": [
       "1. 'a 1'\n",
       "2. 'a 2'\n",
       "3. 'a 3'\n",
       "4. 'a 4'\n",
       "5. 'a 5'\n",
       "\n",
       "\n"
      ],
      "text/plain": [
       "[[1]]\n",
       "[1] \"a 1\"\n",
       "\n",
       "[[2]]\n",
       "[1] \"a 2\"\n",
       "\n",
       "[[3]]\n",
       "[1] \"a 3\"\n",
       "\n",
       "[[4]]\n",
       "[1] \"a 4\"\n",
       "\n",
       "[[5]]\n",
       "[1] \"a 5\"\n"
      ]
     },
     "metadata": {},
     "output_type": "display_data"
    }
   ],
   "source": [
    "a"
   ]
  },
  {
   "cell_type": "code",
   "execution_count": 62,
   "id": "4cdf8365-619e-4a95-ac0b-2d6560f5d9d0",
   "metadata": {},
   "outputs": [
    {
     "data": {
      "text/html": [
       "<style>\n",
       ".list-inline {list-style: none; margin:0; padding: 0}\n",
       ".list-inline>li {display: inline-block}\n",
       ".list-inline>li:not(:last-child)::after {content: \"\\00b7\"; padding: 0 .5ex}\n",
       "</style>\n",
       "<ol class=list-inline><li>'a'</li><li>'ab'</li></ol>\n"
      ],
      "text/latex": [
       "\\begin{enumerate*}\n",
       "\\item 'a'\n",
       "\\item 'ab'\n",
       "\\end{enumerate*}\n"
      ],
      "text/markdown": [
       "1. 'a'\n",
       "2. 'ab'\n",
       "\n",
       "\n"
      ],
      "text/plain": [
       "[1] \"a\"  \"ab\""
      ]
     },
     "metadata": {},
     "output_type": "display_data"
    }
   ],
   "source": [
    "a <- c(\"a\",\"b\", \"ab\")\n",
    "a[grepl(\"a\", a)]"
   ]
  },
  {
   "cell_type": "code",
   "execution_count": 63,
   "id": "7d1b88da-1daa-4633-abaa-5385a4efc74a",
   "metadata": {},
   "outputs": [
    {
     "data": {
      "text/html": [
       "<style>\n",
       ".list-inline {list-style: none; margin:0; padding: 0}\n",
       ".list-inline>li {display: inline-block}\n",
       ".list-inline>li:not(:last-child)::after {content: \"\\00b7\"; padding: 0 .5ex}\n",
       "</style>\n",
       "<ol class=list-inline><li>TRUE</li><li>FALSE</li><li>TRUE</li></ol>\n"
      ],
      "text/latex": [
       "\\begin{enumerate*}\n",
       "\\item TRUE\n",
       "\\item FALSE\n",
       "\\item TRUE\n",
       "\\end{enumerate*}\n"
      ],
      "text/markdown": [
       "1. TRUE\n",
       "2. FALSE\n",
       "3. TRUE\n",
       "\n",
       "\n"
      ],
      "text/plain": [
       "[1]  TRUE FALSE  TRUE"
      ]
     },
     "metadata": {},
     "output_type": "display_data"
    }
   ],
   "source": [
    "grepl(\"a\", a)"
   ]
  },
  {
   "cell_type": "code",
   "execution_count": 3,
   "id": "6186ad5b-3b75-4c7d-9b42-fbe77eaa8cd4",
   "metadata": {},
   "outputs": [],
   "source": [
    "url <- \"https://drive.google.com/uc?export=download&id=1Yc5kv8OXd5oDTkX-TVRvwLkwkjew43DZ\"\n",
    "download.file(url, \"downloaded_file\", mode = \"wb\")"
   ]
  },
  {
   "cell_type": "code",
   "execution_count": 2,
   "id": "e2cc3784-f6cb-4a22-9076-1cbde68f3e30",
   "metadata": {},
   "outputs": [
    {
     "data": {
      "text/html": [
       "'/sharedFolder'"
      ],
      "text/latex": [
       "'/sharedFolder'"
      ],
      "text/markdown": [
       "'/sharedFolder'"
      ],
      "text/plain": [
       "[1] \"/sharedFolder\""
      ]
     },
     "metadata": {},
     "output_type": "display_data"
    }
   ],
   "source": [
    "getwd()"
   ]
  },
  {
   "cell_type": "code",
   "execution_count": 4,
   "id": "837a3ecf-08c2-4dc1-82f0-17671183706b",
   "metadata": {},
   "outputs": [
    {
     "ename": "ERROR",
     "evalue": "\u001b[1m\u001b[33mError\u001b[39m in `map()`:\u001b[22m\n\u001b[1m\u001b[22m\u001b[36mℹ\u001b[39m In index: 1.\n\u001b[1mCaused by error in `drive_auth()`:\u001b[22m\n\u001b[1m\u001b[22m\u001b[33m!\u001b[39m Can't get Google credentials.\n\u001b[36mℹ\u001b[39m Are you running \u001b[34mgoogledrive\u001b[39m in a non-interactive session? Consider:\n\u001b[36m•\u001b[39m Call `drive_deauth()` to prevent the attempt to get credentials.\n\u001b[36m•\u001b[39m Call `drive_auth()` directly with all necessary specifics.\n\u001b[36mℹ\u001b[39m See gargle's \"Non-interactive auth\" vignette for more details:\n\u001b[36mℹ\u001b[39m \u001b[3m\u001b[34m<https://gargle.r-lib.org/articles/non-interactive-auth.html>\u001b[39m\u001b[23m\n",
     "output_type": "error",
     "traceback": [
      "\u001b[1m\u001b[33mError\u001b[39m in `map()`:\u001b[22m\n\u001b[1m\u001b[22m\u001b[36mℹ\u001b[39m In index: 1.\n\u001b[1mCaused by error in `drive_auth()`:\u001b[22m\n\u001b[1m\u001b[22m\u001b[33m!\u001b[39m Can't get Google credentials.\n\u001b[36mℹ\u001b[39m Are you running \u001b[34mgoogledrive\u001b[39m in a non-interactive session? Consider:\n\u001b[36m•\u001b[39m Call `drive_deauth()` to prevent the attempt to get credentials.\n\u001b[36m•\u001b[39m Call `drive_auth()` directly with all necessary specifics.\n\u001b[36mℹ\u001b[39m See gargle's \"Non-interactive auth\" vignette for more details:\n\u001b[36mℹ\u001b[39m \u001b[3m\u001b[34m<https://gargle.r-lib.org/articles/non-interactive-auth.html>\u001b[39m\u001b[23m\nTraceback:\n",
      "1. as_dribble(file)",
      "2. as_dribble.drive_id(file)",
      "3. drive_get(id = x)",
      "4. as_dribble(map(as_id(id), get_one_file_id))",
      "5. map(as_id(id), get_one_file_id)",
      "6. map_(\"list\", .x, .f, ..., .progress = .progress)",
      "7. with_indexed_errors(i = i, names = names, error_call = .purrr_error_call, \n .     call_with_cleanup(map_impl, environment(), .type, .progress, \n .         n, names, i))",
      "8. withCallingHandlers(expr, error = function(cnd) {\n .     if (i == 0L) {\n .     }\n .     else {\n .         message <- c(i = \"In index: {i}.\")\n .         if (!is.null(names) && !is.na(names[[i]]) && names[[i]] != \n .             \"\") {\n .             name <- names[[i]]\n .             message <- c(message, i = \"With name: {name}.\")\n .         }\n .         else {\n .             name <- NULL\n .         }\n .         cli::cli_abort(message, location = i, name = name, parent = cnd, \n .             call = error_call, class = \"purrr_error_indexed\")\n .     }\n . })",
      "9. call_with_cleanup(map_impl, environment(), .type, .progress, \n .     n, names, i)",
      "10. .f(.x[[i]], ...)",
      "11. request_generate(endpoint = \"drive.files.get\", params = list(fileId = id, \n  .     fields = \"*\"))",
      "12. gargle::request_build(path = req$path, method = req$method, params = req$params, \n  .     body = req$body, token = token)",
      "13. drive_token()",
      "14. drive_auth()",
      "15. drive_abort(c(\"Can't get Google credentials.\", i = \"Are you running {.pkg googledrive} in a non-interactive session? \\\\\\n             Consider:\", \n  .     `*` = \"Call {.fun drive_deauth} to prevent the attempt to get credentials.\", \n  .     `*` = \"Call {.fun drive_auth} directly with all necessary specifics.\", \n  .     i = \"See gargle's \\\"Non-interactive auth\\\" vignette for more details:\", \n  .     i = \"{.url https://gargle.r-lib.org/articles/non-interactive-auth.html}\"))",
      "16. cli::cli_abort(message = message, ..., .envir = .envir)",
      "17. rlang::abort(message, ..., call = call, use_cli_format = TRUE, \n  .     .frame = .frame)",
      "18. signal_abort(cnd, .file)",
      "19. signalCondition(cnd)",
      "20. (function (cnd) \n  . {\n  .     if (i == 0L) {\n  .     }\n  .     else {\n  .         message <- c(i = \"In index: {i}.\")\n  .         if (!is.null(names) && !is.na(names[[i]]) && names[[i]] != \n  .             \"\") {\n  .             name <- names[[i]]\n  .             message <- c(message, i = \"With name: {name}.\")\n  .         }\n  .         else {\n  .             name <- NULL\n  .         }\n  .         cli::cli_abort(message, location = i, name = name, parent = cnd, \n  .             call = error_call, class = \"purrr_error_indexed\")\n  .     }\n  . })(structure(list(message = structure(\"Can't get Google credentials.\", names = \"\"), \n  .     trace = structure(list(call = list(IRkernel::main(), kernel$run(), \n  .         handle_shell(), executor$execute(msg), tryCatch(evaluate(request$content$code, \n  .             envir = .GlobalEnv, output_handler = oh, stop_on_error = 1L), \n  .             interrupt = function(cond) {\n  .                 log_debug(\"Interrupt during execution\")\n  .                 interrupted <<- TRUE\n  .             }, error = .self$handle_error), tryCatchList(expr, \n  .             classes, parentenv, handlers), tryCatchOne(tryCatchList(expr, \n  .             names[-nh], parentenv, handlers[-nh]), names[nh], \n  .             parentenv, handlers[[nh]]), doTryCatch(return(expr), \n  .             name, parentenv, handler), tryCatchList(expr, names[-nh], \n  .             parentenv, handlers[-nh]), tryCatchOne(expr, names, \n  .             parentenv, handlers[[1L]]), doTryCatch(return(expr), \n  .             name, parentenv, handler), evaluate(request$content$code, \n  .             envir = .GlobalEnv, output_handler = oh, stop_on_error = 1L), \n  .         withRestarts(with_handlers({\n  .             for (expr in tle$exprs) {\n  .                 ev <- withVisible(eval(expr, envir))\n  .                 watcher$capture_plot_and_output()\n  .                 watcher$print_value(ev$value, ev$visible, envir)\n  .             }\n  .             TRUE\n  .         }, handlers), eval_continue = function() TRUE, eval_stop = function() FALSE), \n  .         withRestartList(expr, restarts), withOneRestart(withRestartList(expr, \n  .             restarts[-nr]), restarts[[nr]]), doWithOneRestart(return(expr), \n  .             restart), withRestartList(expr, restarts[-nr]), withOneRestart(expr, \n  .             restarts[[1L]]), doWithOneRestart(return(expr), restart), \n  .         with_handlers({\n  .             for (expr in tle$exprs) {\n  .                 ev <- withVisible(eval(expr, envir))\n  .                 watcher$capture_plot_and_output()\n  .                 watcher$print_value(ev$value, ev$visible, envir)\n  .             }\n  .             TRUE\n  .         }, handlers), eval(call), eval(call), withCallingHandlers(code, \n  .             message = `<fn>`, warning = `<fn>`, error = `<fn>`), \n  .         withVisible(eval(expr, envir)), eval(expr, envir), eval(expr, \n  .             envir), drive_download(as_id(file_id), path = \"downloaded_file.zip\", \n  .             overwrite = TRUE), as_dribble(file), as_dribble.drive_id(file), \n  .         drive_get(id = x), as_dribble(map(as_id(id), get_one_file_id)), \n  .         map(as_id(id), get_one_file_id), map_(\"list\", .x, .f, \n  .             ..., .progress = .progress), with_indexed_errors(i = i, \n  .             names = names, error_call = .purrr_error_call, call_with_cleanup(map_impl, \n  .                 environment(), .type, .progress, n, names, i)), \n  .         withCallingHandlers(expr, error = function(cnd) {\n  .             if (i == 0L) {\n  .             }\n  .             else {\n  .                 message <- c(i = \"In index: {i}.\")\n  .                 if (!is.null(names) && !is.na(names[[i]]) && \n  .                   names[[i]] != \"\") {\n  .                   name <- names[[i]]\n  .                   message <- c(message, i = \"With name: {name}.\")\n  .                 }\n  .                 else {\n  .                   name <- NULL\n  .                 }\n  .                 cli::cli_abort(message, location = i, name = name, \n  .                   parent = cnd, call = error_call, class = \"purrr_error_indexed\")\n  .             }\n  .         }), call_with_cleanup(map_impl, environment(), .type, \n  .             .progress, n, names, i), .f(.x[[i]], ...), request_generate(endpoint = \"drive.files.get\", \n  .             params = list(fileId = id, fields = \"*\")), gargle::request_build(path = req$path, \n  .             method = req$method, params = req$params, body = req$body, \n  .             token = token), drive_token(), drive_auth(), drive_abort(c(\"Can't get Google credentials.\", \n  .             i = \"Are you running {.pkg googledrive} in a non-interactive session? \\\\\\n             Consider:\", \n  .             `*` = \"Call {.fun drive_deauth} to prevent the attempt to get credentials.\", \n  .             `*` = \"Call {.fun drive_auth} directly with all necessary specifics.\", \n  .             i = \"See gargle's \\\"Non-interactive auth\\\" vignette for more details:\", \n  .             i = \"{.url https://gargle.r-lib.org/articles/non-interactive-auth.html}\")), \n  .         cli::cli_abort(message = message, ..., .envir = .envir), \n  .         rlang::abort(message, ..., call = call, use_cli_format = TRUE, \n  .             .frame = .frame)), parent = c(0L, 1L, 2L, 3L, 4L, \n  .     5L, 6L, 7L, 6L, 9L, 10L, 4L, 12L, 13L, 14L, 15L, 14L, 17L, \n  .     18L, 12L, 20L, 21L, 20L, 12L, 12L, 25L, 0L, 27L, 27L, 29L, \n  .     30L, 30L, 32L, 33L, 34L, 33L, 33L, 37L, 38L, 38L, 40L, 41L, \n  .     42L, 43L), visible = c(TRUE, TRUE, TRUE, TRUE, TRUE, TRUE, \n  .     TRUE, TRUE, TRUE, TRUE, TRUE, TRUE, TRUE, TRUE, TRUE, TRUE, \n  .     TRUE, TRUE, TRUE, TRUE, TRUE, TRUE, TRUE, TRUE, TRUE, TRUE, \n  .     TRUE, TRUE, TRUE, TRUE, TRUE, TRUE, TRUE, TRUE, TRUE, TRUE, \n  .     TRUE, TRUE, TRUE, TRUE, TRUE, FALSE, FALSE, FALSE), namespace = c(\"IRkernel\", \n  .     NA, \"IRkernel\", NA, \"base\", \"base\", \"base\", \"base\", \"base\", \n  .     \"base\", \"base\", \"evaluate\", \"base\", \"base\", \"base\", \"base\", \n  .     \"base\", \"base\", \"base\", \"evaluate\", \"base\", \"base\", \"base\", \n  .     \"base\", \"base\", \"base\", \"googledrive\", \"googledrive\", \"googledrive\", \n  .     \"googledrive\", \"googledrive\", \"purrr\", \"purrr\", \"purrr\", \n  .     \"base\", \"purrr\", \"googledrive\", \"googledrive\", \"gargle\", \n  .     \"googledrive\", \"googledrive\", \"googledrive\", \"cli\", \"rlang\"\n  .     ), scope = c(\"::\", NA, \"local\", NA, \"::\", \"local\", \"local\", \n  .     \"local\", \"local\", \"local\", \"local\", \"::\", \"::\", \"local\", \n  .     \"local\", \"local\", \"local\", \"local\", \"local\", \":::\", \"::\", \n  .     \"::\", \"::\", \"::\", \"::\", \"::\", \"::\", \"::\", \":::\", \"::\", \"::\", \n  .     \"::\", \":::\", \":::\", \"::\", \":::\", \"local\", \"::\", \"::\", \"::\", \n  .     \"::\", \":::\", \"::\", \"::\"), error_frame = c(FALSE, FALSE, FALSE, \n  .     FALSE, FALSE, FALSE, FALSE, FALSE, FALSE, FALSE, FALSE, FALSE, \n  .     FALSE, FALSE, FALSE, FALSE, FALSE, FALSE, FALSE, FALSE, FALSE, \n  .     FALSE, FALSE, FALSE, FALSE, FALSE, FALSE, FALSE, FALSE, FALSE, \n  .     FALSE, FALSE, FALSE, FALSE, FALSE, FALSE, FALSE, FALSE, FALSE, \n  .     FALSE, TRUE, FALSE, FALSE, FALSE)), row.names = c(NA, -44L\n  .     ), version = 2L, class = c(\"rlang_trace\", \"rlib_trace\", \"tbl\", \n  .     \"data.frame\")), parent = NULL, body = c(i = \"Are you running \\033[34mgoogledrive\\033[39m in a non-interactive session? \\\\\\n             Consider:\", \n  .     `*` = \"Call `drive_deauth()` to prevent the attempt to get credentials.\", \n  .     `*` = \"Call `drive_auth()` directly with all necessary specifics.\", \n  .     i = \"See gargle's \\\"Non-interactive auth\\\" vignette for more details:\", \n  .     i = \"\\033[3m\\033[34m<https://gargle.r-lib.org/articles/non-interactive-auth.html>\\033[39m\\033[23m\"\n  .     ), rlang = list(inherit = TRUE), call = drive_auth(), use_cli_format = TRUE), class = c(\"rlang_error\", \n  . \"error\", \"condition\")))",
      "21. cli::cli_abort(message, location = i, name = name, parent = cnd, \n  .     call = error_call, class = \"purrr_error_indexed\")",
      "22. rlang::abort(message, ..., call = call, use_cli_format = TRUE, \n  .     .frame = .frame)",
      "23. signal_abort(cnd, .file)",
      "24. signalCondition(cnd)"
     ]
    }
   ],
   "source": [
    "library(googledrive)\n",
    "\n",
    "# The file ID from your link\n",
    "file_id <- \"1Yc5kv8OXd5oDTkX-TVRvwLkwkjew43DZ\"\n",
    "\n",
    "# Download the file\n",
    "drive_download(as_id(file_id), path = \"downloaded_file.zip\", overwrite = TRUE)"
   ]
  },
  {
   "cell_type": "code",
   "execution_count": 12,
   "id": "7024158c-2e9a-4d06-84c9-322fee27d08d",
   "metadata": {},
   "outputs": [
    {
     "data": {
      "text/plain": [
       "GRanges object with 3 ranges and 0 metadata columns:\n",
       "      seqnames    ranges strand\n",
       "         <Rle> <IRanges>  <Rle>\n",
       "  [1]     chr1       1-5      *\n",
       "  [2]     chr1       2-6      *\n",
       "  [3]     chr1       3-7      *\n",
       "  -------\n",
       "  seqinfo: 1 sequence from an unspecified genome; no seqlengths"
      ]
     },
     "metadata": {},
     "output_type": "display_data"
    }
   ],
   "source": [
    "library(GenomicRanges)\n",
    "\n",
    "# Create a simple GRanges object\n",
    "gr <- GRanges(seqnames = \"chr1\", ranges = IRanges(1:3, width=5))\n",
    "gr\n",
    "# Add a new column called \"score\"\n",
    "gr$score <- c(10, 20, 30)"
   ]
  },
  {
   "cell_type": "code",
   "execution_count": 9,
   "id": "b0399d18-de1e-4ed4-a071-9bbe91cad802",
   "metadata": {},
   "outputs": [
    {
     "data": {
      "text/plain": [
       "GRanges object with 3 ranges and 1 metadata column:\n",
       "      seqnames    ranges strand |     score\n",
       "         <Rle> <IRanges>  <Rle> | <numeric>\n",
       "  [1]     chr1       1-5      * |        10\n",
       "  [2]     chr1       2-6      * |        20\n",
       "  [3]     chr1       3-7      * |        30\n",
       "  -------\n",
       "  seqinfo: 1 sequence from an unspecified genome; no seqlengths"
      ]
     },
     "metadata": {},
     "output_type": "display_data"
    }
   ],
   "source": [
    "gr"
   ]
  },
  {
   "cell_type": "code",
   "execution_count": 10,
   "id": "e08581c4-b57a-411a-8142-07f32bc5259d",
   "metadata": {},
   "outputs": [],
   "source": [
    "mcols(gr)$score2 <- c(\"a\", \"b\", \"c\")"
   ]
  },
  {
   "cell_type": "code",
   "execution_count": 11,
   "id": "865fc2b5-671b-4a57-96a3-3a636b1b3cc1",
   "metadata": {},
   "outputs": [
    {
     "data": {
      "text/plain": [
       "GRanges object with 3 ranges and 2 metadata columns:\n",
       "      seqnames    ranges strand |     score      score2\n",
       "         <Rle> <IRanges>  <Rle> | <numeric> <character>\n",
       "  [1]     chr1       1-5      * |        10           a\n",
       "  [2]     chr1       2-6      * |        20           b\n",
       "  [3]     chr1       3-7      * |        30           c\n",
       "  -------\n",
       "  seqinfo: 1 sequence from an unspecified genome; no seqlengths"
      ]
     },
     "metadata": {},
     "output_type": "display_data"
    }
   ],
   "source": [
    "gr"
   ]
  },
  {
   "cell_type": "code",
   "execution_count": null,
   "id": "9b275be8-1e2b-40ae-982f-6e57356d98fb",
   "metadata": {},
   "outputs": [],
   "source": []
  },
  {
   "cell_type": "code",
   "execution_count": 9,
   "id": "e4713864-fdb9-419f-9e00-87443ce2942b",
   "metadata": {},
   "outputs": [
    {
     "data": {
      "text/html": [
       "1"
      ],
      "text/latex": [
       "1"
      ],
      "text/markdown": [
       "1"
      ],
      "text/plain": [
       "[1] 1"
      ]
     },
     "metadata": {},
     "output_type": "display_data"
    }
   ],
   "source": [
    "log(16, base = 16)"
   ]
  },
  {
   "cell_type": "code",
   "execution_count": 7,
   "id": "568363e7-fdc5-49b1-af2f-4a3ffbe98725",
   "metadata": {},
   "outputs": [
    {
     "data": {
      "text/html": [
       "\n",
       "<table style=\"width: 100%;\"><tr><td>log {base}</td><td style=\"text-align: right;\">R Documentation</td></tr></table>\n",
       "\n",
       "<h2>Logarithms and Exponentials</h2>\n",
       "\n",
       "<h3>Description</h3>\n",
       "\n",
       "<p><code>log</code> computes logarithms, by default natural logarithms,\n",
       "<code>log10</code> computes common (i.e., base 10) logarithms, and\n",
       "<code>log2</code> computes binary (i.e., base 2) logarithms.\n",
       "The general form <code>log(x, base)</code> computes logarithms with base\n",
       "<code>base</code>.\n",
       "</p>\n",
       "<p><code>log1p(x)</code> computes <code class=\"reqn\">\\log(1+x)</code> accurately also for\n",
       "<code class=\"reqn\">|x| \\ll 1</code>.\n",
       "</p>\n",
       "<p><code>exp</code> computes the exponential function.\n",
       "</p>\n",
       "<p><code>expm1(x)</code> computes <code class=\"reqn\">\\exp(x) - 1</code> accurately also for\n",
       "<code class=\"reqn\">|x| \\ll 1</code>.\n",
       "</p>\n",
       "\n",
       "\n",
       "<h3>Usage</h3>\n",
       "\n",
       "<pre><code class='language-R'>log(x, base = exp(1))\n",
       "logb(x, base = exp(1))\n",
       "log10(x)\n",
       "log2(x)\n",
       "\n",
       "log1p(x)\n",
       "\n",
       "exp(x)\n",
       "expm1(x)\n",
       "</code></pre>\n",
       "\n",
       "\n",
       "<h3>Arguments</h3>\n",
       "\n",
       "<table role = \"presentation\">\n",
       "<tr><td><code id=\"x\">x</code></td>\n",
       "<td>\n",
       "<p>a numeric or complex vector.</p>\n",
       "</td></tr>\n",
       "<tr><td><code id=\"base\">base</code></td>\n",
       "<td>\n",
       "<p>a positive or complex number: the base with respect to which\n",
       "logarithms are computed.  Defaults to <code class=\"reqn\">e</code>=<code>exp(1)</code>.</p>\n",
       "</td></tr>\n",
       "</table>\n",
       "\n",
       "\n",
       "<h3>Details</h3>\n",
       "\n",
       "<p>All except <code>logb</code> are generic functions: methods can be defined\n",
       "for them individually or via the <code>Math</code>\n",
       "group generic.\n",
       "</p>\n",
       "<p><code>log10</code> and <code>log2</code> are only convenience wrappers, but logs\n",
       "to bases 10 and 2 (whether computed <em>via</em> <code>log</code> or the wrappers)\n",
       "will be computed more efficiently and accurately where supported by the OS.\n",
       "Methods can be set for them individually (and otherwise methods for\n",
       "<code>log</code> will be used).\n",
       "</p>\n",
       "<p><code>logb</code> is a wrapper for <code>log</code> for compatibility with S.  If\n",
       "(S3 or S4) methods are set for <code>log</code> they will be dispatched.\n",
       "Do not set S4 methods on <code>logb</code> itself.\n",
       "</p>\n",
       "<p>All except <code>log</code> are primitive functions.\n",
       "</p>\n",
       "\n",
       "\n",
       "<h3>Value</h3>\n",
       "\n",
       "<p>A vector of the same length as <code>x</code> containing the transformed\n",
       "values.  <code>log(0)</code> gives <code>-Inf</code>, and <code>log(x)</code> for\n",
       "negative values of <code>x</code> is <code>NaN</code>.  <code>exp(-Inf)</code> is <code>0</code>.\n",
       "</p>\n",
       "<p>For complex inputs to the log functions, the value is a complex number\n",
       "with imaginary part in the range <code class=\"reqn\">[-\\pi, \\pi]</code>: which\n",
       "end of the range is used might be platform-specific.\n",
       "</p>\n",
       "\n",
       "\n",
       "<h3>S4 methods</h3>\n",
       "\n",
       "<p><code>exp</code>, <code>expm1</code>, <code>log</code>, <code>log10</code>, <code>log2</code> and\n",
       "<code>log1p</code> are S4 generic and are members of the\n",
       "<code>Math</code> group generic.\n",
       "</p>\n",
       "<p>Note that this means that the S4 generic for <code>log</code> has a\n",
       "signature with only one argument, <code>x</code>, but that <code>base</code> can\n",
       "be passed to methods (but will not be used for method selection).  On\n",
       "the other hand, if you only set a method for the <code>Math</code> group\n",
       "generic then <code>base</code> argument of <code>log</code> will be ignored for\n",
       "your class.\n",
       "</p>\n",
       "\n",
       "\n",
       "<h3>Source</h3>\n",
       "\n",
       "<p><code>log1p</code> and <code>expm1</code> may be taken from the operating system,\n",
       "but if not available there then they are based on the Fortran subroutine\n",
       "<code>dlnrel</code> by W. Fullerton of Los Alamos Scientific Laboratory (see\n",
       "<a href=\"https://netlib.org/slatec/fnlib/dlnrel.f\">https://netlib.org/slatec/fnlib/dlnrel.f</a>) and (for small x) a\n",
       "single Newton step for the solution of <code>log1p(y) = x</code>\n",
       "respectively.\n",
       "</p>\n",
       "\n",
       "\n",
       "<h3>References</h3>\n",
       "\n",
       "<p>Becker, R. A., Chambers, J. M. and Wilks, A. R. (1988)\n",
       "<em>The New S Language</em>.\n",
       "Wadsworth &amp; Brooks/Cole.\n",
       "(for <code>log</code>, <code>log10</code> and <code>exp</code>.)\n",
       "</p>\n",
       "<p>Chambers, J. M. (1998)\n",
       "<em>Programming with Data.  A Guide to the S Language</em>.\n",
       "Springer. (for <code>logb</code>.)\n",
       "</p>\n",
       "\n",
       "\n",
       "<h3>See Also</h3>\n",
       "\n",
       "<p><code>Trig</code>,\n",
       "<code>sqrt</code>,\n",
       "<code>Arithmetic</code>.\n",
       "</p>\n",
       "\n",
       "\n",
       "<h3>Examples</h3>\n",
       "\n",
       "<pre><code class='language-R'>log(exp(3))\n",
       "log10(1e7) # = 7\n",
       "\n",
       "x &lt;- 10^-(1+2*1:9)\n",
       "cbind(deparse.level=2, # to get nice column names\n",
       "      x, log(1+x), log1p(x), exp(x)-1, expm1(x))\n",
       "</code></pre>\n",
       "\n",
       "<hr /><div style=\"text-align: center;\">[Package <em>base</em> version 4.5.0 ]</div></main>\n",
       "\n",
       "</div>"
      ],
      "text/latex": [
       "\\HeaderA{log}{Logarithms and Exponentials}{log}\n",
       "\\aliasA{exp}{log}{exp}\n",
       "\\aliasA{expm1}{log}{expm1}\n",
       "\\aliasA{log10}{log}{log10}\n",
       "\\aliasA{log1p}{log}{log1p}\n",
       "\\aliasA{log2}{log}{log2}\n",
       "\\aliasA{logb}{log}{logb}\n",
       "\\keyword{math}{log}\n",
       "%\n",
       "\\begin{Description}\n",
       "\\code{log} computes logarithms, by default natural logarithms,\n",
       "\\code{log10} computes common (i.e., base 10) logarithms, and\n",
       "\\code{log2} computes binary (i.e., base 2) logarithms.\n",
       "The general form \\code{log(x, base)} computes logarithms with base\n",
       "\\code{base}.\n",
       "\n",
       "\\code{log1p(x)} computes \\eqn{\\log(1+x)}{} accurately also for\n",
       "\\eqn{|x| \\ll 1}{}.\n",
       "\n",
       "\\code{exp} computes the exponential function.\n",
       "\n",
       "\\code{expm1(x)} computes \\eqn{\\exp(x) - 1}{} accurately also for\n",
       "\\eqn{|x| \\ll 1}{}.\n",
       "\\end{Description}\n",
       "%\n",
       "\\begin{Usage}\n",
       "\\begin{verbatim}\n",
       "log(x, base = exp(1))\n",
       "logb(x, base = exp(1))\n",
       "log10(x)\n",
       "log2(x)\n",
       "\n",
       "log1p(x)\n",
       "\n",
       "exp(x)\n",
       "expm1(x)\n",
       "\\end{verbatim}\n",
       "\\end{Usage}\n",
       "%\n",
       "\\begin{Arguments}\n",
       "\\begin{ldescription}\n",
       "\\item[\\code{x}] a numeric or complex vector.\n",
       "\\item[\\code{base}] a positive or complex number: the base with respect to which\n",
       "logarithms are computed.  Defaults to \\eqn{e}{}=\\code{exp(1)}.\n",
       "\\end{ldescription}\n",
       "\\end{Arguments}\n",
       "%\n",
       "\\begin{Details}\n",
       "All except \\code{logb} are generic functions: methods can be defined\n",
       "for them individually or via the \\code{\\LinkA{Math}{S3groupGeneric}}\n",
       "group generic.\n",
       "\n",
       "\\code{log10} and \\code{log2} are only convenience wrappers, but logs\n",
       "to bases 10 and 2 (whether computed \\emph{via} \\code{log} or the wrappers)\n",
       "will be computed more efficiently and accurately where supported by the OS.\n",
       "Methods can be set for them individually (and otherwise methods for\n",
       "\\code{log} will be used).\n",
       "\n",
       "\\code{logb} is a wrapper for \\code{log} for compatibility with S.  If\n",
       "(S3 or S4) methods are set for \\code{log} they will be dispatched.\n",
       "Do not set S4 methods on \\code{logb} itself.\n",
       "\n",
       "All except \\code{log} are \\LinkA{primitive}{primitive} functions.\n",
       "\\end{Details}\n",
       "%\n",
       "\\begin{Value}\n",
       "A vector of the same length as \\code{x} containing the transformed\n",
       "values.  \\code{log(0)} gives \\code{-Inf}, and \\code{log(x)} for\n",
       "negative values of \\code{x} is \\code{NaN}.  \\code{exp(-Inf)} is \\code{0}.\n",
       "\n",
       "For complex inputs to the log functions, the value is a complex number\n",
       "with imaginary part in the range \\eqn{[-\\pi, \\pi]}{}: which\n",
       "end of the range is used might be platform-specific.\n",
       "\\end{Value}\n",
       "%\n",
       "\\begin{Section}{S4 methods}\n",
       "\\code{exp}, \\code{expm1}, \\code{log}, \\code{log10}, \\code{log2} and\n",
       "\\code{log1p} are S4 generic and are members of the\n",
       "\\code{\\LinkA{Math}{S4groupGeneric}} group generic.\n",
       "\n",
       "Note that this means that the S4 generic for \\code{log} has a\n",
       "signature with only one argument, \\code{x}, but that \\code{base} can\n",
       "be passed to methods (but will not be used for method selection).  On\n",
       "the other hand, if you only set a method for the \\code{Math} group\n",
       "generic then \\code{base} argument of \\code{log} will be ignored for\n",
       "your class.\n",
       "\\end{Section}\n",
       "%\n",
       "\\begin{Source}\n",
       "\\code{log1p} and \\code{expm1} may be taken from the operating system,\n",
       "but if not available there then they are based on the Fortran subroutine\n",
       "\\code{dlnrel} by W. Fullerton of Los Alamos Scientific Laboratory (see\n",
       "\\url{https://netlib.org/slatec/fnlib/dlnrel.f}) and (for small x) a\n",
       "single Newton step for the solution of \\code{log1p(y) = x}\n",
       "respectively.\n",
       "\\end{Source}\n",
       "%\n",
       "\\begin{References}\n",
       "Becker, R. A., Chambers, J. M. and Wilks, A. R. (1988)\n",
       "\\emph{The New S Language}.\n",
       "Wadsworth \\& Brooks/Cole.\n",
       "(for \\code{log}, \\code{log10} and \\code{exp}.)\n",
       "\n",
       "Chambers, J. M. (1998)\n",
       "\\emph{Programming with Data.  A Guide to the S Language}.\n",
       "Springer. (for \\code{logb}.)\n",
       "\\end{References}\n",
       "%\n",
       "\\begin{SeeAlso}\n",
       "\\code{\\LinkA{Trig}{Trig}},\n",
       "\\code{\\LinkA{sqrt}{sqrt}},\n",
       "\\code{\\LinkA{Arithmetic}{Arithmetic}}.\n",
       "\\end{SeeAlso}\n",
       "%\n",
       "\\begin{Examples}\n",
       "\\begin{ExampleCode}\n",
       "log(exp(3))\n",
       "log10(1e7) # = 7\n",
       "\n",
       "x <- 10^-(1+2*1:9)\n",
       "cbind(deparse.level=2, # to get nice column names\n",
       "      x, log(1+x), log1p(x), exp(x)-1, expm1(x))\n",
       "\\end{ExampleCode}\n",
       "\\end{Examples}"
      ],
      "text/plain": [
       "log                    package:base                    R Documentation\n",
       "\n",
       "_\bL_\bo_\bg_\ba_\br_\bi_\bt_\bh_\bm_\bs _\ba_\bn_\bd _\bE_\bx_\bp_\bo_\bn_\be_\bn_\bt_\bi_\ba_\bl_\bs\n",
       "\n",
       "_\bD_\be_\bs_\bc_\br_\bi_\bp_\bt_\bi_\bo_\bn:\n",
       "\n",
       "     ‘log’ computes logarithms, by default natural logarithms, ‘log10’\n",
       "     computes common (i.e., base 10) logarithms, and ‘log2’ computes\n",
       "     binary (i.e., base 2) logarithms.  The general form ‘log(x, base)’\n",
       "     computes logarithms with base ‘base’.\n",
       "\n",
       "     ‘log1p(x)’ computes log(1+x) accurately also for |x| << 1.\n",
       "\n",
       "     ‘exp’ computes the exponential function.\n",
       "\n",
       "     ‘expm1(x)’ computes exp(x) - 1 accurately also for |x| << 1.\n",
       "\n",
       "_\bU_\bs_\ba_\bg_\be:\n",
       "\n",
       "     log(x, base = exp(1))\n",
       "     logb(x, base = exp(1))\n",
       "     log10(x)\n",
       "     log2(x)\n",
       "     \n",
       "     log1p(x)\n",
       "     \n",
       "     exp(x)\n",
       "     expm1(x)\n",
       "     \n",
       "_\bA_\br_\bg_\bu_\bm_\be_\bn_\bt_\bs:\n",
       "\n",
       "       x: a numeric or complex vector.\n",
       "\n",
       "    base: a positive or complex number: the base with respect to which\n",
       "          logarithms are computed.  Defaults to e=‘exp(1)’.\n",
       "\n",
       "_\bD_\be_\bt_\ba_\bi_\bl_\bs:\n",
       "\n",
       "     All except ‘logb’ are generic functions: methods can be defined\n",
       "     for them individually or via the ‘Math’ group generic.\n",
       "\n",
       "     ‘log10’ and ‘log2’ are only convenience wrappers, but logs to\n",
       "     bases 10 and 2 (whether computed _via_ ‘log’ or the wrappers) will\n",
       "     be computed more efficiently and accurately where supported by the\n",
       "     OS.  Methods can be set for them individually (and otherwise\n",
       "     methods for ‘log’ will be used).\n",
       "\n",
       "     ‘logb’ is a wrapper for ‘log’ for compatibility with S.  If (S3 or\n",
       "     S4) methods are set for ‘log’ they will be dispatched.  Do not set\n",
       "     S4 methods on ‘logb’ itself.\n",
       "\n",
       "     All except ‘log’ are primitive functions.\n",
       "\n",
       "_\bV_\ba_\bl_\bu_\be:\n",
       "\n",
       "     A vector of the same length as ‘x’ containing the transformed\n",
       "     values.  ‘log(0)’ gives ‘-Inf’, and ‘log(x)’ for negative values\n",
       "     of ‘x’ is ‘NaN’.  ‘exp(-Inf)’ is ‘0’.\n",
       "\n",
       "     For complex inputs to the log functions, the value is a complex\n",
       "     number with imaginary part in the range [-pi, pi]: which end of\n",
       "     the range is used might be platform-specific.\n",
       "\n",
       "_\bS_\b4 _\bm_\be_\bt_\bh_\bo_\bd_\bs:\n",
       "\n",
       "     ‘exp’, ‘expm1’, ‘log’, ‘log10’, ‘log2’ and ‘log1p’ are S4 generic\n",
       "     and are members of the ‘Math’ group generic.\n",
       "\n",
       "     Note that this means that the S4 generic for ‘log’ has a signature\n",
       "     with only one argument, ‘x’, but that ‘base’ can be passed to\n",
       "     methods (but will not be used for method selection).  On the other\n",
       "     hand, if you only set a method for the ‘Math’ group generic then\n",
       "     ‘base’ argument of ‘log’ will be ignored for your class.\n",
       "\n",
       "_\bS_\bo_\bu_\br_\bc_\be:\n",
       "\n",
       "     ‘log1p’ and ‘expm1’ may be taken from the operating system, but if\n",
       "     not available there then they are based on the Fortran subroutine\n",
       "     ‘dlnrel’ by W. Fullerton of Los Alamos Scientific Laboratory (see\n",
       "     <https://netlib.org/slatec/fnlib/dlnrel.f>) and (for small x) a\n",
       "     single Newton step for the solution of ‘log1p(y) = x’\n",
       "     respectively.\n",
       "\n",
       "_\bR_\be_\bf_\be_\br_\be_\bn_\bc_\be_\bs:\n",
       "\n",
       "     Becker, R. A., Chambers, J. M. and Wilks, A. R. (1988) _The New S\n",
       "     Language_.  Wadsworth & Brooks/Cole.  (for ‘log’, ‘log10’ and\n",
       "     ‘exp’.)\n",
       "\n",
       "     Chambers, J. M. (1998) _Programming with Data.  A Guide to the S\n",
       "     Language_.  Springer. (for ‘logb’.)\n",
       "\n",
       "_\bS_\be_\be _\bA_\bl_\bs_\bo:\n",
       "\n",
       "     ‘Trig’, ‘sqrt’, ‘Arithmetic’.\n",
       "\n",
       "_\bE_\bx_\ba_\bm_\bp_\bl_\be_\bs:\n",
       "\n",
       "     log(exp(3))\n",
       "     log10(1e7) # = 7\n",
       "     \n",
       "     x <- 10^-(1+2*1:9)\n",
       "     cbind(deparse.level=2, # to get nice column names\n",
       "           x, log(1+x), log1p(x), exp(x)-1, expm1(x))\n",
       "     "
      ]
     },
     "metadata": {},
     "output_type": "display_data"
    }
   ],
   "source": [
    "?log1p"
   ]
  },
  {
   "cell_type": "code",
   "execution_count": 22,
   "id": "a7b14cb0-168f-41e4-8aa7-13368da91514",
   "metadata": {},
   "outputs": [
    {
     "data": {
      "text/html": [
       "<table class=\"dataframe\">\n",
       "<caption>A data.table: 4 × 3</caption>\n",
       "<thead>\n",
       "\t<tr><th scope=col>a</th><th scope=col>b</th><th scope=col>id</th></tr>\n",
       "\t<tr><th scope=col>&lt;dbl&gt;</th><th scope=col>&lt;dbl&gt;</th><th scope=col>&lt;chr&gt;</th></tr>\n",
       "</thead>\n",
       "<tbody>\n",
       "\t<tr><td>10</td><td>10</td><td>a</td></tr>\n",
       "\t<tr><td>20</td><td>20</td><td>b</td></tr>\n",
       "\t<tr><td>30</td><td>30</td><td>c</td></tr>\n",
       "\t<tr><td>40</td><td>40</td><td>d</td></tr>\n",
       "</tbody>\n",
       "</table>\n"
      ],
      "text/latex": [
       "A data.table: 4 × 3\n",
       "\\begin{tabular}{lll}\n",
       " a & b & id\\\\\n",
       " <dbl> & <dbl> & <chr>\\\\\n",
       "\\hline\n",
       "\t 10 & 10 & a\\\\\n",
       "\t 20 & 20 & b\\\\\n",
       "\t 30 & 30 & c\\\\\n",
       "\t 40 & 40 & d\\\\\n",
       "\\end{tabular}\n"
      ],
      "text/markdown": [
       "\n",
       "A data.table: 4 × 3\n",
       "\n",
       "| a &lt;dbl&gt; | b &lt;dbl&gt; | id &lt;chr&gt; |\n",
       "|---|---|---|\n",
       "| 10 | 10 | a |\n",
       "| 20 | 20 | b |\n",
       "| 30 | 30 | c |\n",
       "| 40 | 40 | d |\n",
       "\n"
      ],
      "text/plain": [
       "  a  b  id\n",
       "1 10 10 a \n",
       "2 20 20 b \n",
       "3 30 30 c \n",
       "4 40 40 d "
      ]
     },
     "metadata": {},
     "output_type": "display_data"
    },
    {
     "data": {
      "text/html": [
       "<table class=\"dataframe\">\n",
       "<caption>A data.table: 2 × 3</caption>\n",
       "<thead>\n",
       "\t<tr><th scope=col>a</th><th scope=col>b</th><th scope=col>id</th></tr>\n",
       "\t<tr><th scope=col>&lt;dbl&gt;</th><th scope=col>&lt;dbl&gt;</th><th scope=col>&lt;chr&gt;</th></tr>\n",
       "</thead>\n",
       "<tbody>\n",
       "\t<tr><td>NA</td><td>NA</td><td>NA</td></tr>\n",
       "\t<tr><td>NA</td><td>NA</td><td>NA</td></tr>\n",
       "</tbody>\n",
       "</table>\n"
      ],
      "text/latex": [
       "A data.table: 2 × 3\n",
       "\\begin{tabular}{lll}\n",
       " a & b & id\\\\\n",
       " <dbl> & <dbl> & <chr>\\\\\n",
       "\\hline\n",
       "\t NA & NA & NA\\\\\n",
       "\t NA & NA & NA\\\\\n",
       "\\end{tabular}\n"
      ],
      "text/markdown": [
       "\n",
       "A data.table: 2 × 3\n",
       "\n",
       "| a &lt;dbl&gt; | b &lt;dbl&gt; | id &lt;chr&gt; |\n",
       "|---|---|---|\n",
       "| NA | NA | NA |\n",
       "| NA | NA | NA |\n",
       "\n"
      ],
      "text/plain": [
       "  a  b  id\n",
       "1 NA NA NA\n",
       "2 NA NA NA"
      ]
     },
     "metadata": {},
     "output_type": "display_data"
    },
    {
     "data": {
      "text/html": [
       "<style>\n",
       ".dl-inline {width: auto; margin:0; padding: 0}\n",
       ".dl-inline>dt, .dl-inline>dd {float: none; width: auto; display: inline-block}\n",
       ".dl-inline>dt::after {content: \":\\0020\"; padding-right: .5ex}\n",
       ".dl-inline>dt:not(:first-of-type) {padding-left: .5ex}\n",
       "</style><dl class=dl-inline><dt>a</dt><dd>100</dd><dt>b</dt><dd>100</dd></dl>\n"
      ],
      "text/latex": [
       "\\begin{description*}\n",
       "\\item[a] 100\n",
       "\\item[b] 100\n",
       "\\end{description*}\n"
      ],
      "text/markdown": [
       "a\n",
       ":   100b\n",
       ":   100\n",
       "\n"
      ],
      "text/plain": [
       "  a   b \n",
       "100 100 "
      ]
     },
     "metadata": {},
     "output_type": "display_data"
    },
    {
     "data": {
      "text/html": [
       "<table class=\"dataframe\">\n",
       "<caption>A data.table: 4 × 3</caption>\n",
       "<thead>\n",
       "\t<tr><th scope=col>a</th><th scope=col>b</th><th scope=col>id</th></tr>\n",
       "\t<tr><th scope=col>&lt;dbl&gt;</th><th scope=col>&lt;dbl&gt;</th><th scope=col>&lt;chr&gt;</th></tr>\n",
       "</thead>\n",
       "<tbody>\n",
       "\t<tr><td>10</td><td>10</td><td>a</td></tr>\n",
       "\t<tr><td>20</td><td>20</td><td>b</td></tr>\n",
       "\t<tr><td>30</td><td>30</td><td>c</td></tr>\n",
       "\t<tr><td>40</td><td>40</td><td>d</td></tr>\n",
       "</tbody>\n",
       "</table>\n"
      ],
      "text/latex": [
       "A data.table: 4 × 3\n",
       "\\begin{tabular}{lll}\n",
       " a & b & id\\\\\n",
       " <dbl> & <dbl> & <chr>\\\\\n",
       "\\hline\n",
       "\t 10 & 10 & a\\\\\n",
       "\t 20 & 20 & b\\\\\n",
       "\t 30 & 30 & c\\\\\n",
       "\t 40 & 40 & d\\\\\n",
       "\\end{tabular}\n"
      ],
      "text/markdown": [
       "\n",
       "A data.table: 4 × 3\n",
       "\n",
       "| a &lt;dbl&gt; | b &lt;dbl&gt; | id &lt;chr&gt; |\n",
       "|---|---|---|\n",
       "| 10 | 10 | a |\n",
       "| 20 | 20 | b |\n",
       "| 30 | 30 | c |\n",
       "| 40 | 40 | d |\n",
       "\n"
      ],
      "text/plain": [
       "  a  b  id\n",
       "1 10 10 a \n",
       "2 20 20 b \n",
       "3 30 30 c \n",
       "4 40 40 d "
      ]
     },
     "metadata": {},
     "output_type": "display_data"
    }
   ],
   "source": [
    "library(data.table)\n",
    "\n",
    "# Example data.table\n",
    "dt <- data.table(a = c(10, 20, 30, 40), b = c(10, 20, 30, 40), id = c(\"a\", \"b\", \"c\", \"d\"))\n",
    "dt\n",
    "# Log normalization\n",
    "dt[colSums(dt[,-\"id\"]),]\n",
    "colSums(dt[,-\"id\"])\n",
    "dt"
   ]
  },
  {
   "cell_type": "code",
   "execution_count": 32,
   "id": "09318b9e-5037-4ce7-be2b-6d9aacb2ad60",
   "metadata": {},
   "outputs": [
    {
     "data": {
      "text/html": [
       "<table class=\"dataframe\">\n",
       "<caption>A data.table: 3 × 4</caption>\n",
       "<thead>\n",
       "\t<tr><th scope=col>id</th><th scope=col>val1</th><th scope=col>val2</th><th scope=col>val3</th></tr>\n",
       "\t<tr><th scope=col>&lt;chr&gt;</th><th scope=col>&lt;dbl&gt;</th><th scope=col>&lt;dbl&gt;</th><th scope=col>&lt;dbl&gt;</th></tr>\n",
       "</thead>\n",
       "<tbody>\n",
       "\t<tr><td>A</td><td>2</td><td>10</td><td>1</td></tr>\n",
       "\t<tr><td>B</td><td>4</td><td>20</td><td>0</td></tr>\n",
       "\t<tr><td>C</td><td>6</td><td>30</td><td>0</td></tr>\n",
       "</tbody>\n",
       "</table>\n"
      ],
      "text/latex": [
       "A data.table: 3 × 4\n",
       "\\begin{tabular}{llll}\n",
       " id & val1 & val2 & val3\\\\\n",
       " <chr> & <dbl> & <dbl> & <dbl>\\\\\n",
       "\\hline\n",
       "\t A & 2 & 10 & 1\\\\\n",
       "\t B & 4 & 20 & 0\\\\\n",
       "\t C & 6 & 30 & 0\\\\\n",
       "\\end{tabular}\n"
      ],
      "text/markdown": [
       "\n",
       "A data.table: 3 × 4\n",
       "\n",
       "| id &lt;chr&gt; | val1 &lt;dbl&gt; | val2 &lt;dbl&gt; | val3 &lt;dbl&gt; |\n",
       "|---|---|---|---|\n",
       "| A | 2 | 10 | 1 |\n",
       "| B | 4 | 20 | 0 |\n",
       "| C | 6 | 30 | 0 |\n",
       "\n"
      ],
      "text/plain": [
       "  id val1 val2 val3\n",
       "1 A  2    10   1   \n",
       "2 B  4    20   0   \n",
       "3 C  6    30   0   "
      ]
     },
     "metadata": {},
     "output_type": "display_data"
    }
   ],
   "source": [
    "library(data.table)\n",
    "\n",
    "dt <- data.table(\n",
    "  id = c(\"A\", \"B\", \"C\"),\n",
    "  val1 = c(2, 4, 6),\n",
    "  val2 = c(10, 20, 30),\n",
    "    val3 = c(1,0,0)\n",
    ")\n",
    "dt"
   ]
  },
  {
   "cell_type": "code",
   "execution_count": 41,
   "id": "32f84da3-c8d9-4241-9734-93b91ff921a4",
   "metadata": {},
   "outputs": [
    {
     "data": {
      "text/html": [
       "<table class=\"dataframe\">\n",
       "<caption>A data.table: 3 × 4</caption>\n",
       "<thead>\n",
       "\t<tr><th scope=col>id</th><th scope=col>val1</th><th scope=col>val2</th><th scope=col>val3</th></tr>\n",
       "\t<tr><th scope=col>&lt;chr&gt;</th><th scope=col>&lt;dbl&gt;</th><th scope=col>&lt;dbl&gt;</th><th scope=col>&lt;dbl&gt;</th></tr>\n",
       "</thead>\n",
       "<tbody>\n",
       "\t<tr><td>A</td><td>2</td><td>10</td><td>2</td></tr>\n",
       "\t<tr><td>B</td><td>4</td><td>20</td><td>1</td></tr>\n",
       "\t<tr><td>C</td><td>6</td><td>30</td><td>1</td></tr>\n",
       "</tbody>\n",
       "</table>\n"
      ],
      "text/latex": [
       "A data.table: 3 × 4\n",
       "\\begin{tabular}{llll}\n",
       " id & val1 & val2 & val3\\\\\n",
       " <chr> & <dbl> & <dbl> & <dbl>\\\\\n",
       "\\hline\n",
       "\t A & 2 & 10 & 2\\\\\n",
       "\t B & 4 & 20 & 1\\\\\n",
       "\t C & 6 & 30 & 1\\\\\n",
       "\\end{tabular}\n"
      ],
      "text/markdown": [
       "\n",
       "A data.table: 3 × 4\n",
       "\n",
       "| id &lt;chr&gt; | val1 &lt;dbl&gt; | val2 &lt;dbl&gt; | val3 &lt;dbl&gt; |\n",
       "|---|---|---|---|\n",
       "| A | 2 | 10 | 2 |\n",
       "| B | 4 | 20 | 1 |\n",
       "| C | 6 | 30 | 1 |\n",
       "\n"
      ],
      "text/plain": [
       "  id val1 val2 val3\n",
       "1 A  2    10   2   \n",
       "2 B  4    20   1   \n",
       "3 C  6    30   1   "
      ]
     },
     "metadata": {},
     "output_type": "display_data"
    }
   ],
   "source": [
    "library(data.table)\n",
    "\n",
    "dt <- data.table(\n",
    "  id = c(\"A\", \"B\", \"C\"),\n",
    "  val1 = c(2, 4, 6),\n",
    "  val2 = c(10, 20, 30),\n",
    "    val3 = c(2,1,1)\n",
    ")\n",
    "dt\n",
    "# Exclude the id column and normalize the rest\n",
    "num_cols <- setdiff(names(dt), \"id\")\n",
    "a <- dt[, (num_cols) := lapply(.SD, function(x) log2((x / sum(x))*1e6)), .SDcols = num_cols]\n",
    "                               "
   ]
  },
  {
   "cell_type": "code",
   "execution_count": 42,
   "id": "14b99d46-a7cc-445f-9f8d-c9e0904b29b8",
   "metadata": {},
   "outputs": [
    {
     "data": {
      "text/html": [
       "<table class=\"dataframe\">\n",
       "<caption>A data.table: 3 × 4</caption>\n",
       "<thead>\n",
       "\t<tr><th scope=col>id</th><th scope=col>val1</th><th scope=col>val2</th><th scope=col>val3</th></tr>\n",
       "\t<tr><th scope=col>&lt;chr&gt;</th><th scope=col>&lt;dbl&gt;</th><th scope=col>&lt;dbl&gt;</th><th scope=col>&lt;dbl&gt;</th></tr>\n",
       "</thead>\n",
       "<tbody>\n",
       "\t<tr><td>A</td><td>2</td><td>10</td><td>2</td></tr>\n",
       "\t<tr><td>B</td><td>4</td><td>20</td><td>1</td></tr>\n",
       "\t<tr><td>C</td><td>6</td><td>30</td><td>1</td></tr>\n",
       "</tbody>\n",
       "</table>\n"
      ],
      "text/latex": [
       "A data.table: 3 × 4\n",
       "\\begin{tabular}{llll}\n",
       " id & val1 & val2 & val3\\\\\n",
       " <chr> & <dbl> & <dbl> & <dbl>\\\\\n",
       "\\hline\n",
       "\t A & 2 & 10 & 2\\\\\n",
       "\t B & 4 & 20 & 1\\\\\n",
       "\t C & 6 & 30 & 1\\\\\n",
       "\\end{tabular}\n"
      ],
      "text/markdown": [
       "\n",
       "A data.table: 3 × 4\n",
       "\n",
       "| id &lt;chr&gt; | val1 &lt;dbl&gt; | val2 &lt;dbl&gt; | val3 &lt;dbl&gt; |\n",
       "|---|---|---|---|\n",
       "| A | 2 | 10 | 2 |\n",
       "| B | 4 | 20 | 1 |\n",
       "| C | 6 | 30 | 1 |\n",
       "\n"
      ],
      "text/plain": [
       "  id val1 val2 val3\n",
       "1 A  2    10   2   \n",
       "2 B  4    20   1   \n",
       "3 C  6    30   1   "
      ]
     },
     "metadata": {},
     "output_type": "display_data"
    }
   ],
   "source": [
    "dt <- data.table(\n",
    "  id = c(\"A\", \"B\", \"C\"),\n",
    "  val1 = c(2, 4, 6),\n",
    "  val2 = c(10, 20, 30),\n",
    "    val3 = c(2,1,1)\n",
    ")\n",
    "dt"
   ]
  },
  {
   "cell_type": "code",
   "execution_count": 44,
   "id": "58224376-744a-4605-8f95-7f0445b6c0cc",
   "metadata": {},
   "outputs": [
    {
     "data": {
      "text/html": [
       "<style>\n",
       ".list-inline {list-style: none; margin:0; padding: 0}\n",
       ".list-inline>li {display: inline-block}\n",
       ".list-inline>li:not(:last-child)::after {content: \"\\00b7\"; padding: 0 .5ex}\n",
       "</style>\n",
       "<ol class=list-inline><li>'val1'</li><li>'val2'</li><li>'val3'</li></ol>\n"
      ],
      "text/latex": [
       "\\begin{enumerate*}\n",
       "\\item 'val1'\n",
       "\\item 'val2'\n",
       "\\item 'val3'\n",
       "\\end{enumerate*}\n"
      ],
      "text/markdown": [
       "1. 'val1'\n",
       "2. 'val2'\n",
       "3. 'val3'\n",
       "\n",
       "\n"
      ],
      "text/plain": [
       "[1] \"val1\" \"val2\" \"val3\""
      ]
     },
     "metadata": {},
     "output_type": "display_data"
    }
   ],
   "source": [
    "num_cols"
   ]
  },
  {
   "cell_type": "code",
   "execution_count": 45,
   "id": "62f27d77-2e82-458e-80f2-fce347b7a50d",
   "metadata": {},
   "outputs": [
    {
     "data": {
      "text/html": [
       "0"
      ],
      "text/latex": [
       "0"
      ],
      "text/markdown": [
       "0"
      ],
      "text/plain": [
       "[1] 0"
      ]
     },
     "metadata": {},
     "output_type": "display_data"
    }
   ],
   "source": [
    "log2(1)"
   ]
  },
  {
   "cell_type": "code",
   "execution_count": null,
   "id": "7ff78091-71c9-44ec-b050-e87c7245215f",
   "metadata": {},
   "outputs": [],
   "source": []
  }
 ],
 "metadata": {
  "kernelspec": {
   "display_name": "R",
   "language": "R",
   "name": "ir"
  },
  "language_info": {
   "codemirror_mode": "r",
   "file_extension": ".r",
   "mimetype": "text/x-r-source",
   "name": "R",
   "pygments_lexer": "r",
   "version": "4.5.0"
  }
 },
 "nbformat": 4,
 "nbformat_minor": 5
}
